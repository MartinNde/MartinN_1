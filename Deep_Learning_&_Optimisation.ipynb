{
  "nbformat": 4,
  "nbformat_minor": 0,
  "metadata": {
    "colab": {
      "provenance": [],
      "authorship_tag": "ABX9TyPFUFLhjUYpzT+RvkEX3lcM",
      "include_colab_link": true
    },
    "kernelspec": {
      "name": "python3",
      "display_name": "Python 3"
    },
    "language_info": {
      "name": "python"
    }
  },
  "cells": [
    {
      "cell_type": "markdown",
      "metadata": {
        "id": "view-in-github",
        "colab_type": "text"
      },
      "source": [
        "<a href=\"https://colab.research.google.com/github/MartinNde/MartinN_1/blob/main/Deep_Learning_%26_Optimisation.ipynb\" target=\"_parent\"><img src=\"https://colab.research.google.com/assets/colab-badge.svg\" alt=\"Open In Colab\"/></a>"
      ]
    },
    {
      "cell_type": "markdown",
      "source": [
        "#Importing Libraries"
      ],
      "metadata": {
        "id": "fNQn-xLnc_mW"
      }
    },
    {
      "cell_type": "code",
      "execution_count": 1,
      "metadata": {
        "id": "_EP98IdlQqsq"
      },
      "outputs": [],
      "source": [
        "# import libraries\n",
        "import pandas as pd\n",
        "import seaborn as sns\n",
        "\n",
        "from sklearn.preprocessing import LabelEncoder\n",
        "from sklearn.model_selection import train_test_split\n",
        "\n",
        "import tensorflow as tf\n",
        "from tensorflow import keras\n",
        "from tensorflow.keras import layers\n",
        "from zipfile import ZipFile\n",
        "\n",
        "from sklearn import metrics\n",
        "\n",
        "# set random seeds to get reproducible results\n",
        "import os\n",
        "seed = 100\n",
        "os.environ['PYTHONHASHSEED']=str(seed) \n",
        "keras.utils.set_random_seed(seed) # set all random seeds for the program (Python, NumPy, and TensorFlow) "
      ]
    },
    {
      "cell_type": "markdown",
      "source": [
        "#Load and analyse data set "
      ],
      "metadata": {
        "id": "2nmkAK2TdHAN"
      }
    },
    {
      "cell_type": "code",
      "source": [
        "# mount your Google Drive\n",
        "from google.colab import drive\n",
        "drive.mount('/content/drive')"
      ],
      "metadata": {
        "colab": {
          "base_uri": "https://localhost:8080/"
        },
        "id": "Fyq_Txp8VM8F",
        "outputId": "6ec46ecb-0a8b-4e00-b784-4f13b250d6dd"
      },
      "execution_count": 8,
      "outputs": [
        {
          "output_type": "stream",
          "name": "stdout",
          "text": [
            "Mounted at /content/drive\n"
          ]
        }
      ]
    },
    {
      "cell_type": "code",
      "source": [
        "# load the data set\n",
        "# As the parameter, the file path should be provided. Additionally, GitHub URL can also be provided as follows.\n",
        "df_train = pd.read_csv('/content/sample_data/Deep learning optim/train.csv')\n",
        "\n",
        "# summarise the details\n",
        "print(f'Number of entries: {len(df)}')\n",
        "df_train.head()\n",
        "     "
      ],
      "metadata": {
        "colab": {
          "base_uri": "https://localhost:8080/",
          "height": 224
        },
        "id": "RVzjVDsNTxQb",
        "outputId": "2e4ab3e9-0fab-4669-e752-81e679783f61"
      },
      "execution_count": 18,
      "outputs": [
        {
          "output_type": "stream",
          "name": "stdout",
          "text": [
            "Number of entries: 668\n"
          ]
        },
        {
          "output_type": "execute_result",
          "data": {
            "text/plain": [
              "   id  A1   A2  A3  A4   A5    A6     A7  A8  class\n",
              "0   1   6  148  72  35    0  33.6  0.627  50      1\n",
              "1   2   1   85  66  29    0  26.6  0.351  31      0\n",
              "2   3   8  183  64   0    0  23.3  0.672  32      1\n",
              "3   4   1   89  66  23   94  28.1  0.167  21      0\n",
              "4   5   0  137  40  35  168  43.1  2.288  33      1"
            ],
            "text/html": [
              "\n",
              "  <div id=\"df-b74596ee-1b9a-486f-9c56-45fb86a8ca55\">\n",
              "    <div class=\"colab-df-container\">\n",
              "      <div>\n",
              "<style scoped>\n",
              "    .dataframe tbody tr th:only-of-type {\n",
              "        vertical-align: middle;\n",
              "    }\n",
              "\n",
              "    .dataframe tbody tr th {\n",
              "        vertical-align: top;\n",
              "    }\n",
              "\n",
              "    .dataframe thead th {\n",
              "        text-align: right;\n",
              "    }\n",
              "</style>\n",
              "<table border=\"1\" class=\"dataframe\">\n",
              "  <thead>\n",
              "    <tr style=\"text-align: right;\">\n",
              "      <th></th>\n",
              "      <th>id</th>\n",
              "      <th>A1</th>\n",
              "      <th>A2</th>\n",
              "      <th>A3</th>\n",
              "      <th>A4</th>\n",
              "      <th>A5</th>\n",
              "      <th>A6</th>\n",
              "      <th>A7</th>\n",
              "      <th>A8</th>\n",
              "      <th>class</th>\n",
              "    </tr>\n",
              "  </thead>\n",
              "  <tbody>\n",
              "    <tr>\n",
              "      <th>0</th>\n",
              "      <td>1</td>\n",
              "      <td>6</td>\n",
              "      <td>148</td>\n",
              "      <td>72</td>\n",
              "      <td>35</td>\n",
              "      <td>0</td>\n",
              "      <td>33.6</td>\n",
              "      <td>0.627</td>\n",
              "      <td>50</td>\n",
              "      <td>1</td>\n",
              "    </tr>\n",
              "    <tr>\n",
              "      <th>1</th>\n",
              "      <td>2</td>\n",
              "      <td>1</td>\n",
              "      <td>85</td>\n",
              "      <td>66</td>\n",
              "      <td>29</td>\n",
              "      <td>0</td>\n",
              "      <td>26.6</td>\n",
              "      <td>0.351</td>\n",
              "      <td>31</td>\n",
              "      <td>0</td>\n",
              "    </tr>\n",
              "    <tr>\n",
              "      <th>2</th>\n",
              "      <td>3</td>\n",
              "      <td>8</td>\n",
              "      <td>183</td>\n",
              "      <td>64</td>\n",
              "      <td>0</td>\n",
              "      <td>0</td>\n",
              "      <td>23.3</td>\n",
              "      <td>0.672</td>\n",
              "      <td>32</td>\n",
              "      <td>1</td>\n",
              "    </tr>\n",
              "    <tr>\n",
              "      <th>3</th>\n",
              "      <td>4</td>\n",
              "      <td>1</td>\n",
              "      <td>89</td>\n",
              "      <td>66</td>\n",
              "      <td>23</td>\n",
              "      <td>94</td>\n",
              "      <td>28.1</td>\n",
              "      <td>0.167</td>\n",
              "      <td>21</td>\n",
              "      <td>0</td>\n",
              "    </tr>\n",
              "    <tr>\n",
              "      <th>4</th>\n",
              "      <td>5</td>\n",
              "      <td>0</td>\n",
              "      <td>137</td>\n",
              "      <td>40</td>\n",
              "      <td>35</td>\n",
              "      <td>168</td>\n",
              "      <td>43.1</td>\n",
              "      <td>2.288</td>\n",
              "      <td>33</td>\n",
              "      <td>1</td>\n",
              "    </tr>\n",
              "  </tbody>\n",
              "</table>\n",
              "</div>\n",
              "      <button class=\"colab-df-convert\" onclick=\"convertToInteractive('df-b74596ee-1b9a-486f-9c56-45fb86a8ca55')\"\n",
              "              title=\"Convert this dataframe to an interactive table.\"\n",
              "              style=\"display:none;\">\n",
              "        \n",
              "  <svg xmlns=\"http://www.w3.org/2000/svg\" height=\"24px\"viewBox=\"0 0 24 24\"\n",
              "       width=\"24px\">\n",
              "    <path d=\"M0 0h24v24H0V0z\" fill=\"none\"/>\n",
              "    <path d=\"M18.56 5.44l.94 2.06.94-2.06 2.06-.94-2.06-.94-.94-2.06-.94 2.06-2.06.94zm-11 1L8.5 8.5l.94-2.06 2.06-.94-2.06-.94L8.5 2.5l-.94 2.06-2.06.94zm10 10l.94 2.06.94-2.06 2.06-.94-2.06-.94-.94-2.06-.94 2.06-2.06.94z\"/><path d=\"M17.41 7.96l-1.37-1.37c-.4-.4-.92-.59-1.43-.59-.52 0-1.04.2-1.43.59L10.3 9.45l-7.72 7.72c-.78.78-.78 2.05 0 2.83L4 21.41c.39.39.9.59 1.41.59.51 0 1.02-.2 1.41-.59l7.78-7.78 2.81-2.81c.8-.78.8-2.07 0-2.86zM5.41 20L4 18.59l7.72-7.72 1.47 1.35L5.41 20z\"/>\n",
              "  </svg>\n",
              "      </button>\n",
              "      \n",
              "  <style>\n",
              "    .colab-df-container {\n",
              "      display:flex;\n",
              "      flex-wrap:wrap;\n",
              "      gap: 12px;\n",
              "    }\n",
              "\n",
              "    .colab-df-convert {\n",
              "      background-color: #E8F0FE;\n",
              "      border: none;\n",
              "      border-radius: 50%;\n",
              "      cursor: pointer;\n",
              "      display: none;\n",
              "      fill: #1967D2;\n",
              "      height: 32px;\n",
              "      padding: 0 0 0 0;\n",
              "      width: 32px;\n",
              "    }\n",
              "\n",
              "    .colab-df-convert:hover {\n",
              "      background-color: #E2EBFA;\n",
              "      box-shadow: 0px 1px 2px rgba(60, 64, 67, 0.3), 0px 1px 3px 1px rgba(60, 64, 67, 0.15);\n",
              "      fill: #174EA6;\n",
              "    }\n",
              "\n",
              "    [theme=dark] .colab-df-convert {\n",
              "      background-color: #3B4455;\n",
              "      fill: #D2E3FC;\n",
              "    }\n",
              "\n",
              "    [theme=dark] .colab-df-convert:hover {\n",
              "      background-color: #434B5C;\n",
              "      box-shadow: 0px 1px 3px 1px rgba(0, 0, 0, 0.15);\n",
              "      filter: drop-shadow(0px 1px 2px rgba(0, 0, 0, 0.3));\n",
              "      fill: #FFFFFF;\n",
              "    }\n",
              "  </style>\n",
              "\n",
              "      <script>\n",
              "        const buttonEl =\n",
              "          document.querySelector('#df-b74596ee-1b9a-486f-9c56-45fb86a8ca55 button.colab-df-convert');\n",
              "        buttonEl.style.display =\n",
              "          google.colab.kernel.accessAllowed ? 'block' : 'none';\n",
              "\n",
              "        async function convertToInteractive(key) {\n",
              "          const element = document.querySelector('#df-b74596ee-1b9a-486f-9c56-45fb86a8ca55');\n",
              "          const dataTable =\n",
              "            await google.colab.kernel.invokeFunction('convertToInteractive',\n",
              "                                                     [key], {});\n",
              "          if (!dataTable) return;\n",
              "\n",
              "          const docLinkHtml = 'Like what you see? Visit the ' +\n",
              "            '<a target=\"_blank\" href=https://colab.research.google.com/notebooks/data_table.ipynb>data table notebook</a>'\n",
              "            + ' to learn more about interactive tables.';\n",
              "          element.innerHTML = '';\n",
              "          dataTable['output_type'] = 'display_data';\n",
              "          await google.colab.output.renderOutput(dataTable, element);\n",
              "          const docLink = document.createElement('div');\n",
              "          docLink.innerHTML = docLinkHtml;\n",
              "          element.appendChild(docLink);\n",
              "        }\n",
              "      </script>\n",
              "    </div>\n",
              "  </div>\n",
              "  "
            ]
          },
          "metadata": {},
          "execution_count": 18
        }
      ]
    },
    {
      "cell_type": "code",
      "source": [
        "df_train.info()"
      ],
      "metadata": {
        "colab": {
          "base_uri": "https://localhost:8080/"
        },
        "id": "N4yYE4B8ainR",
        "outputId": "6e524015-6fcc-48ee-b624-509eea21bdcf"
      },
      "execution_count": 20,
      "outputs": [
        {
          "output_type": "stream",
          "name": "stdout",
          "text": [
            "<class 'pandas.core.frame.DataFrame'>\n",
            "RangeIndex: 668 entries, 0 to 667\n",
            "Data columns (total 10 columns):\n",
            " #   Column  Non-Null Count  Dtype  \n",
            "---  ------  --------------  -----  \n",
            " 0   id      668 non-null    int64  \n",
            " 1   A1      668 non-null    int64  \n",
            " 2   A2      668 non-null    int64  \n",
            " 3   A3      668 non-null    int64  \n",
            " 4   A4      668 non-null    int64  \n",
            " 5   A5      668 non-null    int64  \n",
            " 6   A6      668 non-null    float64\n",
            " 7   A7      668 non-null    float64\n",
            " 8   A8      668 non-null    int64  \n",
            " 9   class   668 non-null    int64  \n",
            "dtypes: float64(2), int64(8)\n",
            "memory usage: 52.3 KB\n"
          ]
        }
      ]
    },
    {
      "cell_type": "code",
      "source": [
        "df_train.describe()"
      ],
      "metadata": {
        "colab": {
          "base_uri": "https://localhost:8080/",
          "height": 300
        },
        "id": "UdSOLscybbkh",
        "outputId": "ea7b2335-8c0a-43ca-829d-e3cc1c4d61ad"
      },
      "execution_count": 21,
      "outputs": [
        {
          "output_type": "execute_result",
          "data": {
            "text/plain": [
              "               id          A1          A2          A3          A4          A5  \\\n",
              "count  668.000000  668.000000  668.000000  668.000000  668.000000  668.000000   \n",
              "mean   334.500000    3.812874  120.405689   68.748503   20.567365   79.654192   \n",
              "std    192.979273    3.365672   32.291473   19.526392   16.020600  115.827750   \n",
              "min      1.000000    0.000000    0.000000    0.000000    0.000000    0.000000   \n",
              "25%    167.750000    1.000000   99.000000   64.000000    0.000000    0.000000   \n",
              "50%    334.500000    3.000000  116.000000   72.000000   23.000000   36.500000   \n",
              "75%    501.250000    6.000000  140.000000   80.000000   32.000000  126.000000   \n",
              "max    668.000000   17.000000  199.000000  122.000000   99.000000  846.000000   \n",
              "\n",
              "               A6          A7          A8       class  \n",
              "count  668.000000  668.000000  668.000000  668.000000  \n",
              "mean    31.860180    0.477329   33.091317    0.345808  \n",
              "std      7.827111    0.341398   11.711386    0.475988  \n",
              "min      0.000000    0.078000   21.000000    0.000000  \n",
              "25%     27.100000    0.238750   24.000000    0.000000  \n",
              "50%     32.000000    0.377000   29.000000    0.000000  \n",
              "75%     36.500000    0.641250   40.000000    1.000000  \n",
              "max     67.100000    2.420000   81.000000    1.000000  "
            ],
            "text/html": [
              "\n",
              "  <div id=\"df-61f0e99a-944b-4a0f-8481-6f766dc8988d\">\n",
              "    <div class=\"colab-df-container\">\n",
              "      <div>\n",
              "<style scoped>\n",
              "    .dataframe tbody tr th:only-of-type {\n",
              "        vertical-align: middle;\n",
              "    }\n",
              "\n",
              "    .dataframe tbody tr th {\n",
              "        vertical-align: top;\n",
              "    }\n",
              "\n",
              "    .dataframe thead th {\n",
              "        text-align: right;\n",
              "    }\n",
              "</style>\n",
              "<table border=\"1\" class=\"dataframe\">\n",
              "  <thead>\n",
              "    <tr style=\"text-align: right;\">\n",
              "      <th></th>\n",
              "      <th>id</th>\n",
              "      <th>A1</th>\n",
              "      <th>A2</th>\n",
              "      <th>A3</th>\n",
              "      <th>A4</th>\n",
              "      <th>A5</th>\n",
              "      <th>A6</th>\n",
              "      <th>A7</th>\n",
              "      <th>A8</th>\n",
              "      <th>class</th>\n",
              "    </tr>\n",
              "  </thead>\n",
              "  <tbody>\n",
              "    <tr>\n",
              "      <th>count</th>\n",
              "      <td>668.000000</td>\n",
              "      <td>668.000000</td>\n",
              "      <td>668.000000</td>\n",
              "      <td>668.000000</td>\n",
              "      <td>668.000000</td>\n",
              "      <td>668.000000</td>\n",
              "      <td>668.000000</td>\n",
              "      <td>668.000000</td>\n",
              "      <td>668.000000</td>\n",
              "      <td>668.000000</td>\n",
              "    </tr>\n",
              "    <tr>\n",
              "      <th>mean</th>\n",
              "      <td>334.500000</td>\n",
              "      <td>3.812874</td>\n",
              "      <td>120.405689</td>\n",
              "      <td>68.748503</td>\n",
              "      <td>20.567365</td>\n",
              "      <td>79.654192</td>\n",
              "      <td>31.860180</td>\n",
              "      <td>0.477329</td>\n",
              "      <td>33.091317</td>\n",
              "      <td>0.345808</td>\n",
              "    </tr>\n",
              "    <tr>\n",
              "      <th>std</th>\n",
              "      <td>192.979273</td>\n",
              "      <td>3.365672</td>\n",
              "      <td>32.291473</td>\n",
              "      <td>19.526392</td>\n",
              "      <td>16.020600</td>\n",
              "      <td>115.827750</td>\n",
              "      <td>7.827111</td>\n",
              "      <td>0.341398</td>\n",
              "      <td>11.711386</td>\n",
              "      <td>0.475988</td>\n",
              "    </tr>\n",
              "    <tr>\n",
              "      <th>min</th>\n",
              "      <td>1.000000</td>\n",
              "      <td>0.000000</td>\n",
              "      <td>0.000000</td>\n",
              "      <td>0.000000</td>\n",
              "      <td>0.000000</td>\n",
              "      <td>0.000000</td>\n",
              "      <td>0.000000</td>\n",
              "      <td>0.078000</td>\n",
              "      <td>21.000000</td>\n",
              "      <td>0.000000</td>\n",
              "    </tr>\n",
              "    <tr>\n",
              "      <th>25%</th>\n",
              "      <td>167.750000</td>\n",
              "      <td>1.000000</td>\n",
              "      <td>99.000000</td>\n",
              "      <td>64.000000</td>\n",
              "      <td>0.000000</td>\n",
              "      <td>0.000000</td>\n",
              "      <td>27.100000</td>\n",
              "      <td>0.238750</td>\n",
              "      <td>24.000000</td>\n",
              "      <td>0.000000</td>\n",
              "    </tr>\n",
              "    <tr>\n",
              "      <th>50%</th>\n",
              "      <td>334.500000</td>\n",
              "      <td>3.000000</td>\n",
              "      <td>116.000000</td>\n",
              "      <td>72.000000</td>\n",
              "      <td>23.000000</td>\n",
              "      <td>36.500000</td>\n",
              "      <td>32.000000</td>\n",
              "      <td>0.377000</td>\n",
              "      <td>29.000000</td>\n",
              "      <td>0.000000</td>\n",
              "    </tr>\n",
              "    <tr>\n",
              "      <th>75%</th>\n",
              "      <td>501.250000</td>\n",
              "      <td>6.000000</td>\n",
              "      <td>140.000000</td>\n",
              "      <td>80.000000</td>\n",
              "      <td>32.000000</td>\n",
              "      <td>126.000000</td>\n",
              "      <td>36.500000</td>\n",
              "      <td>0.641250</td>\n",
              "      <td>40.000000</td>\n",
              "      <td>1.000000</td>\n",
              "    </tr>\n",
              "    <tr>\n",
              "      <th>max</th>\n",
              "      <td>668.000000</td>\n",
              "      <td>17.000000</td>\n",
              "      <td>199.000000</td>\n",
              "      <td>122.000000</td>\n",
              "      <td>99.000000</td>\n",
              "      <td>846.000000</td>\n",
              "      <td>67.100000</td>\n",
              "      <td>2.420000</td>\n",
              "      <td>81.000000</td>\n",
              "      <td>1.000000</td>\n",
              "    </tr>\n",
              "  </tbody>\n",
              "</table>\n",
              "</div>\n",
              "      <button class=\"colab-df-convert\" onclick=\"convertToInteractive('df-61f0e99a-944b-4a0f-8481-6f766dc8988d')\"\n",
              "              title=\"Convert this dataframe to an interactive table.\"\n",
              "              style=\"display:none;\">\n",
              "        \n",
              "  <svg xmlns=\"http://www.w3.org/2000/svg\" height=\"24px\"viewBox=\"0 0 24 24\"\n",
              "       width=\"24px\">\n",
              "    <path d=\"M0 0h24v24H0V0z\" fill=\"none\"/>\n",
              "    <path d=\"M18.56 5.44l.94 2.06.94-2.06 2.06-.94-2.06-.94-.94-2.06-.94 2.06-2.06.94zm-11 1L8.5 8.5l.94-2.06 2.06-.94-2.06-.94L8.5 2.5l-.94 2.06-2.06.94zm10 10l.94 2.06.94-2.06 2.06-.94-2.06-.94-.94-2.06-.94 2.06-2.06.94z\"/><path d=\"M17.41 7.96l-1.37-1.37c-.4-.4-.92-.59-1.43-.59-.52 0-1.04.2-1.43.59L10.3 9.45l-7.72 7.72c-.78.78-.78 2.05 0 2.83L4 21.41c.39.39.9.59 1.41.59.51 0 1.02-.2 1.41-.59l7.78-7.78 2.81-2.81c.8-.78.8-2.07 0-2.86zM5.41 20L4 18.59l7.72-7.72 1.47 1.35L5.41 20z\"/>\n",
              "  </svg>\n",
              "      </button>\n",
              "      \n",
              "  <style>\n",
              "    .colab-df-container {\n",
              "      display:flex;\n",
              "      flex-wrap:wrap;\n",
              "      gap: 12px;\n",
              "    }\n",
              "\n",
              "    .colab-df-convert {\n",
              "      background-color: #E8F0FE;\n",
              "      border: none;\n",
              "      border-radius: 50%;\n",
              "      cursor: pointer;\n",
              "      display: none;\n",
              "      fill: #1967D2;\n",
              "      height: 32px;\n",
              "      padding: 0 0 0 0;\n",
              "      width: 32px;\n",
              "    }\n",
              "\n",
              "    .colab-df-convert:hover {\n",
              "      background-color: #E2EBFA;\n",
              "      box-shadow: 0px 1px 2px rgba(60, 64, 67, 0.3), 0px 1px 3px 1px rgba(60, 64, 67, 0.15);\n",
              "      fill: #174EA6;\n",
              "    }\n",
              "\n",
              "    [theme=dark] .colab-df-convert {\n",
              "      background-color: #3B4455;\n",
              "      fill: #D2E3FC;\n",
              "    }\n",
              "\n",
              "    [theme=dark] .colab-df-convert:hover {\n",
              "      background-color: #434B5C;\n",
              "      box-shadow: 0px 1px 3px 1px rgba(0, 0, 0, 0.15);\n",
              "      filter: drop-shadow(0px 1px 2px rgba(0, 0, 0, 0.3));\n",
              "      fill: #FFFFFF;\n",
              "    }\n",
              "  </style>\n",
              "\n",
              "      <script>\n",
              "        const buttonEl =\n",
              "          document.querySelector('#df-61f0e99a-944b-4a0f-8481-6f766dc8988d button.colab-df-convert');\n",
              "        buttonEl.style.display =\n",
              "          google.colab.kernel.accessAllowed ? 'block' : 'none';\n",
              "\n",
              "        async function convertToInteractive(key) {\n",
              "          const element = document.querySelector('#df-61f0e99a-944b-4a0f-8481-6f766dc8988d');\n",
              "          const dataTable =\n",
              "            await google.colab.kernel.invokeFunction('convertToInteractive',\n",
              "                                                     [key], {});\n",
              "          if (!dataTable) return;\n",
              "\n",
              "          const docLinkHtml = 'Like what you see? Visit the ' +\n",
              "            '<a target=\"_blank\" href=https://colab.research.google.com/notebooks/data_table.ipynb>data table notebook</a>'\n",
              "            + ' to learn more about interactive tables.';\n",
              "          element.innerHTML = '';\n",
              "          dataTable['output_type'] = 'display_data';\n",
              "          await google.colab.output.renderOutput(dataTable, element);\n",
              "          const docLink = document.createElement('div');\n",
              "          docLink.innerHTML = docLinkHtml;\n",
              "          element.appendChild(docLink);\n",
              "        }\n",
              "      </script>\n",
              "    </div>\n",
              "  </div>\n",
              "  "
            ]
          },
          "metadata": {},
          "execution_count": 21
        }
      ]
    },
    {
      "cell_type": "code",
      "source": [
        "# Summarise class details\n",
        "sns.countplot(x=df_train['class'])\n",
        "     \n"
      ],
      "metadata": {
        "colab": {
          "base_uri": "https://localhost:8080/",
          "height": 296
        },
        "id": "R0_tFjQ8bocZ",
        "outputId": "e9f51cc7-5910-4f4d-967f-4bbb637ee850"
      },
      "execution_count": 22,
      "outputs": [
        {
          "output_type": "execute_result",
          "data": {
            "text/plain": [
              "<AxesSubplot:xlabel='class', ylabel='count'>"
            ]
          },
          "metadata": {},
          "execution_count": 22
        },
        {
          "output_type": "display_data",
          "data": {
            "text/plain": [
              "<Figure size 432x288 with 1 Axes>"
            ],
            "image/png": "[encoded data removed]"
          },
          "metadata": {
            "needs_background": "light"
          }
        }
      ]
    },
    {
      "cell_type": "markdown",
      "source": [
        "Extracting labels and features"
      ],
      "metadata": {
        "id": "idVVO5ZFdW0z"
      }
    },
    {
      "cell_type": "code",
      "source": [
        "# extract labels\n",
        "y = df_train['class']\n",
        "\n",
        "print(y.value_counts())"
      ],
      "metadata": {
        "colab": {
          "base_uri": "https://localhost:8080/"
        },
        "id": "qwei4t8Rcz4q",
        "outputId": "c72c5a58-640c-432f-85f0-6912981266d5"
      },
      "execution_count": 24,
      "outputs": [
        {
          "output_type": "stream",
          "name": "stdout",
          "text": [
            "0    437\n",
            "1    231\n",
            "Name: class, dtype: int64\n"
          ]
        }
      ]
    },
    {
      "cell_type": "code",
      "source": [
        "# remove unnecessary columns\n",
        "X = df.drop(['id', 'class'], axis=1)\n",
        "\n",
        "print(X.info())\n",
        "X.head()"
      ],
      "metadata": {
        "colab": {
          "base_uri": "https://localhost:8080/",
          "height": 484
        },
        "id": "zpafuEZ5dm-Q",
        "outputId": "c58845af-a346-4c23-adc8-4dffea81d1bd"
      },
      "execution_count": 25,
      "outputs": [
        {
          "output_type": "stream",
          "name": "stdout",
          "text": [
            "<class 'pandas.core.frame.DataFrame'>\n",
            "RangeIndex: 668 entries, 0 to 667\n",
            "Data columns (total 8 columns):\n",
            " #   Column  Non-Null Count  Dtype  \n",
            "---  ------  --------------  -----  \n",
            " 0   A1      668 non-null    int64  \n",
            " 1   A2      668 non-null    int64  \n",
            " 2   A3      668 non-null    int64  \n",
            " 3   A4      668 non-null    int64  \n",
            " 4   A5      668 non-null    int64  \n",
            " 5   A6      668 non-null    float64\n",
            " 6   A7      668 non-null    float64\n",
            " 7   A8      668 non-null    int64  \n",
            "dtypes: float64(2), int64(6)\n",
            "memory usage: 41.9 KB\n",
            "None\n"
          ]
        },
        {
          "output_type": "execute_result",
          "data": {
            "text/plain": [
              "   A1   A2  A3  A4   A5    A6     A7  A8\n",
              "0   6  148  72  35    0  33.6  0.627  50\n",
              "1   1   85  66  29    0  26.6  0.351  31\n",
              "2   8  183  64   0    0  23.3  0.672  32\n",
              "3   1   89  66  23   94  28.1  0.167  21\n",
              "4   0  137  40  35  168  43.1  2.288  33"
            ],
            "text/html": [
              "\n",
              "  <div id=\"df-166263ac-652d-495e-9711-7c363f384cf1\">\n",
              "    <div class=\"colab-df-container\">\n",
              "      <div>\n",
              "<style scoped>\n",
              "    .dataframe tbody tr th:only-of-type {\n",
              "        vertical-align: middle;\n",
              "    }\n",
              "\n",
              "    .dataframe tbody tr th {\n",
              "        vertical-align: top;\n",
              "    }\n",
              "\n",
              "    .dataframe thead th {\n",
              "        text-align: right;\n",
              "    }\n",
              "</style>\n",
              "<table border=\"1\" class=\"dataframe\">\n",
              "  <thead>\n",
              "    <tr style=\"text-align: right;\">\n",
              "      <th></th>\n",
              "      <th>A1</th>\n",
              "      <th>A2</th>\n",
              "      <th>A3</th>\n",
              "      <th>A4</th>\n",
              "      <th>A5</th>\n",
              "      <th>A6</th>\n",
              "      <th>A7</th>\n",
              "      <th>A8</th>\n",
              "    </tr>\n",
              "  </thead>\n",
              "  <tbody>\n",
              "    <tr>\n",
              "      <th>0</th>\n",
              "      <td>6</td>\n",
              "      <td>148</td>\n",
              "      <td>72</td>\n",
              "      <td>35</td>\n",
              "      <td>0</td>\n",
              "      <td>33.6</td>\n",
              "      <td>0.627</td>\n",
              "      <td>50</td>\n",
              "    </tr>\n",
              "    <tr>\n",
              "      <th>1</th>\n",
              "      <td>1</td>\n",
              "      <td>85</td>\n",
              "      <td>66</td>\n",
              "      <td>29</td>\n",
              "      <td>0</td>\n",
              "      <td>26.6</td>\n",
              "      <td>0.351</td>\n",
              "      <td>31</td>\n",
              "    </tr>\n",
              "    <tr>\n",
              "      <th>2</th>\n",
              "      <td>8</td>\n",
              "      <td>183</td>\n",
              "      <td>64</td>\n",
              "      <td>0</td>\n",
              "      <td>0</td>\n",
              "      <td>23.3</td>\n",
              "      <td>0.672</td>\n",
              "      <td>32</td>\n",
              "    </tr>\n",
              "    <tr>\n",
              "      <th>3</th>\n",
              "      <td>1</td>\n",
              "      <td>89</td>\n",
              "      <td>66</td>\n",
              "      <td>23</td>\n",
              "      <td>94</td>\n",
              "      <td>28.1</td>\n",
              "      <td>0.167</td>\n",
              "      <td>21</td>\n",
              "    </tr>\n",
              "    <tr>\n",
              "      <th>4</th>\n",
              "      <td>0</td>\n",
              "      <td>137</td>\n",
              "      <td>40</td>\n",
              "      <td>35</td>\n",
              "      <td>168</td>\n",
              "      <td>43.1</td>\n",
              "      <td>2.288</td>\n",
              "      <td>33</td>\n",
              "    </tr>\n",
              "  </tbody>\n",
              "</table>\n",
              "</div>\n",
              "      <button class=\"colab-df-convert\" onclick=\"convertToInteractive('df-166263ac-652d-495e-9711-7c363f384cf1')\"\n",
              "              title=\"Convert this dataframe to an interactive table.\"\n",
              "              style=\"display:none;\">\n",
              "        \n",
              "  <svg xmlns=\"http://www.w3.org/2000/svg\" height=\"24px\"viewBox=\"0 0 24 24\"\n",
              "       width=\"24px\">\n",
              "    <path d=\"M0 0h24v24H0V0z\" fill=\"none\"/>\n",
              "    <path d=\"M18.56 5.44l.94 2.06.94-2.06 2.06-.94-2.06-.94-.94-2.06-.94 2.06-2.06.94zm-11 1L8.5 8.5l.94-2.06 2.06-.94-2.06-.94L8.5 2.5l-.94 2.06-2.06.94zm10 10l.94 2.06.94-2.06 2.06-.94-2.06-.94-.94-2.06-.94 2.06-2.06.94z\"/><path d=\"M17.41 7.96l-1.37-1.37c-.4-.4-.92-.59-1.43-.59-.52 0-1.04.2-1.43.59L10.3 9.45l-7.72 7.72c-.78.78-.78 2.05 0 2.83L4 21.41c.39.39.9.59 1.41.59.51 0 1.02-.2 1.41-.59l7.78-7.78 2.81-2.81c.8-.78.8-2.07 0-2.86zM5.41 20L4 18.59l7.72-7.72 1.47 1.35L5.41 20z\"/>\n",
              "  </svg>\n",
              "      </button>\n",
              "      \n",
              "  <style>\n",
              "    .colab-df-container {\n",
              "      display:flex;\n",
              "      flex-wrap:wrap;\n",
              "      gap: 12px;\n",
              "    }\n",
              "\n",
              "    .colab-df-convert {\n",
              "      background-color: #E8F0FE;\n",
              "      border: none;\n",
              "      border-radius: 50%;\n",
              "      cursor: pointer;\n",
              "      display: none;\n",
              "      fill: #1967D2;\n",
              "      height: 32px;\n",
              "      padding: 0 0 0 0;\n",
              "      width: 32px;\n",
              "    }\n",
              "\n",
              "    .colab-df-convert:hover {\n",
              "      background-color: #E2EBFA;\n",
              "      box-shadow: 0px 1px 2px rgba(60, 64, 67, 0.3), 0px 1px 3px 1px rgba(60, 64, 67, 0.15);\n",
              "      fill: #174EA6;\n",
              "    }\n",
              "\n",
              "    [theme=dark] .colab-df-convert {\n",
              "      background-color: #3B4455;\n",
              "      fill: #D2E3FC;\n",
              "    }\n",
              "\n",
              "    [theme=dark] .colab-df-convert:hover {\n",
              "      background-color: #434B5C;\n",
              "      box-shadow: 0px 1px 3px 1px rgba(0, 0, 0, 0.15);\n",
              "      filter: drop-shadow(0px 1px 2px rgba(0, 0, 0, 0.3));\n",
              "      fill: #FFFFFF;\n",
              "    }\n",
              "  </style>\n",
              "\n",
              "      <script>\n",
              "        const buttonEl =\n",
              "          document.querySelector('#df-166263ac-652d-495e-9711-7c363f384cf1 button.colab-df-convert');\n",
              "        buttonEl.style.display =\n",
              "          google.colab.kernel.accessAllowed ? 'block' : 'none';\n",
              "\n",
              "        async function convertToInteractive(key) {\n",
              "          const element = document.querySelector('#df-166263ac-652d-495e-9711-7c363f384cf1');\n",
              "          const dataTable =\n",
              "            await google.colab.kernel.invokeFunction('convertToInteractive',\n",
              "                                                     [key], {});\n",
              "          if (!dataTable) return;\n",
              "\n",
              "          const docLinkHtml = 'Like what you see? Visit the ' +\n",
              "            '<a target=\"_blank\" href=https://colab.research.google.com/notebooks/data_table.ipynb>data table notebook</a>'\n",
              "            + ' to learn more about interactive tables.';\n",
              "          element.innerHTML = '';\n",
              "          dataTable['output_type'] = 'display_data';\n",
              "          await google.colab.output.renderOutput(dataTable, element);\n",
              "          const docLink = document.createElement('div');\n",
              "          docLink.innerHTML = docLinkHtml;\n",
              "          element.appendChild(docLink);\n",
              "        }\n",
              "      </script>\n",
              "    </div>\n",
              "  </div>\n",
              "  "
            ]
          },
          "metadata": {},
          "execution_count": 25
        }
      ]
    },
    {
      "cell_type": "code",
      "source": [
        "# create LabelEncoder for labels \n",
        "le = LabelEncoder()\n",
        "le.fit(y)\n",
        "     \n"
      ],
      "metadata": {
        "colab": {
          "base_uri": "https://localhost:8080/"
        },
        "id": "aDMqMzPBd_Z5",
        "outputId": "b9306ecd-e0f9-4d05-c72f-866e026d7b6f"
      },
      "execution_count": 26,
      "outputs": [
        {
          "output_type": "execute_result",
          "data": {
            "text/plain": [
              "LabelEncoder()"
            ]
          },
          "metadata": {},
          "execution_count": 26
        }
      ]
    },
    {
      "cell_type": "code",
      "source": [
        "# Convert labels into numeric values\n",
        "y = le.transform(y)\n",
        "\n",
        "y = pd.Series(y)\n",
        "print(y.value_counts())"
      ],
      "metadata": {
        "colab": {
          "base_uri": "https://localhost:8080/"
        },
        "id": "BaFe3hqueKz1",
        "outputId": "9cd6df84-b293-4a17-9f8b-3d8d00159524"
      },
      "execution_count": 27,
      "outputs": [
        {
          "output_type": "stream",
          "name": "stdout",
          "text": [
            "0    437\n",
            "1    231\n",
            "dtype: int64\n"
          ]
        }
      ]
    },
    {
      "cell_type": "markdown",
      "source": [
        "M1 \n",
        "Model using 8 features and 2 hiden layers\n",
        "\n",
        "Let's select the first 8 features for this model"
      ],
      "metadata": {
        "id": "JN_QGezuez0z"
      }
    },
    {
      "cell_type": "code",
      "source": [
        "X1 = X.iloc[:, 0:8]\n",
        "X1.head()"
      ],
      "metadata": {
        "colab": {
          "base_uri": "https://localhost:8080/",
          "height": 206
        },
        "id": "Esys3fwaeNN9",
        "outputId": "ba16c2e9-1b82-4368-b5d2-1cc867533676"
      },
      "execution_count": 28,
      "outputs": [
        {
          "output_type": "execute_result",
          "data": {
            "text/plain": [
              "   A1   A2  A3  A4   A5    A6     A7  A8\n",
              "0   6  148  72  35    0  33.6  0.627  50\n",
              "1   1   85  66  29    0  26.6  0.351  31\n",
              "2   8  183  64   0    0  23.3  0.672  32\n",
              "3   1   89  66  23   94  28.1  0.167  21\n",
              "4   0  137  40  35  168  43.1  2.288  33"
            ],
            "text/html": [
              "\n",
              "  <div id=\"df-3e58ed2d-85ff-4df1-9a82-de2cae0b7c45\">\n",
              "    <div class=\"colab-df-container\">\n",
              "      <div>\n",
              "<style scoped>\n",
              "    .dataframe tbody tr th:only-of-type {\n",
              "        vertical-align: middle;\n",
              "    }\n",
              "\n",
              "    .dataframe tbody tr th {\n",
              "        vertical-align: top;\n",
              "    }\n",
              "\n",
              "    .dataframe thead th {\n",
              "        text-align: right;\n",
              "    }\n",
              "</style>\n",
              "<table border=\"1\" class=\"dataframe\">\n",
              "  <thead>\n",
              "    <tr style=\"text-align: right;\">\n",
              "      <th></th>\n",
              "      <th>A1</th>\n",
              "      <th>A2</th>\n",
              "      <th>A3</th>\n",
              "      <th>A4</th>\n",
              "      <th>A5</th>\n",
              "      <th>A6</th>\n",
              "      <th>A7</th>\n",
              "      <th>A8</th>\n",
              "    </tr>\n",
              "  </thead>\n",
              "  <tbody>\n",
              "    <tr>\n",
              "      <th>0</th>\n",
              "      <td>6</td>\n",
              "      <td>148</td>\n",
              "      <td>72</td>\n",
              "      <td>35</td>\n",
              "      <td>0</td>\n",
              "      <td>33.6</td>\n",
              "      <td>0.627</td>\n",
              "      <td>50</td>\n",
              "    </tr>\n",
              "    <tr>\n",
              "      <th>1</th>\n",
              "      <td>1</td>\n",
              "      <td>85</td>\n",
              "      <td>66</td>\n",
              "      <td>29</td>\n",
              "      <td>0</td>\n",
              "      <td>26.6</td>\n",
              "      <td>0.351</td>\n",
              "      <td>31</td>\n",
              "    </tr>\n",
              "    <tr>\n",
              "      <th>2</th>\n",
              "      <td>8</td>\n",
              "      <td>183</td>\n",
              "      <td>64</td>\n",
              "      <td>0</td>\n",
              "      <td>0</td>\n",
              "      <td>23.3</td>\n",
              "      <td>0.672</td>\n",
              "      <td>32</td>\n",
              "    </tr>\n",
              "    <tr>\n",
              "      <th>3</th>\n",
              "      <td>1</td>\n",
              "      <td>89</td>\n",
              "      <td>66</td>\n",
              "      <td>23</td>\n",
              "      <td>94</td>\n",
              "      <td>28.1</td>\n",
              "      <td>0.167</td>\n",
              "      <td>21</td>\n",
              "    </tr>\n",
              "    <tr>\n",
              "      <th>4</th>\n",
              "      <td>0</td>\n",
              "      <td>137</td>\n",
              "      <td>40</td>\n",
              "      <td>35</td>\n",
              "      <td>168</td>\n",
              "      <td>43.1</td>\n",
              "      <td>2.288</td>\n",
              "      <td>33</td>\n",
              "    </tr>\n",
              "  </tbody>\n",
              "</table>\n",
              "</div>\n",
              "      <button class=\"colab-df-convert\" onclick=\"convertToInteractive('df-3e58ed2d-85ff-4df1-9a82-de2cae0b7c45')\"\n",
              "              title=\"Convert this dataframe to an interactive table.\"\n",
              "              style=\"display:none;\">\n",
              "        \n",
              "  <svg xmlns=\"http://www.w3.org/2000/svg\" height=\"24px\"viewBox=\"0 0 24 24\"\n",
              "       width=\"24px\">\n",
              "    <path d=\"M0 0h24v24H0V0z\" fill=\"none\"/>\n",
              "    <path d=\"M18.56 5.44l.94 2.06.94-2.06 2.06-.94-2.06-.94-.94-2.06-.94 2.06-2.06.94zm-11 1L8.5 8.5l.94-2.06 2.06-.94-2.06-.94L8.5 2.5l-.94 2.06-2.06.94zm10 10l.94 2.06.94-2.06 2.06-.94-2.06-.94-.94-2.06-.94 2.06-2.06.94z\"/><path d=\"M17.41 7.96l-1.37-1.37c-.4-.4-.92-.59-1.43-.59-.52 0-1.04.2-1.43.59L10.3 9.45l-7.72 7.72c-.78.78-.78 2.05 0 2.83L4 21.41c.39.39.9.59 1.41.59.51 0 1.02-.2 1.41-.59l7.78-7.78 2.81-2.81c.8-.78.8-2.07 0-2.86zM5.41 20L4 18.59l7.72-7.72 1.47 1.35L5.41 20z\"/>\n",
              "  </svg>\n",
              "      </button>\n",
              "      \n",
              "  <style>\n",
              "    .colab-df-container {\n",
              "      display:flex;\n",
              "      flex-wrap:wrap;\n",
              "      gap: 12px;\n",
              "    }\n",
              "\n",
              "    .colab-df-convert {\n",
              "      background-color: #E8F0FE;\n",
              "      border: none;\n",
              "      border-radius: 50%;\n",
              "      cursor: pointer;\n",
              "      display: none;\n",
              "      fill: #1967D2;\n",
              "      height: 32px;\n",
              "      padding: 0 0 0 0;\n",
              "      width: 32px;\n",
              "    }\n",
              "\n",
              "    .colab-df-convert:hover {\n",
              "      background-color: #E2EBFA;\n",
              "      box-shadow: 0px 1px 2px rgba(60, 64, 67, 0.3), 0px 1px 3px 1px rgba(60, 64, 67, 0.15);\n",
              "      fill: #174EA6;\n",
              "    }\n",
              "\n",
              "    [theme=dark] .colab-df-convert {\n",
              "      background-color: #3B4455;\n",
              "      fill: #D2E3FC;\n",
              "    }\n",
              "\n",
              "    [theme=dark] .colab-df-convert:hover {\n",
              "      background-color: #434B5C;\n",
              "      box-shadow: 0px 1px 3px 1px rgba(0, 0, 0, 0.15);\n",
              "      filter: drop-shadow(0px 1px 2px rgba(0, 0, 0, 0.3));\n",
              "      fill: #FFFFFF;\n",
              "    }\n",
              "  </style>\n",
              "\n",
              "      <script>\n",
              "        const buttonEl =\n",
              "          document.querySelector('#df-3e58ed2d-85ff-4df1-9a82-de2cae0b7c45 button.colab-df-convert');\n",
              "        buttonEl.style.display =\n",
              "          google.colab.kernel.accessAllowed ? 'block' : 'none';\n",
              "\n",
              "        async function convertToInteractive(key) {\n",
              "          const element = document.querySelector('#df-3e58ed2d-85ff-4df1-9a82-de2cae0b7c45');\n",
              "          const dataTable =\n",
              "            await google.colab.kernel.invokeFunction('convertToInteractive',\n",
              "                                                     [key], {});\n",
              "          if (!dataTable) return;\n",
              "\n",
              "          const docLinkHtml = 'Like what you see? Visit the ' +\n",
              "            '<a target=\"_blank\" href=https://colab.research.google.com/notebooks/data_table.ipynb>data table notebook</a>'\n",
              "            + ' to learn more about interactive tables.';\n",
              "          element.innerHTML = '';\n",
              "          dataTable['output_type'] = 'display_data';\n",
              "          await google.colab.output.renderOutput(dataTable, element);\n",
              "          const docLink = document.createElement('div');\n",
              "          docLink.innerHTML = docLinkHtml;\n",
              "          element.appendChild(docLink);\n",
              "        }\n",
              "      </script>\n",
              "    </div>\n",
              "  </div>\n",
              "  "
            ]
          },
          "metadata": {},
          "execution_count": 28
        }
      ]
    },
    {
      "cell_type": "markdown",
      "source": [
        "Split Data"
      ],
      "metadata": {
        "id": "bk5PWHHafe4D"
      }
    },
    {
      "cell_type": "code",
      "source": [
        "# split data to train and validation sets\n",
        "X_train1, X_val1, y_train1, y_val1 = train_test_split(X1, y, test_size=0.3, random_state=100)\n",
        "print(f'training data set size: {len(X_train1)}')\n",
        "print(f'validation data set size: {len(X_val1)}')"
      ],
      "metadata": {
        "colab": {
          "base_uri": "https://localhost:8080/"
        },
        "id": "0AsdWINhfZIt",
        "outputId": "76a1b306-7ad6-45e5-94d9-cc22dabd4eae"
      },
      "execution_count": 29,
      "outputs": [
        {
          "output_type": "stream",
          "name": "stdout",
          "text": [
            "training data set size: 467\n",
            "validation data set size: 201\n"
          ]
        }
      ]
    },
    {
      "cell_type": "markdown",
      "source": [
        "Build a Model"
      ],
      "metadata": {
        "id": "ns5c2baEfpgt"
      }
    },
    {
      "cell_type": "code",
      "source": [
        "# define the keras model\n",
        "model1 = keras.Sequential()\n",
        "model1.add(layers.Dense(12, input_dim=8, activation='relu'))\n",
        "model1.add(layers.Dense(8, activation='relu'))\n",
        "model1.add(layers.Dense(1, activation='sigmoid'))\n",
        "\n",
        "model1.summary()"
      ],
      "metadata": {
        "colab": {
          "base_uri": "https://localhost:8080/"
        },
        "id": "fE9OmblAfl9c",
        "outputId": "721a4c09-07e7-4d77-fe34-e290f2be0d6b"
      },
      "execution_count": 30,
      "outputs": [
        {
          "output_type": "stream",
          "name": "stdout",
          "text": [
            "Model: \"sequential\"\n",
            "_________________________________________________________________\n",
            " Layer (type)                Output Shape              Param #   \n",
            "=================================================================\n",
            " dense (Dense)               (None, 12)                108       \n",
            "                                                                 \n",
            " dense_1 (Dense)             (None, 8)                 104       \n",
            "                                                                 \n",
            " dense_2 (Dense)             (None, 1)                 9         \n",
            "                                                                 \n",
            "=================================================================\n",
            "Total params: 221\n",
            "Trainable params: 221\n",
            "Non-trainable params: 0\n",
            "_________________________________________________________________\n"
          ]
        }
      ]
    },
    {
      "cell_type": "code",
      "source": [
        "# compile the keras model\n",
        "model1.compile(loss='binary_crossentropy', optimizer='adam', metrics=['accuracy'])"
      ],
      "metadata": {
        "id": "RsNIZt38f3b3"
      },
      "execution_count": 31,
      "outputs": []
    },
    {
      "cell_type": "code",
      "source": [
        "# train model\n",
        "model1.fit(X_train1, y_train1, batch_size=50, epochs=60, validation_data=(X_val1, y_val1))\n",
        "     \n"
      ],
      "metadata": {
        "colab": {
          "base_uri": "https://localhost:8080/"
        },
        "id": "OEkSBZA9gDEr",
        "outputId": "4bedf00a-8d0d-4567-a9b8-1beff2de38ef"
      },
      "execution_count": 32,
      "outputs": [
        {
          "output_type": "stream",
          "name": "stdout",
          "text": [
            "Epoch 1/60\n",
            "10/10 [==============================] - 3s 48ms/step - loss: 10.3384 - accuracy: 0.6531 - val_loss: 7.2608 - val_accuracy: 0.6617\n",
            "Epoch 2/60\n",
            "10/10 [==============================] - 0s 9ms/step - loss: 7.4265 - accuracy: 0.6317 - val_loss: 5.1038 - val_accuracy: 0.5771\n",
            "Epoch 3/60\n",
            "10/10 [==============================] - 0s 10ms/step - loss: 5.7662 - accuracy: 0.5054 - val_loss: 4.0478 - val_accuracy: 0.5622\n",
            "Epoch 4/60\n",
            "10/10 [==============================] - 0s 9ms/step - loss: 4.7811 - accuracy: 0.4818 - val_loss: 3.2971 - val_accuracy: 0.5224\n",
            "Epoch 5/60\n",
            "10/10 [==============================] - 0s 11ms/step - loss: 3.9519 - accuracy: 0.4604 - val_loss: 2.6234 - val_accuracy: 0.5124\n",
            "Epoch 6/60\n",
            "10/10 [==============================] - 0s 9ms/step - loss: 3.2295 - accuracy: 0.5225 - val_loss: 2.0913 - val_accuracy: 0.5423\n",
            "Epoch 7/60\n",
            "10/10 [==============================] - 0s 10ms/step - loss: 2.7141 - accuracy: 0.5418 - val_loss: 1.6681 - val_accuracy: 0.5323\n",
            "Epoch 8/60\n",
            "10/10 [==============================] - 0s 11ms/step - loss: 2.2474 - accuracy: 0.5225 - val_loss: 1.3860 - val_accuracy: 0.5075\n",
            "Epoch 9/60\n",
            "10/10 [==============================] - 0s 11ms/step - loss: 1.8795 - accuracy: 0.5353 - val_loss: 1.1649 - val_accuracy: 0.5522\n",
            "Epoch 10/60\n",
            "10/10 [==============================] - 0s 12ms/step - loss: 1.4910 - accuracy: 0.5974 - val_loss: 0.9893 - val_accuracy: 0.6318\n",
            "Epoch 11/60\n",
            "10/10 [==============================] - 0s 10ms/step - loss: 1.2708 - accuracy: 0.6296 - val_loss: 0.8735 - val_accuracy: 0.6368\n",
            "Epoch 12/60\n",
            "10/10 [==============================] - 0s 10ms/step - loss: 1.1151 - accuracy: 0.5996 - val_loss: 0.8114 - val_accuracy: 0.6617\n",
            "Epoch 13/60\n",
            "10/10 [==============================] - 0s 10ms/step - loss: 0.9783 - accuracy: 0.6467 - val_loss: 0.7945 - val_accuracy: 0.6269\n",
            "Epoch 14/60\n",
            "10/10 [==============================] - 0s 8ms/step - loss: 0.8690 - accuracy: 0.6381 - val_loss: 0.7794 - val_accuracy: 0.6418\n",
            "Epoch 15/60\n",
            "10/10 [==============================] - 0s 8ms/step - loss: 0.8007 - accuracy: 0.6595 - val_loss: 0.7475 - val_accuracy: 0.6567\n",
            "Epoch 16/60\n",
            "10/10 [==============================] - 0s 6ms/step - loss: 0.7464 - accuracy: 0.6531 - val_loss: 0.7429 - val_accuracy: 0.6368\n",
            "Epoch 17/60\n",
            "10/10 [==============================] - 0s 7ms/step - loss: 0.7196 - accuracy: 0.6552 - val_loss: 0.7203 - val_accuracy: 0.6418\n",
            "Epoch 18/60\n",
            "10/10 [==============================] - 0s 8ms/step - loss: 0.7148 - accuracy: 0.6531 - val_loss: 0.7361 - val_accuracy: 0.6567\n",
            "Epoch 19/60\n",
            "10/10 [==============================] - 0s 6ms/step - loss: 0.6851 - accuracy: 0.6617 - val_loss: 0.7234 - val_accuracy: 0.6418\n",
            "Epoch 20/60\n",
            "10/10 [==============================] - 0s 7ms/step - loss: 0.6715 - accuracy: 0.6595 - val_loss: 0.7100 - val_accuracy: 0.6617\n",
            "Epoch 21/60\n",
            "10/10 [==============================] - 0s 8ms/step - loss: 0.6692 - accuracy: 0.6510 - val_loss: 0.7071 - val_accuracy: 0.6418\n",
            "Epoch 22/60\n",
            "10/10 [==============================] - 0s 7ms/step - loss: 0.6625 - accuracy: 0.6617 - val_loss: 0.7041 - val_accuracy: 0.6567\n",
            "Epoch 23/60\n",
            "10/10 [==============================] - 0s 6ms/step - loss: 0.6637 - accuracy: 0.6745 - val_loss: 0.6962 - val_accuracy: 0.6617\n",
            "Epoch 24/60\n",
            "10/10 [==============================] - 0s 8ms/step - loss: 0.6553 - accuracy: 0.6660 - val_loss: 0.7062 - val_accuracy: 0.6517\n",
            "Epoch 25/60\n",
            "10/10 [==============================] - 0s 8ms/step - loss: 0.6523 - accuracy: 0.6767 - val_loss: 0.6986 - val_accuracy: 0.6567\n",
            "Epoch 26/60\n",
            "10/10 [==============================] - 0s 8ms/step - loss: 0.6512 - accuracy: 0.6488 - val_loss: 0.6826 - val_accuracy: 0.6816\n",
            "Epoch 27/60\n",
            "10/10 [==============================] - 0s 7ms/step - loss: 0.6413 - accuracy: 0.6852 - val_loss: 0.6833 - val_accuracy: 0.6617\n",
            "Epoch 28/60\n",
            "10/10 [==============================] - 0s 8ms/step - loss: 0.6421 - accuracy: 0.6724 - val_loss: 0.6889 - val_accuracy: 0.6667\n",
            "Epoch 29/60\n",
            "10/10 [==============================] - 0s 8ms/step - loss: 0.6433 - accuracy: 0.6724 - val_loss: 0.6866 - val_accuracy: 0.6667\n",
            "Epoch 30/60\n",
            "10/10 [==============================] - 0s 8ms/step - loss: 0.6396 - accuracy: 0.6874 - val_loss: 0.6722 - val_accuracy: 0.6766\n",
            "Epoch 31/60\n",
            "10/10 [==============================] - 0s 7ms/step - loss: 0.6347 - accuracy: 0.6874 - val_loss: 0.6635 - val_accuracy: 0.6965\n",
            "Epoch 32/60\n",
            "10/10 [==============================] - 0s 7ms/step - loss: 0.6299 - accuracy: 0.6831 - val_loss: 0.6719 - val_accuracy: 0.6816\n",
            "Epoch 33/60\n",
            "10/10 [==============================] - 0s 9ms/step - loss: 0.6277 - accuracy: 0.6916 - val_loss: 0.6723 - val_accuracy: 0.6816\n",
            "Epoch 34/60\n",
            "10/10 [==============================] - 0s 8ms/step - loss: 0.6244 - accuracy: 0.6895 - val_loss: 0.6574 - val_accuracy: 0.6965\n",
            "Epoch 35/60\n",
            "10/10 [==============================] - 0s 6ms/step - loss: 0.6242 - accuracy: 0.6916 - val_loss: 0.6542 - val_accuracy: 0.7065\n",
            "Epoch 36/60\n",
            "10/10 [==============================] - 0s 7ms/step - loss: 0.6200 - accuracy: 0.7002 - val_loss: 0.6618 - val_accuracy: 0.6915\n",
            "Epoch 37/60\n",
            "10/10 [==============================] - 0s 7ms/step - loss: 0.6217 - accuracy: 0.7002 - val_loss: 0.6643 - val_accuracy: 0.6716\n",
            "Epoch 38/60\n",
            "10/10 [==============================] - 0s 7ms/step - loss: 0.6273 - accuracy: 0.7024 - val_loss: 0.6527 - val_accuracy: 0.6965\n",
            "Epoch 39/60\n",
            "10/10 [==============================] - 0s 7ms/step - loss: 0.6266 - accuracy: 0.6681 - val_loss: 0.6456 - val_accuracy: 0.6866\n",
            "Epoch 40/60\n",
            "10/10 [==============================] - 0s 7ms/step - loss: 0.6313 - accuracy: 0.6938 - val_loss: 0.6588 - val_accuracy: 0.6816\n",
            "Epoch 41/60\n",
            "10/10 [==============================] - 0s 6ms/step - loss: 0.6328 - accuracy: 0.6788 - val_loss: 0.6464 - val_accuracy: 0.6915\n",
            "Epoch 42/60\n",
            "10/10 [==============================] - 0s 8ms/step - loss: 0.6213 - accuracy: 0.7088 - val_loss: 0.6463 - val_accuracy: 0.6965\n",
            "Epoch 43/60\n",
            "10/10 [==============================] - 0s 8ms/step - loss: 0.6188 - accuracy: 0.7109 - val_loss: 0.6401 - val_accuracy: 0.7114\n",
            "Epoch 44/60\n",
            "10/10 [==============================] - 0s 6ms/step - loss: 0.6161 - accuracy: 0.7066 - val_loss: 0.6406 - val_accuracy: 0.6915\n",
            "Epoch 45/60\n",
            "10/10 [==============================] - 0s 8ms/step - loss: 0.6096 - accuracy: 0.7024 - val_loss: 0.6383 - val_accuracy: 0.6816\n",
            "Epoch 46/60\n",
            "10/10 [==============================] - 0s 8ms/step - loss: 0.6139 - accuracy: 0.7131 - val_loss: 0.6681 - val_accuracy: 0.6766\n",
            "Epoch 47/60\n",
            "10/10 [==============================] - 0s 7ms/step - loss: 0.6296 - accuracy: 0.6724 - val_loss: 0.6345 - val_accuracy: 0.6915\n",
            "Epoch 48/60\n",
            "10/10 [==============================] - 0s 7ms/step - loss: 0.6181 - accuracy: 0.6959 - val_loss: 0.6411 - val_accuracy: 0.7015\n",
            "Epoch 49/60\n",
            "10/10 [==============================] - 0s 7ms/step - loss: 0.6067 - accuracy: 0.7045 - val_loss: 0.6354 - val_accuracy: 0.7015\n",
            "Epoch 50/60\n",
            "10/10 [==============================] - 0s 7ms/step - loss: 0.5981 - accuracy: 0.7152 - val_loss: 0.6301 - val_accuracy: 0.6915\n",
            "Epoch 51/60\n",
            "10/10 [==============================] - 0s 8ms/step - loss: 0.6013 - accuracy: 0.7088 - val_loss: 0.6320 - val_accuracy: 0.7015\n",
            "Epoch 52/60\n",
            "10/10 [==============================] - 0s 9ms/step - loss: 0.6034 - accuracy: 0.7173 - val_loss: 0.6327 - val_accuracy: 0.6965\n",
            "Epoch 53/60\n",
            "10/10 [==============================] - 0s 7ms/step - loss: 0.6048 - accuracy: 0.7238 - val_loss: 0.6178 - val_accuracy: 0.7065\n",
            "Epoch 54/60\n",
            "10/10 [==============================] - 0s 8ms/step - loss: 0.6068 - accuracy: 0.7002 - val_loss: 0.6345 - val_accuracy: 0.7015\n",
            "Epoch 55/60\n",
            "10/10 [==============================] - 0s 7ms/step - loss: 0.5995 - accuracy: 0.7024 - val_loss: 0.6333 - val_accuracy: 0.7065\n",
            "Epoch 56/60\n",
            "10/10 [==============================] - 0s 6ms/step - loss: 0.6074 - accuracy: 0.7088 - val_loss: 0.6411 - val_accuracy: 0.6965\n",
            "Epoch 57/60\n",
            "10/10 [==============================] - 0s 7ms/step - loss: 0.6101 - accuracy: 0.7002 - val_loss: 0.6319 - val_accuracy: 0.6866\n",
            "Epoch 58/60\n",
            "10/10 [==============================] - 0s 7ms/step - loss: 0.6012 - accuracy: 0.7088 - val_loss: 0.6345 - val_accuracy: 0.7015\n",
            "Epoch 59/60\n",
            "10/10 [==============================] - 0s 7ms/step - loss: 0.5908 - accuracy: 0.7173 - val_loss: 0.6160 - val_accuracy: 0.7114\n",
            "Epoch 60/60\n",
            "10/10 [==============================] - 0s 6ms/step - loss: 0.5899 - accuracy: 0.7259 - val_loss: 0.6235 - val_accuracy: 0.7065\n"
          ]
        },
        {
          "output_type": "execute_result",
          "data": {
            "text/plain": [
              "<keras.callbacks.History at 0x7f6b50042c40>"
            ]
          },
          "metadata": {},
          "execution_count": 32
        }
      ]
    },
    {
      "cell_type": "markdown",
      "source": [
        "Validate Model"
      ],
      "metadata": {
        "id": "KggcxLyMgN4x"
      }
    },
    {
      "cell_type": "code",
      "source": [
        "# get model predictions\n",
        "y_pred1 = model1.predict(X_val1)\n",
        "print(y_pred1[:10])"
      ],
      "metadata": {
        "colab": {
          "base_uri": "https://localhost:8080/"
        },
        "id": "YVP-_G2qgI1a",
        "outputId": "5e31c709-5924-4a63-eb74-71240c636116"
      },
      "execution_count": 33,
      "outputs": [
        {
          "output_type": "stream",
          "name": "stdout",
          "text": [
            "7/7 [==============================] - 0s 5ms/step\n",
            "[[0.14725181]\n",
            " [0.95169353]\n",
            " [0.14971629]\n",
            " [0.3552531 ]\n",
            " [0.37571788]\n",
            " [0.02387579]\n",
            " [0.47169825]\n",
            " [0.11509489]\n",
            " [0.25395402]\n",
            " [0.10381728]]\n"
          ]
        }
      ]
    },
    {
      "cell_type": "code",
      "source": [
        "# convert to categorical predictions\n",
        "y_pred_categorical1 = [1 if pred > 0.5 else 0 for pred in y_pred1]\n",
        "print(y_pred_categorical1[:10])\n",
        "     "
      ],
      "metadata": {
        "colab": {
          "base_uri": "https://localhost:8080/"
        },
        "id": "Pyrld-O9gXOD",
        "outputId": "0b8d0953-7b83-48eb-9166-e6de28664514"
      },
      "execution_count": 34,
      "outputs": [
        {
          "output_type": "stream",
          "name": "stdout",
          "text": [
            "[0, 1, 0, 0, 0, 0, 0, 0, 0, 0]\n"
          ]
        }
      ]
    },
    {
      "cell_type": "code",
      "source": [
        "# measure accuracy\n",
        "accuracy = metrics.accuracy_score(y_val1, y_pred_categorical1)\n",
        "print(f'Accuracy: {accuracy}')\n",
        "     "
      ],
      "metadata": {
        "colab": {
          "base_uri": "https://localhost:8080/"
        },
        "id": "2zKMFJUjgh3j",
        "outputId": "d35a53a1-4856-4ebc-ccc8-fd69c7418f65"
      },
      "execution_count": 35,
      "outputs": [
        {
          "output_type": "stream",
          "name": "stdout",
          "text": [
            "Accuracy: 0.7064676616915423\n"
          ]
        }
      ]
    },
    {
      "cell_type": "markdown",
      "source": [
        "Test Predictions"
      ],
      "metadata": {
        "id": "jVYrzy5cgo-i"
      }
    },
    {
      "cell_type": "code",
      "source": [
        "df_test = pd.read_csv('/content/sample_data/Deep learning optim/test.csv')\n",
        "\n",
        "# summarise the details\n",
        "print(f'Number of entries: {len(df_test)}')\n",
        "\n",
        "X_test = df_test.drop(['id'], axis=1)\n",
        "print(X_test.info())"
      ],
      "metadata": {
        "colab": {
          "base_uri": "https://localhost:8080/"
        },
        "id": "LBW8kpPbglzj",
        "outputId": "ff3a5d7d-16e9-4658-ae2b-8ae6bdedfd02"
      },
      "execution_count": 37,
      "outputs": [
        {
          "output_type": "stream",
          "name": "stdout",
          "text": [
            "Number of entries: 100\n",
            "<class 'pandas.core.frame.DataFrame'>\n",
            "RangeIndex: 100 entries, 0 to 99\n",
            "Data columns (total 8 columns):\n",
            " #   Column  Non-Null Count  Dtype  \n",
            "---  ------  --------------  -----  \n",
            " 0   A1      100 non-null    int64  \n",
            " 1   A2      100 non-null    int64  \n",
            " 2   A3      100 non-null    int64  \n",
            " 3   A4      100 non-null    int64  \n",
            " 4   A5      100 non-null    int64  \n",
            " 5   A6      100 non-null    float64\n",
            " 6   A7      100 non-null    float64\n",
            " 7   A8      100 non-null    int64  \n",
            "dtypes: float64(2), int64(6)\n",
            "memory usage: 6.4 KB\n",
            "None\n"
          ]
        }
      ]
    },
    {
      "cell_type": "code",
      "source": [
        "X_test1 = X_test.iloc[:, 0:8]\n",
        "X_test1.head()\n",
        "     \n"
      ],
      "metadata": {
        "colab": {
          "base_uri": "https://localhost:8080/",
          "height": 206
        },
        "id": "nEPrzPddg440",
        "outputId": "922e639c-2edb-4a9b-ac73-5ab38ee83c4f"
      },
      "execution_count": 38,
      "outputs": [
        {
          "output_type": "execute_result",
          "data": {
            "text/plain": [
              "   A1   A2   A3  A4   A5    A6     A7  A8\n",
              "0   6   98   58  33  190  34.0  0.430  43\n",
              "1   9  154   78  30  100  30.9  0.164  45\n",
              "2   6  165   68  26  168  33.6  0.631  49\n",
              "3   1   99   58  10    0  25.4  0.551  21\n",
              "4  10   68  106  23   49  35.5  0.285  47"
            ],
            "text/html": [
              "\n",
              "  <div id=\"df-864bbd58-ca46-4bcc-aa57-f96cab6d6cb8\">\n",
              "    <div class=\"colab-df-container\">\n",
              "      <div>\n",
              "<style scoped>\n",
              "    .dataframe tbody tr th:only-of-type {\n",
              "        vertical-align: middle;\n",
              "    }\n",
              "\n",
              "    .dataframe tbody tr th {\n",
              "        vertical-align: top;\n",
              "    }\n",
              "\n",
              "    .dataframe thead th {\n",
              "        text-align: right;\n",
              "    }\n",
              "</style>\n",
              "<table border=\"1\" class=\"dataframe\">\n",
              "  <thead>\n",
              "    <tr style=\"text-align: right;\">\n",
              "      <th></th>\n",
              "      <th>A1</th>\n",
              "      <th>A2</th>\n",
              "      <th>A3</th>\n",
              "      <th>A4</th>\n",
              "      <th>A5</th>\n",
              "      <th>A6</th>\n",
              "      <th>A7</th>\n",
              "      <th>A8</th>\n",
              "    </tr>\n",
              "  </thead>\n",
              "  <tbody>\n",
              "    <tr>\n",
              "      <th>0</th>\n",
              "      <td>6</td>\n",
              "      <td>98</td>\n",
              "      <td>58</td>\n",
              "      <td>33</td>\n",
              "      <td>190</td>\n",
              "      <td>34.0</td>\n",
              "      <td>0.430</td>\n",
              "      <td>43</td>\n",
              "    </tr>\n",
              "    <tr>\n",
              "      <th>1</th>\n",
              "      <td>9</td>\n",
              "      <td>154</td>\n",
              "      <td>78</td>\n",
              "      <td>30</td>\n",
              "      <td>100</td>\n",
              "      <td>30.9</td>\n",
              "      <td>0.164</td>\n",
              "      <td>45</td>\n",
              "    </tr>\n",
              "    <tr>\n",
              "      <th>2</th>\n",
              "      <td>6</td>\n",
              "      <td>165</td>\n",
              "      <td>68</td>\n",
              "      <td>26</td>\n",
              "      <td>168</td>\n",
              "      <td>33.6</td>\n",
              "      <td>0.631</td>\n",
              "      <td>49</td>\n",
              "    </tr>\n",
              "    <tr>\n",
              "      <th>3</th>\n",
              "      <td>1</td>\n",
              "      <td>99</td>\n",
              "      <td>58</td>\n",
              "      <td>10</td>\n",
              "      <td>0</td>\n",
              "      <td>25.4</td>\n",
              "      <td>0.551</td>\n",
              "      <td>21</td>\n",
              "    </tr>\n",
              "    <tr>\n",
              "      <th>4</th>\n",
              "      <td>10</td>\n",
              "      <td>68</td>\n",
              "      <td>106</td>\n",
              "      <td>23</td>\n",
              "      <td>49</td>\n",
              "      <td>35.5</td>\n",
              "      <td>0.285</td>\n",
              "      <td>47</td>\n",
              "    </tr>\n",
              "  </tbody>\n",
              "</table>\n",
              "</div>\n",
              "      <button class=\"colab-df-convert\" onclick=\"convertToInteractive('df-864bbd58-ca46-4bcc-aa57-f96cab6d6cb8')\"\n",
              "              title=\"Convert this dataframe to an interactive table.\"\n",
              "              style=\"display:none;\">\n",
              "        \n",
              "  <svg xmlns=\"http://www.w3.org/2000/svg\" height=\"24px\"viewBox=\"0 0 24 24\"\n",
              "       width=\"24px\">\n",
              "    <path d=\"M0 0h24v24H0V0z\" fill=\"none\"/>\n",
              "    <path d=\"M18.56 5.44l.94 2.06.94-2.06 2.06-.94-2.06-.94-.94-2.06-.94 2.06-2.06.94zm-11 1L8.5 8.5l.94-2.06 2.06-.94-2.06-.94L8.5 2.5l-.94 2.06-2.06.94zm10 10l.94 2.06.94-2.06 2.06-.94-2.06-.94-.94-2.06-.94 2.06-2.06.94z\"/><path d=\"M17.41 7.96l-1.37-1.37c-.4-.4-.92-.59-1.43-.59-.52 0-1.04.2-1.43.59L10.3 9.45l-7.72 7.72c-.78.78-.78 2.05 0 2.83L4 21.41c.39.39.9.59 1.41.59.51 0 1.02-.2 1.41-.59l7.78-7.78 2.81-2.81c.8-.78.8-2.07 0-2.86zM5.41 20L4 18.59l7.72-7.72 1.47 1.35L5.41 20z\"/>\n",
              "  </svg>\n",
              "      </button>\n",
              "      \n",
              "  <style>\n",
              "    .colab-df-container {\n",
              "      display:flex;\n",
              "      flex-wrap:wrap;\n",
              "      gap: 12px;\n",
              "    }\n",
              "\n",
              "    .colab-df-convert {\n",
              "      background-color: #E8F0FE;\n",
              "      border: none;\n",
              "      border-radius: 50%;\n",
              "      cursor: pointer;\n",
              "      display: none;\n",
              "      fill: #1967D2;\n",
              "      height: 32px;\n",
              "      padding: 0 0 0 0;\n",
              "      width: 32px;\n",
              "    }\n",
              "\n",
              "    .colab-df-convert:hover {\n",
              "      background-color: #E2EBFA;\n",
              "      box-shadow: 0px 1px 2px rgba(60, 64, 67, 0.3), 0px 1px 3px 1px rgba(60, 64, 67, 0.15);\n",
              "      fill: #174EA6;\n",
              "    }\n",
              "\n",
              "    [theme=dark] .colab-df-convert {\n",
              "      background-color: #3B4455;\n",
              "      fill: #D2E3FC;\n",
              "    }\n",
              "\n",
              "    [theme=dark] .colab-df-convert:hover {\n",
              "      background-color: #434B5C;\n",
              "      box-shadow: 0px 1px 3px 1px rgba(0, 0, 0, 0.15);\n",
              "      filter: drop-shadow(0px 1px 2px rgba(0, 0, 0, 0.3));\n",
              "      fill: #FFFFFF;\n",
              "    }\n",
              "  </style>\n",
              "\n",
              "      <script>\n",
              "        const buttonEl =\n",
              "          document.querySelector('#df-864bbd58-ca46-4bcc-aa57-f96cab6d6cb8 button.colab-df-convert');\n",
              "        buttonEl.style.display =\n",
              "          google.colab.kernel.accessAllowed ? 'block' : 'none';\n",
              "\n",
              "        async function convertToInteractive(key) {\n",
              "          const element = document.querySelector('#df-864bbd58-ca46-4bcc-aa57-f96cab6d6cb8');\n",
              "          const dataTable =\n",
              "            await google.colab.kernel.invokeFunction('convertToInteractive',\n",
              "                                                     [key], {});\n",
              "          if (!dataTable) return;\n",
              "\n",
              "          const docLinkHtml = 'Like what you see? Visit the ' +\n",
              "            '<a target=\"_blank\" href=https://colab.research.google.com/notebooks/data_table.ipynb>data table notebook</a>'\n",
              "            + ' to learn more about interactive tables.';\n",
              "          element.innerHTML = '';\n",
              "          dataTable['output_type'] = 'display_data';\n",
              "          await google.colab.output.renderOutput(dataTable, element);\n",
              "          const docLink = document.createElement('div');\n",
              "          docLink.innerHTML = docLinkHtml;\n",
              "          element.appendChild(docLink);\n",
              "        }\n",
              "      </script>\n",
              "    </div>\n",
              "  </div>\n",
              "  "
            ]
          },
          "metadata": {},
          "execution_count": 38
        }
      ]
    },
    {
      "cell_type": "code",
      "source": [
        "test_pred = model1.predict(X_test1)\n",
        "print(test_pred)\n",
        "\n",
        "test_pred_categorical = [1 if pred > 0.5 else 0 for pred in test_pred]\n",
        "print(test_pred_categorical)\n",
        "\n",
        "test_pred_encoded = le.inverse_transform(test_pred_categorical)\n",
        "print(test_pred_encoded)\n",
        "     "
      ],
      "metadata": {
        "colab": {
          "base_uri": "https://localhost:8080/"
        },
        "id": "-CP4JUulhKZK",
        "outputId": "012bc851-dcc1-43d6-9e2a-e4bc82bb7b46"
      },
      "execution_count": 39,
      "outputs": [
        {
          "output_type": "stream",
          "name": "stdout",
          "text": [
            "4/4 [==============================] - 0s 4ms/step\n",
            "[[0.829433  ]\n",
            " [0.3793193 ]\n",
            " [0.47066936]\n",
            " [0.3736573 ]\n",
            " [0.01091327]\n",
            " [0.03428324]\n",
            " [0.04270543]\n",
            " [0.88625455]\n",
            " [0.4479746 ]\n",
            " [0.2333772 ]\n",
            " [0.5629207 ]\n",
            " [0.56320316]\n",
            " [0.21177492]\n",
            " [0.555544  ]\n",
            " [0.07426789]\n",
            " [0.30744937]\n",
            " [0.02372673]\n",
            " [0.43929508]\n",
            " [0.58493   ]\n",
            " [0.4794689 ]\n",
            " [0.5943381 ]\n",
            " [0.6156294 ]\n",
            " [0.22762671]\n",
            " [0.19727933]\n",
            " [0.2271787 ]\n",
            " [0.6358628 ]\n",
            " [0.27899948]\n",
            " [0.8893153 ]\n",
            " [0.51133126]\n",
            " [0.48560727]\n",
            " [0.191383  ]\n",
            " [0.30510154]\n",
            " [0.3701251 ]\n",
            " [0.28944406]\n",
            " [0.41088393]\n",
            " [0.15501861]\n",
            " [0.2656454 ]\n",
            " [0.08820346]\n",
            " [0.31642267]\n",
            " [0.17054103]\n",
            " [0.6071146 ]\n",
            " [0.23891953]\n",
            " [0.30477408]\n",
            " [0.28392506]\n",
            " [0.53441274]\n",
            " [0.54873604]\n",
            " [0.19549747]\n",
            " [0.71205527]\n",
            " [0.5463616 ]\n",
            " [0.1545298 ]\n",
            " [0.47787943]\n",
            " [0.11141793]\n",
            " [0.07071411]\n",
            " [0.29665723]\n",
            " [0.33525836]\n",
            " [0.3493229 ]\n",
            " [0.07779095]\n",
            " [0.195673  ]\n",
            " [0.30194125]\n",
            " [0.39078116]\n",
            " [0.67340565]\n",
            " [0.3571123 ]\n",
            " [0.23624612]\n",
            " [0.293936  ]\n",
            " [0.37148416]\n",
            " [0.46624625]\n",
            " [0.13151214]\n",
            " [0.29248118]\n",
            " [0.24501531]\n",
            " [0.0973774 ]\n",
            " [0.17301866]\n",
            " [0.12611297]\n",
            " [0.56983   ]\n",
            " [0.3681796 ]\n",
            " [0.27953106]\n",
            " [0.24843515]\n",
            " [0.23896636]\n",
            " [0.6972366 ]\n",
            " [0.25743276]\n",
            " [0.08815063]\n",
            " [0.51700956]\n",
            " [0.4315072 ]\n",
            " [0.53785765]\n",
            " [0.17036384]\n",
            " [0.4134274 ]\n",
            " [0.5148365 ]\n",
            " [0.54320264]\n",
            " [0.4067347 ]\n",
            " [0.30320787]\n",
            " [0.20892346]\n",
            " [0.18205045]\n",
            " [0.35813624]\n",
            " [0.27248776]\n",
            " [0.6777213 ]\n",
            " [0.29008868]\n",
            " [0.93142456]\n",
            " [0.36634308]\n",
            " [0.34871095]\n",
            " [0.3140308 ]\n",
            " [0.20633763]]\n",
            "[1, 0, 0, 0, 0, 0, 0, 1, 0, 0, 1, 1, 0, 1, 0, 0, 0, 0, 1, 0, 1, 1, 0, 0, 0, 1, 0, 1, 1, 0, 0, 0, 0, 0, 0, 0, 0, 0, 0, 0, 1, 0, 0, 0, 1, 1, 0, 1, 1, 0, 0, 0, 0, 0, 0, 0, 0, 0, 0, 0, 1, 0, 0, 0, 0, 0, 0, 0, 0, 0, 0, 0, 1, 0, 0, 0, 0, 1, 0, 0, 1, 0, 1, 0, 0, 1, 1, 0, 0, 0, 0, 0, 0, 1, 0, 1, 0, 0, 0, 0]\n",
            "[1 0 0 0 0 0 0 1 0 0 1 1 0 1 0 0 0 0 1 0 1 1 0 0 0 1 0 1 1 0 0 0 0 0 0 0 0\n",
            " 0 0 0 1 0 0 0 1 1 0 1 1 0 0 0 0 0 0 0 0 0 0 0 1 0 0 0 0 0 0 0 0 0 0 0 1 0\n",
            " 0 0 0 1 0 0 1 0 1 0 0 1 1 0 0 0 0 0 0 1 0 1 0 0 0 0]\n"
          ]
        }
      ]
    },
    {
      "cell_type": "markdown",
      "source": [
        "#M2\n",
        "\n",
        "Building a more complex module"
      ],
      "metadata": {
        "id": "K99MR8cahhpI"
      }
    },
    {
      "cell_type": "code",
      "source": [
        "# clear session\n",
        "keras.backend.clear_session()\n",
        "\n",
        "# set random seed\n",
        "keras.utils.set_random_seed(seed) # set all random seeds for the program (Python, NumPy, and TensorFlow) "
      ],
      "metadata": {
        "id": "jF4A31ZhhPCi"
      },
      "execution_count": 40,
      "outputs": []
    },
    {
      "cell_type": "code",
      "source": [
        "X.head()"
      ],
      "metadata": {
        "colab": {
          "base_uri": "https://localhost:8080/",
          "height": 206
        },
        "id": "xydK5uk6hw_R",
        "outputId": "f17783a3-fe7c-450a-e51b-b17f03549314"
      },
      "execution_count": 43,
      "outputs": [
        {
          "output_type": "execute_result",
          "data": {
            "text/plain": [
              "   A1   A2  A3  A4   A5    A6     A7  A8\n",
              "0   6  148  72  35    0  33.6  0.627  50\n",
              "1   1   85  66  29    0  26.6  0.351  31\n",
              "2   8  183  64   0    0  23.3  0.672  32\n",
              "3   1   89  66  23   94  28.1  0.167  21\n",
              "4   0  137  40  35  168  43.1  2.288  33"
            ],
            "text/html": [
              "\n",
              "  <div id=\"df-ce23bacc-0e18-4a60-b9e6-bd7425620906\">\n",
              "    <div class=\"colab-df-container\">\n",
              "      <div>\n",
              "<style scoped>\n",
              "    .dataframe tbody tr th:only-of-type {\n",
              "        vertical-align: middle;\n",
              "    }\n",
              "\n",
              "    .dataframe tbody tr th {\n",
              "        vertical-align: top;\n",
              "    }\n",
              "\n",
              "    .dataframe thead th {\n",
              "        text-align: right;\n",
              "    }\n",
              "</style>\n",
              "<table border=\"1\" class=\"dataframe\">\n",
              "  <thead>\n",
              "    <tr style=\"text-align: right;\">\n",
              "      <th></th>\n",
              "      <th>A1</th>\n",
              "      <th>A2</th>\n",
              "      <th>A3</th>\n",
              "      <th>A4</th>\n",
              "      <th>A5</th>\n",
              "      <th>A6</th>\n",
              "      <th>A7</th>\n",
              "      <th>A8</th>\n",
              "    </tr>\n",
              "  </thead>\n",
              "  <tbody>\n",
              "    <tr>\n",
              "      <th>0</th>\n",
              "      <td>6</td>\n",
              "      <td>148</td>\n",
              "      <td>72</td>\n",
              "      <td>35</td>\n",
              "      <td>0</td>\n",
              "      <td>33.6</td>\n",
              "      <td>0.627</td>\n",
              "      <td>50</td>\n",
              "    </tr>\n",
              "    <tr>\n",
              "      <th>1</th>\n",
              "      <td>1</td>\n",
              "      <td>85</td>\n",
              "      <td>66</td>\n",
              "      <td>29</td>\n",
              "      <td>0</td>\n",
              "      <td>26.6</td>\n",
              "      <td>0.351</td>\n",
              "      <td>31</td>\n",
              "    </tr>\n",
              "    <tr>\n",
              "      <th>2</th>\n",
              "      <td>8</td>\n",
              "      <td>183</td>\n",
              "      <td>64</td>\n",
              "      <td>0</td>\n",
              "      <td>0</td>\n",
              "      <td>23.3</td>\n",
              "      <td>0.672</td>\n",
              "      <td>32</td>\n",
              "    </tr>\n",
              "    <tr>\n",
              "      <th>3</th>\n",
              "      <td>1</td>\n",
              "      <td>89</td>\n",
              "      <td>66</td>\n",
              "      <td>23</td>\n",
              "      <td>94</td>\n",
              "      <td>28.1</td>\n",
              "      <td>0.167</td>\n",
              "      <td>21</td>\n",
              "    </tr>\n",
              "    <tr>\n",
              "      <th>4</th>\n",
              "      <td>0</td>\n",
              "      <td>137</td>\n",
              "      <td>40</td>\n",
              "      <td>35</td>\n",
              "      <td>168</td>\n",
              "      <td>43.1</td>\n",
              "      <td>2.288</td>\n",
              "      <td>33</td>\n",
              "    </tr>\n",
              "  </tbody>\n",
              "</table>\n",
              "</div>\n",
              "      <button class=\"colab-df-convert\" onclick=\"convertToInteractive('df-ce23bacc-0e18-4a60-b9e6-bd7425620906')\"\n",
              "              title=\"Convert this dataframe to an interactive table.\"\n",
              "              style=\"display:none;\">\n",
              "        \n",
              "  <svg xmlns=\"http://www.w3.org/2000/svg\" height=\"24px\"viewBox=\"0 0 24 24\"\n",
              "       width=\"24px\">\n",
              "    <path d=\"M0 0h24v24H0V0z\" fill=\"none\"/>\n",
              "    <path d=\"M18.56 5.44l.94 2.06.94-2.06 2.06-.94-2.06-.94-.94-2.06-.94 2.06-2.06.94zm-11 1L8.5 8.5l.94-2.06 2.06-.94-2.06-.94L8.5 2.5l-.94 2.06-2.06.94zm10 10l.94 2.06.94-2.06 2.06-.94-2.06-.94-.94-2.06-.94 2.06-2.06.94z\"/><path d=\"M17.41 7.96l-1.37-1.37c-.4-.4-.92-.59-1.43-.59-.52 0-1.04.2-1.43.59L10.3 9.45l-7.72 7.72c-.78.78-.78 2.05 0 2.83L4 21.41c.39.39.9.59 1.41.59.51 0 1.02-.2 1.41-.59l7.78-7.78 2.81-2.81c.8-.78.8-2.07 0-2.86zM5.41 20L4 18.59l7.72-7.72 1.47 1.35L5.41 20z\"/>\n",
              "  </svg>\n",
              "      </button>\n",
              "      \n",
              "  <style>\n",
              "    .colab-df-container {\n",
              "      display:flex;\n",
              "      flex-wrap:wrap;\n",
              "      gap: 12px;\n",
              "    }\n",
              "\n",
              "    .colab-df-convert {\n",
              "      background-color: #E8F0FE;\n",
              "      border: none;\n",
              "      border-radius: 50%;\n",
              "      cursor: pointer;\n",
              "      display: none;\n",
              "      fill: #1967D2;\n",
              "      height: 32px;\n",
              "      padding: 0 0 0 0;\n",
              "      width: 32px;\n",
              "    }\n",
              "\n",
              "    .colab-df-convert:hover {\n",
              "      background-color: #E2EBFA;\n",
              "      box-shadow: 0px 1px 2px rgba(60, 64, 67, 0.3), 0px 1px 3px 1px rgba(60, 64, 67, 0.15);\n",
              "      fill: #174EA6;\n",
              "    }\n",
              "\n",
              "    [theme=dark] .colab-df-convert {\n",
              "      background-color: #3B4455;\n",
              "      fill: #D2E3FC;\n",
              "    }\n",
              "\n",
              "    [theme=dark] .colab-df-convert:hover {\n",
              "      background-color: #434B5C;\n",
              "      box-shadow: 0px 1px 3px 1px rgba(0, 0, 0, 0.15);\n",
              "      filter: drop-shadow(0px 1px 2px rgba(0, 0, 0, 0.3));\n",
              "      fill: #FFFFFF;\n",
              "    }\n",
              "  </style>\n",
              "\n",
              "      <script>\n",
              "        const buttonEl =\n",
              "          document.querySelector('#df-ce23bacc-0e18-4a60-b9e6-bd7425620906 button.colab-df-convert');\n",
              "        buttonEl.style.display =\n",
              "          google.colab.kernel.accessAllowed ? 'block' : 'none';\n",
              "\n",
              "        async function convertToInteractive(key) {\n",
              "          const element = document.querySelector('#df-ce23bacc-0e18-4a60-b9e6-bd7425620906');\n",
              "          const dataTable =\n",
              "            await google.colab.kernel.invokeFunction('convertToInteractive',\n",
              "                                                     [key], {});\n",
              "          if (!dataTable) return;\n",
              "\n",
              "          const docLinkHtml = 'Like what you see? Visit the ' +\n",
              "            '<a target=\"_blank\" href=https://colab.research.google.com/notebooks/data_table.ipynb>data table notebook</a>'\n",
              "            + ' to learn more about interactive tables.';\n",
              "          element.innerHTML = '';\n",
              "          dataTable['output_type'] = 'display_data';\n",
              "          await google.colab.output.renderOutput(dataTable, element);\n",
              "          const docLink = document.createElement('div');\n",
              "          docLink.innerHTML = docLinkHtml;\n",
              "          element.appendChild(docLink);\n",
              "        }\n",
              "      </script>\n",
              "    </div>\n",
              "  </div>\n",
              "  "
            ]
          },
          "metadata": {},
          "execution_count": 43
        }
      ]
    },
    {
      "cell_type": "markdown",
      "source": [
        "Split Data"
      ],
      "metadata": {
        "id": "v20ggENMiKHH"
      }
    },
    {
      "cell_type": "code",
      "source": [
        "# split data to train and validation sets\n",
        "X_train2, X_val2, y_train2, y_val2 = train_test_split(X, y, test_size=0.3, random_state=100)\n",
        "print(f'training data set size: {len(X_train2)}')\n",
        "print(f'validation data set size: {len(X_val2)}')"
      ],
      "metadata": {
        "colab": {
          "base_uri": "https://localhost:8080/"
        },
        "id": "0yjoIuVBh1qR",
        "outputId": "db2d8244-e264-4383-a5eb-7e152c86b6dd"
      },
      "execution_count": 44,
      "outputs": [
        {
          "output_type": "stream",
          "name": "stdout",
          "text": [
            "training data set size: 467\n",
            "validation data set size: 201\n"
          ]
        }
      ]
    },
    {
      "cell_type": "markdown",
      "source": [
        "\n",
        "#Build Model"
      ],
      "metadata": {
        "id": "aBYE5sQqiU61"
      }
    },
    {
      "cell_type": "code",
      "source": [
        "# define the keras model\n",
        "model2 = keras.Sequential()\n",
        "model2.add(layers.Dense(64, input_dim=8, activation='relu'))\n",
        "model2.add(layers.Dense(32, activation='relu'))\n",
        "model2.add(layers.Dense(1, activation='sigmoid'))\n",
        "\n",
        "model2.summary()"
      ],
      "metadata": {
        "colab": {
          "base_uri": "https://localhost:8080/"
        },
        "id": "uGIcsvLniPld",
        "outputId": "b768e322-af55-4b85-ccb0-080788bfd036"
      },
      "execution_count": 49,
      "outputs": [
        {
          "output_type": "stream",
          "name": "stdout",
          "text": [
            "Model: \"sequential_1\"\n",
            "_________________________________________________________________\n",
            " Layer (type)                Output Shape              Param #   \n",
            "=================================================================\n",
            " dense_3 (Dense)             (None, 64)                576       \n",
            "                                                                 \n",
            " dense_4 (Dense)             (None, 32)                2080      \n",
            "                                                                 \n",
            " dense_5 (Dense)             (None, 1)                 33        \n",
            "                                                                 \n",
            "=================================================================\n",
            "Total params: 2,689\n",
            "Trainable params: 2,689\n",
            "Non-trainable params: 0\n",
            "_________________________________________________________________\n"
          ]
        }
      ]
    },
    {
      "cell_type": "code",
      "source": [
        "# compile the keras model\n",
        "model2.compile(loss='binary_crossentropy', optimizer='adam', metrics=['accuracy'])\n",
        "\n",
        "# train model\n",
        "model2.fit(X_train2, y_train2, batch_size=50, epochs=60, validation_data=(X_val2, y_val2))"
      ],
      "metadata": {
        "colab": {
          "base_uri": "https://localhost:8080/"
        },
        "id": "wmaJNBA2ib-5",
        "outputId": "90ddda2b-5b9e-482a-a05e-97c0608d5977"
      },
      "execution_count": 50,
      "outputs": [
        {
          "output_type": "stream",
          "name": "stdout",
          "text": [
            "Epoch 1/60\n",
            "10/10 [==============================] - 1s 29ms/step - loss: 3.5972 - accuracy: 0.4839 - val_loss: 1.8613 - val_accuracy: 0.4776\n",
            "Epoch 2/60\n",
            "10/10 [==============================] - 0s 7ms/step - loss: 1.7418 - accuracy: 0.4797 - val_loss: 1.3691 - val_accuracy: 0.6468\n",
            "Epoch 3/60\n",
            "10/10 [==============================] - 0s 7ms/step - loss: 1.0266 - accuracy: 0.5525 - val_loss: 0.7040 - val_accuracy: 0.6567\n",
            "Epoch 4/60\n",
            "10/10 [==============================] - 0s 8ms/step - loss: 0.7144 - accuracy: 0.6745 - val_loss: 0.6453 - val_accuracy: 0.6517\n",
            "Epoch 5/60\n",
            "10/10 [==============================] - 0s 8ms/step - loss: 0.7203 - accuracy: 0.6767 - val_loss: 0.6720 - val_accuracy: 0.6368\n",
            "Epoch 6/60\n",
            "10/10 [==============================] - 0s 8ms/step - loss: 0.6866 - accuracy: 0.6724 - val_loss: 0.7272 - val_accuracy: 0.6468\n",
            "Epoch 7/60\n",
            "10/10 [==============================] - 0s 8ms/step - loss: 0.6431 - accuracy: 0.6959 - val_loss: 0.6398 - val_accuracy: 0.6816\n",
            "Epoch 8/60\n",
            "10/10 [==============================] - 0s 8ms/step - loss: 0.6155 - accuracy: 0.6916 - val_loss: 0.6680 - val_accuracy: 0.6866\n",
            "Epoch 9/60\n",
            "10/10 [==============================] - 0s 6ms/step - loss: 0.5931 - accuracy: 0.7195 - val_loss: 0.6394 - val_accuracy: 0.7114\n",
            "Epoch 10/60\n",
            "10/10 [==============================] - 0s 8ms/step - loss: 0.6020 - accuracy: 0.6895 - val_loss: 0.6906 - val_accuracy: 0.6468\n",
            "Epoch 11/60\n",
            "10/10 [==============================] - 0s 8ms/step - loss: 0.5868 - accuracy: 0.7173 - val_loss: 0.6152 - val_accuracy: 0.7015\n",
            "Epoch 12/60\n",
            "10/10 [==============================] - 0s 8ms/step - loss: 0.5670 - accuracy: 0.7259 - val_loss: 0.6325 - val_accuracy: 0.6517\n",
            "Epoch 13/60\n",
            "10/10 [==============================] - 0s 7ms/step - loss: 0.5784 - accuracy: 0.7109 - val_loss: 0.6489 - val_accuracy: 0.6766\n",
            "Epoch 14/60\n",
            "10/10 [==============================] - 0s 8ms/step - loss: 0.5613 - accuracy: 0.7238 - val_loss: 0.6207 - val_accuracy: 0.6567\n",
            "Epoch 15/60\n",
            "10/10 [==============================] - 0s 8ms/step - loss: 0.5743 - accuracy: 0.7216 - val_loss: 0.6453 - val_accuracy: 0.6318\n",
            "Epoch 16/60\n",
            "10/10 [==============================] - 0s 7ms/step - loss: 0.5992 - accuracy: 0.7024 - val_loss: 0.7238 - val_accuracy: 0.5721\n",
            "Epoch 17/60\n",
            "10/10 [==============================] - 0s 9ms/step - loss: 0.5758 - accuracy: 0.6895 - val_loss: 0.6230 - val_accuracy: 0.6716\n",
            "Epoch 18/60\n",
            "10/10 [==============================] - 0s 9ms/step - loss: 0.5611 - accuracy: 0.7131 - val_loss: 0.6366 - val_accuracy: 0.6816\n",
            "Epoch 19/60\n",
            "10/10 [==============================] - 0s 6ms/step - loss: 0.5939 - accuracy: 0.7024 - val_loss: 0.6400 - val_accuracy: 0.6567\n",
            "Epoch 20/60\n",
            "10/10 [==============================] - 0s 8ms/step - loss: 0.5539 - accuracy: 0.6959 - val_loss: 0.6567 - val_accuracy: 0.6667\n",
            "Epoch 21/60\n",
            "10/10 [==============================] - 0s 9ms/step - loss: 0.5497 - accuracy: 0.7259 - val_loss: 0.6391 - val_accuracy: 0.6617\n",
            "Epoch 22/60\n",
            "10/10 [==============================] - 0s 6ms/step - loss: 0.5298 - accuracy: 0.7430 - val_loss: 0.6595 - val_accuracy: 0.7114\n",
            "Epoch 23/60\n",
            "10/10 [==============================] - 0s 7ms/step - loss: 0.5789 - accuracy: 0.7302 - val_loss: 0.8534 - val_accuracy: 0.6368\n",
            "Epoch 24/60\n",
            "10/10 [==============================] - 0s 8ms/step - loss: 0.6325 - accuracy: 0.7131 - val_loss: 0.6548 - val_accuracy: 0.6667\n",
            "Epoch 25/60\n",
            "10/10 [==============================] - 0s 7ms/step - loss: 0.5397 - accuracy: 0.7409 - val_loss: 0.6569 - val_accuracy: 0.6368\n",
            "Epoch 26/60\n",
            "10/10 [==============================] - 0s 6ms/step - loss: 0.5757 - accuracy: 0.6916 - val_loss: 0.6630 - val_accuracy: 0.6269\n",
            "Epoch 27/60\n",
            "10/10 [==============================] - 0s 6ms/step - loss: 0.5420 - accuracy: 0.7152 - val_loss: 0.6489 - val_accuracy: 0.6468\n",
            "Epoch 28/60\n",
            "10/10 [==============================] - 0s 7ms/step - loss: 0.5231 - accuracy: 0.7409 - val_loss: 0.6724 - val_accuracy: 0.6766\n",
            "Epoch 29/60\n",
            "10/10 [==============================] - 0s 10ms/step - loss: 0.5375 - accuracy: 0.7388 - val_loss: 0.6370 - val_accuracy: 0.6915\n",
            "Epoch 30/60\n",
            "10/10 [==============================] - 0s 12ms/step - loss: 0.5217 - accuracy: 0.7495 - val_loss: 0.6410 - val_accuracy: 0.6716\n",
            "Epoch 31/60\n",
            "10/10 [==============================] - 0s 10ms/step - loss: 0.5189 - accuracy: 0.7473 - val_loss: 0.7023 - val_accuracy: 0.6468\n",
            "Epoch 32/60\n",
            "10/10 [==============================] - 0s 10ms/step - loss: 0.5789 - accuracy: 0.7066 - val_loss: 0.6548 - val_accuracy: 0.6915\n",
            "Epoch 33/60\n",
            "10/10 [==============================] - 0s 9ms/step - loss: 0.5772 - accuracy: 0.7173 - val_loss: 0.6632 - val_accuracy: 0.7015\n",
            "Epoch 34/60\n",
            "10/10 [==============================] - 0s 9ms/step - loss: 0.5679 - accuracy: 0.7259 - val_loss: 0.6743 - val_accuracy: 0.6915\n",
            "Epoch 35/60\n",
            "10/10 [==============================] - 0s 10ms/step - loss: 0.5298 - accuracy: 0.7345 - val_loss: 0.7084 - val_accuracy: 0.6418\n",
            "Epoch 36/60\n",
            "10/10 [==============================] - 0s 10ms/step - loss: 0.5783 - accuracy: 0.7066 - val_loss: 0.6449 - val_accuracy: 0.6617\n",
            "Epoch 37/60\n",
            "10/10 [==============================] - 0s 10ms/step - loss: 0.5302 - accuracy: 0.7259 - val_loss: 0.6495 - val_accuracy: 0.7015\n",
            "Epoch 38/60\n",
            "10/10 [==============================] - 0s 9ms/step - loss: 0.5223 - accuracy: 0.7473 - val_loss: 0.6537 - val_accuracy: 0.6617\n",
            "Epoch 39/60\n",
            "10/10 [==============================] - 0s 9ms/step - loss: 0.5158 - accuracy: 0.7388 - val_loss: 0.6915 - val_accuracy: 0.6667\n",
            "Epoch 40/60\n",
            "10/10 [==============================] - 0s 11ms/step - loss: 0.5089 - accuracy: 0.7516 - val_loss: 0.6515 - val_accuracy: 0.6915\n",
            "Epoch 41/60\n",
            "10/10 [==============================] - 0s 9ms/step - loss: 0.5124 - accuracy: 0.7302 - val_loss: 0.6514 - val_accuracy: 0.6318\n",
            "Epoch 42/60\n",
            "10/10 [==============================] - 0s 10ms/step - loss: 0.5010 - accuracy: 0.7537 - val_loss: 0.6512 - val_accuracy: 0.6866\n",
            "Epoch 43/60\n",
            "10/10 [==============================] - 0s 9ms/step - loss: 0.5276 - accuracy: 0.7366 - val_loss: 0.6567 - val_accuracy: 0.6468\n",
            "Epoch 44/60\n",
            "10/10 [==============================] - 0s 9ms/step - loss: 0.5630 - accuracy: 0.7152 - val_loss: 0.7103 - val_accuracy: 0.5970\n",
            "Epoch 45/60\n",
            "10/10 [==============================] - 0s 9ms/step - loss: 0.5117 - accuracy: 0.7537 - val_loss: 0.6321 - val_accuracy: 0.6866\n",
            "Epoch 46/60\n",
            "10/10 [==============================] - 0s 9ms/step - loss: 0.5037 - accuracy: 0.7430 - val_loss: 0.6708 - val_accuracy: 0.6368\n",
            "Epoch 47/60\n",
            "10/10 [==============================] - 0s 10ms/step - loss: 0.5145 - accuracy: 0.7323 - val_loss: 0.6492 - val_accuracy: 0.6766\n",
            "Epoch 48/60\n",
            "10/10 [==============================] - 0s 9ms/step - loss: 0.5307 - accuracy: 0.7366 - val_loss: 0.7117 - val_accuracy: 0.7015\n",
            "Epoch 49/60\n",
            "10/10 [==============================] - 0s 11ms/step - loss: 0.5067 - accuracy: 0.7602 - val_loss: 0.6780 - val_accuracy: 0.6766\n",
            "Epoch 50/60\n",
            "10/10 [==============================] - 0s 10ms/step - loss: 0.5160 - accuracy: 0.7323 - val_loss: 0.7056 - val_accuracy: 0.6816\n",
            "Epoch 51/60\n",
            "10/10 [==============================] - 0s 10ms/step - loss: 0.4956 - accuracy: 0.7602 - val_loss: 0.6230 - val_accuracy: 0.7015\n",
            "Epoch 52/60\n",
            "10/10 [==============================] - 0s 8ms/step - loss: 0.5282 - accuracy: 0.7345 - val_loss: 0.6489 - val_accuracy: 0.6915\n",
            "Epoch 53/60\n",
            "10/10 [==============================] - 0s 8ms/step - loss: 0.5613 - accuracy: 0.6981 - val_loss: 0.7955 - val_accuracy: 0.6269\n",
            "Epoch 54/60\n",
            "10/10 [==============================] - 0s 9ms/step - loss: 0.5561 - accuracy: 0.7173 - val_loss: 0.6734 - val_accuracy: 0.6368\n",
            "Epoch 55/60\n",
            "10/10 [==============================] - 0s 10ms/step - loss: 0.5479 - accuracy: 0.7173 - val_loss: 0.6693 - val_accuracy: 0.6915\n",
            "Epoch 56/60\n",
            "10/10 [==============================] - 0s 8ms/step - loss: 0.6026 - accuracy: 0.7088 - val_loss: 0.6931 - val_accuracy: 0.6766\n",
            "Epoch 57/60\n",
            "10/10 [==============================] - 0s 9ms/step - loss: 0.5011 - accuracy: 0.7473 - val_loss: 0.6683 - val_accuracy: 0.6866\n",
            "Epoch 58/60\n",
            "10/10 [==============================] - 0s 11ms/step - loss: 0.5102 - accuracy: 0.7345 - val_loss: 0.6459 - val_accuracy: 0.6915\n",
            "Epoch 59/60\n",
            "10/10 [==============================] - 0s 10ms/step - loss: 0.4860 - accuracy: 0.7430 - val_loss: 0.6209 - val_accuracy: 0.6965\n",
            "Epoch 60/60\n",
            "10/10 [==============================] - 0s 10ms/step - loss: 0.4790 - accuracy: 0.7559 - val_loss: 0.6334 - val_accuracy: 0.6816\n"
          ]
        },
        {
          "output_type": "execute_result",
          "data": {
            "text/plain": [
              "<keras.callbacks.History at 0x7f6b4bdd6cd0>"
            ]
          },
          "metadata": {},
          "execution_count": 50
        }
      ]
    },
    {
      "cell_type": "code",
      "source": [],
      "metadata": {
        "id": "U-ltfvMNihrZ"
      },
      "execution_count": null,
      "outputs": []
    }
  ]
}