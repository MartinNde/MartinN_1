{
  "nbformat": 4,
  "nbformat_minor": 0,
  "metadata": {
    "colab": {
      "provenance": [],
      "authorship_tag": "ABX9TyOJQJ+r53oOKUhKKe8z3MJ0",
      "include_colab_link": true
    },
    "kernelspec": {
      "name": "python3",
      "display_name": "Python 3"
    },
    "language_info": {
      "name": "python"
    }
  },
  "cells": [
    {
      "cell_type": "markdown",
      "metadata": {
        "id": "view-in-github",
        "colab_type": "text"
      },
      "source": [
        "<a href=\"https://colab.research.google.com/github/MartinNde/MartinN_1/blob/main/NLP_Applied_AI_competition_.ipynb\" target=\"_parent\"><img src=\"https://colab.research.google.com/assets/colab-badge.svg\" alt=\"Open In Colab\"/></a>"
      ]
    },
    {
      "cell_type": "markdown",
      "source": [
        "##**Importing** libraries"
      ],
      "metadata": {
        "id": "Eta8EpyIQMil"
      }
    },
    {
      "cell_type": "markdown",
      "source": [
        "The libraries are the various tools required for manipulating and visualising data. Rendering the data in a format that can be loaded into a machine learning module. A clean and well formatted data will give rise to good predictions."
      ],
      "metadata": {
        "id": "y8WL4sHj4fse"
      }
    },
    {
      "cell_type": "code",
      "execution_count": 69,
      "metadata": {
        "id": "ai62NvPc44jA",
        "colab": {
          "base_uri": "https://localhost:8080/"
        },
        "outputId": "a42c5cdb-7ca9-4bfc-d698-eaa1c6339fae"
      },
      "outputs": [
        {
          "output_type": "stream",
          "name": "stderr",
          "text": [
            "[nltk_data] Downloading package punkt to /root/nltk_data...\n",
            "[nltk_data]   Package punkt is already up-to-date!\n",
            "[nltk_data] Downloading package wordnet to /root/nltk_data...\n",
            "[nltk_data]   Package wordnet is already up-to-date!\n",
            "[nltk_data] Downloading package omw-1.4 to /root/nltk_data...\n",
            "[nltk_data]   Package omw-1.4 is already up-to-date!\n",
            "[nltk_data] Downloading package stopwords to /root/nltk_data...\n",
            "[nltk_data]   Package stopwords is already up-to-date!\n"
          ]
        }
      ],
      "source": [
        "# import libraries\n",
        "import pandas as pd\n",
        "import numpy as np\n",
        "\n",
        "# libraries for data preprocessing\n",
        "import nltk\n",
        "# download modules available with NLTK\n",
        "nltk.download('punkt')\n",
        "nltk.download('wordnet')\n",
        "nltk.download('omw-1.4')\n",
        "nltk.download('stopwords')\n",
        "\n",
        "from nltk.tokenize import word_tokenize\n",
        "from nltk.stem import WordNetLemmatizer\n",
        "from nltk.corpus import stopwords\n",
        "\n",
        "# libraries for data split and feature extraction\n",
        "from sklearn.model_selection import train_test_split\n",
        "from sklearn.feature_extraction.text import CountVectorizer\n",
        "from sklearn.feature_extraction.text import TfidfVectorizer\n",
        "\n",
        "# library for evaluation\n",
        "from sklearn import metrics\n",
        "\n",
        "# libraries for ML algorithms\n",
        "from sklearn import svm\n",
        "from sklearn import tree\n",
        "from sklearn.naive_bayes import GaussianNB\n",
        "from nltk.tokenize import TweetTokenizer\n",
        "from nltk.stem import PorterStemmer\n",
        "\n",
        "# libraries for data plotting\n",
        "import seaborn as sns\n",
        "import matplotlib.pyplot as plt \n",
        "import re\n",
        "import string\n",
        "\n",
        "\n",
        "RANDOM_SEED = 100\n"
      ]
    },
    {
      "cell_type": "code",
      "source": [
        "from google.colab import drive\n",
        "drive.mount('/content/drive')\n"
      ],
      "metadata": {
        "id": "ZV-1o4DA-uk-",
        "colab": {
          "base_uri": "https://localhost:8080/"
        },
        "outputId": "6f55d20b-6006-44b2-993a-29ec2cad08a9"
      },
      "execution_count": 70,
      "outputs": [
        {
          "output_type": "stream",
          "name": "stdout",
          "text": [
            "Drive already mounted at /content/drive; to attempt to forcibly remount, call drive.mount(\"/content/drive\", force_remount=True).\n"
          ]
        }
      ]
    },
    {
      "cell_type": "markdown",
      "source": [
        "##Understanding the problem and dataset\n",
        "\n",
        "The target is to predict sentiment of new tweets which could either be positive or negative.\n",
        "\n",
        "The first step is to load and view the data set and the plot this on a graph to see the number of positives and negative visually."
      ],
      "metadata": {
        "id": "81TjdK58u6VX"
      }
    },
    {
      "cell_type": "code",
      "source": [
        "df = pd.read_csv('/content/train.csv')"
      ],
      "metadata": {
        "id": "kObuQv4znJT3"
      },
      "execution_count": 71,
      "outputs": []
    },
    {
      "cell_type": "code",
      "source": [
        "df.head()"
      ],
      "metadata": {
        "id": "TANSfz-Rn20Y",
        "colab": {
          "base_uri": "https://localhost:8080/",
          "height": 206
        },
        "outputId": "13fe86bb-fd26-42f3-f8db-d55e42aad99d"
      },
      "execution_count": 72,
      "outputs": [
        {
          "output_type": "execute_result",
          "data": {
            "text/plain": [
              "           id                                               text sentiment\n",
              "0  549e992a42      Sooo SAD I will miss you here in San Diego!!!  negative\n",
              "1  088c60f138                          my boss is bullying me...  negative\n",
              "2  9642c003ef                     what interview! leave me alone  negative\n",
              "3  358bd9e861   Sons of ****, why couldn`t they put them on t...  negative\n",
              "4  6e0c6d75b1  2am feedings for the baby are fun when he is a...  positive"
            ],
            "text/html": [
              "\n",
              "  <div id=\"df-09e06d1d-0287-4d42-9bd1-40078962a1a3\">\n",
              "    <div class=\"colab-df-container\">\n",
              "      <div>\n",
              "<style scoped>\n",
              "    .dataframe tbody tr th:only-of-type {\n",
              "        vertical-align: middle;\n",
              "    }\n",
              "\n",
              "    .dataframe tbody tr th {\n",
              "        vertical-align: top;\n",
              "    }\n",
              "\n",
              "    .dataframe thead th {\n",
              "        text-align: right;\n",
              "    }\n",
              "</style>\n",
              "<table border=\"1\" class=\"dataframe\">\n",
              "  <thead>\n",
              "    <tr style=\"text-align: right;\">\n",
              "      <th></th>\n",
              "      <th>id</th>\n",
              "      <th>text</th>\n",
              "      <th>sentiment</th>\n",
              "    </tr>\n",
              "  </thead>\n",
              "  <tbody>\n",
              "    <tr>\n",
              "      <th>0</th>\n",
              "      <td>549e992a42</td>\n",
              "      <td>Sooo SAD I will miss you here in San Diego!!!</td>\n",
              "      <td>negative</td>\n",
              "    </tr>\n",
              "    <tr>\n",
              "      <th>1</th>\n",
              "      <td>088c60f138</td>\n",
              "      <td>my boss is bullying me...</td>\n",
              "      <td>negative</td>\n",
              "    </tr>\n",
              "    <tr>\n",
              "      <th>2</th>\n",
              "      <td>9642c003ef</td>\n",
              "      <td>what interview! leave me alone</td>\n",
              "      <td>negative</td>\n",
              "    </tr>\n",
              "    <tr>\n",
              "      <th>3</th>\n",
              "      <td>358bd9e861</td>\n",
              "      <td>Sons of ****, why couldn`t they put them on t...</td>\n",
              "      <td>negative</td>\n",
              "    </tr>\n",
              "    <tr>\n",
              "      <th>4</th>\n",
              "      <td>6e0c6d75b1</td>\n",
              "      <td>2am feedings for the baby are fun when he is a...</td>\n",
              "      <td>positive</td>\n",
              "    </tr>\n",
              "  </tbody>\n",
              "</table>\n",
              "</div>\n",
              "      <button class=\"colab-df-convert\" onclick=\"convertToInteractive('df-09e06d1d-0287-4d42-9bd1-40078962a1a3')\"\n",
              "              title=\"Convert this dataframe to an interactive table.\"\n",
              "              style=\"display:none;\">\n",
              "        \n",
              "  <svg xmlns=\"http://www.w3.org/2000/svg\" height=\"24px\"viewBox=\"0 0 24 24\"\n",
              "       width=\"24px\">\n",
              "    <path d=\"M0 0h24v24H0V0z\" fill=\"none\"/>\n",
              "    <path d=\"M18.56 5.44l.94 2.06.94-2.06 2.06-.94-2.06-.94-.94-2.06-.94 2.06-2.06.94zm-11 1L8.5 8.5l.94-2.06 2.06-.94-2.06-.94L8.5 2.5l-.94 2.06-2.06.94zm10 10l.94 2.06.94-2.06 2.06-.94-2.06-.94-.94-2.06-.94 2.06-2.06.94z\"/><path d=\"M17.41 7.96l-1.37-1.37c-.4-.4-.92-.59-1.43-.59-.52 0-1.04.2-1.43.59L10.3 9.45l-7.72 7.72c-.78.78-.78 2.05 0 2.83L4 21.41c.39.39.9.59 1.41.59.51 0 1.02-.2 1.41-.59l7.78-7.78 2.81-2.81c.8-.78.8-2.07 0-2.86zM5.41 20L4 18.59l7.72-7.72 1.47 1.35L5.41 20z\"/>\n",
              "  </svg>\n",
              "      </button>\n",
              "      \n",
              "  <style>\n",
              "    .colab-df-container {\n",
              "      display:flex;\n",
              "      flex-wrap:wrap;\n",
              "      gap: 12px;\n",
              "    }\n",
              "\n",
              "    .colab-df-convert {\n",
              "      background-color: #E8F0FE;\n",
              "      border: none;\n",
              "      border-radius: 50%;\n",
              "      cursor: pointer;\n",
              "      display: none;\n",
              "      fill: #1967D2;\n",
              "      height: 32px;\n",
              "      padding: 0 0 0 0;\n",
              "      width: 32px;\n",
              "    }\n",
              "\n",
              "    .colab-df-convert:hover {\n",
              "      background-color: #E2EBFA;\n",
              "      box-shadow: 0px 1px 2px rgba(60, 64, 67, 0.3), 0px 1px 3px 1px rgba(60, 64, 67, 0.15);\n",
              "      fill: #174EA6;\n",
              "    }\n",
              "\n",
              "    [theme=dark] .colab-df-convert {\n",
              "      background-color: #3B4455;\n",
              "      fill: #D2E3FC;\n",
              "    }\n",
              "\n",
              "    [theme=dark] .colab-df-convert:hover {\n",
              "      background-color: #434B5C;\n",
              "      box-shadow: 0px 1px 3px 1px rgba(0, 0, 0, 0.15);\n",
              "      filter: drop-shadow(0px 1px 2px rgba(0, 0, 0, 0.3));\n",
              "      fill: #FFFFFF;\n",
              "    }\n",
              "  </style>\n",
              "\n",
              "      <script>\n",
              "        const buttonEl =\n",
              "          document.querySelector('#df-09e06d1d-0287-4d42-9bd1-40078962a1a3 button.colab-df-convert');\n",
              "        buttonEl.style.display =\n",
              "          google.colab.kernel.accessAllowed ? 'block' : 'none';\n",
              "\n",
              "        async function convertToInteractive(key) {\n",
              "          const element = document.querySelector('#df-09e06d1d-0287-4d42-9bd1-40078962a1a3');\n",
              "          const dataTable =\n",
              "            await google.colab.kernel.invokeFunction('convertToInteractive',\n",
              "                                                     [key], {});\n",
              "          if (!dataTable) return;\n",
              "\n",
              "          const docLinkHtml = 'Like what you see? Visit the ' +\n",
              "            '<a target=\"_blank\" href=https://colab.research.google.com/notebooks/data_table.ipynb>data table notebook</a>'\n",
              "            + ' to learn more about interactive tables.';\n",
              "          element.innerHTML = '';\n",
              "          dataTable['output_type'] = 'display_data';\n",
              "          await google.colab.output.renderOutput(dataTable, element);\n",
              "          const docLink = document.createElement('div');\n",
              "          docLink.innerHTML = docLinkHtml;\n",
              "          element.appendChild(docLink);\n",
              "        }\n",
              "      </script>\n",
              "    </div>\n",
              "  </div>\n",
              "  "
            ]
          },
          "metadata": {},
          "execution_count": 72
        }
      ]
    },
    {
      "cell_type": "code",
      "source": [
        "print(df.shape)"
      ],
      "metadata": {
        "id": "Iwdr6kn_umbt",
        "colab": {
          "base_uri": "https://localhost:8080/"
        },
        "outputId": "87ea7fc7-2e69-4848-ce0a-08092d7961d7"
      },
      "execution_count": 73,
      "outputs": [
        {
          "output_type": "stream",
          "name": "stdout",
          "text": [
            "(16363, 3)\n"
          ]
        }
      ]
    },
    {
      "cell_type": "code",
      "source": [
        "# Summarise class details\n",
        "sns.countplot(x=df['sentiment'])"
      ],
      "metadata": {
        "id": "7zfi_5jZwBf4",
        "colab": {
          "base_uri": "https://localhost:8080/",
          "height": 297
        },
        "outputId": "cdc468d1-d857-4a3b-aa78-bd933d251613"
      },
      "execution_count": 74,
      "outputs": [
        {
          "output_type": "execute_result",
          "data": {
            "text/plain": [
              "<matplotlib.axes._subplots.AxesSubplot at 0x7f0a929bd100>"
            ]
          },
          "metadata": {},
          "execution_count": 74
        },
        {
          "output_type": "display_data",
          "data": {
            "text/plain": [
              "<Figure size 432x288 with 1 Axes>"
            ],
            "image/png": "[encoded data removed]"
          },
          "metadata": {
            "needs_background": "light"
          }
        }
      ]
    },
    {
      "cell_type": "markdown",
      "source": [
        "View the data in numberical terms to see if there are any missing values and have an idea about the total number of the columns and row. Then check for missing values using drop.na.\n",
        "\n",
        "print out the number of entries to see if anything has been dropped. In this case there were no missing values because the total number before drop is equl to the total number after drop."
      ],
      "metadata": {
        "id": "y1k_vFgrQ-j6"
      }
    },
    {
      "cell_type": "code",
      "source": [
        "df.info()"
      ],
      "metadata": {
        "id": "niLYbLNYwWZN",
        "colab": {
          "base_uri": "https://localhost:8080/"
        },
        "outputId": "775568c6-0ac2-4902-b3a2-e28aadbcb101"
      },
      "execution_count": 75,
      "outputs": [
        {
          "output_type": "stream",
          "name": "stdout",
          "text": [
            "<class 'pandas.core.frame.DataFrame'>\n",
            "RangeIndex: 16363 entries, 0 to 16362\n",
            "Data columns (total 3 columns):\n",
            " #   Column     Non-Null Count  Dtype \n",
            "---  ------     --------------  ----- \n",
            " 0   id         16363 non-null  object\n",
            " 1   text       16363 non-null  object\n",
            " 2   sentiment  16363 non-null  object\n",
            "dtypes: object(3)\n",
            "memory usage: 383.6+ KB\n"
          ]
        }
      ]
    },
    {
      "cell_type": "code",
      "source": [
        "df = df.dropna()"
      ],
      "metadata": {
        "id": "g1OeLxsVw5qa"
      },
      "execution_count": 76,
      "outputs": []
    },
    {
      "cell_type": "code",
      "source": [
        "print(f'Number of entries :{len(df)}') # there were no mising values or entries since the entries are exactly the same as the original data"
      ],
      "metadata": {
        "id": "SqT8Pav_ybmQ",
        "colab": {
          "base_uri": "https://localhost:8080/"
        },
        "outputId": "ae9e1f9b-de69-467b-9d8e-bc9a348dc254"
      },
      "execution_count": 77,
      "outputs": [
        {
          "output_type": "stream",
          "name": "stdout",
          "text": [
            "Number of entries :16363\n"
          ]
        }
      ]
    },
    {
      "cell_type": "code",
      "source": [
        "df.describe()"
      ],
      "metadata": {
        "id": "mnUbvo8Tco4V",
        "colab": {
          "base_uri": "https://localhost:8080/",
          "height": 175
        },
        "outputId": "4127b5fc-6e30-4a73-c420-2f3bb9a01f9a"
      },
      "execution_count": 78,
      "outputs": [
        {
          "output_type": "execute_result",
          "data": {
            "text/plain": [
              "                id                                            text sentiment\n",
              "count        16363                                           16363     16363\n",
              "unique       16363                                           16363         2\n",
              "top     549e992a42   Sooo SAD I will miss you here in San Diego!!!  positive\n",
              "freq             1                                               1      8582"
            ],
            "text/html": [
              "\n",
              "  <div id=\"df-7fc74220-a9d3-4463-8cc0-03289d736665\">\n",
              "    <div class=\"colab-df-container\">\n",
              "      <div>\n",
              "<style scoped>\n",
              "    .dataframe tbody tr th:only-of-type {\n",
              "        vertical-align: middle;\n",
              "    }\n",
              "\n",
              "    .dataframe tbody tr th {\n",
              "        vertical-align: top;\n",
              "    }\n",
              "\n",
              "    .dataframe thead th {\n",
              "        text-align: right;\n",
              "    }\n",
              "</style>\n",
              "<table border=\"1\" class=\"dataframe\">\n",
              "  <thead>\n",
              "    <tr style=\"text-align: right;\">\n",
              "      <th></th>\n",
              "      <th>id</th>\n",
              "      <th>text</th>\n",
              "      <th>sentiment</th>\n",
              "    </tr>\n",
              "  </thead>\n",
              "  <tbody>\n",
              "    <tr>\n",
              "      <th>count</th>\n",
              "      <td>16363</td>\n",
              "      <td>16363</td>\n",
              "      <td>16363</td>\n",
              "    </tr>\n",
              "    <tr>\n",
              "      <th>unique</th>\n",
              "      <td>16363</td>\n",
              "      <td>16363</td>\n",
              "      <td>2</td>\n",
              "    </tr>\n",
              "    <tr>\n",
              "      <th>top</th>\n",
              "      <td>549e992a42</td>\n",
              "      <td>Sooo SAD I will miss you here in San Diego!!!</td>\n",
              "      <td>positive</td>\n",
              "    </tr>\n",
              "    <tr>\n",
              "      <th>freq</th>\n",
              "      <td>1</td>\n",
              "      <td>1</td>\n",
              "      <td>8582</td>\n",
              "    </tr>\n",
              "  </tbody>\n",
              "</table>\n",
              "</div>\n",
              "      <button class=\"colab-df-convert\" onclick=\"convertToInteractive('df-7fc74220-a9d3-4463-8cc0-03289d736665')\"\n",
              "              title=\"Convert this dataframe to an interactive table.\"\n",
              "              style=\"display:none;\">\n",
              "        \n",
              "  <svg xmlns=\"http://www.w3.org/2000/svg\" height=\"24px\"viewBox=\"0 0 24 24\"\n",
              "       width=\"24px\">\n",
              "    <path d=\"M0 0h24v24H0V0z\" fill=\"none\"/>\n",
              "    <path d=\"M18.56 5.44l.94 2.06.94-2.06 2.06-.94-2.06-.94-.94-2.06-.94 2.06-2.06.94zm-11 1L8.5 8.5l.94-2.06 2.06-.94-2.06-.94L8.5 2.5l-.94 2.06-2.06.94zm10 10l.94 2.06.94-2.06 2.06-.94-2.06-.94-.94-2.06-.94 2.06-2.06.94z\"/><path d=\"M17.41 7.96l-1.37-1.37c-.4-.4-.92-.59-1.43-.59-.52 0-1.04.2-1.43.59L10.3 9.45l-7.72 7.72c-.78.78-.78 2.05 0 2.83L4 21.41c.39.39.9.59 1.41.59.51 0 1.02-.2 1.41-.59l7.78-7.78 2.81-2.81c.8-.78.8-2.07 0-2.86zM5.41 20L4 18.59l7.72-7.72 1.47 1.35L5.41 20z\"/>\n",
              "  </svg>\n",
              "      </button>\n",
              "      \n",
              "  <style>\n",
              "    .colab-df-container {\n",
              "      display:flex;\n",
              "      flex-wrap:wrap;\n",
              "      gap: 12px;\n",
              "    }\n",
              "\n",
              "    .colab-df-convert {\n",
              "      background-color: #E8F0FE;\n",
              "      border: none;\n",
              "      border-radius: 50%;\n",
              "      cursor: pointer;\n",
              "      display: none;\n",
              "      fill: #1967D2;\n",
              "      height: 32px;\n",
              "      padding: 0 0 0 0;\n",
              "      width: 32px;\n",
              "    }\n",
              "\n",
              "    .colab-df-convert:hover {\n",
              "      background-color: #E2EBFA;\n",
              "      box-shadow: 0px 1px 2px rgba(60, 64, 67, 0.3), 0px 1px 3px 1px rgba(60, 64, 67, 0.15);\n",
              "      fill: #174EA6;\n",
              "    }\n",
              "\n",
              "    [theme=dark] .colab-df-convert {\n",
              "      background-color: #3B4455;\n",
              "      fill: #D2E3FC;\n",
              "    }\n",
              "\n",
              "    [theme=dark] .colab-df-convert:hover {\n",
              "      background-color: #434B5C;\n",
              "      box-shadow: 0px 1px 3px 1px rgba(0, 0, 0, 0.15);\n",
              "      filter: drop-shadow(0px 1px 2px rgba(0, 0, 0, 0.3));\n",
              "      fill: #FFFFFF;\n",
              "    }\n",
              "  </style>\n",
              "\n",
              "      <script>\n",
              "        const buttonEl =\n",
              "          document.querySelector('#df-7fc74220-a9d3-4463-8cc0-03289d736665 button.colab-df-convert');\n",
              "        buttonEl.style.display =\n",
              "          google.colab.kernel.accessAllowed ? 'block' : 'none';\n",
              "\n",
              "        async function convertToInteractive(key) {\n",
              "          const element = document.querySelector('#df-7fc74220-a9d3-4463-8cc0-03289d736665');\n",
              "          const dataTable =\n",
              "            await google.colab.kernel.invokeFunction('convertToInteractive',\n",
              "                                                     [key], {});\n",
              "          if (!dataTable) return;\n",
              "\n",
              "          const docLinkHtml = 'Like what you see? Visit the ' +\n",
              "            '<a target=\"_blank\" href=https://colab.research.google.com/notebooks/data_table.ipynb>data table notebook</a>'\n",
              "            + ' to learn more about interactive tables.';\n",
              "          element.innerHTML = '';\n",
              "          dataTable['output_type'] = 'display_data';\n",
              "          await google.colab.output.renderOutput(dataTable, element);\n",
              "          const docLink = document.createElement('div');\n",
              "          docLink.innerHTML = docLinkHtml;\n",
              "          element.appendChild(docLink);\n",
              "        }\n",
              "      </script>\n",
              "    </div>\n",
              "  </div>\n",
              "  "
            ]
          },
          "metadata": {},
          "execution_count": 78
        }
      ]
    },
    {
      "cell_type": "markdown",
      "source": [
        "#Data preprocessing \n",
        "\n",
        "The following techniques are used to process data:\n",
        "tokenisation, text normalisation(lower casing, stemming and lemmatisation),stop word removal and puntuation.\n",
        "\n"
      ],
      "metadata": {
        "id": "ft44Wkr8zEgX"
      }
    },
    {
      "cell_type": "code",
      "source": [
        "sent = df.groupby('sentiment').count()['text'].reset_index().sort_values(by='text',ascending=False)\n",
        "print(sent)"
      ],
      "metadata": {
        "id": "NfagnwWzytVE",
        "colab": {
          "base_uri": "https://localhost:8080/"
        },
        "outputId": "42f8a40e-2aca-4a9e-8696-9ab34ed8f565"
      },
      "execution_count": 79,
      "outputs": [
        {
          "output_type": "stream",
          "name": "stdout",
          "text": [
            "  sentiment  text\n",
            "1  positive  8582\n",
            "0  negative  7781\n"
          ]
        }
      ]
    },
    {
      "cell_type": "code",
      "source": [
        " #remove any URLs\n",
        "df['text'] = df['text'].apply(lambda x: re.sub(r'http\\S+', '', x))\n",
        "\n",
        "df.head()\n",
        "     "
      ],
      "metadata": {
        "id": "U-ylkNDX0_Rv",
        "colab": {
          "base_uri": "https://localhost:8080/",
          "height": 206
        },
        "outputId": "0ae83b02-285a-47d3-ceaa-54deb73e0548"
      },
      "execution_count": 80,
      "outputs": [
        {
          "output_type": "execute_result",
          "data": {
            "text/plain": [
              "           id                                               text sentiment\n",
              "0  549e992a42      Sooo SAD I will miss you here in San Diego!!!  negative\n",
              "1  088c60f138                          my boss is bullying me...  negative\n",
              "2  9642c003ef                     what interview! leave me alone  negative\n",
              "3  358bd9e861   Sons of ****, why couldn`t they put them on t...  negative\n",
              "4  6e0c6d75b1  2am feedings for the baby are fun when he is a...  positive"
            ],
            "text/html": [
              "\n",
              "  <div id=\"df-7b75d4a2-f31a-47cc-bbc1-88ab58494453\">\n",
              "    <div class=\"colab-df-container\">\n",
              "      <div>\n",
              "<style scoped>\n",
              "    .dataframe tbody tr th:only-of-type {\n",
              "        vertical-align: middle;\n",
              "    }\n",
              "\n",
              "    .dataframe tbody tr th {\n",
              "        vertical-align: top;\n",
              "    }\n",
              "\n",
              "    .dataframe thead th {\n",
              "        text-align: right;\n",
              "    }\n",
              "</style>\n",
              "<table border=\"1\" class=\"dataframe\">\n",
              "  <thead>\n",
              "    <tr style=\"text-align: right;\">\n",
              "      <th></th>\n",
              "      <th>id</th>\n",
              "      <th>text</th>\n",
              "      <th>sentiment</th>\n",
              "    </tr>\n",
              "  </thead>\n",
              "  <tbody>\n",
              "    <tr>\n",
              "      <th>0</th>\n",
              "      <td>549e992a42</td>\n",
              "      <td>Sooo SAD I will miss you here in San Diego!!!</td>\n",
              "      <td>negative</td>\n",
              "    </tr>\n",
              "    <tr>\n",
              "      <th>1</th>\n",
              "      <td>088c60f138</td>\n",
              "      <td>my boss is bullying me...</td>\n",
              "      <td>negative</td>\n",
              "    </tr>\n",
              "    <tr>\n",
              "      <th>2</th>\n",
              "      <td>9642c003ef</td>\n",
              "      <td>what interview! leave me alone</td>\n",
              "      <td>negative</td>\n",
              "    </tr>\n",
              "    <tr>\n",
              "      <th>3</th>\n",
              "      <td>358bd9e861</td>\n",
              "      <td>Sons of ****, why couldn`t they put them on t...</td>\n",
              "      <td>negative</td>\n",
              "    </tr>\n",
              "    <tr>\n",
              "      <th>4</th>\n",
              "      <td>6e0c6d75b1</td>\n",
              "      <td>2am feedings for the baby are fun when he is a...</td>\n",
              "      <td>positive</td>\n",
              "    </tr>\n",
              "  </tbody>\n",
              "</table>\n",
              "</div>\n",
              "      <button class=\"colab-df-convert\" onclick=\"convertToInteractive('df-7b75d4a2-f31a-47cc-bbc1-88ab58494453')\"\n",
              "              title=\"Convert this dataframe to an interactive table.\"\n",
              "              style=\"display:none;\">\n",
              "        \n",
              "  <svg xmlns=\"http://www.w3.org/2000/svg\" height=\"24px\"viewBox=\"0 0 24 24\"\n",
              "       width=\"24px\">\n",
              "    <path d=\"M0 0h24v24H0V0z\" fill=\"none\"/>\n",
              "    <path d=\"M18.56 5.44l.94 2.06.94-2.06 2.06-.94-2.06-.94-.94-2.06-.94 2.06-2.06.94zm-11 1L8.5 8.5l.94-2.06 2.06-.94-2.06-.94L8.5 2.5l-.94 2.06-2.06.94zm10 10l.94 2.06.94-2.06 2.06-.94-2.06-.94-.94-2.06-.94 2.06-2.06.94z\"/><path d=\"M17.41 7.96l-1.37-1.37c-.4-.4-.92-.59-1.43-.59-.52 0-1.04.2-1.43.59L10.3 9.45l-7.72 7.72c-.78.78-.78 2.05 0 2.83L4 21.41c.39.39.9.59 1.41.59.51 0 1.02-.2 1.41-.59l7.78-7.78 2.81-2.81c.8-.78.8-2.07 0-2.86zM5.41 20L4 18.59l7.72-7.72 1.47 1.35L5.41 20z\"/>\n",
              "  </svg>\n",
              "      </button>\n",
              "      \n",
              "  <style>\n",
              "    .colab-df-container {\n",
              "      display:flex;\n",
              "      flex-wrap:wrap;\n",
              "      gap: 12px;\n",
              "    }\n",
              "\n",
              "    .colab-df-convert {\n",
              "      background-color: #E8F0FE;\n",
              "      border: none;\n",
              "      border-radius: 50%;\n",
              "      cursor: pointer;\n",
              "      display: none;\n",
              "      fill: #1967D2;\n",
              "      height: 32px;\n",
              "      padding: 0 0 0 0;\n",
              "      width: 32px;\n",
              "    }\n",
              "\n",
              "    .colab-df-convert:hover {\n",
              "      background-color: #E2EBFA;\n",
              "      box-shadow: 0px 1px 2px rgba(60, 64, 67, 0.3), 0px 1px 3px 1px rgba(60, 64, 67, 0.15);\n",
              "      fill: #174EA6;\n",
              "    }\n",
              "\n",
              "    [theme=dark] .colab-df-convert {\n",
              "      background-color: #3B4455;\n",
              "      fill: #D2E3FC;\n",
              "    }\n",
              "\n",
              "    [theme=dark] .colab-df-convert:hover {\n",
              "      background-color: #434B5C;\n",
              "      box-shadow: 0px 1px 3px 1px rgba(0, 0, 0, 0.15);\n",
              "      filter: drop-shadow(0px 1px 2px rgba(0, 0, 0, 0.3));\n",
              "      fill: #FFFFFF;\n",
              "    }\n",
              "  </style>\n",
              "\n",
              "      <script>\n",
              "        const buttonEl =\n",
              "          document.querySelector('#df-7b75d4a2-f31a-47cc-bbc1-88ab58494453 button.colab-df-convert');\n",
              "        buttonEl.style.display =\n",
              "          google.colab.kernel.accessAllowed ? 'block' : 'none';\n",
              "\n",
              "        async function convertToInteractive(key) {\n",
              "          const element = document.querySelector('#df-7b75d4a2-f31a-47cc-bbc1-88ab58494453');\n",
              "          const dataTable =\n",
              "            await google.colab.kernel.invokeFunction('convertToInteractive',\n",
              "                                                     [key], {});\n",
              "          if (!dataTable) return;\n",
              "\n",
              "          const docLinkHtml = 'Like what you see? Visit the ' +\n",
              "            '<a target=\"_blank\" href=https://colab.research.google.com/notebooks/data_table.ipynb>data table notebook</a>'\n",
              "            + ' to learn more about interactive tables.';\n",
              "          element.innerHTML = '';\n",
              "          dataTable['output_type'] = 'display_data';\n",
              "          await google.colab.output.renderOutput(dataTable, element);\n",
              "          const docLink = document.createElement('div');\n",
              "          docLink.innerHTML = docLinkHtml;\n",
              "          element.appendChild(docLink);\n",
              "        }\n",
              "      </script>\n",
              "    </div>\n",
              "  </div>\n",
              "  "
            ]
          },
          "metadata": {},
          "execution_count": 80
        }
      ]
    },
    {
      "cell_type": "code",
      "source": [
        "#Lower Casing\n",
        "df['text'] = df['text'].apply(lambda x: x.lower())\n",
        "\n",
        "df.head()"
      ],
      "metadata": {
        "id": "1vbYPR9w9Jaz",
        "colab": {
          "base_uri": "https://localhost:8080/",
          "height": 206
        },
        "outputId": "ca7035a7-7985-47df-9aa7-77e59ba9905a"
      },
      "execution_count": 81,
      "outputs": [
        {
          "output_type": "execute_result",
          "data": {
            "text/plain": [
              "           id                                               text sentiment\n",
              "0  549e992a42      sooo sad i will miss you here in san diego!!!  negative\n",
              "1  088c60f138                          my boss is bullying me...  negative\n",
              "2  9642c003ef                     what interview! leave me alone  negative\n",
              "3  358bd9e861   sons of ****, why couldn`t they put them on t...  negative\n",
              "4  6e0c6d75b1  2am feedings for the baby are fun when he is a...  positive"
            ],
            "text/html": [
              "\n",
              "  <div id=\"df-c28c84c3-01ca-43b5-b8a2-015af04e82d6\">\n",
              "    <div class=\"colab-df-container\">\n",
              "      <div>\n",
              "<style scoped>\n",
              "    .dataframe tbody tr th:only-of-type {\n",
              "        vertical-align: middle;\n",
              "    }\n",
              "\n",
              "    .dataframe tbody tr th {\n",
              "        vertical-align: top;\n",
              "    }\n",
              "\n",
              "    .dataframe thead th {\n",
              "        text-align: right;\n",
              "    }\n",
              "</style>\n",
              "<table border=\"1\" class=\"dataframe\">\n",
              "  <thead>\n",
              "    <tr style=\"text-align: right;\">\n",
              "      <th></th>\n",
              "      <th>id</th>\n",
              "      <th>text</th>\n",
              "      <th>sentiment</th>\n",
              "    </tr>\n",
              "  </thead>\n",
              "  <tbody>\n",
              "    <tr>\n",
              "      <th>0</th>\n",
              "      <td>549e992a42</td>\n",
              "      <td>sooo sad i will miss you here in san diego!!!</td>\n",
              "      <td>negative</td>\n",
              "    </tr>\n",
              "    <tr>\n",
              "      <th>1</th>\n",
              "      <td>088c60f138</td>\n",
              "      <td>my boss is bullying me...</td>\n",
              "      <td>negative</td>\n",
              "    </tr>\n",
              "    <tr>\n",
              "      <th>2</th>\n",
              "      <td>9642c003ef</td>\n",
              "      <td>what interview! leave me alone</td>\n",
              "      <td>negative</td>\n",
              "    </tr>\n",
              "    <tr>\n",
              "      <th>3</th>\n",
              "      <td>358bd9e861</td>\n",
              "      <td>sons of ****, why couldn`t they put them on t...</td>\n",
              "      <td>negative</td>\n",
              "    </tr>\n",
              "    <tr>\n",
              "      <th>4</th>\n",
              "      <td>6e0c6d75b1</td>\n",
              "      <td>2am feedings for the baby are fun when he is a...</td>\n",
              "      <td>positive</td>\n",
              "    </tr>\n",
              "  </tbody>\n",
              "</table>\n",
              "</div>\n",
              "      <button class=\"colab-df-convert\" onclick=\"convertToInteractive('df-c28c84c3-01ca-43b5-b8a2-015af04e82d6')\"\n",
              "              title=\"Convert this dataframe to an interactive table.\"\n",
              "              style=\"display:none;\">\n",
              "        \n",
              "  <svg xmlns=\"http://www.w3.org/2000/svg\" height=\"24px\"viewBox=\"0 0 24 24\"\n",
              "       width=\"24px\">\n",
              "    <path d=\"M0 0h24v24H0V0z\" fill=\"none\"/>\n",
              "    <path d=\"M18.56 5.44l.94 2.06.94-2.06 2.06-.94-2.06-.94-.94-2.06-.94 2.06-2.06.94zm-11 1L8.5 8.5l.94-2.06 2.06-.94-2.06-.94L8.5 2.5l-.94 2.06-2.06.94zm10 10l.94 2.06.94-2.06 2.06-.94-2.06-.94-.94-2.06-.94 2.06-2.06.94z\"/><path d=\"M17.41 7.96l-1.37-1.37c-.4-.4-.92-.59-1.43-.59-.52 0-1.04.2-1.43.59L10.3 9.45l-7.72 7.72c-.78.78-.78 2.05 0 2.83L4 21.41c.39.39.9.59 1.41.59.51 0 1.02-.2 1.41-.59l7.78-7.78 2.81-2.81c.8-.78.8-2.07 0-2.86zM5.41 20L4 18.59l7.72-7.72 1.47 1.35L5.41 20z\"/>\n",
              "  </svg>\n",
              "      </button>\n",
              "      \n",
              "  <style>\n",
              "    .colab-df-container {\n",
              "      display:flex;\n",
              "      flex-wrap:wrap;\n",
              "      gap: 12px;\n",
              "    }\n",
              "\n",
              "    .colab-df-convert {\n",
              "      background-color: #E8F0FE;\n",
              "      border: none;\n",
              "      border-radius: 50%;\n",
              "      cursor: pointer;\n",
              "      display: none;\n",
              "      fill: #1967D2;\n",
              "      height: 32px;\n",
              "      padding: 0 0 0 0;\n",
              "      width: 32px;\n",
              "    }\n",
              "\n",
              "    .colab-df-convert:hover {\n",
              "      background-color: #E2EBFA;\n",
              "      box-shadow: 0px 1px 2px rgba(60, 64, 67, 0.3), 0px 1px 3px 1px rgba(60, 64, 67, 0.15);\n",
              "      fill: #174EA6;\n",
              "    }\n",
              "\n",
              "    [theme=dark] .colab-df-convert {\n",
              "      background-color: #3B4455;\n",
              "      fill: #D2E3FC;\n",
              "    }\n",
              "\n",
              "    [theme=dark] .colab-df-convert:hover {\n",
              "      background-color: #434B5C;\n",
              "      box-shadow: 0px 1px 3px 1px rgba(0, 0, 0, 0.15);\n",
              "      filter: drop-shadow(0px 1px 2px rgba(0, 0, 0, 0.3));\n",
              "      fill: #FFFFFF;\n",
              "    }\n",
              "  </style>\n",
              "\n",
              "      <script>\n",
              "        const buttonEl =\n",
              "          document.querySelector('#df-c28c84c3-01ca-43b5-b8a2-015af04e82d6 button.colab-df-convert');\n",
              "        buttonEl.style.display =\n",
              "          google.colab.kernel.accessAllowed ? 'block' : 'none';\n",
              "\n",
              "        async function convertToInteractive(key) {\n",
              "          const element = document.querySelector('#df-c28c84c3-01ca-43b5-b8a2-015af04e82d6');\n",
              "          const dataTable =\n",
              "            await google.colab.kernel.invokeFunction('convertToInteractive',\n",
              "                                                     [key], {});\n",
              "          if (!dataTable) return;\n",
              "\n",
              "          const docLinkHtml = 'Like what you see? Visit the ' +\n",
              "            '<a target=\"_blank\" href=https://colab.research.google.com/notebooks/data_table.ipynb>data table notebook</a>'\n",
              "            + ' to learn more about interactive tables.';\n",
              "          element.innerHTML = '';\n",
              "          dataTable['output_type'] = 'display_data';\n",
              "          await google.colab.output.renderOutput(dataTable, element);\n",
              "          const docLink = document.createElement('div');\n",
              "          docLink.innerHTML = docLinkHtml;\n",
              "          element.appendChild(docLink);\n",
              "        }\n",
              "      </script>\n",
              "    </div>\n",
              "  </div>\n",
              "  "
            ]
          },
          "metadata": {},
          "execution_count": 81
        }
      ]
    },
    {
      "cell_type": "code",
      "source": [
        "#Removing Punctuations\n",
        "def remove_punctuations(text):\n",
        "    for punctuation in string.punctuation:\n",
        "        text = text.replace(punctuation, '')\n",
        "    return text\n",
        "\n",
        "# apply the remove_punctuations function to the 'text' column of the data\n",
        "df['text'] = df['text'].apply(remove_punctuations)\n",
        "\n",
        "df.head()"
      ],
      "metadata": {
        "id": "6Qwcyl9jfDkQ",
        "colab": {
          "base_uri": "https://localhost:8080/",
          "height": 206
        },
        "outputId": "861ed773-20a7-4294-e674-716a9eab928a"
      },
      "execution_count": 82,
      "outputs": [
        {
          "output_type": "execute_result",
          "data": {
            "text/plain": [
              "           id                                               text sentiment\n",
              "0  549e992a42         sooo sad i will miss you here in san diego  negative\n",
              "1  088c60f138                             my boss is bullying me  negative\n",
              "2  9642c003ef                      what interview leave me alone  negative\n",
              "3  358bd9e861   sons of  why couldnt they put them on the rel...  negative\n",
              "4  6e0c6d75b1  2am feedings for the baby are fun when he is a...  positive"
            ],
            "text/html": [
              "\n",
              "  <div id=\"df-def5484d-5087-4812-8125-e018f9e5bf11\">\n",
              "    <div class=\"colab-df-container\">\n",
              "      <div>\n",
              "<style scoped>\n",
              "    .dataframe tbody tr th:only-of-type {\n",
              "        vertical-align: middle;\n",
              "    }\n",
              "\n",
              "    .dataframe tbody tr th {\n",
              "        vertical-align: top;\n",
              "    }\n",
              "\n",
              "    .dataframe thead th {\n",
              "        text-align: right;\n",
              "    }\n",
              "</style>\n",
              "<table border=\"1\" class=\"dataframe\">\n",
              "  <thead>\n",
              "    <tr style=\"text-align: right;\">\n",
              "      <th></th>\n",
              "      <th>id</th>\n",
              "      <th>text</th>\n",
              "      <th>sentiment</th>\n",
              "    </tr>\n",
              "  </thead>\n",
              "  <tbody>\n",
              "    <tr>\n",
              "      <th>0</th>\n",
              "      <td>549e992a42</td>\n",
              "      <td>sooo sad i will miss you here in san diego</td>\n",
              "      <td>negative</td>\n",
              "    </tr>\n",
              "    <tr>\n",
              "      <th>1</th>\n",
              "      <td>088c60f138</td>\n",
              "      <td>my boss is bullying me</td>\n",
              "      <td>negative</td>\n",
              "    </tr>\n",
              "    <tr>\n",
              "      <th>2</th>\n",
              "      <td>9642c003ef</td>\n",
              "      <td>what interview leave me alone</td>\n",
              "      <td>negative</td>\n",
              "    </tr>\n",
              "    <tr>\n",
              "      <th>3</th>\n",
              "      <td>358bd9e861</td>\n",
              "      <td>sons of  why couldnt they put them on the rel...</td>\n",
              "      <td>negative</td>\n",
              "    </tr>\n",
              "    <tr>\n",
              "      <th>4</th>\n",
              "      <td>6e0c6d75b1</td>\n",
              "      <td>2am feedings for the baby are fun when he is a...</td>\n",
              "      <td>positive</td>\n",
              "    </tr>\n",
              "  </tbody>\n",
              "</table>\n",
              "</div>\n",
              "      <button class=\"colab-df-convert\" onclick=\"convertToInteractive('df-def5484d-5087-4812-8125-e018f9e5bf11')\"\n",
              "              title=\"Convert this dataframe to an interactive table.\"\n",
              "              style=\"display:none;\">\n",
              "        \n",
              "  <svg xmlns=\"http://www.w3.org/2000/svg\" height=\"24px\"viewBox=\"0 0 24 24\"\n",
              "       width=\"24px\">\n",
              "    <path d=\"M0 0h24v24H0V0z\" fill=\"none\"/>\n",
              "    <path d=\"M18.56 5.44l.94 2.06.94-2.06 2.06-.94-2.06-.94-.94-2.06-.94 2.06-2.06.94zm-11 1L8.5 8.5l.94-2.06 2.06-.94-2.06-.94L8.5 2.5l-.94 2.06-2.06.94zm10 10l.94 2.06.94-2.06 2.06-.94-2.06-.94-.94-2.06-.94 2.06-2.06.94z\"/><path d=\"M17.41 7.96l-1.37-1.37c-.4-.4-.92-.59-1.43-.59-.52 0-1.04.2-1.43.59L10.3 9.45l-7.72 7.72c-.78.78-.78 2.05 0 2.83L4 21.41c.39.39.9.59 1.41.59.51 0 1.02-.2 1.41-.59l7.78-7.78 2.81-2.81c.8-.78.8-2.07 0-2.86zM5.41 20L4 18.59l7.72-7.72 1.47 1.35L5.41 20z\"/>\n",
              "  </svg>\n",
              "      </button>\n",
              "      \n",
              "  <style>\n",
              "    .colab-df-container {\n",
              "      display:flex;\n",
              "      flex-wrap:wrap;\n",
              "      gap: 12px;\n",
              "    }\n",
              "\n",
              "    .colab-df-convert {\n",
              "      background-color: #E8F0FE;\n",
              "      border: none;\n",
              "      border-radius: 50%;\n",
              "      cursor: pointer;\n",
              "      display: none;\n",
              "      fill: #1967D2;\n",
              "      height: 32px;\n",
              "      padding: 0 0 0 0;\n",
              "      width: 32px;\n",
              "    }\n",
              "\n",
              "    .colab-df-convert:hover {\n",
              "      background-color: #E2EBFA;\n",
              "      box-shadow: 0px 1px 2px rgba(60, 64, 67, 0.3), 0px 1px 3px 1px rgba(60, 64, 67, 0.15);\n",
              "      fill: #174EA6;\n",
              "    }\n",
              "\n",
              "    [theme=dark] .colab-df-convert {\n",
              "      background-color: #3B4455;\n",
              "      fill: #D2E3FC;\n",
              "    }\n",
              "\n",
              "    [theme=dark] .colab-df-convert:hover {\n",
              "      background-color: #434B5C;\n",
              "      box-shadow: 0px 1px 3px 1px rgba(0, 0, 0, 0.15);\n",
              "      filter: drop-shadow(0px 1px 2px rgba(0, 0, 0, 0.3));\n",
              "      fill: #FFFFFF;\n",
              "    }\n",
              "  </style>\n",
              "\n",
              "      <script>\n",
              "        const buttonEl =\n",
              "          document.querySelector('#df-def5484d-5087-4812-8125-e018f9e5bf11 button.colab-df-convert');\n",
              "        buttonEl.style.display =\n",
              "          google.colab.kernel.accessAllowed ? 'block' : 'none';\n",
              "\n",
              "        async function convertToInteractive(key) {\n",
              "          const element = document.querySelector('#df-def5484d-5087-4812-8125-e018f9e5bf11');\n",
              "          const dataTable =\n",
              "            await google.colab.kernel.invokeFunction('convertToInteractive',\n",
              "                                                     [key], {});\n",
              "          if (!dataTable) return;\n",
              "\n",
              "          const docLinkHtml = 'Like what you see? Visit the ' +\n",
              "            '<a target=\"_blank\" href=https://colab.research.google.com/notebooks/data_table.ipynb>data table notebook</a>'\n",
              "            + ' to learn more about interactive tables.';\n",
              "          element.innerHTML = '';\n",
              "          dataTable['output_type'] = 'display_data';\n",
              "          await google.colab.output.renderOutput(dataTable, element);\n",
              "          const docLink = document.createElement('div');\n",
              "          docLink.innerHTML = docLinkHtml;\n",
              "          element.appendChild(docLink);\n",
              "        }\n",
              "      </script>\n",
              "    </div>\n",
              "  </div>\n",
              "  "
            ]
          },
          "metadata": {},
          "execution_count": 82
        }
      ]
    },
    {
      "cell_type": "code",
      "source": [
        "#Lower Casing\n",
        "df['text'] = df['text'].apply(lambda x: x.lower())\n",
        "\n",
        "df.head()"
      ],
      "metadata": {
        "id": "0nEaZHQwfFHn",
        "colab": {
          "base_uri": "https://localhost:8080/",
          "height": 206
        },
        "outputId": "6f057604-5862-4a3c-d397-df57015b30b8"
      },
      "execution_count": 83,
      "outputs": [
        {
          "output_type": "execute_result",
          "data": {
            "text/plain": [
              "           id                                               text sentiment\n",
              "0  549e992a42         sooo sad i will miss you here in san diego  negative\n",
              "1  088c60f138                             my boss is bullying me  negative\n",
              "2  9642c003ef                      what interview leave me alone  negative\n",
              "3  358bd9e861   sons of  why couldnt they put them on the rel...  negative\n",
              "4  6e0c6d75b1  2am feedings for the baby are fun when he is a...  positive"
            ],
            "text/html": [
              "\n",
              "  <div id=\"df-f61df280-b247-426b-b421-f37e481138dc\">\n",
              "    <div class=\"colab-df-container\">\n",
              "      <div>\n",
              "<style scoped>\n",
              "    .dataframe tbody tr th:only-of-type {\n",
              "        vertical-align: middle;\n",
              "    }\n",
              "\n",
              "    .dataframe tbody tr th {\n",
              "        vertical-align: top;\n",
              "    }\n",
              "\n",
              "    .dataframe thead th {\n",
              "        text-align: right;\n",
              "    }\n",
              "</style>\n",
              "<table border=\"1\" class=\"dataframe\">\n",
              "  <thead>\n",
              "    <tr style=\"text-align: right;\">\n",
              "      <th></th>\n",
              "      <th>id</th>\n",
              "      <th>text</th>\n",
              "      <th>sentiment</th>\n",
              "    </tr>\n",
              "  </thead>\n",
              "  <tbody>\n",
              "    <tr>\n",
              "      <th>0</th>\n",
              "      <td>549e992a42</td>\n",
              "      <td>sooo sad i will miss you here in san diego</td>\n",
              "      <td>negative</td>\n",
              "    </tr>\n",
              "    <tr>\n",
              "      <th>1</th>\n",
              "      <td>088c60f138</td>\n",
              "      <td>my boss is bullying me</td>\n",
              "      <td>negative</td>\n",
              "    </tr>\n",
              "    <tr>\n",
              "      <th>2</th>\n",
              "      <td>9642c003ef</td>\n",
              "      <td>what interview leave me alone</td>\n",
              "      <td>negative</td>\n",
              "    </tr>\n",
              "    <tr>\n",
              "      <th>3</th>\n",
              "      <td>358bd9e861</td>\n",
              "      <td>sons of  why couldnt they put them on the rel...</td>\n",
              "      <td>negative</td>\n",
              "    </tr>\n",
              "    <tr>\n",
              "      <th>4</th>\n",
              "      <td>6e0c6d75b1</td>\n",
              "      <td>2am feedings for the baby are fun when he is a...</td>\n",
              "      <td>positive</td>\n",
              "    </tr>\n",
              "  </tbody>\n",
              "</table>\n",
              "</div>\n",
              "      <button class=\"colab-df-convert\" onclick=\"convertToInteractive('df-f61df280-b247-426b-b421-f37e481138dc')\"\n",
              "              title=\"Convert this dataframe to an interactive table.\"\n",
              "              style=\"display:none;\">\n",
              "        \n",
              "  <svg xmlns=\"http://www.w3.org/2000/svg\" height=\"24px\"viewBox=\"0 0 24 24\"\n",
              "       width=\"24px\">\n",
              "    <path d=\"M0 0h24v24H0V0z\" fill=\"none\"/>\n",
              "    <path d=\"M18.56 5.44l.94 2.06.94-2.06 2.06-.94-2.06-.94-.94-2.06-.94 2.06-2.06.94zm-11 1L8.5 8.5l.94-2.06 2.06-.94-2.06-.94L8.5 2.5l-.94 2.06-2.06.94zm10 10l.94 2.06.94-2.06 2.06-.94-2.06-.94-.94-2.06-.94 2.06-2.06.94z\"/><path d=\"M17.41 7.96l-1.37-1.37c-.4-.4-.92-.59-1.43-.59-.52 0-1.04.2-1.43.59L10.3 9.45l-7.72 7.72c-.78.78-.78 2.05 0 2.83L4 21.41c.39.39.9.59 1.41.59.51 0 1.02-.2 1.41-.59l7.78-7.78 2.81-2.81c.8-.78.8-2.07 0-2.86zM5.41 20L4 18.59l7.72-7.72 1.47 1.35L5.41 20z\"/>\n",
              "  </svg>\n",
              "      </button>\n",
              "      \n",
              "  <style>\n",
              "    .colab-df-container {\n",
              "      display:flex;\n",
              "      flex-wrap:wrap;\n",
              "      gap: 12px;\n",
              "    }\n",
              "\n",
              "    .colab-df-convert {\n",
              "      background-color: #E8F0FE;\n",
              "      border: none;\n",
              "      border-radius: 50%;\n",
              "      cursor: pointer;\n",
              "      display: none;\n",
              "      fill: #1967D2;\n",
              "      height: 32px;\n",
              "      padding: 0 0 0 0;\n",
              "      width: 32px;\n",
              "    }\n",
              "\n",
              "    .colab-df-convert:hover {\n",
              "      background-color: #E2EBFA;\n",
              "      box-shadow: 0px 1px 2px rgba(60, 64, 67, 0.3), 0px 1px 3px 1px rgba(60, 64, 67, 0.15);\n",
              "      fill: #174EA6;\n",
              "    }\n",
              "\n",
              "    [theme=dark] .colab-df-convert {\n",
              "      background-color: #3B4455;\n",
              "      fill: #D2E3FC;\n",
              "    }\n",
              "\n",
              "    [theme=dark] .colab-df-convert:hover {\n",
              "      background-color: #434B5C;\n",
              "      box-shadow: 0px 1px 3px 1px rgba(0, 0, 0, 0.15);\n",
              "      filter: drop-shadow(0px 1px 2px rgba(0, 0, 0, 0.3));\n",
              "      fill: #FFFFFF;\n",
              "    }\n",
              "  </style>\n",
              "\n",
              "      <script>\n",
              "        const buttonEl =\n",
              "          document.querySelector('#df-f61df280-b247-426b-b421-f37e481138dc button.colab-df-convert');\n",
              "        buttonEl.style.display =\n",
              "          google.colab.kernel.accessAllowed ? 'block' : 'none';\n",
              "\n",
              "        async function convertToInteractive(key) {\n",
              "          const element = document.querySelector('#df-f61df280-b247-426b-b421-f37e481138dc');\n",
              "          const dataTable =\n",
              "            await google.colab.kernel.invokeFunction('convertToInteractive',\n",
              "                                                     [key], {});\n",
              "          if (!dataTable) return;\n",
              "\n",
              "          const docLinkHtml = 'Like what you see? Visit the ' +\n",
              "            '<a target=\"_blank\" href=https://colab.research.google.com/notebooks/data_table.ipynb>data table notebook</a>'\n",
              "            + ' to learn more about interactive tables.';\n",
              "          element.innerHTML = '';\n",
              "          dataTable['output_type'] = 'display_data';\n",
              "          await google.colab.output.renderOutput(dataTable, element);\n",
              "          const docLink = document.createElement('div');\n",
              "          docLink.innerHTML = docLinkHtml;\n",
              "          element.appendChild(docLink);\n",
              "        }\n",
              "      </script>\n",
              "    </div>\n",
              "  </div>\n",
              "  "
            ]
          },
          "metadata": {},
          "execution_count": 83
        }
      ]
    },
    {
      "cell_type": "code",
      "source": [
        "# remove stopwords from tokens\n",
        "\n",
        "# define set of English stopwords\n",
        "stop_words = set(stopwords.words('english')) \n",
        "\n",
        "# Define a function to remove stop words from a sentence\n",
        "def remove_stop_words(sentence):\n",
        "    words = sentence.split()\n",
        "    filtered_words = [word for word in words if word.lower() not in stop_words]\n",
        "    filtered_sentence = ' '.join(filtered_words)\n",
        "    return filtered_sentence\n",
        "\n",
        "# Apply the function to the 'text' column of the DataFrame\n",
        "df['filtered_text'] = df['text'].apply(remove_stop_words)\n",
        "\n",
        "\n",
        "# Print the first 5 rows of the DataFrame\n",
        "print(df.head())"
      ],
      "metadata": {
        "id": "pYbmOlqDfFTr",
        "colab": {
          "base_uri": "https://localhost:8080/"
        },
        "outputId": "bacd5110-f6f3-4fc3-f003-9067bb286da3"
      },
      "execution_count": 84,
      "outputs": [
        {
          "output_type": "stream",
          "name": "stdout",
          "text": [
            "           id                                               text sentiment  \\\n",
            "0  549e992a42         sooo sad i will miss you here in san diego  negative   \n",
            "1  088c60f138                             my boss is bullying me  negative   \n",
            "2  9642c003ef                      what interview leave me alone  negative   \n",
            "3  358bd9e861   sons of  why couldnt they put them on the rel...  negative   \n",
            "4  6e0c6d75b1  2am feedings for the baby are fun when he is a...  positive   \n",
            "\n",
            "                              filtered_text  \n",
            "0                   sooo sad miss san diego  \n",
            "1                             boss bullying  \n",
            "2                     interview leave alone  \n",
            "3  sons couldnt put releases already bought  \n",
            "4         2am feedings baby fun smiles coos  \n"
          ]
        }
      ]
    },
    {
      "cell_type": "code",
      "source": [
        "#Removing Punctuations\n",
        "def remove_punctuations(text):\n",
        "    for punctuation in string.punctuation:\n",
        "        text = text.replace(punctuation, '')\n",
        "    return text\n",
        "\n",
        "# apply the remove_punctuations function to the 'text' column of the data\n",
        "df['text'] = df['text'].apply(remove_punctuations)\n",
        "\n",
        "df.head()"
      ],
      "metadata": {
        "id": "Kv7gLPdefFZn",
        "colab": {
          "base_uri": "https://localhost:8080/",
          "height": 206
        },
        "outputId": "9e99c82b-106f-4cd9-e606-38fb8bc00bcd"
      },
      "execution_count": 85,
      "outputs": [
        {
          "output_type": "execute_result",
          "data": {
            "text/plain": [
              "           id                                               text sentiment  \\\n",
              "0  549e992a42         sooo sad i will miss you here in san diego  negative   \n",
              "1  088c60f138                             my boss is bullying me  negative   \n",
              "2  9642c003ef                      what interview leave me alone  negative   \n",
              "3  358bd9e861   sons of  why couldnt they put them on the rel...  negative   \n",
              "4  6e0c6d75b1  2am feedings for the baby are fun when he is a...  positive   \n",
              "\n",
              "                              filtered_text  \n",
              "0                   sooo sad miss san diego  \n",
              "1                             boss bullying  \n",
              "2                     interview leave alone  \n",
              "3  sons couldnt put releases already bought  \n",
              "4         2am feedings baby fun smiles coos  "
            ],
            "text/html": [
              "\n",
              "  <div id=\"df-f0453ef3-96fd-4391-bfcd-81b2f5ebc0f2\">\n",
              "    <div class=\"colab-df-container\">\n",
              "      <div>\n",
              "<style scoped>\n",
              "    .dataframe tbody tr th:only-of-type {\n",
              "        vertical-align: middle;\n",
              "    }\n",
              "\n",
              "    .dataframe tbody tr th {\n",
              "        vertical-align: top;\n",
              "    }\n",
              "\n",
              "    .dataframe thead th {\n",
              "        text-align: right;\n",
              "    }\n",
              "</style>\n",
              "<table border=\"1\" class=\"dataframe\">\n",
              "  <thead>\n",
              "    <tr style=\"text-align: right;\">\n",
              "      <th></th>\n",
              "      <th>id</th>\n",
              "      <th>text</th>\n",
              "      <th>sentiment</th>\n",
              "      <th>filtered_text</th>\n",
              "    </tr>\n",
              "  </thead>\n",
              "  <tbody>\n",
              "    <tr>\n",
              "      <th>0</th>\n",
              "      <td>549e992a42</td>\n",
              "      <td>sooo sad i will miss you here in san diego</td>\n",
              "      <td>negative</td>\n",
              "      <td>sooo sad miss san diego</td>\n",
              "    </tr>\n",
              "    <tr>\n",
              "      <th>1</th>\n",
              "      <td>088c60f138</td>\n",
              "      <td>my boss is bullying me</td>\n",
              "      <td>negative</td>\n",
              "      <td>boss bullying</td>\n",
              "    </tr>\n",
              "    <tr>\n",
              "      <th>2</th>\n",
              "      <td>9642c003ef</td>\n",
              "      <td>what interview leave me alone</td>\n",
              "      <td>negative</td>\n",
              "      <td>interview leave alone</td>\n",
              "    </tr>\n",
              "    <tr>\n",
              "      <th>3</th>\n",
              "      <td>358bd9e861</td>\n",
              "      <td>sons of  why couldnt they put them on the rel...</td>\n",
              "      <td>negative</td>\n",
              "      <td>sons couldnt put releases already bought</td>\n",
              "    </tr>\n",
              "    <tr>\n",
              "      <th>4</th>\n",
              "      <td>6e0c6d75b1</td>\n",
              "      <td>2am feedings for the baby are fun when he is a...</td>\n",
              "      <td>positive</td>\n",
              "      <td>2am feedings baby fun smiles coos</td>\n",
              "    </tr>\n",
              "  </tbody>\n",
              "</table>\n",
              "</div>\n",
              "      <button class=\"colab-df-convert\" onclick=\"convertToInteractive('df-f0453ef3-96fd-4391-bfcd-81b2f5ebc0f2')\"\n",
              "              title=\"Convert this dataframe to an interactive table.\"\n",
              "              style=\"display:none;\">\n",
              "        \n",
              "  <svg xmlns=\"http://www.w3.org/2000/svg\" height=\"24px\"viewBox=\"0 0 24 24\"\n",
              "       width=\"24px\">\n",
              "    <path d=\"M0 0h24v24H0V0z\" fill=\"none\"/>\n",
              "    <path d=\"M18.56 5.44l.94 2.06.94-2.06 2.06-.94-2.06-.94-.94-2.06-.94 2.06-2.06.94zm-11 1L8.5 8.5l.94-2.06 2.06-.94-2.06-.94L8.5 2.5l-.94 2.06-2.06.94zm10 10l.94 2.06.94-2.06 2.06-.94-2.06-.94-.94-2.06-.94 2.06-2.06.94z\"/><path d=\"M17.41 7.96l-1.37-1.37c-.4-.4-.92-.59-1.43-.59-.52 0-1.04.2-1.43.59L10.3 9.45l-7.72 7.72c-.78.78-.78 2.05 0 2.83L4 21.41c.39.39.9.59 1.41.59.51 0 1.02-.2 1.41-.59l7.78-7.78 2.81-2.81c.8-.78.8-2.07 0-2.86zM5.41 20L4 18.59l7.72-7.72 1.47 1.35L5.41 20z\"/>\n",
              "  </svg>\n",
              "      </button>\n",
              "      \n",
              "  <style>\n",
              "    .colab-df-container {\n",
              "      display:flex;\n",
              "      flex-wrap:wrap;\n",
              "      gap: 12px;\n",
              "    }\n",
              "\n",
              "    .colab-df-convert {\n",
              "      background-color: #E8F0FE;\n",
              "      border: none;\n",
              "      border-radius: 50%;\n",
              "      cursor: pointer;\n",
              "      display: none;\n",
              "      fill: #1967D2;\n",
              "      height: 32px;\n",
              "      padding: 0 0 0 0;\n",
              "      width: 32px;\n",
              "    }\n",
              "\n",
              "    .colab-df-convert:hover {\n",
              "      background-color: #E2EBFA;\n",
              "      box-shadow: 0px 1px 2px rgba(60, 64, 67, 0.3), 0px 1px 3px 1px rgba(60, 64, 67, 0.15);\n",
              "      fill: #174EA6;\n",
              "    }\n",
              "\n",
              "    [theme=dark] .colab-df-convert {\n",
              "      background-color: #3B4455;\n",
              "      fill: #D2E3FC;\n",
              "    }\n",
              "\n",
              "    [theme=dark] .colab-df-convert:hover {\n",
              "      background-color: #434B5C;\n",
              "      box-shadow: 0px 1px 3px 1px rgba(0, 0, 0, 0.15);\n",
              "      filter: drop-shadow(0px 1px 2px rgba(0, 0, 0, 0.3));\n",
              "      fill: #FFFFFF;\n",
              "    }\n",
              "  </style>\n",
              "\n",
              "      <script>\n",
              "        const buttonEl =\n",
              "          document.querySelector('#df-f0453ef3-96fd-4391-bfcd-81b2f5ebc0f2 button.colab-df-convert');\n",
              "        buttonEl.style.display =\n",
              "          google.colab.kernel.accessAllowed ? 'block' : 'none';\n",
              "\n",
              "        async function convertToInteractive(key) {\n",
              "          const element = document.querySelector('#df-f0453ef3-96fd-4391-bfcd-81b2f5ebc0f2');\n",
              "          const dataTable =\n",
              "            await google.colab.kernel.invokeFunction('convertToInteractive',\n",
              "                                                     [key], {});\n",
              "          if (!dataTable) return;\n",
              "\n",
              "          const docLinkHtml = 'Like what you see? Visit the ' +\n",
              "            '<a target=\"_blank\" href=https://colab.research.google.com/notebooks/data_table.ipynb>data table notebook</a>'\n",
              "            + ' to learn more about interactive tables.';\n",
              "          element.innerHTML = '';\n",
              "          dataTable['output_type'] = 'display_data';\n",
              "          await google.colab.output.renderOutput(dataTable, element);\n",
              "          const docLink = document.createElement('div');\n",
              "          docLink.innerHTML = docLinkHtml;\n",
              "          element.appendChild(docLink);\n",
              "        }\n",
              "      </script>\n",
              "    </div>\n",
              "  </div>\n",
              "  "
            ]
          },
          "metadata": {},
          "execution_count": 85
        }
      ]
    },
    {
      "cell_type": "code",
      "source": [
        "# Tokenize text\n",
        "\n",
        "tknzr = TweetTokenizer()\n",
        "# iterate through each row in 'Text' columm and convert text to tokens\n",
        "list_tokenized_text = [tknzr.tokenize(text) for text in df['text']]\n",
        "print(list_tokenized_text[:2])\n",
        "\n",
        "list_tokenized_sentences = [' '.join(tokens) for tokens in list_tokenized_text]\n",
        "print(list_tokenized_sentences[:2])\n",
        "\n",
        "# add new column to data frame\n",
        "df['tokenized_text'] = list_tokenized_sentences #list_tokenized_text \n",
        "\n",
        "df.head()"
      ],
      "metadata": {
        "id": "wnzkHL9EfFdC",
        "colab": {
          "base_uri": "https://localhost:8080/",
          "height": 242
        },
        "outputId": "ec9ce810-e688-42f9-bd46-4f7d51228332"
      },
      "execution_count": 86,
      "outputs": [
        {
          "output_type": "stream",
          "name": "stdout",
          "text": [
            "[['sooo', 'sad', 'i', 'will', 'miss', 'you', 'here', 'in', 'san', 'diego'], ['my', 'boss', 'is', 'bullying', 'me']]\n",
            "['sooo sad i will miss you here in san diego', 'my boss is bullying me']\n"
          ]
        },
        {
          "output_type": "execute_result",
          "data": {
            "text/plain": [
              "           id                                               text sentiment  \\\n",
              "0  549e992a42         sooo sad i will miss you here in san diego  negative   \n",
              "1  088c60f138                             my boss is bullying me  negative   \n",
              "2  9642c003ef                      what interview leave me alone  negative   \n",
              "3  358bd9e861   sons of  why couldnt they put them on the rel...  negative   \n",
              "4  6e0c6d75b1  2am feedings for the baby are fun when he is a...  positive   \n",
              "\n",
              "                              filtered_text  \\\n",
              "0                   sooo sad miss san diego   \n",
              "1                             boss bullying   \n",
              "2                     interview leave alone   \n",
              "3  sons couldnt put releases already bought   \n",
              "4         2am feedings baby fun smiles coos   \n",
              "\n",
              "                                      tokenized_text  \n",
              "0         sooo sad i will miss you here in san diego  \n",
              "1                             my boss is bullying me  \n",
              "2                      what interview leave me alone  \n",
              "3  sons of why couldnt they put them on the relea...  \n",
              "4  2am feedings for the baby are fun when he is a...  "
            ],
            "text/html": [
              "\n",
              "  <div id=\"df-e1caa117-6866-4d03-a4d7-fa8d4f998d2f\">\n",
              "    <div class=\"colab-df-container\">\n",
              "      <div>\n",
              "<style scoped>\n",
              "    .dataframe tbody tr th:only-of-type {\n",
              "        vertical-align: middle;\n",
              "    }\n",
              "\n",
              "    .dataframe tbody tr th {\n",
              "        vertical-align: top;\n",
              "    }\n",
              "\n",
              "    .dataframe thead th {\n",
              "        text-align: right;\n",
              "    }\n",
              "</style>\n",
              "<table border=\"1\" class=\"dataframe\">\n",
              "  <thead>\n",
              "    <tr style=\"text-align: right;\">\n",
              "      <th></th>\n",
              "      <th>id</th>\n",
              "      <th>text</th>\n",
              "      <th>sentiment</th>\n",
              "      <th>filtered_text</th>\n",
              "      <th>tokenized_text</th>\n",
              "    </tr>\n",
              "  </thead>\n",
              "  <tbody>\n",
              "    <tr>\n",
              "      <th>0</th>\n",
              "      <td>549e992a42</td>\n",
              "      <td>sooo sad i will miss you here in san diego</td>\n",
              "      <td>negative</td>\n",
              "      <td>sooo sad miss san diego</td>\n",
              "      <td>sooo sad i will miss you here in san diego</td>\n",
              "    </tr>\n",
              "    <tr>\n",
              "      <th>1</th>\n",
              "      <td>088c60f138</td>\n",
              "      <td>my boss is bullying me</td>\n",
              "      <td>negative</td>\n",
              "      <td>boss bullying</td>\n",
              "      <td>my boss is bullying me</td>\n",
              "    </tr>\n",
              "    <tr>\n",
              "      <th>2</th>\n",
              "      <td>9642c003ef</td>\n",
              "      <td>what interview leave me alone</td>\n",
              "      <td>negative</td>\n",
              "      <td>interview leave alone</td>\n",
              "      <td>what interview leave me alone</td>\n",
              "    </tr>\n",
              "    <tr>\n",
              "      <th>3</th>\n",
              "      <td>358bd9e861</td>\n",
              "      <td>sons of  why couldnt they put them on the rel...</td>\n",
              "      <td>negative</td>\n",
              "      <td>sons couldnt put releases already bought</td>\n",
              "      <td>sons of why couldnt they put them on the relea...</td>\n",
              "    </tr>\n",
              "    <tr>\n",
              "      <th>4</th>\n",
              "      <td>6e0c6d75b1</td>\n",
              "      <td>2am feedings for the baby are fun when he is a...</td>\n",
              "      <td>positive</td>\n",
              "      <td>2am feedings baby fun smiles coos</td>\n",
              "      <td>2am feedings for the baby are fun when he is a...</td>\n",
              "    </tr>\n",
              "  </tbody>\n",
              "</table>\n",
              "</div>\n",
              "      <button class=\"colab-df-convert\" onclick=\"convertToInteractive('df-e1caa117-6866-4d03-a4d7-fa8d4f998d2f')\"\n",
              "              title=\"Convert this dataframe to an interactive table.\"\n",
              "              style=\"display:none;\">\n",
              "        \n",
              "  <svg xmlns=\"http://www.w3.org/2000/svg\" height=\"24px\"viewBox=\"0 0 24 24\"\n",
              "       width=\"24px\">\n",
              "    <path d=\"M0 0h24v24H0V0z\" fill=\"none\"/>\n",
              "    <path d=\"M18.56 5.44l.94 2.06.94-2.06 2.06-.94-2.06-.94-.94-2.06-.94 2.06-2.06.94zm-11 1L8.5 8.5l.94-2.06 2.06-.94-2.06-.94L8.5 2.5l-.94 2.06-2.06.94zm10 10l.94 2.06.94-2.06 2.06-.94-2.06-.94-.94-2.06-.94 2.06-2.06.94z\"/><path d=\"M17.41 7.96l-1.37-1.37c-.4-.4-.92-.59-1.43-.59-.52 0-1.04.2-1.43.59L10.3 9.45l-7.72 7.72c-.78.78-.78 2.05 0 2.83L4 21.41c.39.39.9.59 1.41.59.51 0 1.02-.2 1.41-.59l7.78-7.78 2.81-2.81c.8-.78.8-2.07 0-2.86zM5.41 20L4 18.59l7.72-7.72 1.47 1.35L5.41 20z\"/>\n",
              "  </svg>\n",
              "      </button>\n",
              "      \n",
              "  <style>\n",
              "    .colab-df-container {\n",
              "      display:flex;\n",
              "      flex-wrap:wrap;\n",
              "      gap: 12px;\n",
              "    }\n",
              "\n",
              "    .colab-df-convert {\n",
              "      background-color: #E8F0FE;\n",
              "      border: none;\n",
              "      border-radius: 50%;\n",
              "      cursor: pointer;\n",
              "      display: none;\n",
              "      fill: #1967D2;\n",
              "      height: 32px;\n",
              "      padding: 0 0 0 0;\n",
              "      width: 32px;\n",
              "    }\n",
              "\n",
              "    .colab-df-convert:hover {\n",
              "      background-color: #E2EBFA;\n",
              "      box-shadow: 0px 1px 2px rgba(60, 64, 67, 0.3), 0px 1px 3px 1px rgba(60, 64, 67, 0.15);\n",
              "      fill: #174EA6;\n",
              "    }\n",
              "\n",
              "    [theme=dark] .colab-df-convert {\n",
              "      background-color: #3B4455;\n",
              "      fill: #D2E3FC;\n",
              "    }\n",
              "\n",
              "    [theme=dark] .colab-df-convert:hover {\n",
              "      background-color: #434B5C;\n",
              "      box-shadow: 0px 1px 3px 1px rgba(0, 0, 0, 0.15);\n",
              "      filter: drop-shadow(0px 1px 2px rgba(0, 0, 0, 0.3));\n",
              "      fill: #FFFFFF;\n",
              "    }\n",
              "  </style>\n",
              "\n",
              "      <script>\n",
              "        const buttonEl =\n",
              "          document.querySelector('#df-e1caa117-6866-4d03-a4d7-fa8d4f998d2f button.colab-df-convert');\n",
              "        buttonEl.style.display =\n",
              "          google.colab.kernel.accessAllowed ? 'block' : 'none';\n",
              "\n",
              "        async function convertToInteractive(key) {\n",
              "          const element = document.querySelector('#df-e1caa117-6866-4d03-a4d7-fa8d4f998d2f');\n",
              "          const dataTable =\n",
              "            await google.colab.kernel.invokeFunction('convertToInteractive',\n",
              "                                                     [key], {});\n",
              "          if (!dataTable) return;\n",
              "\n",
              "          const docLinkHtml = 'Like what you see? Visit the ' +\n",
              "            '<a target=\"_blank\" href=https://colab.research.google.com/notebooks/data_table.ipynb>data table notebook</a>'\n",
              "            + ' to learn more about interactive tables.';\n",
              "          element.innerHTML = '';\n",
              "          dataTable['output_type'] = 'display_data';\n",
              "          await google.colab.output.renderOutput(dataTable, element);\n",
              "          const docLink = document.createElement('div');\n",
              "          docLink.innerHTML = docLinkHtml;\n",
              "          element.appendChild(docLink);\n",
              "        }\n",
              "      </script>\n",
              "    </div>\n",
              "  </div>\n",
              "  "
            ]
          },
          "metadata": {},
          "execution_count": 86
        }
      ]
    },
    {
      "cell_type": "code",
      "source": [
        "# create a Porter stemmer object\n",
        "porter = PorterStemmer()\n",
        "\n",
        "# define a function to apply the stemmer to a list of words\n",
        "def stem_tweet(text):\n",
        "    words = text.split()\n",
        "    stemmed_words = [porter.stem(word) for word in words]\n",
        "    return ' '.join(stemmed_words)\n",
        "\n",
        "# apply the stemmer to the 'text' column of the DataFrame\n",
        "df['stemmed_word'] = df['text'].apply(stem_tweet)\n",
        "\n",
        "# print the first 5 rows of the DataFrame\n",
        "print(df.head())"
      ],
      "metadata": {
        "id": "y14dBwgIfFf0",
        "colab": {
          "base_uri": "https://localhost:8080/"
        },
        "outputId": "2b3244c7-d185-4c11-fa1a-eac86e06ae0a"
      },
      "execution_count": 87,
      "outputs": [
        {
          "output_type": "stream",
          "name": "stdout",
          "text": [
            "           id                                               text sentiment  \\\n",
            "0  549e992a42         sooo sad i will miss you here in san diego  negative   \n",
            "1  088c60f138                             my boss is bullying me  negative   \n",
            "2  9642c003ef                      what interview leave me alone  negative   \n",
            "3  358bd9e861   sons of  why couldnt they put them on the rel...  negative   \n",
            "4  6e0c6d75b1  2am feedings for the baby are fun when he is a...  positive   \n",
            "\n",
            "                              filtered_text  \\\n",
            "0                   sooo sad miss san diego   \n",
            "1                             boss bullying   \n",
            "2                     interview leave alone   \n",
            "3  sons couldnt put releases already bought   \n",
            "4         2am feedings baby fun smiles coos   \n",
            "\n",
            "                                      tokenized_text  \\\n",
            "0         sooo sad i will miss you here in san diego   \n",
            "1                             my boss is bullying me   \n",
            "2                      what interview leave me alone   \n",
            "3  sons of why couldnt they put them on the relea...   \n",
            "4  2am feedings for the baby are fun when he is a...   \n",
            "\n",
            "                                        stemmed_word  \n",
            "0         sooo sad i will miss you here in san diego  \n",
            "1                                my boss is bulli me  \n",
            "2                        what interview leav me alon  \n",
            "3  son of whi couldnt they put them on the releas...  \n",
            "4  2am feed for the babi are fun when he is all s...  \n"
          ]
        }
      ]
    },
    {
      "cell_type": "code",
      "source": [
        "wnl = WordNetLemmatizer()\n",
        "lemma_word=wnl.lemmatize('ponies', pos='n')\n",
        "print(lemma_word)\n",
        "\n",
        "lemma_word=wnl.lemmatize('eating', pos='v')\n",
        "print(lemma_word)\n",
        "\n",
        "lemma_word=wnl.lemmatize('ate', pos='v')\n",
        "print(lemma_word)\n",
        "\n",
        "lemma_word=wnl.lemmatize('better', pos='a')\n",
        "print(lemma_word)"
      ],
      "metadata": {
        "id": "lv6vb19yfFiZ",
        "colab": {
          "base_uri": "https://localhost:8080/"
        },
        "outputId": "820f0b8c-801a-417d-b75e-b511177b34b8"
      },
      "execution_count": 88,
      "outputs": [
        {
          "output_type": "stream",
          "name": "stdout",
          "text": [
            "pony\n",
            "eat\n",
            "eat\n",
            "good\n"
          ]
        }
      ]
    },
    {
      "cell_type": "code",
      "source": [
        "wnl = WordNetLemmatizer()\n",
        "\n",
        "list_lemmatized_sentences = []\n",
        "\n",
        "# iterate through each list of tokens and lemmatize the tokens\n",
        "for tokens in list_tokenized_text:\n",
        "  lemma_words = [wnl.lemmatize(word) for word in tokens]\n",
        "  lemma_sentence = ' '.join(lemma_words)\n",
        "  list_lemmatized_sentences.append(lemma_sentence)\n",
        "  \n",
        "print(list_lemmatized_sentences[:2])\n",
        "\n",
        "# add new column to data frame\n",
        "df['lemmatized_text'] = list_lemmatized_sentences\n",
        "\n",
        "df.head()"
      ],
      "metadata": {
        "id": "KkvZX_CbfFk7",
        "colab": {
          "base_uri": "https://localhost:8080/",
          "height": 320
        },
        "outputId": "2be60dbe-70c4-4c6b-83d8-7f560fb0b54a"
      },
      "execution_count": 89,
      "outputs": [
        {
          "output_type": "stream",
          "name": "stdout",
          "text": [
            "['sooo sad i will miss you here in san diego', 'my bos is bullying me']\n"
          ]
        },
        {
          "output_type": "execute_result",
          "data": {
            "text/plain": [
              "           id                                               text sentiment  \\\n",
              "0  549e992a42         sooo sad i will miss you here in san diego  negative   \n",
              "1  088c60f138                             my boss is bullying me  negative   \n",
              "2  9642c003ef                      what interview leave me alone  negative   \n",
              "3  358bd9e861   sons of  why couldnt they put them on the rel...  negative   \n",
              "4  6e0c6d75b1  2am feedings for the baby are fun when he is a...  positive   \n",
              "\n",
              "                              filtered_text  \\\n",
              "0                   sooo sad miss san diego   \n",
              "1                             boss bullying   \n",
              "2                     interview leave alone   \n",
              "3  sons couldnt put releases already bought   \n",
              "4         2am feedings baby fun smiles coos   \n",
              "\n",
              "                                      tokenized_text  \\\n",
              "0         sooo sad i will miss you here in san diego   \n",
              "1                             my boss is bullying me   \n",
              "2                      what interview leave me alone   \n",
              "3  sons of why couldnt they put them on the relea...   \n",
              "4  2am feedings for the baby are fun when he is a...   \n",
              "\n",
              "                                        stemmed_word  \\\n",
              "0         sooo sad i will miss you here in san diego   \n",
              "1                                my boss is bulli me   \n",
              "2                        what interview leav me alon   \n",
              "3  son of whi couldnt they put them on the releas...   \n",
              "4  2am feed for the babi are fun when he is all s...   \n",
              "\n",
              "                                     lemmatized_text  \n",
              "0         sooo sad i will miss you here in san diego  \n",
              "1                              my bos is bullying me  \n",
              "2                      what interview leave me alone  \n",
              "3  son of why couldnt they put them on the releas...  \n",
              "4  2am feeding for the baby are fun when he is al...  "
            ],
            "text/html": [
              "\n",
              "  <div id=\"df-0139d6ca-d274-49a4-8d31-a1325b560390\">\n",
              "    <div class=\"colab-df-container\">\n",
              "      <div>\n",
              "<style scoped>\n",
              "    .dataframe tbody tr th:only-of-type {\n",
              "        vertical-align: middle;\n",
              "    }\n",
              "\n",
              "    .dataframe tbody tr th {\n",
              "        vertical-align: top;\n",
              "    }\n",
              "\n",
              "    .dataframe thead th {\n",
              "        text-align: right;\n",
              "    }\n",
              "</style>\n",
              "<table border=\"1\" class=\"dataframe\">\n",
              "  <thead>\n",
              "    <tr style=\"text-align: right;\">\n",
              "      <th></th>\n",
              "      <th>id</th>\n",
              "      <th>text</th>\n",
              "      <th>sentiment</th>\n",
              "      <th>filtered_text</th>\n",
              "      <th>tokenized_text</th>\n",
              "      <th>stemmed_word</th>\n",
              "      <th>lemmatized_text</th>\n",
              "    </tr>\n",
              "  </thead>\n",
              "  <tbody>\n",
              "    <tr>\n",
              "      <th>0</th>\n",
              "      <td>549e992a42</td>\n",
              "      <td>sooo sad i will miss you here in san diego</td>\n",
              "      <td>negative</td>\n",
              "      <td>sooo sad miss san diego</td>\n",
              "      <td>sooo sad i will miss you here in san diego</td>\n",
              "      <td>sooo sad i will miss you here in san diego</td>\n",
              "      <td>sooo sad i will miss you here in san diego</td>\n",
              "    </tr>\n",
              "    <tr>\n",
              "      <th>1</th>\n",
              "      <td>088c60f138</td>\n",
              "      <td>my boss is bullying me</td>\n",
              "      <td>negative</td>\n",
              "      <td>boss bullying</td>\n",
              "      <td>my boss is bullying me</td>\n",
              "      <td>my boss is bulli me</td>\n",
              "      <td>my bos is bullying me</td>\n",
              "    </tr>\n",
              "    <tr>\n",
              "      <th>2</th>\n",
              "      <td>9642c003ef</td>\n",
              "      <td>what interview leave me alone</td>\n",
              "      <td>negative</td>\n",
              "      <td>interview leave alone</td>\n",
              "      <td>what interview leave me alone</td>\n",
              "      <td>what interview leav me alon</td>\n",
              "      <td>what interview leave me alone</td>\n",
              "    </tr>\n",
              "    <tr>\n",
              "      <th>3</th>\n",
              "      <td>358bd9e861</td>\n",
              "      <td>sons of  why couldnt they put them on the rel...</td>\n",
              "      <td>negative</td>\n",
              "      <td>sons couldnt put releases already bought</td>\n",
              "      <td>sons of why couldnt they put them on the relea...</td>\n",
              "      <td>son of whi couldnt they put them on the releas...</td>\n",
              "      <td>son of why couldnt they put them on the releas...</td>\n",
              "    </tr>\n",
              "    <tr>\n",
              "      <th>4</th>\n",
              "      <td>6e0c6d75b1</td>\n",
              "      <td>2am feedings for the baby are fun when he is a...</td>\n",
              "      <td>positive</td>\n",
              "      <td>2am feedings baby fun smiles coos</td>\n",
              "      <td>2am feedings for the baby are fun when he is a...</td>\n",
              "      <td>2am feed for the babi are fun when he is all s...</td>\n",
              "      <td>2am feeding for the baby are fun when he is al...</td>\n",
              "    </tr>\n",
              "  </tbody>\n",
              "</table>\n",
              "</div>\n",
              "      <button class=\"colab-df-convert\" onclick=\"convertToInteractive('df-0139d6ca-d274-49a4-8d31-a1325b560390')\"\n",
              "              title=\"Convert this dataframe to an interactive table.\"\n",
              "              style=\"display:none;\">\n",
              "        \n",
              "  <svg xmlns=\"http://www.w3.org/2000/svg\" height=\"24px\"viewBox=\"0 0 24 24\"\n",
              "       width=\"24px\">\n",
              "    <path d=\"M0 0h24v24H0V0z\" fill=\"none\"/>\n",
              "    <path d=\"M18.56 5.44l.94 2.06.94-2.06 2.06-.94-2.06-.94-.94-2.06-.94 2.06-2.06.94zm-11 1L8.5 8.5l.94-2.06 2.06-.94-2.06-.94L8.5 2.5l-.94 2.06-2.06.94zm10 10l.94 2.06.94-2.06 2.06-.94-2.06-.94-.94-2.06-.94 2.06-2.06.94z\"/><path d=\"M17.41 7.96l-1.37-1.37c-.4-.4-.92-.59-1.43-.59-.52 0-1.04.2-1.43.59L10.3 9.45l-7.72 7.72c-.78.78-.78 2.05 0 2.83L4 21.41c.39.39.9.59 1.41.59.51 0 1.02-.2 1.41-.59l7.78-7.78 2.81-2.81c.8-.78.8-2.07 0-2.86zM5.41 20L4 18.59l7.72-7.72 1.47 1.35L5.41 20z\"/>\n",
              "  </svg>\n",
              "      </button>\n",
              "      \n",
              "  <style>\n",
              "    .colab-df-container {\n",
              "      display:flex;\n",
              "      flex-wrap:wrap;\n",
              "      gap: 12px;\n",
              "    }\n",
              "\n",
              "    .colab-df-convert {\n",
              "      background-color: #E8F0FE;\n",
              "      border: none;\n",
              "      border-radius: 50%;\n",
              "      cursor: pointer;\n",
              "      display: none;\n",
              "      fill: #1967D2;\n",
              "      height: 32px;\n",
              "      padding: 0 0 0 0;\n",
              "      width: 32px;\n",
              "    }\n",
              "\n",
              "    .colab-df-convert:hover {\n",
              "      background-color: #E2EBFA;\n",
              "      box-shadow: 0px 1px 2px rgba(60, 64, 67, 0.3), 0px 1px 3px 1px rgba(60, 64, 67, 0.15);\n",
              "      fill: #174EA6;\n",
              "    }\n",
              "\n",
              "    [theme=dark] .colab-df-convert {\n",
              "      background-color: #3B4455;\n",
              "      fill: #D2E3FC;\n",
              "    }\n",
              "\n",
              "    [theme=dark] .colab-df-convert:hover {\n",
              "      background-color: #434B5C;\n",
              "      box-shadow: 0px 1px 3px 1px rgba(0, 0, 0, 0.15);\n",
              "      filter: drop-shadow(0px 1px 2px rgba(0, 0, 0, 0.3));\n",
              "      fill: #FFFFFF;\n",
              "    }\n",
              "  </style>\n",
              "\n",
              "      <script>\n",
              "        const buttonEl =\n",
              "          document.querySelector('#df-0139d6ca-d274-49a4-8d31-a1325b560390 button.colab-df-convert');\n",
              "        buttonEl.style.display =\n",
              "          google.colab.kernel.accessAllowed ? 'block' : 'none';\n",
              "\n",
              "        async function convertToInteractive(key) {\n",
              "          const element = document.querySelector('#df-0139d6ca-d274-49a4-8d31-a1325b560390');\n",
              "          const dataTable =\n",
              "            await google.colab.kernel.invokeFunction('convertToInteractive',\n",
              "                                                     [key], {});\n",
              "          if (!dataTable) return;\n",
              "\n",
              "          const docLinkHtml = 'Like what you see? Visit the ' +\n",
              "            '<a target=\"_blank\" href=https://colab.research.google.com/notebooks/data_table.ipynb>data table notebook</a>'\n",
              "            + ' to learn more about interactive tables.';\n",
              "          element.innerHTML = '';\n",
              "          dataTable['output_type'] = 'display_data';\n",
              "          await google.colab.output.renderOutput(dataTable, element);\n",
              "          const docLink = document.createElement('div');\n",
              "          docLink.innerHTML = docLinkHtml;\n",
              "          element.appendChild(docLink);\n",
              "        }\n",
              "      </script>\n",
              "    </div>\n",
              "  </div>\n",
              "  "
            ]
          },
          "metadata": {},
          "execution_count": 89
        }
      ]
    },
    {
      "cell_type": "code",
      "source": [
        "def get_wordnet_pos(word):\n",
        "    tag = nltk.pos_tag([word])[0][1][0].upper()\n",
        "    tag_dict = {\"J\": wordnet.ADJ,\n",
        "                \"N\": wordnet.NOUN,\n",
        "                \"V\": wordnet.VERB,\n",
        "                \"R\": wordnet.ADV}"
      ],
      "metadata": {
        "id": "5Ees0ro2fFnM"
      },
      "execution_count": 90,
      "outputs": []
    },
    {
      "cell_type": "code",
      "source": [
        "# use raw text\n",
        "X_train_text, X_val_text, y_train, y_val = train_test_split(df['text'], df['sentiment'], test_size=0.3, random_state=RANDOM_SEED)\n",
        "print(f'training data set size: {len(X_train_text)}')\n",
        "print(f'validation data set size: {len(X_val_text)}')\n",
        "\n",
        "#use stop words\n",
        "X_train_filtered_text, X_val_filtered_text, y_train, y_val = train_test_split(df['filtered_text'], df['sentiment'], test_size=0.3, random_state=RANDOM_SEED)\n",
        "print(f'training data set size: {len(X_train_filtered_text)}')\n",
        "print(f'validation data set size: {len(X_val_filtered_text)}')\n",
        "\n",
        "# use tokenised text\n",
        "X_train_tokenized_text, X_val_tokenized_text, y_train, y_val = train_test_split(df['tokenized_text'], df['sentiment'], test_size=0.3, random_state=RANDOM_SEED)\n",
        "print(f'training data set size: {len(X_train_tokenized_text)}')\n",
        "print(f'validation data set size: {len(X_val_tokenized_text)}')\n",
        "\n",
        "#use stemmed text\n",
        "X_train_stemmed_word, X_val_stemmed_word, y_train, y_val = train_test_split(df['stemmed_word'], df['sentiment'], test_size=0.3, random_state=RANDOM_SEED)\n",
        "print(f'training data set size: {len(X_train_stemmed_word)}')\n",
        "print(f'validation data set size: {len(X_val_stemmed_word)}')\n",
        "\n",
        "\n",
        "# use lemmatized text\n",
        "X_train_lemmatized_text, X_val_lemmatized_text, y_train, y_val = train_test_split(df['lemmatized_text'], df['sentiment'], test_size=0.3, random_state=RANDOM_SEED)\n",
        "print(f'training data set size: {len(X_train_lemmatized_text)}')\n",
        "print(f'validation data set size: {len(X_val_lemmatized_text)}')\n",
        "\n",
        "# define class_names to using with plot_confusion_matrix\n",
        "class_list = ['positive', 'negative']"
      ],
      "metadata": {
        "id": "JgTUNjVufFp2",
        "colab": {
          "base_uri": "https://localhost:8080/"
        },
        "outputId": "e941f512-8bbf-44ab-a312-b62273518e02"
      },
      "execution_count": 91,
      "outputs": [
        {
          "output_type": "stream",
          "name": "stdout",
          "text": [
            "training data set size: 11454\n",
            "validation data set size: 4909\n",
            "training data set size: 11454\n",
            "validation data set size: 4909\n",
            "training data set size: 11454\n",
            "validation data set size: 4909\n",
            "training data set size: 11454\n",
            "validation data set size: 4909\n",
            "training data set size: 11454\n",
            "validation data set size: 4909\n"
          ]
        }
      ]
    },
    {
      "cell_type": "code",
      "source": [
        "# plotting confusion matrix\n",
        "def plot_confusion_matrix(matrix, class_names):\n",
        "    plt.clf()\n",
        "    plt.imshow(matrix, interpolation='nearest', cmap=plt.cm.Set2_r)\n",
        "    plt.title('Confusion Matrix')\n",
        "    plt.ylabel('Actual')\n",
        "    plt.xlabel('Predicted')\n",
        "    tick_marks = np.arange(len(class_names))\n",
        "    plt.xticks(tick_marks, class_names)\n",
        "    plt.yticks(tick_marks, class_names)\n",
        "    s = [['TP','FN'], ['FP', 'TN']]\n",
        "\n",
        "    for i in range(2):\n",
        "        for j in range(2):\n",
        "            plt.text(j,i, str(s[i][j])+\" = \"+str(matrix[i][j]))\n",
        "    plt.show()\n",
        "\n",
        "# method to calculate evaluation results\n",
        "def evaluate(actuals, predictions, class_names):\n",
        "  accuracy = metrics.accuracy_score(actuals, predictions)\n",
        "  confusion_matrix = metrics.confusion_matrix(actuals, predictions, labels=class_names)\n",
        "  return accuracy, confusion_matrix"
      ],
      "metadata": {
        "id": "-t_1QuXBfFsa"
      },
      "execution_count": 92,
      "outputs": []
    },
    {
      "cell_type": "code",
      "source": [
        "# method to train and predict using SVM classifier\n",
        "def svm_predictions(X_train, X_val, y_train, y_val, class_names):\n",
        "  # build model\n",
        "  clf = svm.SVC(kernel='linear', random_state=RANDOM_SEED) \n",
        "  clf.fit(X_train, y_train)\n",
        "\n",
        "  # Make predictions on test data\n",
        "  y_pred = clf.predict(X_val)\n",
        "\n",
        "  # evalution\n",
        "  accuracy, confusion_matrix = evaluate(y_val, y_pred, class_names)\n",
        "  print(f'Accuracy: {accuracy}')\n",
        "  plot_confusion_matrix(confusion_matrix, class_names)\n",
        "\n",
        "  return clf"
      ],
      "metadata": {
        "id": "j5GUmCdffFuq"
      },
      "execution_count": 93,
      "outputs": []
    },
    {
      "cell_type": "markdown",
      "source": [
        "**Module** **1**"
      ],
      "metadata": {
        "id": "udN9tPFEwl4q"
      }
    },
    {
      "cell_type": "code",
      "source": [
        "vectorizer1 = CountVectorizer()  # default: lowercase=True, ngram_range=(1,1)\n",
        "vectorizer1.fit(X_train_text)\n",
        "\n",
        "# convert train and test text data to numeric vectors\n",
        "X_train = vectorizer1.transform(X_train_text)\n",
        "X_val = vectorizer1.transform(X_val_text)\n",
        "\n",
        "m1 = svm_predictions(X_train, X_val, y_train, y_val, class_list)"
      ],
      "metadata": {
        "id": "cfGNeNQpfFw7",
        "colab": {
          "base_uri": "https://localhost:8080/",
          "height": 313
        },
        "outputId": "07c3ad0f-3ac9-4d69-fef5-8d50bdaf9914"
      },
      "execution_count": 94,
      "outputs": [
        {
          "output_type": "stream",
          "name": "stdout",
          "text": [
            "Accuracy: 0.8602566714198411\n"
          ]
        },
        {
          "output_type": "display_data",
          "data": {
            "text/plain": [
              "<Figure size 432x288 with 1 Axes>"
            ],
            "image/png": "[encoded data removed]"
          },
          "metadata": {
            "needs_background": "light"
          }
        }
      ]
    },
    {
      "cell_type": "markdown",
      "source": [
        "**Module** **2**"
      ],
      "metadata": {
        "id": "vdWO2IsQwrFN"
      }
    },
    {
      "cell_type": "code",
      "source": [
        "vectorizer2 = TfidfVectorizer()  # default: lowercase=True, ngram_range=(1,1)\n",
        "vectorizer2.fit(X_train_text)\n",
        "\n",
        "# convert train and test text data to numeric vectors\n",
        "X_train = vectorizer2.transform(X_train_text)\n",
        "X_val = vectorizer2.transform(X_val_text)\n",
        "\n",
        "m2 = svm_predictions(X_train, X_val, y_train, y_val, class_list)"
      ],
      "metadata": {
        "id": "B7bfzSD3fFzd",
        "colab": {
          "base_uri": "https://localhost:8080/",
          "height": 313
        },
        "outputId": "64b22ccb-89c9-45f0-ada4-b61a37853728"
      },
      "execution_count": 95,
      "outputs": [
        {
          "output_type": "stream",
          "name": "stdout",
          "text": [
            "Accuracy: 0.8677938480342229\n"
          ]
        },
        {
          "output_type": "display_data",
          "data": {
            "text/plain": [
              "<Figure size 432x288 with 1 Axes>"
            ],
            "image/png": "[encoded data removed]"
          },
          "metadata": {
            "needs_background": "light"
          }
        }
      ]
    },
    {
      "cell_type": "markdown",
      "source": [
        "**Module** **3**"
      ],
      "metadata": {
        "id": "mRfKFxFhw72S"
      }
    },
    {
      "cell_type": "code",
      "source": [
        "vectorizer3 = CountVectorizer()  # default: lowercase=True, ngram_range=(1,1)\n",
        "vectorizer3.fit(X_train_filtered_text)\n",
        "\n",
        "# convert train and test text data to numeric vectors\n",
        "X_train = vectorizer3.transform(X_train_filtered_text)\n",
        "X_val = vectorizer3.transform(X_val_filtered_text)\n",
        "\n",
        "m3 = svm_predictions(X_train, X_val, y_train, y_val, class_list)"
      ],
      "metadata": {
        "id": "9dNuNKCofF1R",
        "colab": {
          "base_uri": "https://localhost:8080/",
          "height": 313
        },
        "outputId": "6e290502-64ae-4ff9-cad0-f459fd64a6e1"
      },
      "execution_count": 96,
      "outputs": [
        {
          "output_type": "stream",
          "name": "stdout",
          "text": [
            "Accuracy: 0.8447749032389489\n"
          ]
        },
        {
          "output_type": "display_data",
          "data": {
            "text/plain": [
              "<Figure size 432x288 with 1 Axes>"
            ],
            "image/png": "[encoded data removed]"
          },
          "metadata": {
            "needs_background": "light"
          }
        }
      ]
    },
    {
      "cell_type": "markdown",
      "source": [
        "**Module** **4**"
      ],
      "metadata": {
        "id": "BXbnCDNDxlm_"
      }
    },
    {
      "cell_type": "code",
      "source": [
        "vectorizer4 = TfidfVectorizer()  # default: lowercase=True, ngram_range=(1,1)\n",
        "vectorizer4.fit(X_train_filtered_text)\n",
        "\n",
        "# convert train and test text data to numeric vectors\n",
        "X_train = vectorizer4.transform(X_train_filtered_text)\n",
        "X_val = vectorizer4.transform(X_val_filtered_text)\n",
        "\n",
        "m4 = svm_predictions(X_train, X_val, y_train, y_val, class_list)"
      ],
      "metadata": {
        "id": "yoLwAD0ErsdE",
        "colab": {
          "base_uri": "https://localhost:8080/",
          "height": 313
        },
        "outputId": "e34fe959-e32d-499d-96f3-1afa3580afe6"
      },
      "execution_count": 97,
      "outputs": [
        {
          "output_type": "stream",
          "name": "stdout",
          "text": [
            "Accuracy: 0.8563862293746181\n"
          ]
        },
        {
          "output_type": "display_data",
          "data": {
            "text/plain": [
              "<Figure size 432x288 with 1 Axes>"
            ],
            "image/png": "[encoded data removed]"
          },
          "metadata": {
            "needs_background": "light"
          }
        }
      ]
    },
    {
      "cell_type": "markdown",
      "source": [
        "**Module** **5**"
      ],
      "metadata": {
        "id": "bbH0JfeLxprQ"
      }
    },
    {
      "cell_type": "code",
      "source": [],
      "metadata": {
        "id": "caOrYlhkfF3z"
      },
      "execution_count": 97,
      "outputs": []
    },
    {
      "cell_type": "code",
      "source": [
        "vectorizer5 = CountVectorizer()  # default: lowercase=True, ngram_range=(1,1)\n",
        "vectorizer5.fit(X_train_tokenized_text)\n",
        "# convert train and test text data to numeric vectors\n",
        "X_train = vectorizer5.transform(X_train_tokenized_text)\n",
        "X_val = vectorizer5.transform(X_val_tokenized_text)\n",
        "\n",
        "m5 = svm_predictions(X_train, X_val, y_train, y_val, class_list)"
      ],
      "metadata": {
        "id": "FI4z95YPrJ9u",
        "colab": {
          "base_uri": "https://localhost:8080/",
          "height": 313
        },
        "outputId": "fc1372f7-6449-4855-d779-295e1fa3499c"
      },
      "execution_count": 98,
      "outputs": [
        {
          "output_type": "stream",
          "name": "stdout",
          "text": [
            "Accuracy: 0.8610715013240986\n"
          ]
        },
        {
          "output_type": "display_data",
          "data": {
            "text/plain": [
              "<Figure size 432x288 with 1 Axes>"
            ],
            "image/png": "[encoded data removed]"
          },
          "metadata": {
            "needs_background": "light"
          }
        }
      ]
    },
    {
      "cell_type": "markdown",
      "source": [
        "**Module** **6**"
      ],
      "metadata": {
        "id": "rwYydEVsxtee"
      }
    },
    {
      "cell_type": "code",
      "source": [
        "vectorizer6 = TfidfVectorizer()  # default: lowercase=True, ngram_range=(1,1)\n",
        "vectorizer6.fit(X_train_tokenized_text)\n",
        "# convert train and test text data to numeric vectors\n",
        "X_train = vectorizer6.transform(X_train_tokenized_text)\n",
        "X_val = vectorizer6.transform(X_val_tokenized_text)\n",
        "\n",
        "m6 = svm_predictions(X_train, X_val, y_train, y_val, class_list)"
      ],
      "metadata": {
        "id": "y_1263RLrR1f",
        "colab": {
          "base_uri": "https://localhost:8080/",
          "height": 313
        },
        "outputId": "ad5884d1-05a5-4f41-c895-d4e90900bb0a"
      },
      "execution_count": 99,
      "outputs": [
        {
          "output_type": "stream",
          "name": "stdout",
          "text": [
            "Accuracy: 0.8675901405581585\n"
          ]
        },
        {
          "output_type": "display_data",
          "data": {
            "text/plain": [
              "<Figure size 432x288 with 1 Axes>"
            ],
            "image/png": "[encoded data removed]"
          },
          "metadata": {
            "needs_background": "light"
          }
        }
      ]
    },
    {
      "cell_type": "markdown",
      "source": [
        "**Module** **7**"
      ],
      "metadata": {
        "id": "UVEFXFktxxls"
      }
    },
    {
      "cell_type": "code",
      "source": [
        "vectorizer7 = CountVectorizer()  # default: lowercase=True, ngram_range=(1,1)\n",
        "vectorizer7.fit(X_train_stemmed_word)\n",
        "# convert train and test text data to numeric vectors\n",
        "X_train = vectorizer7.transform(X_train_stemmed_word)\n",
        "X_val = vectorizer7.transform(X_val_stemmed_word)\n",
        "\n",
        "m7 = svm_predictions(X_train, X_val, y_train, y_val, class_list)"
      ],
      "metadata": {
        "id": "bwGrILpHrXxw",
        "colab": {
          "base_uri": "https://localhost:8080/",
          "height": 313
        },
        "outputId": "9137638a-6418-4a93-ee78-4c5ec784ee47"
      },
      "execution_count": 100,
      "outputs": [
        {
          "output_type": "stream",
          "name": "stdout",
          "text": [
            "Accuracy: 0.8602566714198411\n"
          ]
        },
        {
          "output_type": "display_data",
          "data": {
            "text/plain": [
              "<Figure size 432x288 with 1 Axes>"
            ],
            "image/png": "[encoded data removed]"
          },
          "metadata": {
            "needs_background": "light"
          }
        }
      ]
    },
    {
      "cell_type": "markdown",
      "source": [
        "**Module** **8**"
      ],
      "metadata": {
        "id": "bJGROQNex3_w"
      }
    },
    {
      "cell_type": "code",
      "source": [
        "vectorizer8 = TfidfVectorizer()  # default: lowercase=True, ngram_range=(1,1)\n",
        "vectorizer8.fit(X_train_stemmed_word)\n",
        "# convert train and test text data to numeric vectors\n",
        "X_train = vectorizer8.transform(X_train_stemmed_word)\n",
        "X_val = vectorizer8.transform(X_val_stemmed_word)\n",
        "\n",
        "M8 = svm_predictions(X_train, X_val, y_train, y_val, class_list)"
      ],
      "metadata": {
        "id": "paCyqMXErdM4",
        "colab": {
          "base_uri": "https://localhost:8080/",
          "height": 313
        },
        "outputId": "fcb595c1-7e9c-431c-8718-4c096ff196b0"
      },
      "execution_count": 101,
      "outputs": [
        {
          "output_type": "stream",
          "name": "stdout",
          "text": [
            "Accuracy: 0.8737013648400896\n"
          ]
        },
        {
          "output_type": "display_data",
          "data": {
            "text/plain": [
              "<Figure size 432x288 with 1 Axes>"
            ],
            "image/png": "[encoded data removed]"
          },
          "metadata": {
            "needs_background": "light"
          }
        }
      ]
    },
    {
      "cell_type": "markdown",
      "source": [
        "**Module** **9**"
      ],
      "metadata": {
        "id": "EcGUuW9oyQpp"
      }
    },
    {
      "cell_type": "code",
      "source": [
        "vectorizer9 = CountVectorizer()  # default: lowercase=True, ngram_range=(1,1)\n",
        "vectorizer9.fit(X_train_lemmatized_text)\n",
        "# convert train and test text data to numeric vectors\n",
        "X_train = vectorizer9.transform(X_train_lemmatized_text)\n",
        "X_val = vectorizer9.transform(X_val_lemmatized_text)\n",
        "\n",
        "m9 = svm_predictions(X_train, X_val, y_train, y_val, class_list)"
      ],
      "metadata": {
        "id": "x3fOYEzZrjMX",
        "colab": {
          "base_uri": "https://localhost:8080/",
          "height": 313
        },
        "outputId": "4983614a-b406-4181-ad5d-b65de55e2166"
      },
      "execution_count": 102,
      "outputs": [
        {
          "output_type": "stream",
          "name": "stdout",
          "text": [
            "Accuracy: 0.8618863312283561\n"
          ]
        },
        {
          "output_type": "display_data",
          "data": {
            "text/plain": [
              "<Figure size 432x288 with 1 Axes>"
            ],
            "image/png": "[encoded data removed]"
          },
          "metadata": {
            "needs_background": "light"
          }
        }
      ]
    },
    {
      "cell_type": "code",
      "source": [
        "vectorizer10 = TfidfVectorizer()  # default: lowercase=True, ngram_range=(1,1)\n",
        "vectorizer10.fit(X_train_lemmatized_text)\n",
        "# convert train and test text data to numeric vectors\n",
        "X_train = vectorizer10.transform(X_train_lemmatized_text)\n",
        "X_val = vectorizer10.transform(X_val_lemmatized_text)\n",
        "\n",
        "m10 = svm_predictions(X_train, X_val, y_train, y_val, class_list)"
      ],
      "metadata": {
        "id": "jF497jLOsKvi",
        "colab": {
          "base_uri": "https://localhost:8080/",
          "height": 313
        },
        "outputId": "e0cca193-65ed-4b0a-d265-c3e864c9d189"
      },
      "execution_count": 103,
      "outputs": [
        {
          "output_type": "stream",
          "name": "stdout",
          "text": [
            "Accuracy: 0.8659604807496435\n"
          ]
        },
        {
          "output_type": "display_data",
          "data": {
            "text/plain": [
              "<Figure size 432x288 with 1 Axes>"
            ],
            "image/png": "[encoded data removed]"
          },
          "metadata": {
            "needs_background": "light"
          }
        }
      ]
    },
    {
      "cell_type": "markdown",
      "source": [
        "#Using Naive Bayes to predict."
      ],
      "metadata": {
        "id": "F4gA6lh14AaX"
      }
    },
    {
      "cell_type": "code",
      "source": [
        "# method to train and predict using Decision Tree\n",
        "def gnb_predictions(X_train, X_val, y_train, y_val, class_list):\n",
        "  # build model\n",
        "  clf = GaussianNB()\n",
        "  clf.fit(X_train.toarray(), y_train)\n",
        "\n",
        "  # Make predictions on test data\n",
        "  y_pred = clf.predict(X_val.toarray())\n",
        "\n",
        "  # evalution\n",
        "  accuracy, confusion_matrix = evaluate(y_val, y_pred, class_list)\n",
        "  print(f'Accuracy: {accuracy}')\n",
        "  plot_confusion_matrix(confusion_matrix, class_list)\n",
        "\n",
        "  return clf"
      ],
      "metadata": {
        "id": "uznljPnQsQrH"
      },
      "execution_count": 104,
      "outputs": []
    },
    {
      "cell_type": "markdown",
      "source": [
        "* **Model** **1**"
      ],
      "metadata": {
        "id": "1X5HOM7d4lqi"
      }
    },
    {
      "cell_type": "code",
      "source": [
        "vectorizer21 = CountVectorizer()\n",
        "vectorizer21.fit(X_train_text)\n",
        "X_train = vectorizer21.transform(X_train_text)\n",
        "X_val = vectorizer21.transform(X_val_text)\n",
        "\n",
        "m21 = gnb_predictions(X_train, X_val, y_train, y_val, class_list)"
      ],
      "metadata": {
        "id": "lpFuwJcI4Mof",
        "colab": {
          "base_uri": "https://localhost:8080/",
          "height": 313
        },
        "outputId": "e12aefc8-dd4e-4308-8153-cf858b097dac"
      },
      "execution_count": 105,
      "outputs": [
        {
          "output_type": "stream",
          "name": "stdout",
          "text": [
            "Accuracy: 0.6129557954776941\n"
          ]
        },
        {
          "output_type": "display_data",
          "data": {
            "text/plain": [
              "<Figure size 432x288 with 1 Axes>"
            ],
            "image/png": "[encoded data removed]"
          },
          "metadata": {
            "needs_background": "light"
          }
        }
      ]
    },
    {
      "cell_type": "markdown",
      "source": [
        "**DT** **Model** **2**"
      ],
      "metadata": {
        "id": "olOhHRM848Dj"
      }
    },
    {
      "cell_type": "code",
      "source": [
        "vectorizer22 = TfidfVectorizer()\n",
        "vectorizer22.fit(X_train_text)\n",
        "X_train = vectorizer22.transform(X_train_text)\n",
        "X_val = vectorizer22.transform(X_val_text)\n",
        "\n",
        "m22 = gnb_predictions(X_train, X_val, y_train, y_val, class_list)"
      ],
      "metadata": {
        "id": "88qTBV1r4gDb",
        "colab": {
          "base_uri": "https://localhost:8080/",
          "height": 313
        },
        "outputId": "2fea97d6-af07-41e9-eaa9-e69941cdb4bd"
      },
      "execution_count": 106,
      "outputs": [
        {
          "output_type": "stream",
          "name": "stdout",
          "text": [
            "Accuracy: 0.6339376655123243\n"
          ]
        },
        {
          "output_type": "display_data",
          "data": {
            "text/plain": [
              "<Figure size 432x288 with 1 Axes>"
            ],
            "image/png": "[encoded data removed]"
          },
          "metadata": {
            "needs_background": "light"
          }
        }
      ]
    },
    {
      "cell_type": "markdown",
      "source": [
        "**DT** **Model** **3**"
      ],
      "metadata": {
        "id": "vplpPADI5Cri"
      }
    },
    {
      "cell_type": "code",
      "source": [
        "vectorizer23 = CountVectorizer()  # default: lowercase=True, ngram_range=(1,1)\n",
        "vectorizer23.fit(X_train_filtered_text)\n",
        "\n",
        "# convert train and test text data to numeric vectors\n",
        "X_train = vectorizer23.transform(X_train_filtered_text)\n",
        "X_val = vectorizer23.transform(X_val_filtered_text)\n",
        "\n",
        "m23 = gnb_predictions(X_train, X_val, y_train, y_val, class_list)"
      ],
      "metadata": {
        "id": "yXjII7C05Rau",
        "colab": {
          "base_uri": "https://localhost:8080/",
          "height": 313
        },
        "outputId": "efe38571-1734-4241-8071-eae56c4b8819"
      },
      "execution_count": 107,
      "outputs": [
        {
          "output_type": "stream",
          "name": "stdout",
          "text": [
            "Accuracy: 0.6088816459564066\n"
          ]
        },
        {
          "output_type": "display_data",
          "data": {
            "text/plain": [
              "<Figure size 432x288 with 1 Axes>"
            ],
            "image/png": "[encoded data removed]"
          },
          "metadata": {
            "needs_background": "light"
          }
        }
      ]
    },
    {
      "cell_type": "code",
      "source": [],
      "metadata": {
        "id": "mZBqZrpYChlf"
      },
      "execution_count": 107,
      "outputs": []
    },
    {
      "cell_type": "markdown",
      "source": [
        "Module 8 has produced the best results. The test dataset is now applied on module 8 since this will produced the best results as indicated by the training data set.\n",
        "\n",
        "**Importing the test data set**"
      ],
      "metadata": {
        "id": "CEztE2ks6xVq"
      }
    },
    {
      "cell_type": "code",
      "source": [
        "df_test = pd.read_csv('/content/test.csv')"
      ],
      "metadata": {
        "id": "b4fOEedH5VR0"
      },
      "execution_count": 108,
      "outputs": []
    },
    {
      "cell_type": "markdown",
      "source": [
        "Visualiation of the test data set."
      ],
      "metadata": {
        "id": "MP-gh7GszeRD"
      }
    },
    {
      "cell_type": "code",
      "source": [
        "df_test.head()"
      ],
      "metadata": {
        "id": "BBXhCVyY7D4U",
        "colab": {
          "base_uri": "https://localhost:8080/",
          "height": 206
        },
        "outputId": "e6a9fe82-741d-4052-c219-1e3bc2c3c678"
      },
      "execution_count": 109,
      "outputs": [
        {
          "output_type": "execute_result",
          "data": {
            "text/plain": [
              "           id                                               text\n",
              "0  96d74cb729   Shanghai is also really exciting (precisely -...\n",
              "1  eee518ae67  Recession hit Veronique Branquinho, she has to...\n",
              "2  01082688c6                                        happy bday!\n",
              "3  33987a8ee5             http://twitpic.com/4w75p - I like it!!\n",
              "4  726e501993                    that`s great!! weee!! visitors!"
            ],
            "text/html": [
              "\n",
              "  <div id=\"df-cf9339cb-544c-4805-81ac-7c9543a15215\">\n",
              "    <div class=\"colab-df-container\">\n",
              "      <div>\n",
              "<style scoped>\n",
              "    .dataframe tbody tr th:only-of-type {\n",
              "        vertical-align: middle;\n",
              "    }\n",
              "\n",
              "    .dataframe tbody tr th {\n",
              "        vertical-align: top;\n",
              "    }\n",
              "\n",
              "    .dataframe thead th {\n",
              "        text-align: right;\n",
              "    }\n",
              "</style>\n",
              "<table border=\"1\" class=\"dataframe\">\n",
              "  <thead>\n",
              "    <tr style=\"text-align: right;\">\n",
              "      <th></th>\n",
              "      <th>id</th>\n",
              "      <th>text</th>\n",
              "    </tr>\n",
              "  </thead>\n",
              "  <tbody>\n",
              "    <tr>\n",
              "      <th>0</th>\n",
              "      <td>96d74cb729</td>\n",
              "      <td>Shanghai is also really exciting (precisely -...</td>\n",
              "    </tr>\n",
              "    <tr>\n",
              "      <th>1</th>\n",
              "      <td>eee518ae67</td>\n",
              "      <td>Recession hit Veronique Branquinho, she has to...</td>\n",
              "    </tr>\n",
              "    <tr>\n",
              "      <th>2</th>\n",
              "      <td>01082688c6</td>\n",
              "      <td>happy bday!</td>\n",
              "    </tr>\n",
              "    <tr>\n",
              "      <th>3</th>\n",
              "      <td>33987a8ee5</td>\n",
              "      <td>http://twitpic.com/4w75p - I like it!!</td>\n",
              "    </tr>\n",
              "    <tr>\n",
              "      <th>4</th>\n",
              "      <td>726e501993</td>\n",
              "      <td>that`s great!! weee!! visitors!</td>\n",
              "    </tr>\n",
              "  </tbody>\n",
              "</table>\n",
              "</div>\n",
              "      <button class=\"colab-df-convert\" onclick=\"convertToInteractive('df-cf9339cb-544c-4805-81ac-7c9543a15215')\"\n",
              "              title=\"Convert this dataframe to an interactive table.\"\n",
              "              style=\"display:none;\">\n",
              "        \n",
              "  <svg xmlns=\"http://www.w3.org/2000/svg\" height=\"24px\"viewBox=\"0 0 24 24\"\n",
              "       width=\"24px\">\n",
              "    <path d=\"M0 0h24v24H0V0z\" fill=\"none\"/>\n",
              "    <path d=\"M18.56 5.44l.94 2.06.94-2.06 2.06-.94-2.06-.94-.94-2.06-.94 2.06-2.06.94zm-11 1L8.5 8.5l.94-2.06 2.06-.94-2.06-.94L8.5 2.5l-.94 2.06-2.06.94zm10 10l.94 2.06.94-2.06 2.06-.94-2.06-.94-.94-2.06-.94 2.06-2.06.94z\"/><path d=\"M17.41 7.96l-1.37-1.37c-.4-.4-.92-.59-1.43-.59-.52 0-1.04.2-1.43.59L10.3 9.45l-7.72 7.72c-.78.78-.78 2.05 0 2.83L4 21.41c.39.39.9.59 1.41.59.51 0 1.02-.2 1.41-.59l7.78-7.78 2.81-2.81c.8-.78.8-2.07 0-2.86zM5.41 20L4 18.59l7.72-7.72 1.47 1.35L5.41 20z\"/>\n",
              "  </svg>\n",
              "      </button>\n",
              "      \n",
              "  <style>\n",
              "    .colab-df-container {\n",
              "      display:flex;\n",
              "      flex-wrap:wrap;\n",
              "      gap: 12px;\n",
              "    }\n",
              "\n",
              "    .colab-df-convert {\n",
              "      background-color: #E8F0FE;\n",
              "      border: none;\n",
              "      border-radius: 50%;\n",
              "      cursor: pointer;\n",
              "      display: none;\n",
              "      fill: #1967D2;\n",
              "      height: 32px;\n",
              "      padding: 0 0 0 0;\n",
              "      width: 32px;\n",
              "    }\n",
              "\n",
              "    .colab-df-convert:hover {\n",
              "      background-color: #E2EBFA;\n",
              "      box-shadow: 0px 1px 2px rgba(60, 64, 67, 0.3), 0px 1px 3px 1px rgba(60, 64, 67, 0.15);\n",
              "      fill: #174EA6;\n",
              "    }\n",
              "\n",
              "    [theme=dark] .colab-df-convert {\n",
              "      background-color: #3B4455;\n",
              "      fill: #D2E3FC;\n",
              "    }\n",
              "\n",
              "    [theme=dark] .colab-df-convert:hover {\n",
              "      background-color: #434B5C;\n",
              "      box-shadow: 0px 1px 3px 1px rgba(0, 0, 0, 0.15);\n",
              "      filter: drop-shadow(0px 1px 2px rgba(0, 0, 0, 0.3));\n",
              "      fill: #FFFFFF;\n",
              "    }\n",
              "  </style>\n",
              "\n",
              "      <script>\n",
              "        const buttonEl =\n",
              "          document.querySelector('#df-cf9339cb-544c-4805-81ac-7c9543a15215 button.colab-df-convert');\n",
              "        buttonEl.style.display =\n",
              "          google.colab.kernel.accessAllowed ? 'block' : 'none';\n",
              "\n",
              "        async function convertToInteractive(key) {\n",
              "          const element = document.querySelector('#df-cf9339cb-544c-4805-81ac-7c9543a15215');\n",
              "          const dataTable =\n",
              "            await google.colab.kernel.invokeFunction('convertToInteractive',\n",
              "                                                     [key], {});\n",
              "          if (!dataTable) return;\n",
              "\n",
              "          const docLinkHtml = 'Like what you see? Visit the ' +\n",
              "            '<a target=\"_blank\" href=https://colab.research.google.com/notebooks/data_table.ipynb>data table notebook</a>'\n",
              "            + ' to learn more about interactive tables.';\n",
              "          element.innerHTML = '';\n",
              "          dataTable['output_type'] = 'display_data';\n",
              "          await google.colab.output.renderOutput(dataTable, element);\n",
              "          const docLink = document.createElement('div');\n",
              "          docLink.innerHTML = docLinkHtml;\n",
              "          element.appendChild(docLink);\n",
              "        }\n",
              "      </script>\n",
              "    </div>\n",
              "  </div>\n",
              "  "
            ]
          },
          "metadata": {},
          "execution_count": 109
        }
      ]
    },
    {
      "cell_type": "markdown",
      "source": [],
      "metadata": {
        "id": "8KGOWp5-znni"
      }
    },
    {
      "cell_type": "code",
      "source": [
        "\n",
        "# create a Porter stemmer object\n",
        "porter = PorterStemmer()\n",
        "\n",
        "# define a function to apply the stemmer to a list of words\n",
        "def stem_tweet(text):\n",
        "    words = text.split()\n",
        "    stemmed_words = [porter.stem(word) for word in words]\n",
        "    return ' '.join(stemmed_words)\n",
        "\n",
        "# apply the stemmer to the 'text' column of the DataFrame\n",
        "df['stemmed_word'] = df['text'].apply(stem_tweet)\n",
        "\n",
        "wnl = WordNetLemmatizer()\n",
        "\n",
        "list_lemmatized_sentences = []\n",
        "\n",
        "# iterate through each list of tokens and lemmatize the tokens\n",
        "for tokens in list_tokenized_text:\n",
        "  lemma_words = [wnl.lemmatize(word) for word in tokens]\n",
        "  lemma_sentence = ' '.join(lemma_words)\n",
        "  list_lemmatized_sentences.append(lemma_sentence)\n",
        "  \n",
        "print(list_lemmatized_sentences[:2])\n",
        "\n",
        "# add new column to data frame\n",
        "df['lemmatized_text'] = list_lemmatized_sentences\n",
        "\n",
        "df.head()"
      ],
      "metadata": {
        "id": "s42UOiVc7HxB",
        "colab": {
          "base_uri": "https://localhost:8080/",
          "height": 320
        },
        "outputId": "098b6ade-6b73-417e-8ce1-cb5c1203aa3e"
      },
      "execution_count": 110,
      "outputs": [
        {
          "output_type": "stream",
          "name": "stdout",
          "text": [
            "['sooo sad i will miss you here in san diego', 'my bos is bullying me']\n"
          ]
        },
        {
          "output_type": "execute_result",
          "data": {
            "text/plain": [
              "           id                                               text sentiment  \\\n",
              "0  549e992a42         sooo sad i will miss you here in san diego  negative   \n",
              "1  088c60f138                             my boss is bullying me  negative   \n",
              "2  9642c003ef                      what interview leave me alone  negative   \n",
              "3  358bd9e861   sons of  why couldnt they put them on the rel...  negative   \n",
              "4  6e0c6d75b1  2am feedings for the baby are fun when he is a...  positive   \n",
              "\n",
              "                              filtered_text  \\\n",
              "0                   sooo sad miss san diego   \n",
              "1                             boss bullying   \n",
              "2                     interview leave alone   \n",
              "3  sons couldnt put releases already bought   \n",
              "4         2am feedings baby fun smiles coos   \n",
              "\n",
              "                                      tokenized_text  \\\n",
              "0         sooo sad i will miss you here in san diego   \n",
              "1                             my boss is bullying me   \n",
              "2                      what interview leave me alone   \n",
              "3  sons of why couldnt they put them on the relea...   \n",
              "4  2am feedings for the baby are fun when he is a...   \n",
              "\n",
              "                                        stemmed_word  \\\n",
              "0         sooo sad i will miss you here in san diego   \n",
              "1                                my boss is bulli me   \n",
              "2                        what interview leav me alon   \n",
              "3  son of whi couldnt they put them on the releas...   \n",
              "4  2am feed for the babi are fun when he is all s...   \n",
              "\n",
              "                                     lemmatized_text  \n",
              "0         sooo sad i will miss you here in san diego  \n",
              "1                              my bos is bullying me  \n",
              "2                      what interview leave me alone  \n",
              "3  son of why couldnt they put them on the releas...  \n",
              "4  2am feeding for the baby are fun when he is al...  "
            ],
            "text/html": [
              "\n",
              "  <div id=\"df-10bb8552-9100-422b-850d-29e3831b2b8e\">\n",
              "    <div class=\"colab-df-container\">\n",
              "      <div>\n",
              "<style scoped>\n",
              "    .dataframe tbody tr th:only-of-type {\n",
              "        vertical-align: middle;\n",
              "    }\n",
              "\n",
              "    .dataframe tbody tr th {\n",
              "        vertical-align: top;\n",
              "    }\n",
              "\n",
              "    .dataframe thead th {\n",
              "        text-align: right;\n",
              "    }\n",
              "</style>\n",
              "<table border=\"1\" class=\"dataframe\">\n",
              "  <thead>\n",
              "    <tr style=\"text-align: right;\">\n",
              "      <th></th>\n",
              "      <th>id</th>\n",
              "      <th>text</th>\n",
              "      <th>sentiment</th>\n",
              "      <th>filtered_text</th>\n",
              "      <th>tokenized_text</th>\n",
              "      <th>stemmed_word</th>\n",
              "      <th>lemmatized_text</th>\n",
              "    </tr>\n",
              "  </thead>\n",
              "  <tbody>\n",
              "    <tr>\n",
              "      <th>0</th>\n",
              "      <td>549e992a42</td>\n",
              "      <td>sooo sad i will miss you here in san diego</td>\n",
              "      <td>negative</td>\n",
              "      <td>sooo sad miss san diego</td>\n",
              "      <td>sooo sad i will miss you here in san diego</td>\n",
              "      <td>sooo sad i will miss you here in san diego</td>\n",
              "      <td>sooo sad i will miss you here in san diego</td>\n",
              "    </tr>\n",
              "    <tr>\n",
              "      <th>1</th>\n",
              "      <td>088c60f138</td>\n",
              "      <td>my boss is bullying me</td>\n",
              "      <td>negative</td>\n",
              "      <td>boss bullying</td>\n",
              "      <td>my boss is bullying me</td>\n",
              "      <td>my boss is bulli me</td>\n",
              "      <td>my bos is bullying me</td>\n",
              "    </tr>\n",
              "    <tr>\n",
              "      <th>2</th>\n",
              "      <td>9642c003ef</td>\n",
              "      <td>what interview leave me alone</td>\n",
              "      <td>negative</td>\n",
              "      <td>interview leave alone</td>\n",
              "      <td>what interview leave me alone</td>\n",
              "      <td>what interview leav me alon</td>\n",
              "      <td>what interview leave me alone</td>\n",
              "    </tr>\n",
              "    <tr>\n",
              "      <th>3</th>\n",
              "      <td>358bd9e861</td>\n",
              "      <td>sons of  why couldnt they put them on the rel...</td>\n",
              "      <td>negative</td>\n",
              "      <td>sons couldnt put releases already bought</td>\n",
              "      <td>sons of why couldnt they put them on the relea...</td>\n",
              "      <td>son of whi couldnt they put them on the releas...</td>\n",
              "      <td>son of why couldnt they put them on the releas...</td>\n",
              "    </tr>\n",
              "    <tr>\n",
              "      <th>4</th>\n",
              "      <td>6e0c6d75b1</td>\n",
              "      <td>2am feedings for the baby are fun when he is a...</td>\n",
              "      <td>positive</td>\n",
              "      <td>2am feedings baby fun smiles coos</td>\n",
              "      <td>2am feedings for the baby are fun when he is a...</td>\n",
              "      <td>2am feed for the babi are fun when he is all s...</td>\n",
              "      <td>2am feeding for the baby are fun when he is al...</td>\n",
              "    </tr>\n",
              "  </tbody>\n",
              "</table>\n",
              "</div>\n",
              "      <button class=\"colab-df-convert\" onclick=\"convertToInteractive('df-10bb8552-9100-422b-850d-29e3831b2b8e')\"\n",
              "              title=\"Convert this dataframe to an interactive table.\"\n",
              "              style=\"display:none;\">\n",
              "        \n",
              "  <svg xmlns=\"http://www.w3.org/2000/svg\" height=\"24px\"viewBox=\"0 0 24 24\"\n",
              "       width=\"24px\">\n",
              "    <path d=\"M0 0h24v24H0V0z\" fill=\"none\"/>\n",
              "    <path d=\"M18.56 5.44l.94 2.06.94-2.06 2.06-.94-2.06-.94-.94-2.06-.94 2.06-2.06.94zm-11 1L8.5 8.5l.94-2.06 2.06-.94-2.06-.94L8.5 2.5l-.94 2.06-2.06.94zm10 10l.94 2.06.94-2.06 2.06-.94-2.06-.94-.94-2.06-.94 2.06-2.06.94z\"/><path d=\"M17.41 7.96l-1.37-1.37c-.4-.4-.92-.59-1.43-.59-.52 0-1.04.2-1.43.59L10.3 9.45l-7.72 7.72c-.78.78-.78 2.05 0 2.83L4 21.41c.39.39.9.59 1.41.59.51 0 1.02-.2 1.41-.59l7.78-7.78 2.81-2.81c.8-.78.8-2.07 0-2.86zM5.41 20L4 18.59l7.72-7.72 1.47 1.35L5.41 20z\"/>\n",
              "  </svg>\n",
              "      </button>\n",
              "      \n",
              "  <style>\n",
              "    .colab-df-container {\n",
              "      display:flex;\n",
              "      flex-wrap:wrap;\n",
              "      gap: 12px;\n",
              "    }\n",
              "\n",
              "    .colab-df-convert {\n",
              "      background-color: #E8F0FE;\n",
              "      border: none;\n",
              "      border-radius: 50%;\n",
              "      cursor: pointer;\n",
              "      display: none;\n",
              "      fill: #1967D2;\n",
              "      height: 32px;\n",
              "      padding: 0 0 0 0;\n",
              "      width: 32px;\n",
              "    }\n",
              "\n",
              "    .colab-df-convert:hover {\n",
              "      background-color: #E2EBFA;\n",
              "      box-shadow: 0px 1px 2px rgba(60, 64, 67, 0.3), 0px 1px 3px 1px rgba(60, 64, 67, 0.15);\n",
              "      fill: #174EA6;\n",
              "    }\n",
              "\n",
              "    [theme=dark] .colab-df-convert {\n",
              "      background-color: #3B4455;\n",
              "      fill: #D2E3FC;\n",
              "    }\n",
              "\n",
              "    [theme=dark] .colab-df-convert:hover {\n",
              "      background-color: #434B5C;\n",
              "      box-shadow: 0px 1px 3px 1px rgba(0, 0, 0, 0.15);\n",
              "      filter: drop-shadow(0px 1px 2px rgba(0, 0, 0, 0.3));\n",
              "      fill: #FFFFFF;\n",
              "    }\n",
              "  </style>\n",
              "\n",
              "      <script>\n",
              "        const buttonEl =\n",
              "          document.querySelector('#df-10bb8552-9100-422b-850d-29e3831b2b8e button.colab-df-convert');\n",
              "        buttonEl.style.display =\n",
              "          google.colab.kernel.accessAllowed ? 'block' : 'none';\n",
              "\n",
              "        async function convertToInteractive(key) {\n",
              "          const element = document.querySelector('#df-10bb8552-9100-422b-850d-29e3831b2b8e');\n",
              "          const dataTable =\n",
              "            await google.colab.kernel.invokeFunction('convertToInteractive',\n",
              "                                                     [key], {});\n",
              "          if (!dataTable) return;\n",
              "\n",
              "          const docLinkHtml = 'Like what you see? Visit the ' +\n",
              "            '<a target=\"_blank\" href=https://colab.research.google.com/notebooks/data_table.ipynb>data table notebook</a>'\n",
              "            + ' to learn more about interactive tables.';\n",
              "          element.innerHTML = '';\n",
              "          dataTable['output_type'] = 'display_data';\n",
              "          await google.colab.output.renderOutput(dataTable, element);\n",
              "          const docLink = document.createElement('div');\n",
              "          docLink.innerHTML = docLinkHtml;\n",
              "          element.appendChild(docLink);\n",
              "        }\n",
              "      </script>\n",
              "    </div>\n",
              "  </div>\n",
              "  "
            ]
          },
          "metadata": {},
          "execution_count": 110
        }
      ]
    },
    {
      "cell_type": "code",
      "source": [
        "\n",
        " #remove any URLs\n",
        "df_test['text'] = df_test['text'].apply(lambda x: re.sub(r'http\\S+', '', x))\n",
        "df_test.head()\n",
        "\n",
        "#Lower Casing\n",
        "df_test['text'] = df_test['text'].apply(lambda x: x.lower())\n",
        "\n",
        "\n",
        "#Removing Punctuations\n",
        "def remove_punctuations(text):\n",
        "    for punctuation in string.punctuation:\n",
        "        text = text.replace(punctuation, '')\n",
        "    return text\n",
        "\n",
        "# apply the remove_punctuations function to the 'text' column of the data\n",
        "df_test['text'] = df_test['text'].apply(remove_punctuations)\n",
        "\n",
        "\n",
        "# define set of English stopwords\n",
        "stop_words = set(stopwords.words('english')) \n",
        "\n",
        "# Define a function to remove stop words from a sentence\n",
        "def remove_stop_words(sentence):\n",
        "    words = sentence.split()\n",
        "    filtered_words = [word for word in words if word.lower() not in stop_words]\n",
        "    filtered_sentence = ' '.join(filtered_words)\n",
        "    return filtered_sentence\n",
        "\n",
        "# Apply the function to the 'text' column of the DataFrame\n",
        "df_test['filtered_text'] = df_test['text'].apply(remove_stop_words)\n",
        "\n",
        "# Print the first 5 rows of the DataFrame\n",
        "print(df_test.head())"
      ],
      "metadata": {
        "id": "geTgzX6V8RCK",
        "colab": {
          "base_uri": "https://localhost:8080/"
        },
        "outputId": "0adfb13d-69a6-4282-850c-27ba77e8e769"
      },
      "execution_count": 111,
      "outputs": [
        {
          "output_type": "stream",
          "name": "stdout",
          "text": [
            "           id                                               text  \\\n",
            "0  96d74cb729   shanghai is also really exciting precisely  s...   \n",
            "1  eee518ae67  recession hit veronique branquinho she has to ...   \n",
            "2  01082688c6                                         happy bday   \n",
            "3  33987a8ee5                                          i like it   \n",
            "4  726e501993                          thats great weee visitors   \n",
            "\n",
            "                                       filtered_text  \n",
            "0  shanghai also really exciting precisely skyscr...  \n",
            "1  recession hit veronique branquinho quit compan...  \n",
            "2                                         happy bday  \n",
            "3                                               like  \n",
            "4                          thats great weee visitors  \n"
          ]
        }
      ]
    },
    {
      "cell_type": "markdown",
      "source": [
        "Tokenization\n",
        "\n",
        "Words/ strings are broken down to small units which makes up a part of language data. The tokenizer model used is the TweeTokenizer model because we are dealing with tweets."
      ],
      "metadata": {
        "id": "mdA486TQD-It"
      }
    },
    {
      "cell_type": "code",
      "source": [
        "# Tokenize text\n",
        "\n",
        "tknzr = TweetTokenizer()\n",
        "# iterate through each row in 'Text' columm and convert text to tokens\n",
        "list_tokenized_text = [tknzr.tokenize(text) for text in df_test['text']]\n",
        "print(list_tokenized_text[:2])\n",
        "\n",
        "list_tokenized_sentences = [' '.join(tokens) for tokens in list_tokenized_text]\n",
        "print(list_tokenized_sentences[:2])\n",
        "\n",
        "# add new column to data frame\n",
        "df_test['tokenized_text'] = list_tokenized_sentences #list_tokenized_text \n",
        "df_test.head()"
      ],
      "metadata": {
        "id": "lvqGXJB7_rNh",
        "colab": {
          "base_uri": "https://localhost:8080/",
          "height": 262
        },
        "outputId": "c684d8a4-7e89-4892-bb69-4e41492aab8f"
      },
      "execution_count": 112,
      "outputs": [
        {
          "output_type": "stream",
          "name": "stdout",
          "text": [
            "[['shanghai', 'is', 'also', 'really', 'exciting', 'precisely', 'skyscrapers', 'galore', 'good', 'tweeps', 'in', 'china', 'sh', 'bj'], ['recession', 'hit', 'veronique', 'branquinho', 'she', 'has', 'to', 'quit', 'her', 'company', 'such', 'a', 'shame']]\n",
            "['shanghai is also really exciting precisely skyscrapers galore good tweeps in china sh bj', 'recession hit veronique branquinho she has to quit her company such a shame']\n"
          ]
        },
        {
          "output_type": "execute_result",
          "data": {
            "text/plain": [
              "           id                                               text  \\\n",
              "0  96d74cb729   shanghai is also really exciting precisely  s...   \n",
              "1  eee518ae67  recession hit veronique branquinho she has to ...   \n",
              "2  01082688c6                                         happy bday   \n",
              "3  33987a8ee5                                          i like it   \n",
              "4  726e501993                          thats great weee visitors   \n",
              "\n",
              "                                       filtered_text  \\\n",
              "0  shanghai also really exciting precisely skyscr...   \n",
              "1  recession hit veronique branquinho quit compan...   \n",
              "2                                         happy bday   \n",
              "3                                               like   \n",
              "4                          thats great weee visitors   \n",
              "\n",
              "                                      tokenized_text  \n",
              "0  shanghai is also really exciting precisely sky...  \n",
              "1  recession hit veronique branquinho she has to ...  \n",
              "2                                         happy bday  \n",
              "3                                          i like it  \n",
              "4                          thats great weee visitors  "
            ],
            "text/html": [
              "\n",
              "  <div id=\"df-fa08d6d0-1af9-45fa-bada-804bcf5403ba\">\n",
              "    <div class=\"colab-df-container\">\n",
              "      <div>\n",
              "<style scoped>\n",
              "    .dataframe tbody tr th:only-of-type {\n",
              "        vertical-align: middle;\n",
              "    }\n",
              "\n",
              "    .dataframe tbody tr th {\n",
              "        vertical-align: top;\n",
              "    }\n",
              "\n",
              "    .dataframe thead th {\n",
              "        text-align: right;\n",
              "    }\n",
              "</style>\n",
              "<table border=\"1\" class=\"dataframe\">\n",
              "  <thead>\n",
              "    <tr style=\"text-align: right;\">\n",
              "      <th></th>\n",
              "      <th>id</th>\n",
              "      <th>text</th>\n",
              "      <th>filtered_text</th>\n",
              "      <th>tokenized_text</th>\n",
              "    </tr>\n",
              "  </thead>\n",
              "  <tbody>\n",
              "    <tr>\n",
              "      <th>0</th>\n",
              "      <td>96d74cb729</td>\n",
              "      <td>shanghai is also really exciting precisely  s...</td>\n",
              "      <td>shanghai also really exciting precisely skyscr...</td>\n",
              "      <td>shanghai is also really exciting precisely sky...</td>\n",
              "    </tr>\n",
              "    <tr>\n",
              "      <th>1</th>\n",
              "      <td>eee518ae67</td>\n",
              "      <td>recession hit veronique branquinho she has to ...</td>\n",
              "      <td>recession hit veronique branquinho quit compan...</td>\n",
              "      <td>recession hit veronique branquinho she has to ...</td>\n",
              "    </tr>\n",
              "    <tr>\n",
              "      <th>2</th>\n",
              "      <td>01082688c6</td>\n",
              "      <td>happy bday</td>\n",
              "      <td>happy bday</td>\n",
              "      <td>happy bday</td>\n",
              "    </tr>\n",
              "    <tr>\n",
              "      <th>3</th>\n",
              "      <td>33987a8ee5</td>\n",
              "      <td>i like it</td>\n",
              "      <td>like</td>\n",
              "      <td>i like it</td>\n",
              "    </tr>\n",
              "    <tr>\n",
              "      <th>4</th>\n",
              "      <td>726e501993</td>\n",
              "      <td>thats great weee visitors</td>\n",
              "      <td>thats great weee visitors</td>\n",
              "      <td>thats great weee visitors</td>\n",
              "    </tr>\n",
              "  </tbody>\n",
              "</table>\n",
              "</div>\n",
              "      <button class=\"colab-df-convert\" onclick=\"convertToInteractive('df-fa08d6d0-1af9-45fa-bada-804bcf5403ba')\"\n",
              "              title=\"Convert this dataframe to an interactive table.\"\n",
              "              style=\"display:none;\">\n",
              "        \n",
              "  <svg xmlns=\"http://www.w3.org/2000/svg\" height=\"24px\"viewBox=\"0 0 24 24\"\n",
              "       width=\"24px\">\n",
              "    <path d=\"M0 0h24v24H0V0z\" fill=\"none\"/>\n",
              "    <path d=\"M18.56 5.44l.94 2.06.94-2.06 2.06-.94-2.06-.94-.94-2.06-.94 2.06-2.06.94zm-11 1L8.5 8.5l.94-2.06 2.06-.94-2.06-.94L8.5 2.5l-.94 2.06-2.06.94zm10 10l.94 2.06.94-2.06 2.06-.94-2.06-.94-.94-2.06-.94 2.06-2.06.94z\"/><path d=\"M17.41 7.96l-1.37-1.37c-.4-.4-.92-.59-1.43-.59-.52 0-1.04.2-1.43.59L10.3 9.45l-7.72 7.72c-.78.78-.78 2.05 0 2.83L4 21.41c.39.39.9.59 1.41.59.51 0 1.02-.2 1.41-.59l7.78-7.78 2.81-2.81c.8-.78.8-2.07 0-2.86zM5.41 20L4 18.59l7.72-7.72 1.47 1.35L5.41 20z\"/>\n",
              "  </svg>\n",
              "      </button>\n",
              "      \n",
              "  <style>\n",
              "    .colab-df-container {\n",
              "      display:flex;\n",
              "      flex-wrap:wrap;\n",
              "      gap: 12px;\n",
              "    }\n",
              "\n",
              "    .colab-df-convert {\n",
              "      background-color: #E8F0FE;\n",
              "      border: none;\n",
              "      border-radius: 50%;\n",
              "      cursor: pointer;\n",
              "      display: none;\n",
              "      fill: #1967D2;\n",
              "      height: 32px;\n",
              "      padding: 0 0 0 0;\n",
              "      width: 32px;\n",
              "    }\n",
              "\n",
              "    .colab-df-convert:hover {\n",
              "      background-color: #E2EBFA;\n",
              "      box-shadow: 0px 1px 2px rgba(60, 64, 67, 0.3), 0px 1px 3px 1px rgba(60, 64, 67, 0.15);\n",
              "      fill: #174EA6;\n",
              "    }\n",
              "\n",
              "    [theme=dark] .colab-df-convert {\n",
              "      background-color: #3B4455;\n",
              "      fill: #D2E3FC;\n",
              "    }\n",
              "\n",
              "    [theme=dark] .colab-df-convert:hover {\n",
              "      background-color: #434B5C;\n",
              "      box-shadow: 0px 1px 3px 1px rgba(0, 0, 0, 0.15);\n",
              "      filter: drop-shadow(0px 1px 2px rgba(0, 0, 0, 0.3));\n",
              "      fill: #FFFFFF;\n",
              "    }\n",
              "  </style>\n",
              "\n",
              "      <script>\n",
              "        const buttonEl =\n",
              "          document.querySelector('#df-fa08d6d0-1af9-45fa-bada-804bcf5403ba button.colab-df-convert');\n",
              "        buttonEl.style.display =\n",
              "          google.colab.kernel.accessAllowed ? 'block' : 'none';\n",
              "\n",
              "        async function convertToInteractive(key) {\n",
              "          const element = document.querySelector('#df-fa08d6d0-1af9-45fa-bada-804bcf5403ba');\n",
              "          const dataTable =\n",
              "            await google.colab.kernel.invokeFunction('convertToInteractive',\n",
              "                                                     [key], {});\n",
              "          if (!dataTable) return;\n",
              "\n",
              "          const docLinkHtml = 'Like what you see? Visit the ' +\n",
              "            '<a target=\"_blank\" href=https://colab.research.google.com/notebooks/data_table.ipynb>data table notebook</a>'\n",
              "            + ' to learn more about interactive tables.';\n",
              "          element.innerHTML = '';\n",
              "          dataTable['output_type'] = 'display_data';\n",
              "          await google.colab.output.renderOutput(dataTable, element);\n",
              "          const docLink = document.createElement('div');\n",
              "          docLink.innerHTML = docLinkHtml;\n",
              "          element.appendChild(docLink);\n",
              "        }\n",
              "      </script>\n",
              "    </div>\n",
              "  </div>\n",
              "  "
            ]
          },
          "metadata": {},
          "execution_count": 112
        }
      ]
    },
    {
      "cell_type": "code",
      "source": [
        "# create a Porter stemmer object\n",
        "porter = PorterStemmer()\n",
        "\n",
        "# define a function to apply the stemmer to a list of words\n",
        "def stem_tweet(text):\n",
        "    words = text.split()\n",
        "    stemmed_words = [porter.stem(word) for word in words]\n",
        "    return ' '.join(stemmed_words)\n",
        "\n",
        "# apply the stemmer to the 'text' column of the DataFrame\n",
        "df_test['stemmed_word'] = df_test['text'].apply(stem_tweet)\n",
        "df_test.head()"
      ],
      "metadata": {
        "id": "YF158tfuEAT6",
        "colab": {
          "base_uri": "https://localhost:8080/",
          "height": 206
        },
        "outputId": "78a2d5ea-226c-4474-b484-debb7e495f7a"
      },
      "execution_count": 113,
      "outputs": [
        {
          "output_type": "execute_result",
          "data": {
            "text/plain": [
              "           id                                               text  \\\n",
              "0  96d74cb729   shanghai is also really exciting precisely  s...   \n",
              "1  eee518ae67  recession hit veronique branquinho she has to ...   \n",
              "2  01082688c6                                         happy bday   \n",
              "3  33987a8ee5                                          i like it   \n",
              "4  726e501993                          thats great weee visitors   \n",
              "\n",
              "                                       filtered_text  \\\n",
              "0  shanghai also really exciting precisely skyscr...   \n",
              "1  recession hit veronique branquinho quit compan...   \n",
              "2                                         happy bday   \n",
              "3                                               like   \n",
              "4                          thats great weee visitors   \n",
              "\n",
              "                                      tokenized_text  \\\n",
              "0  shanghai is also really exciting precisely sky...   \n",
              "1  recession hit veronique branquinho she has to ...   \n",
              "2                                         happy bday   \n",
              "3                                          i like it   \n",
              "4                          thats great weee visitors   \n",
              "\n",
              "                                        stemmed_word  \n",
              "0  shanghai is also realli excit precis skyscrap ...  \n",
              "1  recess hit veroniqu branquinho she ha to quit ...  \n",
              "2                                         happi bday  \n",
              "3                                          i like it  \n",
              "4                            that great weee visitor  "
            ],
            "text/html": [
              "\n",
              "  <div id=\"df-b414e4a1-2443-448e-9c97-efa7d1f51910\">\n",
              "    <div class=\"colab-df-container\">\n",
              "      <div>\n",
              "<style scoped>\n",
              "    .dataframe tbody tr th:only-of-type {\n",
              "        vertical-align: middle;\n",
              "    }\n",
              "\n",
              "    .dataframe tbody tr th {\n",
              "        vertical-align: top;\n",
              "    }\n",
              "\n",
              "    .dataframe thead th {\n",
              "        text-align: right;\n",
              "    }\n",
              "</style>\n",
              "<table border=\"1\" class=\"dataframe\">\n",
              "  <thead>\n",
              "    <tr style=\"text-align: right;\">\n",
              "      <th></th>\n",
              "      <th>id</th>\n",
              "      <th>text</th>\n",
              "      <th>filtered_text</th>\n",
              "      <th>tokenized_text</th>\n",
              "      <th>stemmed_word</th>\n",
              "    </tr>\n",
              "  </thead>\n",
              "  <tbody>\n",
              "    <tr>\n",
              "      <th>0</th>\n",
              "      <td>96d74cb729</td>\n",
              "      <td>shanghai is also really exciting precisely  s...</td>\n",
              "      <td>shanghai also really exciting precisely skyscr...</td>\n",
              "      <td>shanghai is also really exciting precisely sky...</td>\n",
              "      <td>shanghai is also realli excit precis skyscrap ...</td>\n",
              "    </tr>\n",
              "    <tr>\n",
              "      <th>1</th>\n",
              "      <td>eee518ae67</td>\n",
              "      <td>recession hit veronique branquinho she has to ...</td>\n",
              "      <td>recession hit veronique branquinho quit compan...</td>\n",
              "      <td>recession hit veronique branquinho she has to ...</td>\n",
              "      <td>recess hit veroniqu branquinho she ha to quit ...</td>\n",
              "    </tr>\n",
              "    <tr>\n",
              "      <th>2</th>\n",
              "      <td>01082688c6</td>\n",
              "      <td>happy bday</td>\n",
              "      <td>happy bday</td>\n",
              "      <td>happy bday</td>\n",
              "      <td>happi bday</td>\n",
              "    </tr>\n",
              "    <tr>\n",
              "      <th>3</th>\n",
              "      <td>33987a8ee5</td>\n",
              "      <td>i like it</td>\n",
              "      <td>like</td>\n",
              "      <td>i like it</td>\n",
              "      <td>i like it</td>\n",
              "    </tr>\n",
              "    <tr>\n",
              "      <th>4</th>\n",
              "      <td>726e501993</td>\n",
              "      <td>thats great weee visitors</td>\n",
              "      <td>thats great weee visitors</td>\n",
              "      <td>thats great weee visitors</td>\n",
              "      <td>that great weee visitor</td>\n",
              "    </tr>\n",
              "  </tbody>\n",
              "</table>\n",
              "</div>\n",
              "      <button class=\"colab-df-convert\" onclick=\"convertToInteractive('df-b414e4a1-2443-448e-9c97-efa7d1f51910')\"\n",
              "              title=\"Convert this dataframe to an interactive table.\"\n",
              "              style=\"display:none;\">\n",
              "        \n",
              "  <svg xmlns=\"http://www.w3.org/2000/svg\" height=\"24px\"viewBox=\"0 0 24 24\"\n",
              "       width=\"24px\">\n",
              "    <path d=\"M0 0h24v24H0V0z\" fill=\"none\"/>\n",
              "    <path d=\"M18.56 5.44l.94 2.06.94-2.06 2.06-.94-2.06-.94-.94-2.06-.94 2.06-2.06.94zm-11 1L8.5 8.5l.94-2.06 2.06-.94-2.06-.94L8.5 2.5l-.94 2.06-2.06.94zm10 10l.94 2.06.94-2.06 2.06-.94-2.06-.94-.94-2.06-.94 2.06-2.06.94z\"/><path d=\"M17.41 7.96l-1.37-1.37c-.4-.4-.92-.59-1.43-.59-.52 0-1.04.2-1.43.59L10.3 9.45l-7.72 7.72c-.78.78-.78 2.05 0 2.83L4 21.41c.39.39.9.59 1.41.59.51 0 1.02-.2 1.41-.59l7.78-7.78 2.81-2.81c.8-.78.8-2.07 0-2.86zM5.41 20L4 18.59l7.72-7.72 1.47 1.35L5.41 20z\"/>\n",
              "  </svg>\n",
              "      </button>\n",
              "      \n",
              "  <style>\n",
              "    .colab-df-container {\n",
              "      display:flex;\n",
              "      flex-wrap:wrap;\n",
              "      gap: 12px;\n",
              "    }\n",
              "\n",
              "    .colab-df-convert {\n",
              "      background-color: #E8F0FE;\n",
              "      border: none;\n",
              "      border-radius: 50%;\n",
              "      cursor: pointer;\n",
              "      display: none;\n",
              "      fill: #1967D2;\n",
              "      height: 32px;\n",
              "      padding: 0 0 0 0;\n",
              "      width: 32px;\n",
              "    }\n",
              "\n",
              "    .colab-df-convert:hover {\n",
              "      background-color: #E2EBFA;\n",
              "      box-shadow: 0px 1px 2px rgba(60, 64, 67, 0.3), 0px 1px 3px 1px rgba(60, 64, 67, 0.15);\n",
              "      fill: #174EA6;\n",
              "    }\n",
              "\n",
              "    [theme=dark] .colab-df-convert {\n",
              "      background-color: #3B4455;\n",
              "      fill: #D2E3FC;\n",
              "    }\n",
              "\n",
              "    [theme=dark] .colab-df-convert:hover {\n",
              "      background-color: #434B5C;\n",
              "      box-shadow: 0px 1px 3px 1px rgba(0, 0, 0, 0.15);\n",
              "      filter: drop-shadow(0px 1px 2px rgba(0, 0, 0, 0.3));\n",
              "      fill: #FFFFFF;\n",
              "    }\n",
              "  </style>\n",
              "\n",
              "      <script>\n",
              "        const buttonEl =\n",
              "          document.querySelector('#df-b414e4a1-2443-448e-9c97-efa7d1f51910 button.colab-df-convert');\n",
              "        buttonEl.style.display =\n",
              "          google.colab.kernel.accessAllowed ? 'block' : 'none';\n",
              "\n",
              "        async function convertToInteractive(key) {\n",
              "          const element = document.querySelector('#df-b414e4a1-2443-448e-9c97-efa7d1f51910');\n",
              "          const dataTable =\n",
              "            await google.colab.kernel.invokeFunction('convertToInteractive',\n",
              "                                                     [key], {});\n",
              "          if (!dataTable) return;\n",
              "\n",
              "          const docLinkHtml = 'Like what you see? Visit the ' +\n",
              "            '<a target=\"_blank\" href=https://colab.research.google.com/notebooks/data_table.ipynb>data table notebook</a>'\n",
              "            + ' to learn more about interactive tables.';\n",
              "          element.innerHTML = '';\n",
              "          dataTable['output_type'] = 'display_data';\n",
              "          await google.colab.output.renderOutput(dataTable, element);\n",
              "          const docLink = document.createElement('div');\n",
              "          docLink.innerHTML = docLinkHtml;\n",
              "          element.appendChild(docLink);\n",
              "        }\n",
              "      </script>\n",
              "    </div>\n",
              "  </div>\n",
              "  "
            ]
          },
          "metadata": {},
          "execution_count": 113
        }
      ]
    },
    {
      "cell_type": "markdown",
      "source": [
        "Normalisation \n",
        "\n",
        "This process is some form of simplification of the language. The data or text is transform to a standard form by taking out lower casing, removing prefixes and surfixes - stemming and or lemmatisation.\n",
        "This process improves the efficiency and effectivness of the predictions and also takes care of parsity.\n",
        "\n",
        "**Lemmatisation**"
      ],
      "metadata": {
        "id": "oF53c-Dz1D49"
      }
    },
    {
      "cell_type": "code",
      "source": [
        "wnl = WordNetLemmatizer()\n",
        "\n",
        "list_lemmatized_sentences = []\n",
        "\n",
        "# iterate through each list of tokens and lemmatize the tokens\n",
        "for tokens in list_tokenized_text:\n",
        "  lemma_words = [wnl.lemmatize(word) for word in tokens]\n",
        "  lemma_sentence = ' '.join(lemma_words)\n",
        "  list_lemmatized_sentences.append(lemma_sentence)\n",
        "  \n",
        "print(list_lemmatized_sentences[:2])\n",
        "\n",
        "# add new column to data frame\n",
        "df_test['lemmatized_text'] = list_lemmatized_sentences\n",
        "\n",
        "df_test.head()"
      ],
      "metadata": {
        "id": "G3RfDi9CEd2r",
        "colab": {
          "base_uri": "https://localhost:8080/",
          "height": 303
        },
        "outputId": "267df472-4696-4594-91a5-69113aafbc40"
      },
      "execution_count": 114,
      "outputs": [
        {
          "output_type": "stream",
          "name": "stdout",
          "text": [
            "['shanghai is also really exciting precisely skyscraper galore good tweeps in china sh bj', 'recession hit veronique branquinho she ha to quit her company such a shame']\n"
          ]
        },
        {
          "output_type": "execute_result",
          "data": {
            "text/plain": [
              "           id                                               text  \\\n",
              "0  96d74cb729   shanghai is also really exciting precisely  s...   \n",
              "1  eee518ae67  recession hit veronique branquinho she has to ...   \n",
              "2  01082688c6                                         happy bday   \n",
              "3  33987a8ee5                                          i like it   \n",
              "4  726e501993                          thats great weee visitors   \n",
              "\n",
              "                                       filtered_text  \\\n",
              "0  shanghai also really exciting precisely skyscr...   \n",
              "1  recession hit veronique branquinho quit compan...   \n",
              "2                                         happy bday   \n",
              "3                                               like   \n",
              "4                          thats great weee visitors   \n",
              "\n",
              "                                      tokenized_text  \\\n",
              "0  shanghai is also really exciting precisely sky...   \n",
              "1  recession hit veronique branquinho she has to ...   \n",
              "2                                         happy bday   \n",
              "3                                          i like it   \n",
              "4                          thats great weee visitors   \n",
              "\n",
              "                                        stemmed_word  \\\n",
              "0  shanghai is also realli excit precis skyscrap ...   \n",
              "1  recess hit veroniqu branquinho she ha to quit ...   \n",
              "2                                         happi bday   \n",
              "3                                          i like it   \n",
              "4                            that great weee visitor   \n",
              "\n",
              "                                     lemmatized_text  \n",
              "0  shanghai is also really exciting precisely sky...  \n",
              "1  recession hit veronique branquinho she ha to q...  \n",
              "2                                         happy bday  \n",
              "3                                          i like it  \n",
              "4                           thats great weee visitor  "
            ],
            "text/html": [
              "\n",
              "  <div id=\"df-dfd7c77d-c9db-4c28-8390-bd75bd6bb1d2\">\n",
              "    <div class=\"colab-df-container\">\n",
              "      <div>\n",
              "<style scoped>\n",
              "    .dataframe tbody tr th:only-of-type {\n",
              "        vertical-align: middle;\n",
              "    }\n",
              "\n",
              "    .dataframe tbody tr th {\n",
              "        vertical-align: top;\n",
              "    }\n",
              "\n",
              "    .dataframe thead th {\n",
              "        text-align: right;\n",
              "    }\n",
              "</style>\n",
              "<table border=\"1\" class=\"dataframe\">\n",
              "  <thead>\n",
              "    <tr style=\"text-align: right;\">\n",
              "      <th></th>\n",
              "      <th>id</th>\n",
              "      <th>text</th>\n",
              "      <th>filtered_text</th>\n",
              "      <th>tokenized_text</th>\n",
              "      <th>stemmed_word</th>\n",
              "      <th>lemmatized_text</th>\n",
              "    </tr>\n",
              "  </thead>\n",
              "  <tbody>\n",
              "    <tr>\n",
              "      <th>0</th>\n",
              "      <td>96d74cb729</td>\n",
              "      <td>shanghai is also really exciting precisely  s...</td>\n",
              "      <td>shanghai also really exciting precisely skyscr...</td>\n",
              "      <td>shanghai is also really exciting precisely sky...</td>\n",
              "      <td>shanghai is also realli excit precis skyscrap ...</td>\n",
              "      <td>shanghai is also really exciting precisely sky...</td>\n",
              "    </tr>\n",
              "    <tr>\n",
              "      <th>1</th>\n",
              "      <td>eee518ae67</td>\n",
              "      <td>recession hit veronique branquinho she has to ...</td>\n",
              "      <td>recession hit veronique branquinho quit compan...</td>\n",
              "      <td>recession hit veronique branquinho she has to ...</td>\n",
              "      <td>recess hit veroniqu branquinho she ha to quit ...</td>\n",
              "      <td>recession hit veronique branquinho she ha to q...</td>\n",
              "    </tr>\n",
              "    <tr>\n",
              "      <th>2</th>\n",
              "      <td>01082688c6</td>\n",
              "      <td>happy bday</td>\n",
              "      <td>happy bday</td>\n",
              "      <td>happy bday</td>\n",
              "      <td>happi bday</td>\n",
              "      <td>happy bday</td>\n",
              "    </tr>\n",
              "    <tr>\n",
              "      <th>3</th>\n",
              "      <td>33987a8ee5</td>\n",
              "      <td>i like it</td>\n",
              "      <td>like</td>\n",
              "      <td>i like it</td>\n",
              "      <td>i like it</td>\n",
              "      <td>i like it</td>\n",
              "    </tr>\n",
              "    <tr>\n",
              "      <th>4</th>\n",
              "      <td>726e501993</td>\n",
              "      <td>thats great weee visitors</td>\n",
              "      <td>thats great weee visitors</td>\n",
              "      <td>thats great weee visitors</td>\n",
              "      <td>that great weee visitor</td>\n",
              "      <td>thats great weee visitor</td>\n",
              "    </tr>\n",
              "  </tbody>\n",
              "</table>\n",
              "</div>\n",
              "      <button class=\"colab-df-convert\" onclick=\"convertToInteractive('df-dfd7c77d-c9db-4c28-8390-bd75bd6bb1d2')\"\n",
              "              title=\"Convert this dataframe to an interactive table.\"\n",
              "              style=\"display:none;\">\n",
              "        \n",
              "  <svg xmlns=\"http://www.w3.org/2000/svg\" height=\"24px\"viewBox=\"0 0 24 24\"\n",
              "       width=\"24px\">\n",
              "    <path d=\"M0 0h24v24H0V0z\" fill=\"none\"/>\n",
              "    <path d=\"M18.56 5.44l.94 2.06.94-2.06 2.06-.94-2.06-.94-.94-2.06-.94 2.06-2.06.94zm-11 1L8.5 8.5l.94-2.06 2.06-.94-2.06-.94L8.5 2.5l-.94 2.06-2.06.94zm10 10l.94 2.06.94-2.06 2.06-.94-2.06-.94-.94-2.06-.94 2.06-2.06.94z\"/><path d=\"M17.41 7.96l-1.37-1.37c-.4-.4-.92-.59-1.43-.59-.52 0-1.04.2-1.43.59L10.3 9.45l-7.72 7.72c-.78.78-.78 2.05 0 2.83L4 21.41c.39.39.9.59 1.41.59.51 0 1.02-.2 1.41-.59l7.78-7.78 2.81-2.81c.8-.78.8-2.07 0-2.86zM5.41 20L4 18.59l7.72-7.72 1.47 1.35L5.41 20z\"/>\n",
              "  </svg>\n",
              "      </button>\n",
              "      \n",
              "  <style>\n",
              "    .colab-df-container {\n",
              "      display:flex;\n",
              "      flex-wrap:wrap;\n",
              "      gap: 12px;\n",
              "    }\n",
              "\n",
              "    .colab-df-convert {\n",
              "      background-color: #E8F0FE;\n",
              "      border: none;\n",
              "      border-radius: 50%;\n",
              "      cursor: pointer;\n",
              "      display: none;\n",
              "      fill: #1967D2;\n",
              "      height: 32px;\n",
              "      padding: 0 0 0 0;\n",
              "      width: 32px;\n",
              "    }\n",
              "\n",
              "    .colab-df-convert:hover {\n",
              "      background-color: #E2EBFA;\n",
              "      box-shadow: 0px 1px 2px rgba(60, 64, 67, 0.3), 0px 1px 3px 1px rgba(60, 64, 67, 0.15);\n",
              "      fill: #174EA6;\n",
              "    }\n",
              "\n",
              "    [theme=dark] .colab-df-convert {\n",
              "      background-color: #3B4455;\n",
              "      fill: #D2E3FC;\n",
              "    }\n",
              "\n",
              "    [theme=dark] .colab-df-convert:hover {\n",
              "      background-color: #434B5C;\n",
              "      box-shadow: 0px 1px 3px 1px rgba(0, 0, 0, 0.15);\n",
              "      filter: drop-shadow(0px 1px 2px rgba(0, 0, 0, 0.3));\n",
              "      fill: #FFFFFF;\n",
              "    }\n",
              "  </style>\n",
              "\n",
              "      <script>\n",
              "        const buttonEl =\n",
              "          document.querySelector('#df-dfd7c77d-c9db-4c28-8390-bd75bd6bb1d2 button.colab-df-convert');\n",
              "        buttonEl.style.display =\n",
              "          google.colab.kernel.accessAllowed ? 'block' : 'none';\n",
              "\n",
              "        async function convertToInteractive(key) {\n",
              "          const element = document.querySelector('#df-dfd7c77d-c9db-4c28-8390-bd75bd6bb1d2');\n",
              "          const dataTable =\n",
              "            await google.colab.kernel.invokeFunction('convertToInteractive',\n",
              "                                                     [key], {});\n",
              "          if (!dataTable) return;\n",
              "\n",
              "          const docLinkHtml = 'Like what you see? Visit the ' +\n",
              "            '<a target=\"_blank\" href=https://colab.research.google.com/notebooks/data_table.ipynb>data table notebook</a>'\n",
              "            + ' to learn more about interactive tables.';\n",
              "          element.innerHTML = '';\n",
              "          dataTable['output_type'] = 'display_data';\n",
              "          await google.colab.output.renderOutput(dataTable, element);\n",
              "          const docLink = document.createElement('div');\n",
              "          docLink.innerHTML = docLinkHtml;\n",
              "          element.appendChild(docLink);\n",
              "        }\n",
              "      </script>\n",
              "    </div>\n",
              "  </div>\n",
              "  "
            ]
          },
          "metadata": {},
          "execution_count": 114
        }
      ]
    },
    {
      "cell_type": "code",
      "source": [
        "X_test = vectorizer8.transform(df_test['stemmed_word'])\n",
        "predictions = m8.predict(X_test)\n",
        "print(predictions)"
      ],
      "metadata": {
        "id": "XLCg3WlOE24R",
        "colab": {
          "base_uri": "https://localhost:8080/"
        },
        "outputId": "9d573076-ca59-462f-9575-422091e73cad"
      },
      "execution_count": 115,
      "outputs": [
        {
          "output_type": "stream",
          "name": "stdout",
          "text": [
            "['positive' 'negative' 'positive' 'positive' 'positive' 'negative'\n",
            " 'negative' 'negative' 'negative' 'negative' 'negative' 'negative'\n",
            " 'negative' 'positive' 'negative' 'negative' 'negative' 'negative'\n",
            " 'positive' 'positive' 'negative' 'positive' 'positive' 'negative'\n",
            " 'negative' 'negative' 'negative' 'positive' 'positive' 'negative'\n",
            " 'positive' 'negative' 'positive' 'positive' 'positive' 'negative'\n",
            " 'negative' 'positive' 'negative' 'positive' 'positive' 'positive'\n",
            " 'negative' 'negative' 'negative' 'positive' 'positive' 'positive'\n",
            " 'positive' 'negative' 'negative' 'negative' 'positive' 'positive'\n",
            " 'negative' 'positive' 'positive' 'negative' 'positive' 'negative'\n",
            " 'positive' 'negative' 'positive' 'positive' 'negative' 'negative'\n",
            " 'negative' 'positive' 'positive' 'positive' 'positive' 'negative'\n",
            " 'negative' 'positive' 'positive' 'positive' 'negative' 'negative'\n",
            " 'positive' 'positive' 'negative' 'positive' 'negative' 'negative'\n",
            " 'positive' 'positive' 'positive' 'negative' 'negative' 'positive'\n",
            " 'positive' 'positive' 'positive' 'positive' 'positive' 'positive'\n",
            " 'negative' 'negative' 'negative' 'positive' 'positive' 'negative'\n",
            " 'positive' 'negative' 'negative' 'negative' 'negative' 'negative'\n",
            " 'positive' 'positive' 'positive' 'negative' 'negative' 'negative'\n",
            " 'negative' 'negative' 'negative' 'positive' 'positive' 'negative'\n",
            " 'positive' 'negative' 'negative' 'positive' 'negative' 'negative'\n",
            " 'positive' 'positive' 'positive' 'positive' 'negative' 'negative'\n",
            " 'positive' 'negative' 'positive' 'negative' 'positive' 'negative'\n",
            " 'positive' 'negative' 'positive' 'negative' 'negative' 'positive'\n",
            " 'negative' 'positive' 'negative' 'negative' 'negative' 'negative'\n",
            " 'positive' 'negative' 'negative' 'positive' 'positive' 'negative'\n",
            " 'negative' 'negative' 'negative' 'positive' 'negative' 'positive'\n",
            " 'positive' 'positive' 'negative' 'positive' 'positive' 'positive'\n",
            " 'negative' 'negative' 'positive' 'negative' 'positive' 'positive'\n",
            " 'negative' 'positive' 'negative' 'negative' 'positive' 'positive'\n",
            " 'positive' 'negative' 'positive' 'negative' 'negative' 'negative'\n",
            " 'positive' 'positive' 'positive' 'positive' 'positive' 'negative'\n",
            " 'positive' 'negative' 'negative' 'negative' 'positive' 'positive'\n",
            " 'negative' 'positive' 'negative' 'negative' 'positive' 'positive'\n",
            " 'negative' 'negative' 'negative' 'negative' 'negative' 'negative'\n",
            " 'negative' 'positive' 'positive' 'negative' 'positive' 'negative'\n",
            " 'negative' 'positive' 'negative' 'positive' 'positive' 'negative'\n",
            " 'positive' 'positive' 'positive' 'positive' 'negative' 'positive'\n",
            " 'negative' 'positive' 'positive' 'positive' 'positive' 'positive'\n",
            " 'positive' 'negative' 'positive' 'positive' 'negative' 'positive'\n",
            " 'positive' 'positive' 'negative' 'negative' 'negative' 'positive'\n",
            " 'positive' 'positive' 'negative' 'negative' 'positive' 'negative'\n",
            " 'negative' 'positive' 'negative' 'positive' 'positive' 'positive'\n",
            " 'negative' 'positive' 'negative' 'positive' 'positive' 'negative'\n",
            " 'negative' 'positive' 'negative' 'positive' 'positive' 'negative'\n",
            " 'negative' 'positive' 'positive' 'positive' 'negative' 'negative'\n",
            " 'negative' 'negative' 'positive' 'positive' 'negative' 'positive'\n",
            " 'negative' 'positive' 'positive' 'positive' 'positive' 'negative'\n",
            " 'negative' 'positive' 'negative' 'negative' 'positive' 'positive'\n",
            " 'positive' 'negative' 'negative' 'positive' 'positive' 'positive'\n",
            " 'positive' 'negative' 'positive' 'negative' 'positive' 'negative'\n",
            " 'negative' 'negative' 'negative' 'positive' 'negative' 'negative'\n",
            " 'negative' 'negative' 'positive' 'positive' 'positive' 'positive'\n",
            " 'positive' 'negative' 'positive' 'positive' 'negative' 'positive'\n",
            " 'negative' 'negative' 'negative' 'positive' 'positive' 'negative'\n",
            " 'positive' 'negative' 'positive' 'positive' 'negative' 'negative'\n",
            " 'positive' 'positive' 'negative' 'negative' 'positive' 'positive'\n",
            " 'positive' 'negative' 'positive' 'positive' 'positive' 'negative'\n",
            " 'negative' 'negative' 'positive' 'negative' 'negative' 'negative'\n",
            " 'positive' 'positive' 'positive' 'negative' 'negative' 'negative'\n",
            " 'positive' 'negative' 'negative' 'negative' 'positive' 'negative'\n",
            " 'negative' 'negative' 'positive' 'positive' 'negative' 'negative'\n",
            " 'positive' 'positive' 'negative' 'negative' 'negative' 'positive'\n",
            " 'positive' 'positive' 'negative' 'positive' 'positive' 'positive'\n",
            " 'positive' 'positive' 'positive' 'negative' 'negative' 'negative'\n",
            " 'positive' 'negative' 'positive' 'positive' 'negative' 'negative'\n",
            " 'negative' 'positive' 'negative' 'positive' 'negative' 'negative'\n",
            " 'positive' 'negative' 'positive' 'positive' 'positive' 'positive'\n",
            " 'positive' 'negative' 'negative' 'negative' 'negative' 'negative'\n",
            " 'negative' 'positive' 'positive' 'negative' 'negative' 'positive'\n",
            " 'positive' 'negative' 'negative' 'negative' 'negative' 'positive'\n",
            " 'positive' 'positive' 'negative' 'positive' 'positive' 'negative'\n",
            " 'negative' 'positive' 'negative' 'negative' 'negative' 'positive'\n",
            " 'positive' 'negative' 'positive' 'positive' 'positive' 'negative'\n",
            " 'positive' 'positive' 'negative' 'negative' 'negative' 'negative'\n",
            " 'positive' 'positive' 'positive' 'negative' 'negative' 'positive'\n",
            " 'positive' 'negative' 'negative' 'negative' 'positive' 'positive'\n",
            " 'negative' 'positive' 'negative' 'negative' 'positive' 'positive'\n",
            " 'positive' 'positive' 'positive' 'negative' 'negative' 'positive'\n",
            " 'positive' 'positive' 'negative' 'positive' 'positive' 'negative'\n",
            " 'positive' 'positive' 'positive' 'negative' 'negative' 'negative'\n",
            " 'positive' 'positive' 'positive' 'positive' 'negative' 'negative'\n",
            " 'negative' 'negative' 'positive' 'positive' 'positive' 'positive'\n",
            " 'negative' 'positive' 'negative' 'negative' 'negative' 'positive'\n",
            " 'positive' 'negative' 'positive' 'negative' 'negative' 'positive'\n",
            " 'positive' 'positive' 'negative' 'negative' 'positive' 'positive'\n",
            " 'positive' 'positive' 'positive' 'positive' 'negative' 'negative'\n",
            " 'positive' 'negative' 'positive' 'positive' 'negative' 'positive'\n",
            " 'negative' 'negative' 'positive' 'positive' 'positive' 'positive'\n",
            " 'positive' 'positive' 'negative' 'positive' 'negative' 'positive'\n",
            " 'positive' 'positive' 'negative' 'negative' 'negative' 'positive'\n",
            " 'positive' 'positive' 'negative' 'negative' 'positive' 'negative'\n",
            " 'negative' 'negative' 'positive' 'negative' 'positive' 'negative'\n",
            " 'negative' 'negative' 'positive' 'negative' 'positive' 'negative'\n",
            " 'positive' 'negative' 'negative' 'negative' 'negative' 'positive'\n",
            " 'positive' 'negative' 'negative' 'negative' 'positive' 'negative'\n",
            " 'positive' 'positive' 'negative' 'negative' 'positive' 'negative'\n",
            " 'negative' 'negative' 'positive' 'positive' 'positive' 'positive'\n",
            " 'positive' 'negative' 'negative' 'negative' 'positive' 'negative'\n",
            " 'negative' 'positive' 'negative' 'positive' 'negative' 'negative'\n",
            " 'positive' 'positive' 'positive' 'positive' 'negative' 'positive'\n",
            " 'positive' 'positive' 'positive' 'positive' 'positive' 'negative'\n",
            " 'negative' 'negative' 'positive' 'positive' 'negative' 'positive'\n",
            " 'negative' 'positive' 'negative' 'positive' 'negative' 'positive'\n",
            " 'negative' 'positive' 'negative' 'negative' 'negative' 'negative'\n",
            " 'positive' 'negative' 'positive' 'negative' 'negative' 'negative'\n",
            " 'positive' 'positive' 'positive' 'positive' 'negative' 'positive'\n",
            " 'negative' 'negative' 'negative' 'negative' 'negative' 'positive'\n",
            " 'positive' 'positive' 'positive' 'positive' 'negative' 'negative'\n",
            " 'positive' 'positive' 'negative' 'negative' 'positive' 'negative'\n",
            " 'positive' 'negative' 'negative' 'negative' 'negative' 'negative'\n",
            " 'negative' 'negative' 'positive' 'negative' 'positive' 'negative'\n",
            " 'negative' 'positive' 'positive' 'positive' 'negative' 'positive'\n",
            " 'positive' 'negative' 'positive' 'positive' 'positive' 'negative'\n",
            " 'positive' 'positive' 'negative' 'negative' 'negative' 'positive'\n",
            " 'negative' 'negative' 'negative' 'negative' 'positive' 'negative'\n",
            " 'negative' 'negative' 'negative' 'positive' 'negative' 'positive'\n",
            " 'positive' 'positive' 'positive' 'positive' 'negative' 'positive'\n",
            " 'negative' 'positive' 'negative' 'negative' 'negative' 'negative'\n",
            " 'negative' 'positive' 'positive' 'positive' 'positive' 'negative'\n",
            " 'positive' 'positive' 'positive' 'positive' 'negative' 'positive'\n",
            " 'positive' 'negative' 'negative' 'negative' 'positive' 'positive'\n",
            " 'negative' 'negative' 'positive' 'negative' 'positive' 'negative'\n",
            " 'positive' 'negative' 'positive' 'negative' 'positive' 'negative'\n",
            " 'negative' 'positive' 'negative' 'positive' 'positive' 'negative'\n",
            " 'negative' 'negative' 'positive' 'negative' 'negative' 'positive'\n",
            " 'negative' 'negative' 'negative' 'negative' 'positive' 'positive'\n",
            " 'positive' 'positive' 'positive' 'positive' 'negative' 'negative'\n",
            " 'negative' 'positive' 'positive' 'positive' 'negative' 'negative'\n",
            " 'positive' 'negative' 'negative' 'negative' 'negative' 'negative'\n",
            " 'negative' 'positive' 'negative' 'positive' 'positive' 'negative'\n",
            " 'positive' 'positive' 'positive' 'negative' 'positive' 'negative'\n",
            " 'positive' 'positive' 'negative' 'negative' 'negative' 'positive'\n",
            " 'positive' 'positive' 'positive' 'negative' 'positive' 'negative'\n",
            " 'positive' 'positive' 'negative' 'negative' 'negative' 'positive'\n",
            " 'positive' 'negative' 'negative' 'negative' 'positive' 'positive'\n",
            " 'positive' 'positive' 'positive' 'negative' 'negative' 'negative'\n",
            " 'positive' 'positive' 'positive' 'negative' 'positive' 'negative'\n",
            " 'positive' 'negative' 'positive' 'positive' 'negative' 'positive'\n",
            " 'positive' 'positive' 'negative' 'negative' 'negative' 'positive'\n",
            " 'positive' 'negative' 'positive' 'positive' 'negative' 'positive'\n",
            " 'negative' 'negative' 'negative' 'positive' 'negative' 'negative'\n",
            " 'positive' 'positive' 'positive' 'positive' 'positive' 'negative'\n",
            " 'negative' 'positive' 'positive' 'positive' 'negative' 'positive'\n",
            " 'positive' 'negative' 'negative' 'positive' 'positive' 'positive'\n",
            " 'negative' 'positive' 'positive' 'positive' 'positive' 'positive'\n",
            " 'positive' 'negative' 'positive' 'negative' 'positive' 'negative'\n",
            " 'negative' 'positive' 'negative' 'positive' 'negative' 'negative'\n",
            " 'negative' 'positive' 'negative' 'positive' 'positive' 'positive'\n",
            " 'positive' 'negative' 'negative' 'positive' 'negative' 'negative'\n",
            " 'positive' 'negative' 'negative' 'positive' 'negative' 'positive'\n",
            " 'positive' 'negative' 'positive' 'negative' 'negative' 'positive'\n",
            " 'negative' 'positive' 'positive' 'negative' 'negative' 'positive'\n",
            " 'negative' 'negative' 'negative' 'positive' 'negative' 'positive'\n",
            " 'negative' 'positive' 'positive' 'positive' 'positive' 'positive'\n",
            " 'negative' 'positive' 'positive' 'positive' 'negative' 'negative'\n",
            " 'negative' 'negative' 'positive' 'positive' 'positive' 'negative'\n",
            " 'negative' 'positive' 'positive' 'negative' 'negative' 'positive'\n",
            " 'positive' 'positive' 'negative' 'negative' 'negative' 'negative'\n",
            " 'positive' 'negative' 'positive' 'negative' 'positive' 'negative'\n",
            " 'negative' 'positive' 'negative' 'positive' 'negative' 'negative'\n",
            " 'negative' 'positive' 'negative' 'negative' 'negative' 'positive'\n",
            " 'positive' 'negative' 'negative' 'negative' 'negative' 'positive'\n",
            " 'positive' 'positive' 'negative' 'positive' 'positive' 'positive'\n",
            " 'positive' 'negative' 'positive' 'positive' 'negative' 'negative'\n",
            " 'negative' 'positive' 'positive' 'negative' 'positive' 'positive'\n",
            " 'negative' 'positive' 'positive' 'positive']\n"
          ]
        }
      ]
    },
    {
      "cell_type": "code",
      "source": [
        "df_test['predicted_sentiment']= predictions\n",
        "df_test.head()"
      ],
      "metadata": {
        "id": "bwn9gTweE8aV",
        "colab": {
          "base_uri": "https://localhost:8080/",
          "height": 285
        },
        "outputId": "6d05d654-cd88-4e04-8b16-2aa3cd31c601"
      },
      "execution_count": 116,
      "outputs": [
        {
          "output_type": "execute_result",
          "data": {
            "text/plain": [
              "           id                                               text  \\\n",
              "0  96d74cb729   shanghai is also really exciting precisely  s...   \n",
              "1  eee518ae67  recession hit veronique branquinho she has to ...   \n",
              "2  01082688c6                                         happy bday   \n",
              "3  33987a8ee5                                          i like it   \n",
              "4  726e501993                          thats great weee visitors   \n",
              "\n",
              "                                       filtered_text  \\\n",
              "0  shanghai also really exciting precisely skyscr...   \n",
              "1  recession hit veronique branquinho quit compan...   \n",
              "2                                         happy bday   \n",
              "3                                               like   \n",
              "4                          thats great weee visitors   \n",
              "\n",
              "                                      tokenized_text  \\\n",
              "0  shanghai is also really exciting precisely sky...   \n",
              "1  recession hit veronique branquinho she has to ...   \n",
              "2                                         happy bday   \n",
              "3                                          i like it   \n",
              "4                          thats great weee visitors   \n",
              "\n",
              "                                        stemmed_word  \\\n",
              "0  shanghai is also realli excit precis skyscrap ...   \n",
              "1  recess hit veroniqu branquinho she ha to quit ...   \n",
              "2                                         happi bday   \n",
              "3                                          i like it   \n",
              "4                            that great weee visitor   \n",
              "\n",
              "                                     lemmatized_text predicted_sentiment  \n",
              "0  shanghai is also really exciting precisely sky...            positive  \n",
              "1  recession hit veronique branquinho she ha to q...            negative  \n",
              "2                                         happy bday            positive  \n",
              "3                                          i like it            positive  \n",
              "4                           thats great weee visitor            positive  "
            ],
            "text/html": [
              "\n",
              "  <div id=\"df-b41d4670-02e9-4eeb-8d16-43ab72ef70a9\">\n",
              "    <div class=\"colab-df-container\">\n",
              "      <div>\n",
              "<style scoped>\n",
              "    .dataframe tbody tr th:only-of-type {\n",
              "        vertical-align: middle;\n",
              "    }\n",
              "\n",
              "    .dataframe tbody tr th {\n",
              "        vertical-align: top;\n",
              "    }\n",
              "\n",
              "    .dataframe thead th {\n",
              "        text-align: right;\n",
              "    }\n",
              "</style>\n",
              "<table border=\"1\" class=\"dataframe\">\n",
              "  <thead>\n",
              "    <tr style=\"text-align: right;\">\n",
              "      <th></th>\n",
              "      <th>id</th>\n",
              "      <th>text</th>\n",
              "      <th>filtered_text</th>\n",
              "      <th>tokenized_text</th>\n",
              "      <th>stemmed_word</th>\n",
              "      <th>lemmatized_text</th>\n",
              "      <th>predicted_sentiment</th>\n",
              "    </tr>\n",
              "  </thead>\n",
              "  <tbody>\n",
              "    <tr>\n",
              "      <th>0</th>\n",
              "      <td>96d74cb729</td>\n",
              "      <td>shanghai is also really exciting precisely  s...</td>\n",
              "      <td>shanghai also really exciting precisely skyscr...</td>\n",
              "      <td>shanghai is also really exciting precisely sky...</td>\n",
              "      <td>shanghai is also realli excit precis skyscrap ...</td>\n",
              "      <td>shanghai is also really exciting precisely sky...</td>\n",
              "      <td>positive</td>\n",
              "    </tr>\n",
              "    <tr>\n",
              "      <th>1</th>\n",
              "      <td>eee518ae67</td>\n",
              "      <td>recession hit veronique branquinho she has to ...</td>\n",
              "      <td>recession hit veronique branquinho quit compan...</td>\n",
              "      <td>recession hit veronique branquinho she has to ...</td>\n",
              "      <td>recess hit veroniqu branquinho she ha to quit ...</td>\n",
              "      <td>recession hit veronique branquinho she ha to q...</td>\n",
              "      <td>negative</td>\n",
              "    </tr>\n",
              "    <tr>\n",
              "      <th>2</th>\n",
              "      <td>01082688c6</td>\n",
              "      <td>happy bday</td>\n",
              "      <td>happy bday</td>\n",
              "      <td>happy bday</td>\n",
              "      <td>happi bday</td>\n",
              "      <td>happy bday</td>\n",
              "      <td>positive</td>\n",
              "    </tr>\n",
              "    <tr>\n",
              "      <th>3</th>\n",
              "      <td>33987a8ee5</td>\n",
              "      <td>i like it</td>\n",
              "      <td>like</td>\n",
              "      <td>i like it</td>\n",
              "      <td>i like it</td>\n",
              "      <td>i like it</td>\n",
              "      <td>positive</td>\n",
              "    </tr>\n",
              "    <tr>\n",
              "      <th>4</th>\n",
              "      <td>726e501993</td>\n",
              "      <td>thats great weee visitors</td>\n",
              "      <td>thats great weee visitors</td>\n",
              "      <td>thats great weee visitors</td>\n",
              "      <td>that great weee visitor</td>\n",
              "      <td>thats great weee visitor</td>\n",
              "      <td>positive</td>\n",
              "    </tr>\n",
              "  </tbody>\n",
              "</table>\n",
              "</div>\n",
              "      <button class=\"colab-df-convert\" onclick=\"convertToInteractive('df-b41d4670-02e9-4eeb-8d16-43ab72ef70a9')\"\n",
              "              title=\"Convert this dataframe to an interactive table.\"\n",
              "              style=\"display:none;\">\n",
              "        \n",
              "  <svg xmlns=\"http://www.w3.org/2000/svg\" height=\"24px\"viewBox=\"0 0 24 24\"\n",
              "       width=\"24px\">\n",
              "    <path d=\"M0 0h24v24H0V0z\" fill=\"none\"/>\n",
              "    <path d=\"M18.56 5.44l.94 2.06.94-2.06 2.06-.94-2.06-.94-.94-2.06-.94 2.06-2.06.94zm-11 1L8.5 8.5l.94-2.06 2.06-.94-2.06-.94L8.5 2.5l-.94 2.06-2.06.94zm10 10l.94 2.06.94-2.06 2.06-.94-2.06-.94-.94-2.06-.94 2.06-2.06.94z\"/><path d=\"M17.41 7.96l-1.37-1.37c-.4-.4-.92-.59-1.43-.59-.52 0-1.04.2-1.43.59L10.3 9.45l-7.72 7.72c-.78.78-.78 2.05 0 2.83L4 21.41c.39.39.9.59 1.41.59.51 0 1.02-.2 1.41-.59l7.78-7.78 2.81-2.81c.8-.78.8-2.07 0-2.86zM5.41 20L4 18.59l7.72-7.72 1.47 1.35L5.41 20z\"/>\n",
              "  </svg>\n",
              "      </button>\n",
              "      \n",
              "  <style>\n",
              "    .colab-df-container {\n",
              "      display:flex;\n",
              "      flex-wrap:wrap;\n",
              "      gap: 12px;\n",
              "    }\n",
              "\n",
              "    .colab-df-convert {\n",
              "      background-color: #E8F0FE;\n",
              "      border: none;\n",
              "      border-radius: 50%;\n",
              "      cursor: pointer;\n",
              "      display: none;\n",
              "      fill: #1967D2;\n",
              "      height: 32px;\n",
              "      padding: 0 0 0 0;\n",
              "      width: 32px;\n",
              "    }\n",
              "\n",
              "    .colab-df-convert:hover {\n",
              "      background-color: #E2EBFA;\n",
              "      box-shadow: 0px 1px 2px rgba(60, 64, 67, 0.3), 0px 1px 3px 1px rgba(60, 64, 67, 0.15);\n",
              "      fill: #174EA6;\n",
              "    }\n",
              "\n",
              "    [theme=dark] .colab-df-convert {\n",
              "      background-color: #3B4455;\n",
              "      fill: #D2E3FC;\n",
              "    }\n",
              "\n",
              "    [theme=dark] .colab-df-convert:hover {\n",
              "      background-color: #434B5C;\n",
              "      box-shadow: 0px 1px 3px 1px rgba(0, 0, 0, 0.15);\n",
              "      filter: drop-shadow(0px 1px 2px rgba(0, 0, 0, 0.3));\n",
              "      fill: #FFFFFF;\n",
              "    }\n",
              "  </style>\n",
              "\n",
              "      <script>\n",
              "        const buttonEl =\n",
              "          document.querySelector('#df-b41d4670-02e9-4eeb-8d16-43ab72ef70a9 button.colab-df-convert');\n",
              "        buttonEl.style.display =\n",
              "          google.colab.kernel.accessAllowed ? 'block' : 'none';\n",
              "\n",
              "        async function convertToInteractive(key) {\n",
              "          const element = document.querySelector('#df-b41d4670-02e9-4eeb-8d16-43ab72ef70a9');\n",
              "          const dataTable =\n",
              "            await google.colab.kernel.invokeFunction('convertToInteractive',\n",
              "                                                     [key], {});\n",
              "          if (!dataTable) return;\n",
              "\n",
              "          const docLinkHtml = 'Like what you see? Visit the ' +\n",
              "            '<a target=\"_blank\" href=https://colab.research.google.com/notebooks/data_table.ipynb>data table notebook</a>'\n",
              "            + ' to learn more about interactive tables.';\n",
              "          element.innerHTML = '';\n",
              "          dataTable['output_type'] = 'display_data';\n",
              "          await google.colab.output.renderOutput(dataTable, element);\n",
              "          const docLink = document.createElement('div');\n",
              "          docLink.innerHTML = docLinkHtml;\n",
              "          element.appendChild(docLink);\n",
              "        }\n",
              "      </script>\n",
              "    </div>\n",
              "  </div>\n",
              "  "
            ]
          },
          "metadata": {},
          "execution_count": 116
        }
      ]
    },
    {
      "cell_type": "code",
      "source": [
        "df_test.to_csv('/content/test-predictions.csv',index=True)"
      ],
      "metadata": {
        "id": "ZVKdmkN4FTVG"
      },
      "execution_count": 117,
      "outputs": []
    },
    {
      "cell_type": "code",
      "source": [
        "import json\n",
        "\n",
        "import pandas as pd\n",
        "\n",
        "test_file_path = \"/content/test-predictions.csv\"\n",
        "df_test = pd.read_csv(test_file_path)\n",
        "df_test = df_test[[\"id\", \"predicted_sentiment\"]]\n",
        "\n",
        "data = []\n",
        "for index, row in df_test.iterrows():\n",
        "    data.append({'id': row['id'], 'prediction': row['predicted_sentiment']})\n",
        "\n",
        "print(data[0:5])\n",
        "\n",
        "submission_file_path = \"submission.json\"\n",
        "with open(submission_file_path, 'w') as fp:\n",
        "    fp.write('\\n'.join(json.dumps(i) for i in data))"
      ],
      "metadata": {
        "id": "UYOGY7I7FfF_",
        "colab": {
          "base_uri": "https://localhost:8080/"
        },
        "outputId": "c7f226d2-9273-49dd-a26a-dad63f297e06"
      },
      "execution_count": 118,
      "outputs": [
        {
          "output_type": "stream",
          "name": "stdout",
          "text": [
            "[{'id': '96d74cb729', 'prediction': 'positive'}, {'id': 'eee518ae67', 'prediction': 'negative'}, {'id': '01082688c6', 'prediction': 'positive'}, {'id': '33987a8ee5', 'prediction': 'positive'}, {'id': '726e501993', 'prediction': 'positive'}]\n"
          ]
        }
      ]
    },
    {
      "cell_type": "code",
      "source": [],
      "metadata": {
        "id": "2yom5PRmFqvn"
      },
      "execution_count": 118,
      "outputs": []
    }
  ]
}