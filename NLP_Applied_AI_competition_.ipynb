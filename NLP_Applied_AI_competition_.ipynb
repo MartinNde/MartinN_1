{
  "nbformat": 4,
  "nbformat_minor": 0,
  "metadata": {
    "colab": {
      "provenance": [],
      "authorship_tag": "ABX9TyOJQJ+r53oOKUhKKe8z3MJ0",
      "include_colab_link": true
    },
    "kernelspec": {
      "name": "python3",
      "display_name": "Python 3"
    },
    "language_info": {
      "name": "python"
    }
  },
  "cells": [
    {
      "cell_type": "markdown",
      "metadata": {
        "id": "view-in-github",
        "colab_type": "text"
      },
      "source": [
        "<a href=\"https://colab.research.google.com/github/MartinNde/MartinN_1/blob/main/NLP_Applied_AI_competition_.ipynb\" target=\"_parent\"><img src=\"https://colab.research.google.com/assets/colab-badge.svg\" alt=\"Open In Colab\"/></a>"
      ]
    },
    {
      "cell_type": "markdown",
      "source": [
        "##**Importing** libraries"
      ],
      "metadata": {
        "id": "Eta8EpyIQMil"
      }
    },
    {
      "cell_type": "markdown",
      "source": [
        "The libraries are the various tools required for manipulating and visualising data. Rendering the data in a format that can be loaded into a machine learning module. A clean and well formatted data will give rise to good predictions."
      ],
      "metadata": {
        "id": "y8WL4sHj4fse"
      }
    },
    {
      "cell_type": "code",
      "execution_count": null,
      "metadata": {
        "id": "ai62NvPc44jA",
        "colab": {
          "base_uri": "https://localhost:8080/"
        },
        "outputId": "a2888583-a531-4ff3-9177-7330a8157867"
      },
      "outputs": [
        {
          "output_type": "stream",
          "name": "stderr",
          "text": [
            "[nltk_data] Downloading package punkt to /root/nltk_data...\n",
            "[nltk_data]   Package punkt is already up-to-date!\n",
            "[nltk_data] Downloading package wordnet to /root/nltk_data...\n",
            "[nltk_data]   Package wordnet is already up-to-date!\n",
            "[nltk_data] Downloading package omw-1.4 to /root/nltk_data...\n",
            "[nltk_data]   Package omw-1.4 is already up-to-date!\n",
            "[nltk_data] Downloading package stopwords to /root/nltk_data...\n",
            "[nltk_data]   Package stopwords is already up-to-date!\n"
          ]
        }
      ],
      "source": [
        "# import libraries\n",
        "import pandas as pd\n",
        "import numpy as np\n",
        "\n",
        "# libraries for data preprocessing\n",
        "import nltk\n",
        "# download modules available with NLTK\n",
        "nltk.download('punkt')\n",
        "nltk.download('wordnet')\n",
        "nltk.download('omw-1.4')\n",
        "nltk.download('stopwords')\n",
        "\n",
        "from nltk.tokenize import word_tokenize\n",
        "from nltk.stem import WordNetLemmatizer\n",
        "from nltk.corpus import stopwords\n",
        "\n",
        "# libraries for data split and feature extraction\n",
        "from sklearn.model_selection import train_test_split\n",
        "from sklearn.feature_extraction.text import CountVectorizer\n",
        "from sklearn.feature_extraction.text import TfidfVectorizer\n",
        "\n",
        "# library for evaluation\n",
        "from sklearn import metrics\n",
        "\n",
        "# libraries for ML algorithms\n",
        "from sklearn import svm\n",
        "from sklearn import tree\n",
        "from sklearn.naive_bayes import GaussianNB\n",
        "from nltk.tokenize import TweetTokenizer\n",
        "from nltk.stem import PorterStemmer\n",
        "\n",
        "# libraries for data plotting\n",
        "import seaborn as sns\n",
        "import matplotlib.pyplot as plt \n",
        "import re\n",
        "import string\n",
        "\n",
        "\n",
        "RANDOM_SEED = 100\n"
      ]
    },
    {
      "cell_type": "code",
      "source": [
        "from google.colab import drive\n",
        "drive.mount('/content/drive')\n"
      ],
      "metadata": {
        "id": "ZV-1o4DA-uk-",
        "colab": {
          "base_uri": "https://localhost:8080/"
        },
        "outputId": "ebab752c-4828-42fe-8250-1458f2ba4cf8"
      },
      "execution_count": null,
      "outputs": [
        {
          "output_type": "stream",
          "name": "stdout",
          "text": [
            "Drive already mounted at /content/drive; to attempt to forcibly remount, call drive.mount(\"/content/drive\", force_remount=True).\n"
          ]
        }
      ]
    },
    {
      "cell_type": "markdown",
      "source": [
        "##Understanding the problem and dataset\n",
        "\n",
        "The target is to predict sentiment of new tweets which could either be positive or negative.\n",
        "\n",
        "The first step is to load and view the data set and the plot this on a graph to see the number of positives and negative visually."
      ],
      "metadata": {
        "id": "81TjdK58u6VX"
      }
    },
    {
      "cell_type": "code",
      "source": [
        "df = pd.read_csv('/content/train.csv')"
      ],
      "metadata": {
        "id": "kObuQv4znJT3"
      },
      "execution_count": null,
      "outputs": []
    },
    {
      "cell_type": "code",
      "source": [
        "df.head()"
      ],
      "metadata": {
        "id": "TANSfz-Rn20Y",
        "colab": {
          "base_uri": "https://localhost:8080/",
          "height": 206
        },
        "outputId": "9afabda2-2bcd-49d3-af37-833691e7bf1e"
      },
      "execution_count": null,
      "outputs": [
        {
          "output_type": "execute_result",
          "data": {
            "text/plain": [
              "           id                                               text sentiment\n",
              "0  549e992a42      Sooo SAD I will miss you here in San Diego!!!  negative\n",
              "1  088c60f138                          my boss is bullying me...  negative\n",
              "2  9642c003ef                     what interview! leave me alone  negative\n",
              "3  358bd9e861   Sons of ****, why couldn`t they put them on t...  negative\n",
              "4  6e0c6d75b1  2am feedings for the baby are fun when he is a...  positive"
            ],
            "text/html": [
              "\n",
              "  <div id=\"df-52a82d67-9329-4be8-bc66-bd4647b02119\">\n",
              "    <div class=\"colab-df-container\">\n",
              "      <div>\n",
              "<style scoped>\n",
              "    .dataframe tbody tr th:only-of-type {\n",
              "        vertical-align: middle;\n",
              "    }\n",
              "\n",
              "    .dataframe tbody tr th {\n",
              "        vertical-align: top;\n",
              "    }\n",
              "\n",
              "    .dataframe thead th {\n",
              "        text-align: right;\n",
              "    }\n",
              "</style>\n",
              "<table border=\"1\" class=\"dataframe\">\n",
              "  <thead>\n",
              "    <tr style=\"text-align: right;\">\n",
              "      <th></th>\n",
              "      <th>id</th>\n",
              "      <th>text</th>\n",
              "      <th>sentiment</th>\n",
              "    </tr>\n",
              "  </thead>\n",
              "  <tbody>\n",
              "    <tr>\n",
              "      <th>0</th>\n",
              "      <td>549e992a42</td>\n",
              "      <td>Sooo SAD I will miss you here in San Diego!!!</td>\n",
              "      <td>negative</td>\n",
              "    </tr>\n",
              "    <tr>\n",
              "      <th>1</th>\n",
              "      <td>088c60f138</td>\n",
              "      <td>my boss is bullying me...</td>\n",
              "      <td>negative</td>\n",
              "    </tr>\n",
              "    <tr>\n",
              "      <th>2</th>\n",
              "      <td>9642c003ef</td>\n",
              "      <td>what interview! leave me alone</td>\n",
              "      <td>negative</td>\n",
              "    </tr>\n",
              "    <tr>\n",
              "      <th>3</th>\n",
              "      <td>358bd9e861</td>\n",
              "      <td>Sons of ****, why couldn`t they put them on t...</td>\n",
              "      <td>negative</td>\n",
              "    </tr>\n",
              "    <tr>\n",
              "      <th>4</th>\n",
              "      <td>6e0c6d75b1</td>\n",
              "      <td>2am feedings for the baby are fun when he is a...</td>\n",
              "      <td>positive</td>\n",
              "    </tr>\n",
              "  </tbody>\n",
              "</table>\n",
              "</div>\n",
              "      <button class=\"colab-df-convert\" onclick=\"convertToInteractive('df-52a82d67-9329-4be8-bc66-bd4647b02119')\"\n",
              "              title=\"Convert this dataframe to an interactive table.\"\n",
              "              style=\"display:none;\">\n",
              "        \n",
              "  <svg xmlns=\"http://www.w3.org/2000/svg\" height=\"24px\"viewBox=\"0 0 24 24\"\n",
              "       width=\"24px\">\n",
              "    <path d=\"M0 0h24v24H0V0z\" fill=\"none\"/>\n",
              "    <path d=\"M18.56 5.44l.94 2.06.94-2.06 2.06-.94-2.06-.94-.94-2.06-.94 2.06-2.06.94zm-11 1L8.5 8.5l.94-2.06 2.06-.94-2.06-.94L8.5 2.5l-.94 2.06-2.06.94zm10 10l.94 2.06.94-2.06 2.06-.94-2.06-.94-.94-2.06-.94 2.06-2.06.94z\"/><path d=\"M17.41 7.96l-1.37-1.37c-.4-.4-.92-.59-1.43-.59-.52 0-1.04.2-1.43.59L10.3 9.45l-7.72 7.72c-.78.78-.78 2.05 0 2.83L4 21.41c.39.39.9.59 1.41.59.51 0 1.02-.2 1.41-.59l7.78-7.78 2.81-2.81c.8-.78.8-2.07 0-2.86zM5.41 20L4 18.59l7.72-7.72 1.47 1.35L5.41 20z\"/>\n",
              "  </svg>\n",
              "      </button>\n",
              "      \n",
              "  <style>\n",
              "    .colab-df-container {\n",
              "      display:flex;\n",
              "      flex-wrap:wrap;\n",
              "      gap: 12px;\n",
              "    }\n",
              "\n",
              "    .colab-df-convert {\n",
              "      background-color: #E8F0FE;\n",
              "      border: none;\n",
              "      border-radius: 50%;\n",
              "      cursor: pointer;\n",
              "      display: none;\n",
              "      fill: #1967D2;\n",
              "      height: 32px;\n",
              "      padding: 0 0 0 0;\n",
              "      width: 32px;\n",
              "    }\n",
              "\n",
              "    .colab-df-convert:hover {\n",
              "      background-color: #E2EBFA;\n",
              "      box-shadow: 0px 1px 2px rgba(60, 64, 67, 0.3), 0px 1px 3px 1px rgba(60, 64, 67, 0.15);\n",
              "      fill: #174EA6;\n",
              "    }\n",
              "\n",
              "    [theme=dark] .colab-df-convert {\n",
              "      background-color: #3B4455;\n",
              "      fill: #D2E3FC;\n",
              "    }\n",
              "\n",
              "    [theme=dark] .colab-df-convert:hover {\n",
              "      background-color: #434B5C;\n",
              "      box-shadow: 0px 1px 3px 1px rgba(0, 0, 0, 0.15);\n",
              "      filter: drop-shadow(0px 1px 2px rgba(0, 0, 0, 0.3));\n",
              "      fill: #FFFFFF;\n",
              "    }\n",
              "  </style>\n",
              "\n",
              "      <script>\n",
              "        const buttonEl =\n",
              "          document.querySelector('#df-52a82d67-9329-4be8-bc66-bd4647b02119 button.colab-df-convert');\n",
              "        buttonEl.style.display =\n",
              "          google.colab.kernel.accessAllowed ? 'block' : 'none';\n",
              "\n",
              "        async function convertToInteractive(key) {\n",
              "          const element = document.querySelector('#df-52a82d67-9329-4be8-bc66-bd4647b02119');\n",
              "          const dataTable =\n",
              "            await google.colab.kernel.invokeFunction('convertToInteractive',\n",
              "                                                     [key], {});\n",
              "          if (!dataTable) return;\n",
              "\n",
              "          const docLinkHtml = 'Like what you see? Visit the ' +\n",
              "            '<a target=\"_blank\" href=https://colab.research.google.com/notebooks/data_table.ipynb>data table notebook</a>'\n",
              "            + ' to learn more about interactive tables.';\n",
              "          element.innerHTML = '';\n",
              "          dataTable['output_type'] = 'display_data';\n",
              "          await google.colab.output.renderOutput(dataTable, element);\n",
              "          const docLink = document.createElement('div');\n",
              "          docLink.innerHTML = docLinkHtml;\n",
              "          element.appendChild(docLink);\n",
              "        }\n",
              "      </script>\n",
              "    </div>\n",
              "  </div>\n",
              "  "
            ]
          },
          "metadata": {},
          "execution_count": 229
        }
      ]
    },
    {
      "cell_type": "code",
      "source": [
        "print(df.shape)"
      ],
      "metadata": {
        "id": "Iwdr6kn_umbt",
        "colab": {
          "base_uri": "https://localhost:8080/"
        },
        "outputId": "0f296251-7d39-4d42-e56b-5158c72b2165"
      },
      "execution_count": null,
      "outputs": [
        {
          "output_type": "stream",
          "name": "stdout",
          "text": [
            "(16363, 3)\n"
          ]
        }
      ]
    },
    {
      "cell_type": "code",
      "source": [
        "# Summarise class details\n",
        "sns.countplot(x=df['sentiment'])"
      ],
      "metadata": {
        "id": "7zfi_5jZwBf4",
        "colab": {
          "base_uri": "https://localhost:8080/",
          "height": 296
        },
        "outputId": "8ed2be15-46cc-412e-f6b8-8d4d1a0bc131"
      },
      "execution_count": null,
      "outputs": [
        {
          "output_type": "execute_result",
          "data": {
            "text/plain": [
              "<matplotlib.axes._subplots.AxesSubplot at 0x7f0a8850e2e0>"
            ]
          },
          "metadata": {},
          "execution_count": 231
        },
        {
          "output_type": "display_data",
          "data": {
            "text/plain": [
              "<Figure size 432x288 with 1 Axes>"
            ],
            "image/png": "[encoded data removed]"
          },
          "metadata": {
            "needs_background": "light"
          }
        }
      ]
    },
    {
      "cell_type": "markdown",
      "source": [
        "View the data in numberical terms to see if there are any missing values and have an idea about the total number of the columns and row. Then check for missing values using drop.na.\n",
        "\n",
        "print out the number of entries to see if anything has been dropped. In this case there were no missing values because the total number before drop is equl to the total number after drop."
      ],
      "metadata": {
        "id": "y1k_vFgrQ-j6"
      }
    },
    {
      "cell_type": "code",
      "source": [
        "df.info()"
      ],
      "metadata": {
        "id": "niLYbLNYwWZN",
        "colab": {
          "base_uri": "https://localhost:8080/"
        },
        "outputId": "1af8e3c6-8c34-48c6-fbca-bbc4d2faf323"
      },
      "execution_count": null,
      "outputs": [
        {
          "output_type": "stream",
          "name": "stdout",
          "text": [
            "<class 'pandas.core.frame.DataFrame'>\n",
            "RangeIndex: 16363 entries, 0 to 16362\n",
            "Data columns (total 3 columns):\n",
            " #   Column     Non-Null Count  Dtype \n",
            "---  ------     --------------  ----- \n",
            " 0   id         16363 non-null  object\n",
            " 1   text       16363 non-null  object\n",
            " 2   sentiment  16363 non-null  object\n",
            "dtypes: object(3)\n",
            "memory usage: 383.6+ KB\n"
          ]
        }
      ]
    },
    {
      "cell_type": "code",
      "source": [
        "df = df.dropna()"
      ],
      "metadata": {
        "id": "g1OeLxsVw5qa"
      },
      "execution_count": null,
      "outputs": []
    },
    {
      "cell_type": "code",
      "source": [
        "print(f'Number of entries :{len(df)}') # there were no mising values or entries since the entries are exactly the same as the original data"
      ],
      "metadata": {
        "id": "SqT8Pav_ybmQ",
        "colab": {
          "base_uri": "https://localhost:8080/"
        },
        "outputId": "36f5d501-8e5d-4271-e90d-87b9dbe7fe48"
      },
      "execution_count": null,
      "outputs": [
        {
          "output_type": "stream",
          "name": "stdout",
          "text": [
            "Number of entries :16363\n"
          ]
        }
      ]
    },
    {
      "cell_type": "code",
      "source": [
        "df.describe()"
      ],
      "metadata": {
        "id": "mnUbvo8Tco4V",
        "colab": {
          "base_uri": "https://localhost:8080/",
          "height": 175
        },
        "outputId": "a047df8c-b1f6-460a-f89d-ba979903f1b5"
      },
      "execution_count": null,
      "outputs": [
        {
          "output_type": "execute_result",
          "data": {
            "text/plain": [
              "                id                                            text sentiment\n",
              "count        16363                                           16363     16363\n",
              "unique       16363                                           16363         2\n",
              "top     549e992a42   Sooo SAD I will miss you here in San Diego!!!  positive\n",
              "freq             1                                               1      8582"
            ],
            "text/html": [
              "\n",
              "  <div id=\"df-6b60f1ef-3c4a-4ab0-b7e6-752f4f3d2bac\">\n",
              "    <div class=\"colab-df-container\">\n",
              "      <div>\n",
              "<style scoped>\n",
              "    .dataframe tbody tr th:only-of-type {\n",
              "        vertical-align: middle;\n",
              "    }\n",
              "\n",
              "    .dataframe tbody tr th {\n",
              "        vertical-align: top;\n",
              "    }\n",
              "\n",
              "    .dataframe thead th {\n",
              "        text-align: right;\n",
              "    }\n",
              "</style>\n",
              "<table border=\"1\" class=\"dataframe\">\n",
              "  <thead>\n",
              "    <tr style=\"text-align: right;\">\n",
              "      <th></th>\n",
              "      <th>id</th>\n",
              "      <th>text</th>\n",
              "      <th>sentiment</th>\n",
              "    </tr>\n",
              "  </thead>\n",
              "  <tbody>\n",
              "    <tr>\n",
              "      <th>count</th>\n",
              "      <td>16363</td>\n",
              "      <td>16363</td>\n",
              "      <td>16363</td>\n",
              "    </tr>\n",
              "    <tr>\n",
              "      <th>unique</th>\n",
              "      <td>16363</td>\n",
              "      <td>16363</td>\n",
              "      <td>2</td>\n",
              "    </tr>\n",
              "    <tr>\n",
              "      <th>top</th>\n",
              "      <td>549e992a42</td>\n",
              "      <td>Sooo SAD I will miss you here in San Diego!!!</td>\n",
              "      <td>positive</td>\n",
              "    </tr>\n",
              "    <tr>\n",
              "      <th>freq</th>\n",
              "      <td>1</td>\n",
              "      <td>1</td>\n",
              "      <td>8582</td>\n",
              "    </tr>\n",
              "  </tbody>\n",
              "</table>\n",
              "</div>\n",
              "      <button class=\"colab-df-convert\" onclick=\"convertToInteractive('df-6b60f1ef-3c4a-4ab0-b7e6-752f4f3d2bac')\"\n",
              "              title=\"Convert this dataframe to an interactive table.\"\n",
              "              style=\"display:none;\">\n",
              "        \n",
              "  <svg xmlns=\"http://www.w3.org/2000/svg\" height=\"24px\"viewBox=\"0 0 24 24\"\n",
              "       width=\"24px\">\n",
              "    <path d=\"M0 0h24v24H0V0z\" fill=\"none\"/>\n",
              "    <path d=\"M18.56 5.44l.94 2.06.94-2.06 2.06-.94-2.06-.94-.94-2.06-.94 2.06-2.06.94zm-11 1L8.5 8.5l.94-2.06 2.06-.94-2.06-.94L8.5 2.5l-.94 2.06-2.06.94zm10 10l.94 2.06.94-2.06 2.06-.94-2.06-.94-.94-2.06-.94 2.06-2.06.94z\"/><path d=\"M17.41 7.96l-1.37-1.37c-.4-.4-.92-.59-1.43-.59-.52 0-1.04.2-1.43.59L10.3 9.45l-7.72 7.72c-.78.78-.78 2.05 0 2.83L4 21.41c.39.39.9.59 1.41.59.51 0 1.02-.2 1.41-.59l7.78-7.78 2.81-2.81c.8-.78.8-2.07 0-2.86zM5.41 20L4 18.59l7.72-7.72 1.47 1.35L5.41 20z\"/>\n",
              "  </svg>\n",
              "      </button>\n",
              "      \n",
              "  <style>\n",
              "    .colab-df-container {\n",
              "      display:flex;\n",
              "      flex-wrap:wrap;\n",
              "      gap: 12px;\n",
              "    }\n",
              "\n",
              "    .colab-df-convert {\n",
              "      background-color: #E8F0FE;\n",
              "      border: none;\n",
              "      border-radius: 50%;\n",
              "      cursor: pointer;\n",
              "      display: none;\n",
              "      fill: #1967D2;\n",
              "      height: 32px;\n",
              "      padding: 0 0 0 0;\n",
              "      width: 32px;\n",
              "    }\n",
              "\n",
              "    .colab-df-convert:hover {\n",
              "      background-color: #E2EBFA;\n",
              "      box-shadow: 0px 1px 2px rgba(60, 64, 67, 0.3), 0px 1px 3px 1px rgba(60, 64, 67, 0.15);\n",
              "      fill: #174EA6;\n",
              "    }\n",
              "\n",
              "    [theme=dark] .colab-df-convert {\n",
              "      background-color: #3B4455;\n",
              "      fill: #D2E3FC;\n",
              "    }\n",
              "\n",
              "    [theme=dark] .colab-df-convert:hover {\n",
              "      background-color: #434B5C;\n",
              "      box-shadow: 0px 1px 3px 1px rgba(0, 0, 0, 0.15);\n",
              "      filter: drop-shadow(0px 1px 2px rgba(0, 0, 0, 0.3));\n",
              "      fill: #FFFFFF;\n",
              "    }\n",
              "  </style>\n",
              "\n",
              "      <script>\n",
              "        const buttonEl =\n",
              "          document.querySelector('#df-6b60f1ef-3c4a-4ab0-b7e6-752f4f3d2bac button.colab-df-convert');\n",
              "        buttonEl.style.display =\n",
              "          google.colab.kernel.accessAllowed ? 'block' : 'none';\n",
              "\n",
              "        async function convertToInteractive(key) {\n",
              "          const element = document.querySelector('#df-6b60f1ef-3c4a-4ab0-b7e6-752f4f3d2bac');\n",
              "          const dataTable =\n",
              "            await google.colab.kernel.invokeFunction('convertToInteractive',\n",
              "                                                     [key], {});\n",
              "          if (!dataTable) return;\n",
              "\n",
              "          const docLinkHtml = 'Like what you see? Visit the ' +\n",
              "            '<a target=\"_blank\" href=https://colab.research.google.com/notebooks/data_table.ipynb>data table notebook</a>'\n",
              "            + ' to learn more about interactive tables.';\n",
              "          element.innerHTML = '';\n",
              "          dataTable['output_type'] = 'display_data';\n",
              "          await google.colab.output.renderOutput(dataTable, element);\n",
              "          const docLink = document.createElement('div');\n",
              "          docLink.innerHTML = docLinkHtml;\n",
              "          element.appendChild(docLink);\n",
              "        }\n",
              "      </script>\n",
              "    </div>\n",
              "  </div>\n",
              "  "
            ]
          },
          "metadata": {},
          "execution_count": 235
        }
      ]
    },
    {
      "cell_type": "markdown",
      "source": [
        "#Data preprocessing \n",
        "\n",
        "The following techniques are used to process data:\n",
        "tokenisation, text normalisation(lower casing, stemming and lemmatisation),stop word removal and puntuation.\n",
        "\n"
      ],
      "metadata": {
        "id": "ft44Wkr8zEgX"
      }
    },
    {
      "cell_type": "code",
      "source": [
        "sent = df.groupby('sentiment').count()['text'].reset_index().sort_values(by='text',ascending=False)\n",
        "print(sent)"
      ],
      "metadata": {
        "id": "NfagnwWzytVE",
        "colab": {
          "base_uri": "https://localhost:8080/"
        },
        "outputId": "d1c8c0b8-434c-4d06-9bba-a8cc89c35c24"
      },
      "execution_count": null,
      "outputs": [
        {
          "output_type": "stream",
          "name": "stdout",
          "text": [
            "  sentiment  text\n",
            "1  positive  8582\n",
            "0  negative  7781\n"
          ]
        }
      ]
    },
    {
      "cell_type": "code",
      "source": [
        " #remove any URLs\n",
        "df['text'] = df['text'].apply(lambda x: re.sub(r'http\\S+', '', x))\n",
        "\n",
        "df.head()\n",
        "     "
      ],
      "metadata": {
        "id": "U-ylkNDX0_Rv",
        "colab": {
          "base_uri": "https://localhost:8080/",
          "height": 206
        },
        "outputId": "ee04e9f5-1322-4162-92a8-9b7ddc40edd6"
      },
      "execution_count": null,
      "outputs": [
        {
          "output_type": "execute_result",
          "data": {
            "text/plain": [
              "           id                                               text sentiment\n",
              "0  549e992a42      Sooo SAD I will miss you here in San Diego!!!  negative\n",
              "1  088c60f138                          my boss is bullying me...  negative\n",
              "2  9642c003ef                     what interview! leave me alone  negative\n",
              "3  358bd9e861   Sons of ****, why couldn`t they put them on t...  negative\n",
              "4  6e0c6d75b1  2am feedings for the baby are fun when he is a...  positive"
            ],
            "text/html": [
              "\n",
              "  <div id=\"df-3b5cd49a-df00-4be4-90f9-065062bad391\">\n",
              "    <div class=\"colab-df-container\">\n",
              "      <div>\n",
              "<style scoped>\n",
              "    .dataframe tbody tr th:only-of-type {\n",
              "        vertical-align: middle;\n",
              "    }\n",
              "\n",
              "    .dataframe tbody tr th {\n",
              "        vertical-align: top;\n",
              "    }\n",
              "\n",
              "    .dataframe thead th {\n",
              "        text-align: right;\n",
              "    }\n",
              "</style>\n",
              "<table border=\"1\" class=\"dataframe\">\n",
              "  <thead>\n",
              "    <tr style=\"text-align: right;\">\n",
              "      <th></th>\n",
              "      <th>id</th>\n",
              "      <th>text</th>\n",
              "      <th>sentiment</th>\n",
              "    </tr>\n",
              "  </thead>\n",
              "  <tbody>\n",
              "    <tr>\n",
              "      <th>0</th>\n",
              "      <td>549e992a42</td>\n",
              "      <td>Sooo SAD I will miss you here in San Diego!!!</td>\n",
              "      <td>negative</td>\n",
              "    </tr>\n",
              "    <tr>\n",
              "      <th>1</th>\n",
              "      <td>088c60f138</td>\n",
              "      <td>my boss is bullying me...</td>\n",
              "      <td>negative</td>\n",
              "    </tr>\n",
              "    <tr>\n",
              "      <th>2</th>\n",
              "      <td>9642c003ef</td>\n",
              "      <td>what interview! leave me alone</td>\n",
              "      <td>negative</td>\n",
              "    </tr>\n",
              "    <tr>\n",
              "      <th>3</th>\n",
              "      <td>358bd9e861</td>\n",
              "      <td>Sons of ****, why couldn`t they put them on t...</td>\n",
              "      <td>negative</td>\n",
              "    </tr>\n",
              "    <tr>\n",
              "      <th>4</th>\n",
              "      <td>6e0c6d75b1</td>\n",
              "      <td>2am feedings for the baby are fun when he is a...</td>\n",
              "      <td>positive</td>\n",
              "    </tr>\n",
              "  </tbody>\n",
              "</table>\n",
              "</div>\n",
              "      <button class=\"colab-df-convert\" onclick=\"convertToInteractive('df-3b5cd49a-df00-4be4-90f9-065062bad391')\"\n",
              "              title=\"Convert this dataframe to an interactive table.\"\n",
              "              style=\"display:none;\">\n",
              "        \n",
              "  <svg xmlns=\"http://www.w3.org/2000/svg\" height=\"24px\"viewBox=\"0 0 24 24\"\n",
              "       width=\"24px\">\n",
              "    <path d=\"M0 0h24v24H0V0z\" fill=\"none\"/>\n",
              "    <path d=\"M18.56 5.44l.94 2.06.94-2.06 2.06-.94-2.06-.94-.94-2.06-.94 2.06-2.06.94zm-11 1L8.5 8.5l.94-2.06 2.06-.94-2.06-.94L8.5 2.5l-.94 2.06-2.06.94zm10 10l.94 2.06.94-2.06 2.06-.94-2.06-.94-.94-2.06-.94 2.06-2.06.94z\"/><path d=\"M17.41 7.96l-1.37-1.37c-.4-.4-.92-.59-1.43-.59-.52 0-1.04.2-1.43.59L10.3 9.45l-7.72 7.72c-.78.78-.78 2.05 0 2.83L4 21.41c.39.39.9.59 1.41.59.51 0 1.02-.2 1.41-.59l7.78-7.78 2.81-2.81c.8-.78.8-2.07 0-2.86zM5.41 20L4 18.59l7.72-7.72 1.47 1.35L5.41 20z\"/>\n",
              "  </svg>\n",
              "      </button>\n",
              "      \n",
              "  <style>\n",
              "    .colab-df-container {\n",
              "      display:flex;\n",
              "      flex-wrap:wrap;\n",
              "      gap: 12px;\n",
              "    }\n",
              "\n",
              "    .colab-df-convert {\n",
              "      background-color: #E8F0FE;\n",
              "      border: none;\n",
              "      border-radius: 50%;\n",
              "      cursor: pointer;\n",
              "      display: none;\n",
              "      fill: #1967D2;\n",
              "      height: 32px;\n",
              "      padding: 0 0 0 0;\n",
              "      width: 32px;\n",
              "    }\n",
              "\n",
              "    .colab-df-convert:hover {\n",
              "      background-color: #E2EBFA;\n",
              "      box-shadow: 0px 1px 2px rgba(60, 64, 67, 0.3), 0px 1px 3px 1px rgba(60, 64, 67, 0.15);\n",
              "      fill: #174EA6;\n",
              "    }\n",
              "\n",
              "    [theme=dark] .colab-df-convert {\n",
              "      background-color: #3B4455;\n",
              "      fill: #D2E3FC;\n",
              "    }\n",
              "\n",
              "    [theme=dark] .colab-df-convert:hover {\n",
              "      background-color: #434B5C;\n",
              "      box-shadow: 0px 1px 3px 1px rgba(0, 0, 0, 0.15);\n",
              "      filter: drop-shadow(0px 1px 2px rgba(0, 0, 0, 0.3));\n",
              "      fill: #FFFFFF;\n",
              "    }\n",
              "  </style>\n",
              "\n",
              "      <script>\n",
              "        const buttonEl =\n",
              "          document.querySelector('#df-3b5cd49a-df00-4be4-90f9-065062bad391 button.colab-df-convert');\n",
              "        buttonEl.style.display =\n",
              "          google.colab.kernel.accessAllowed ? 'block' : 'none';\n",
              "\n",
              "        async function convertToInteractive(key) {\n",
              "          const element = document.querySelector('#df-3b5cd49a-df00-4be4-90f9-065062bad391');\n",
              "          const dataTable =\n",
              "            await google.colab.kernel.invokeFunction('convertToInteractive',\n",
              "                                                     [key], {});\n",
              "          if (!dataTable) return;\n",
              "\n",
              "          const docLinkHtml = 'Like what you see? Visit the ' +\n",
              "            '<a target=\"_blank\" href=https://colab.research.google.com/notebooks/data_table.ipynb>data table notebook</a>'\n",
              "            + ' to learn more about interactive tables.';\n",
              "          element.innerHTML = '';\n",
              "          dataTable['output_type'] = 'display_data';\n",
              "          await google.colab.output.renderOutput(dataTable, element);\n",
              "          const docLink = document.createElement('div');\n",
              "          docLink.innerHTML = docLinkHtml;\n",
              "          element.appendChild(docLink);\n",
              "        }\n",
              "      </script>\n",
              "    </div>\n",
              "  </div>\n",
              "  "
            ]
          },
          "metadata": {},
          "execution_count": 237
        }
      ]
    },
    {
      "cell_type": "code",
      "source": [
        "#Lower Casing\n",
        "df['text'] = df['text'].apply(lambda x: x.lower())\n",
        "\n",
        "df.head()"
      ],
      "metadata": {
        "id": "1vbYPR9w9Jaz",
        "colab": {
          "base_uri": "https://localhost:8080/",
          "height": 206
        },
        "outputId": "8882a206-6820-48b4-f8d3-e294cce1dc52"
      },
      "execution_count": null,
      "outputs": [
        {
          "output_type": "execute_result",
          "data": {
            "text/plain": [
              "           id                                               text sentiment\n",
              "0  549e992a42      sooo sad i will miss you here in san diego!!!  negative\n",
              "1  088c60f138                          my boss is bullying me...  negative\n",
              "2  9642c003ef                     what interview! leave me alone  negative\n",
              "3  358bd9e861   sons of ****, why couldn`t they put them on t...  negative\n",
              "4  6e0c6d75b1  2am feedings for the baby are fun when he is a...  positive"
            ],
            "text/html": [
              "\n",
              "  <div id=\"df-64f87633-5254-4d70-914c-3786f13886ae\">\n",
              "    <div class=\"colab-df-container\">\n",
              "      <div>\n",
              "<style scoped>\n",
              "    .dataframe tbody tr th:only-of-type {\n",
              "        vertical-align: middle;\n",
              "    }\n",
              "\n",
              "    .dataframe tbody tr th {\n",
              "        vertical-align: top;\n",
              "    }\n",
              "\n",
              "    .dataframe thead th {\n",
              "        text-align: right;\n",
              "    }\n",
              "</style>\n",
              "<table border=\"1\" class=\"dataframe\">\n",
              "  <thead>\n",
              "    <tr style=\"text-align: right;\">\n",
              "      <th></th>\n",
              "      <th>id</th>\n",
              "      <th>text</th>\n",
              "      <th>sentiment</th>\n",
              "    </tr>\n",
              "  </thead>\n",
              "  <tbody>\n",
              "    <tr>\n",
              "      <th>0</th>\n",
              "      <td>549e992a42</td>\n",
              "      <td>sooo sad i will miss you here in san diego!!!</td>\n",
              "      <td>negative</td>\n",
              "    </tr>\n",
              "    <tr>\n",
              "      <th>1</th>\n",
              "      <td>088c60f138</td>\n",
              "      <td>my boss is bullying me...</td>\n",
              "      <td>negative</td>\n",
              "    </tr>\n",
              "    <tr>\n",
              "      <th>2</th>\n",
              "      <td>9642c003ef</td>\n",
              "      <td>what interview! leave me alone</td>\n",
              "      <td>negative</td>\n",
              "    </tr>\n",
              "    <tr>\n",
              "      <th>3</th>\n",
              "      <td>358bd9e861</td>\n",
              "      <td>sons of ****, why couldn`t they put them on t...</td>\n",
              "      <td>negative</td>\n",
              "    </tr>\n",
              "    <tr>\n",
              "      <th>4</th>\n",
              "      <td>6e0c6d75b1</td>\n",
              "      <td>2am feedings for the baby are fun when he is a...</td>\n",
              "      <td>positive</td>\n",
              "    </tr>\n",
              "  </tbody>\n",
              "</table>\n",
              "</div>\n",
              "      <button class=\"colab-df-convert\" onclick=\"convertToInteractive('df-64f87633-5254-4d70-914c-3786f13886ae')\"\n",
              "              title=\"Convert this dataframe to an interactive table.\"\n",
              "              style=\"display:none;\">\n",
              "        \n",
              "  <svg xmlns=\"http://www.w3.org/2000/svg\" height=\"24px\"viewBox=\"0 0 24 24\"\n",
              "       width=\"24px\">\n",
              "    <path d=\"M0 0h24v24H0V0z\" fill=\"none\"/>\n",
              "    <path d=\"M18.56 5.44l.94 2.06.94-2.06 2.06-.94-2.06-.94-.94-2.06-.94 2.06-2.06.94zm-11 1L8.5 8.5l.94-2.06 2.06-.94-2.06-.94L8.5 2.5l-.94 2.06-2.06.94zm10 10l.94 2.06.94-2.06 2.06-.94-2.06-.94-.94-2.06-.94 2.06-2.06.94z\"/><path d=\"M17.41 7.96l-1.37-1.37c-.4-.4-.92-.59-1.43-.59-.52 0-1.04.2-1.43.59L10.3 9.45l-7.72 7.72c-.78.78-.78 2.05 0 2.83L4 21.41c.39.39.9.59 1.41.59.51 0 1.02-.2 1.41-.59l7.78-7.78 2.81-2.81c.8-.78.8-2.07 0-2.86zM5.41 20L4 18.59l7.72-7.72 1.47 1.35L5.41 20z\"/>\n",
              "  </svg>\n",
              "      </button>\n",
              "      \n",
              "  <style>\n",
              "    .colab-df-container {\n",
              "      display:flex;\n",
              "      flex-wrap:wrap;\n",
              "      gap: 12px;\n",
              "    }\n",
              "\n",
              "    .colab-df-convert {\n",
              "      background-color: #E8F0FE;\n",
              "      border: none;\n",
              "      border-radius: 50%;\n",
              "      cursor: pointer;\n",
              "      display: none;\n",
              "      fill: #1967D2;\n",
              "      height: 32px;\n",
              "      padding: 0 0 0 0;\n",
              "      width: 32px;\n",
              "    }\n",
              "\n",
              "    .colab-df-convert:hover {\n",
              "      background-color: #E2EBFA;\n",
              "      box-shadow: 0px 1px 2px rgba(60, 64, 67, 0.3), 0px 1px 3px 1px rgba(60, 64, 67, 0.15);\n",
              "      fill: #174EA6;\n",
              "    }\n",
              "\n",
              "    [theme=dark] .colab-df-convert {\n",
              "      background-color: #3B4455;\n",
              "      fill: #D2E3FC;\n",
              "    }\n",
              "\n",
              "    [theme=dark] .colab-df-convert:hover {\n",
              "      background-color: #434B5C;\n",
              "      box-shadow: 0px 1px 3px 1px rgba(0, 0, 0, 0.15);\n",
              "      filter: drop-shadow(0px 1px 2px rgba(0, 0, 0, 0.3));\n",
              "      fill: #FFFFFF;\n",
              "    }\n",
              "  </style>\n",
              "\n",
              "      <script>\n",
              "        const buttonEl =\n",
              "          document.querySelector('#df-64f87633-5254-4d70-914c-3786f13886ae button.colab-df-convert');\n",
              "        buttonEl.style.display =\n",
              "          google.colab.kernel.accessAllowed ? 'block' : 'none';\n",
              "\n",
              "        async function convertToInteractive(key) {\n",
              "          const element = document.querySelector('#df-64f87633-5254-4d70-914c-3786f13886ae');\n",
              "          const dataTable =\n",
              "            await google.colab.kernel.invokeFunction('convertToInteractive',\n",
              "                                                     [key], {});\n",
              "          if (!dataTable) return;\n",
              "\n",
              "          const docLinkHtml = 'Like what you see? Visit the ' +\n",
              "            '<a target=\"_blank\" href=https://colab.research.google.com/notebooks/data_table.ipynb>data table notebook</a>'\n",
              "            + ' to learn more about interactive tables.';\n",
              "          element.innerHTML = '';\n",
              "          dataTable['output_type'] = 'display_data';\n",
              "          await google.colab.output.renderOutput(dataTable, element);\n",
              "          const docLink = document.createElement('div');\n",
              "          docLink.innerHTML = docLinkHtml;\n",
              "          element.appendChild(docLink);\n",
              "        }\n",
              "      </script>\n",
              "    </div>\n",
              "  </div>\n",
              "  "
            ]
          },
          "metadata": {},
          "execution_count": 238
        }
      ]
    },
    {
      "cell_type": "code",
      "source": [
        "#Removing Punctuations\n",
        "def remove_punctuations(text):\n",
        "    for punctuation in string.punctuation:\n",
        "        text = text.replace(punctuation, '')\n",
        "    return text\n",
        "\n",
        "# apply the remove_punctuations function to the 'text' column of the data\n",
        "df['text'] = df['text'].apply(remove_punctuations)\n",
        "\n",
        "df.head()"
      ],
      "metadata": {
        "id": "6Qwcyl9jfDkQ",
        "colab": {
          "base_uri": "https://localhost:8080/",
          "height": 206
        },
        "outputId": "ebed757e-7203-4cc6-d3d3-bb95eab99e19"
      },
      "execution_count": null,
      "outputs": [
        {
          "output_type": "execute_result",
          "data": {
            "text/plain": [
              "           id                                               text sentiment\n",
              "0  549e992a42         sooo sad i will miss you here in san diego  negative\n",
              "1  088c60f138                             my boss is bullying me  negative\n",
              "2  9642c003ef                      what interview leave me alone  negative\n",
              "3  358bd9e861   sons of  why couldnt they put them on the rel...  negative\n",
              "4  6e0c6d75b1  2am feedings for the baby are fun when he is a...  positive"
            ],
            "text/html": [
              "\n",
              "  <div id=\"df-8368d1f1-f352-450f-a491-ec4394c93bc2\">\n",
              "    <div class=\"colab-df-container\">\n",
              "      <div>\n",
              "<style scoped>\n",
              "    .dataframe tbody tr th:only-of-type {\n",
              "        vertical-align: middle;\n",
              "    }\n",
              "\n",
              "    .dataframe tbody tr th {\n",
              "        vertical-align: top;\n",
              "    }\n",
              "\n",
              "    .dataframe thead th {\n",
              "        text-align: right;\n",
              "    }\n",
              "</style>\n",
              "<table border=\"1\" class=\"dataframe\">\n",
              "  <thead>\n",
              "    <tr style=\"text-align: right;\">\n",
              "      <th></th>\n",
              "      <th>id</th>\n",
              "      <th>text</th>\n",
              "      <th>sentiment</th>\n",
              "    </tr>\n",
              "  </thead>\n",
              "  <tbody>\n",
              "    <tr>\n",
              "      <th>0</th>\n",
              "      <td>549e992a42</td>\n",
              "      <td>sooo sad i will miss you here in san diego</td>\n",
              "      <td>negative</td>\n",
              "    </tr>\n",
              "    <tr>\n",
              "      <th>1</th>\n",
              "      <td>088c60f138</td>\n",
              "      <td>my boss is bullying me</td>\n",
              "      <td>negative</td>\n",
              "    </tr>\n",
              "    <tr>\n",
              "      <th>2</th>\n",
              "      <td>9642c003ef</td>\n",
              "      <td>what interview leave me alone</td>\n",
              "      <td>negative</td>\n",
              "    </tr>\n",
              "    <tr>\n",
              "      <th>3</th>\n",
              "      <td>358bd9e861</td>\n",
              "      <td>sons of  why couldnt they put them on the rel...</td>\n",
              "      <td>negative</td>\n",
              "    </tr>\n",
              "    <tr>\n",
              "      <th>4</th>\n",
              "      <td>6e0c6d75b1</td>\n",
              "      <td>2am feedings for the baby are fun when he is a...</td>\n",
              "      <td>positive</td>\n",
              "    </tr>\n",
              "  </tbody>\n",
              "</table>\n",
              "</div>\n",
              "      <button class=\"colab-df-convert\" onclick=\"convertToInteractive('df-8368d1f1-f352-450f-a491-ec4394c93bc2')\"\n",
              "              title=\"Convert this dataframe to an interactive table.\"\n",
              "              style=\"display:none;\">\n",
              "        \n",
              "  <svg xmlns=\"http://www.w3.org/2000/svg\" height=\"24px\"viewBox=\"0 0 24 24\"\n",
              "       width=\"24px\">\n",
              "    <path d=\"M0 0h24v24H0V0z\" fill=\"none\"/>\n",
              "    <path d=\"M18.56 5.44l.94 2.06.94-2.06 2.06-.94-2.06-.94-.94-2.06-.94 2.06-2.06.94zm-11 1L8.5 8.5l.94-2.06 2.06-.94-2.06-.94L8.5 2.5l-.94 2.06-2.06.94zm10 10l.94 2.06.94-2.06 2.06-.94-2.06-.94-.94-2.06-.94 2.06-2.06.94z\"/><path d=\"M17.41 7.96l-1.37-1.37c-.4-.4-.92-.59-1.43-.59-.52 0-1.04.2-1.43.59L10.3 9.45l-7.72 7.72c-.78.78-.78 2.05 0 2.83L4 21.41c.39.39.9.59 1.41.59.51 0 1.02-.2 1.41-.59l7.78-7.78 2.81-2.81c.8-.78.8-2.07 0-2.86zM5.41 20L4 18.59l7.72-7.72 1.47 1.35L5.41 20z\"/>\n",
              "  </svg>\n",
              "      </button>\n",
              "      \n",
              "  <style>\n",
              "    .colab-df-container {\n",
              "      display:flex;\n",
              "      flex-wrap:wrap;\n",
              "      gap: 12px;\n",
              "    }\n",
              "\n",
              "    .colab-df-convert {\n",
              "      background-color: #E8F0FE;\n",
              "      border: none;\n",
              "      border-radius: 50%;\n",
              "      cursor: pointer;\n",
              "      display: none;\n",
              "      fill: #1967D2;\n",
              "      height: 32px;\n",
              "      padding: 0 0 0 0;\n",
              "      width: 32px;\n",
              "    }\n",
              "\n",
              "    .colab-df-convert:hover {\n",
              "      background-color: #E2EBFA;\n",
              "      box-shadow: 0px 1px 2px rgba(60, 64, 67, 0.3), 0px 1px 3px 1px rgba(60, 64, 67, 0.15);\n",
              "      fill: #174EA6;\n",
              "    }\n",
              "\n",
              "    [theme=dark] .colab-df-convert {\n",
              "      background-color: #3B4455;\n",
              "      fill: #D2E3FC;\n",
              "    }\n",
              "\n",
              "    [theme=dark] .colab-df-convert:hover {\n",
              "      background-color: #434B5C;\n",
              "      box-shadow: 0px 1px 3px 1px rgba(0, 0, 0, 0.15);\n",
              "      filter: drop-shadow(0px 1px 2px rgba(0, 0, 0, 0.3));\n",
              "      fill: #FFFFFF;\n",
              "    }\n",
              "  </style>\n",
              "\n",
              "      <script>\n",
              "        const buttonEl =\n",
              "          document.querySelector('#df-8368d1f1-f352-450f-a491-ec4394c93bc2 button.colab-df-convert');\n",
              "        buttonEl.style.display =\n",
              "          google.colab.kernel.accessAllowed ? 'block' : 'none';\n",
              "\n",
              "        async function convertToInteractive(key) {\n",
              "          const element = document.querySelector('#df-8368d1f1-f352-450f-a491-ec4394c93bc2');\n",
              "          const dataTable =\n",
              "            await google.colab.kernel.invokeFunction('convertToInteractive',\n",
              "                                                     [key], {});\n",
              "          if (!dataTable) return;\n",
              "\n",
              "          const docLinkHtml = 'Like what you see? Visit the ' +\n",
              "            '<a target=\"_blank\" href=https://colab.research.google.com/notebooks/data_table.ipynb>data table notebook</a>'\n",
              "            + ' to learn more about interactive tables.';\n",
              "          element.innerHTML = '';\n",
              "          dataTable['output_type'] = 'display_data';\n",
              "          await google.colab.output.renderOutput(dataTable, element);\n",
              "          const docLink = document.createElement('div');\n",
              "          docLink.innerHTML = docLinkHtml;\n",
              "          element.appendChild(docLink);\n",
              "        }\n",
              "      </script>\n",
              "    </div>\n",
              "  </div>\n",
              "  "
            ]
          },
          "metadata": {},
          "execution_count": 239
        }
      ]
    },
    {
      "cell_type": "code",
      "source": [
        "#Lower Casing\n",
        "df['text'] = df['text'].apply(lambda x: x.lower())\n",
        "\n",
        "df.head()"
      ],
      "metadata": {
        "id": "0nEaZHQwfFHn",
        "colab": {
          "base_uri": "https://localhost:8080/",
          "height": 206
        },
        "outputId": "9e2f554d-4e0b-470a-9630-1a9eb5806bfd"
      },
      "execution_count": null,
      "outputs": [
        {
          "output_type": "execute_result",
          "data": {
            "text/plain": [
              "           id                                               text sentiment\n",
              "0  549e992a42         sooo sad i will miss you here in san diego  negative\n",
              "1  088c60f138                             my boss is bullying me  negative\n",
              "2  9642c003ef                      what interview leave me alone  negative\n",
              "3  358bd9e861   sons of  why couldnt they put them on the rel...  negative\n",
              "4  6e0c6d75b1  2am feedings for the baby are fun when he is a...  positive"
            ],
            "text/html": [
              "\n",
              "  <div id=\"df-7ad0543c-e808-4404-9b6d-55e51940b1a5\">\n",
              "    <div class=\"colab-df-container\">\n",
              "      <div>\n",
              "<style scoped>\n",
              "    .dataframe tbody tr th:only-of-type {\n",
              "        vertical-align: middle;\n",
              "    }\n",
              "\n",
              "    .dataframe tbody tr th {\n",
              "        vertical-align: top;\n",
              "    }\n",
              "\n",
              "    .dataframe thead th {\n",
              "        text-align: right;\n",
              "    }\n",
              "</style>\n",
              "<table border=\"1\" class=\"dataframe\">\n",
              "  <thead>\n",
              "    <tr style=\"text-align: right;\">\n",
              "      <th></th>\n",
              "      <th>id</th>\n",
              "      <th>text</th>\n",
              "      <th>sentiment</th>\n",
              "    </tr>\n",
              "  </thead>\n",
              "  <tbody>\n",
              "    <tr>\n",
              "      <th>0</th>\n",
              "      <td>549e992a42</td>\n",
              "      <td>sooo sad i will miss you here in san diego</td>\n",
              "      <td>negative</td>\n",
              "    </tr>\n",
              "    <tr>\n",
              "      <th>1</th>\n",
              "      <td>088c60f138</td>\n",
              "      <td>my boss is bullying me</td>\n",
              "      <td>negative</td>\n",
              "    </tr>\n",
              "    <tr>\n",
              "      <th>2</th>\n",
              "      <td>9642c003ef</td>\n",
              "      <td>what interview leave me alone</td>\n",
              "      <td>negative</td>\n",
              "    </tr>\n",
              "    <tr>\n",
              "      <th>3</th>\n",
              "      <td>358bd9e861</td>\n",
              "      <td>sons of  why couldnt they put them on the rel...</td>\n",
              "      <td>negative</td>\n",
              "    </tr>\n",
              "    <tr>\n",
              "      <th>4</th>\n",
              "      <td>6e0c6d75b1</td>\n",
              "      <td>2am feedings for the baby are fun when he is a...</td>\n",
              "      <td>positive</td>\n",
              "    </tr>\n",
              "  </tbody>\n",
              "</table>\n",
              "</div>\n",
              "      <button class=\"colab-df-convert\" onclick=\"convertToInteractive('df-7ad0543c-e808-4404-9b6d-55e51940b1a5')\"\n",
              "              title=\"Convert this dataframe to an interactive table.\"\n",
              "              style=\"display:none;\">\n",
              "        \n",
              "  <svg xmlns=\"http://www.w3.org/2000/svg\" height=\"24px\"viewBox=\"0 0 24 24\"\n",
              "       width=\"24px\">\n",
              "    <path d=\"M0 0h24v24H0V0z\" fill=\"none\"/>\n",
              "    <path d=\"M18.56 5.44l.94 2.06.94-2.06 2.06-.94-2.06-.94-.94-2.06-.94 2.06-2.06.94zm-11 1L8.5 8.5l.94-2.06 2.06-.94-2.06-.94L8.5 2.5l-.94 2.06-2.06.94zm10 10l.94 2.06.94-2.06 2.06-.94-2.06-.94-.94-2.06-.94 2.06-2.06.94z\"/><path d=\"M17.41 7.96l-1.37-1.37c-.4-.4-.92-.59-1.43-.59-.52 0-1.04.2-1.43.59L10.3 9.45l-7.72 7.72c-.78.78-.78 2.05 0 2.83L4 21.41c.39.39.9.59 1.41.59.51 0 1.02-.2 1.41-.59l7.78-7.78 2.81-2.81c.8-.78.8-2.07 0-2.86zM5.41 20L4 18.59l7.72-7.72 1.47 1.35L5.41 20z\"/>\n",
              "  </svg>\n",
              "      </button>\n",
              "      \n",
              "  <style>\n",
              "    .colab-df-container {\n",
              "      display:flex;\n",
              "      flex-wrap:wrap;\n",
              "      gap: 12px;\n",
              "    }\n",
              "\n",
              "    .colab-df-convert {\n",
              "      background-color: #E8F0FE;\n",
              "      border: none;\n",
              "      border-radius: 50%;\n",
              "      cursor: pointer;\n",
              "      display: none;\n",
              "      fill: #1967D2;\n",
              "      height: 32px;\n",
              "      padding: 0 0 0 0;\n",
              "      width: 32px;\n",
              "    }\n",
              "\n",
              "    .colab-df-convert:hover {\n",
              "      background-color: #E2EBFA;\n",
              "      box-shadow: 0px 1px 2px rgba(60, 64, 67, 0.3), 0px 1px 3px 1px rgba(60, 64, 67, 0.15);\n",
              "      fill: #174EA6;\n",
              "    }\n",
              "\n",
              "    [theme=dark] .colab-df-convert {\n",
              "      background-color: #3B4455;\n",
              "      fill: #D2E3FC;\n",
              "    }\n",
              "\n",
              "    [theme=dark] .colab-df-convert:hover {\n",
              "      background-color: #434B5C;\n",
              "      box-shadow: 0px 1px 3px 1px rgba(0, 0, 0, 0.15);\n",
              "      filter: drop-shadow(0px 1px 2px rgba(0, 0, 0, 0.3));\n",
              "      fill: #FFFFFF;\n",
              "    }\n",
              "  </style>\n",
              "\n",
              "      <script>\n",
              "        const buttonEl =\n",
              "          document.querySelector('#df-7ad0543c-e808-4404-9b6d-55e51940b1a5 button.colab-df-convert');\n",
              "        buttonEl.style.display =\n",
              "          google.colab.kernel.accessAllowed ? 'block' : 'none';\n",
              "\n",
              "        async function convertToInteractive(key) {\n",
              "          const element = document.querySelector('#df-7ad0543c-e808-4404-9b6d-55e51940b1a5');\n",
              "          const dataTable =\n",
              "            await google.colab.kernel.invokeFunction('convertToInteractive',\n",
              "                                                     [key], {});\n",
              "          if (!dataTable) return;\n",
              "\n",
              "          const docLinkHtml = 'Like what you see? Visit the ' +\n",
              "            '<a target=\"_blank\" href=https://colab.research.google.com/notebooks/data_table.ipynb>data table notebook</a>'\n",
              "            + ' to learn more about interactive tables.';\n",
              "          element.innerHTML = '';\n",
              "          dataTable['output_type'] = 'display_data';\n",
              "          await google.colab.output.renderOutput(dataTable, element);\n",
              "          const docLink = document.createElement('div');\n",
              "          docLink.innerHTML = docLinkHtml;\n",
              "          element.appendChild(docLink);\n",
              "        }\n",
              "      </script>\n",
              "    </div>\n",
              "  </div>\n",
              "  "
            ]
          },
          "metadata": {},
          "execution_count": 240
        }
      ]
    },
    {
      "cell_type": "code",
      "source": [
        "# remove stopwords from tokens\n",
        "\n",
        "# define set of English stopwords\n",
        "stop_words = set(stopwords.words('english')) \n",
        "\n",
        "# Define a function to remove stop words from a sentence\n",
        "def remove_stop_words(sentence):\n",
        "    words = sentence.split()\n",
        "    filtered_words = [word for word in words if word.lower() not in stop_words]\n",
        "    filtered_sentence = ' '.join(filtered_words)\n",
        "    return filtered_sentence\n",
        "\n",
        "# Apply the function to the 'text' column of the DataFrame\n",
        "df['filtered_text'] = df['text'].apply(remove_stop_words)\n",
        "\n",
        "\n",
        "# Print the first 5 rows of the DataFrame\n",
        "print(df.head())"
      ],
      "metadata": {
        "id": "pYbmOlqDfFTr",
        "colab": {
          "base_uri": "https://localhost:8080/"
        },
        "outputId": "23adb45d-8e26-49de-ab43-921b5276d14c"
      },
      "execution_count": null,
      "outputs": [
        {
          "output_type": "stream",
          "name": "stdout",
          "text": [
            "           id                                               text sentiment  \\\n",
            "0  549e992a42         sooo sad i will miss you here in san diego  negative   \n",
            "1  088c60f138                             my boss is bullying me  negative   \n",
            "2  9642c003ef                      what interview leave me alone  negative   \n",
            "3  358bd9e861   sons of  why couldnt they put them on the rel...  negative   \n",
            "4  6e0c6d75b1  2am feedings for the baby are fun when he is a...  positive   \n",
            "\n",
            "                              filtered_text  \n",
            "0                   sooo sad miss san diego  \n",
            "1                             boss bullying  \n",
            "2                     interview leave alone  \n",
            "3  sons couldnt put releases already bought  \n",
            "4         2am feedings baby fun smiles coos  \n"
          ]
        }
      ]
    },
    {
      "cell_type": "code",
      "source": [
        "#Removing Punctuations\n",
        "def remove_punctuations(text):\n",
        "    for punctuation in string.punctuation:\n",
        "        text = text.replace(punctuation, '')\n",
        "    return text\n",
        "\n",
        "# apply the remove_punctuations function to the 'text' column of the data\n",
        "df['text'] = df['text'].apply(remove_punctuations)\n",
        "\n",
        "df.head()"
      ],
      "metadata": {
        "id": "Kv7gLPdefFZn",
        "colab": {
          "base_uri": "https://localhost:8080/",
          "height": 206
        },
        "outputId": "fdb3fa9c-081c-45aa-966d-2466cc2d4797"
      },
      "execution_count": null,
      "outputs": [
        {
          "output_type": "execute_result",
          "data": {
            "text/plain": [
              "           id                                               text sentiment  \\\n",
              "0  549e992a42         sooo sad i will miss you here in san diego  negative   \n",
              "1  088c60f138                             my boss is bullying me  negative   \n",
              "2  9642c003ef                      what interview leave me alone  negative   \n",
              "3  358bd9e861   sons of  why couldnt they put them on the rel...  negative   \n",
              "4  6e0c6d75b1  2am feedings for the baby are fun when he is a...  positive   \n",
              "\n",
              "                              filtered_text  \n",
              "0                   sooo sad miss san diego  \n",
              "1                             boss bullying  \n",
              "2                     interview leave alone  \n",
              "3  sons couldnt put releases already bought  \n",
              "4         2am feedings baby fun smiles coos  "
            ],
            "text/html": [
              "\n",
              "  <div id=\"df-2447dd17-1398-4684-8627-2442fb5af81b\">\n",
              "    <div class=\"colab-df-container\">\n",
              "      <div>\n",
              "<style scoped>\n",
              "    .dataframe tbody tr th:only-of-type {\n",
              "        vertical-align: middle;\n",
              "    }\n",
              "\n",
              "    .dataframe tbody tr th {\n",
              "        vertical-align: top;\n",
              "    }\n",
              "\n",
              "    .dataframe thead th {\n",
              "        text-align: right;\n",
              "    }\n",
              "</style>\n",
              "<table border=\"1\" class=\"dataframe\">\n",
              "  <thead>\n",
              "    <tr style=\"text-align: right;\">\n",
              "      <th></th>\n",
              "      <th>id</th>\n",
              "      <th>text</th>\n",
              "      <th>sentiment</th>\n",
              "      <th>filtered_text</th>\n",
              "    </tr>\n",
              "  </thead>\n",
              "  <tbody>\n",
              "    <tr>\n",
              "      <th>0</th>\n",
              "      <td>549e992a42</td>\n",
              "      <td>sooo sad i will miss you here in san diego</td>\n",
              "      <td>negative</td>\n",
              "      <td>sooo sad miss san diego</td>\n",
              "    </tr>\n",
              "    <tr>\n",
              "      <th>1</th>\n",
              "      <td>088c60f138</td>\n",
              "      <td>my boss is bullying me</td>\n",
              "      <td>negative</td>\n",
              "      <td>boss bullying</td>\n",
              "    </tr>\n",
              "    <tr>\n",
              "      <th>2</th>\n",
              "      <td>9642c003ef</td>\n",
              "      <td>what interview leave me alone</td>\n",
              "      <td>negative</td>\n",
              "      <td>interview leave alone</td>\n",
              "    </tr>\n",
              "    <tr>\n",
              "      <th>3</th>\n",
              "      <td>358bd9e861</td>\n",
              "      <td>sons of  why couldnt they put them on the rel...</td>\n",
              "      <td>negative</td>\n",
              "      <td>sons couldnt put releases already bought</td>\n",
              "    </tr>\n",
              "    <tr>\n",
              "      <th>4</th>\n",
              "      <td>6e0c6d75b1</td>\n",
              "      <td>2am feedings for the baby are fun when he is a...</td>\n",
              "      <td>positive</td>\n",
              "      <td>2am feedings baby fun smiles coos</td>\n",
              "    </tr>\n",
              "  </tbody>\n",
              "</table>\n",
              "</div>\n",
              "      <button class=\"colab-df-convert\" onclick=\"convertToInteractive('df-2447dd17-1398-4684-8627-2442fb5af81b')\"\n",
              "              title=\"Convert this dataframe to an interactive table.\"\n",
              "              style=\"display:none;\">\n",
              "        \n",
              "  <svg xmlns=\"http://www.w3.org/2000/svg\" height=\"24px\"viewBox=\"0 0 24 24\"\n",
              "       width=\"24px\">\n",
              "    <path d=\"M0 0h24v24H0V0z\" fill=\"none\"/>\n",
              "    <path d=\"M18.56 5.44l.94 2.06.94-2.06 2.06-.94-2.06-.94-.94-2.06-.94 2.06-2.06.94zm-11 1L8.5 8.5l.94-2.06 2.06-.94-2.06-.94L8.5 2.5l-.94 2.06-2.06.94zm10 10l.94 2.06.94-2.06 2.06-.94-2.06-.94-.94-2.06-.94 2.06-2.06.94z\"/><path d=\"M17.41 7.96l-1.37-1.37c-.4-.4-.92-.59-1.43-.59-.52 0-1.04.2-1.43.59L10.3 9.45l-7.72 7.72c-.78.78-.78 2.05 0 2.83L4 21.41c.39.39.9.59 1.41.59.51 0 1.02-.2 1.41-.59l7.78-7.78 2.81-2.81c.8-.78.8-2.07 0-2.86zM5.41 20L4 18.59l7.72-7.72 1.47 1.35L5.41 20z\"/>\n",
              "  </svg>\n",
              "      </button>\n",
              "      \n",
              "  <style>\n",
              "    .colab-df-container {\n",
              "      display:flex;\n",
              "      flex-wrap:wrap;\n",
              "      gap: 12px;\n",
              "    }\n",
              "\n",
              "    .colab-df-convert {\n",
              "      background-color: #E8F0FE;\n",
              "      border: none;\n",
              "      border-radius: 50%;\n",
              "      cursor: pointer;\n",
              "      display: none;\n",
              "      fill: #1967D2;\n",
              "      height: 32px;\n",
              "      padding: 0 0 0 0;\n",
              "      width: 32px;\n",
              "    }\n",
              "\n",
              "    .colab-df-convert:hover {\n",
              "      background-color: #E2EBFA;\n",
              "      box-shadow: 0px 1px 2px rgba(60, 64, 67, 0.3), 0px 1px 3px 1px rgba(60, 64, 67, 0.15);\n",
              "      fill: #174EA6;\n",
              "    }\n",
              "\n",
              "    [theme=dark] .colab-df-convert {\n",
              "      background-color: #3B4455;\n",
              "      fill: #D2E3FC;\n",
              "    }\n",
              "\n",
              "    [theme=dark] .colab-df-convert:hover {\n",
              "      background-color: #434B5C;\n",
              "      box-shadow: 0px 1px 3px 1px rgba(0, 0, 0, 0.15);\n",
              "      filter: drop-shadow(0px 1px 2px rgba(0, 0, 0, 0.3));\n",
              "      fill: #FFFFFF;\n",
              "    }\n",
              "  </style>\n",
              "\n",
              "      <script>\n",
              "        const buttonEl =\n",
              "          document.querySelector('#df-2447dd17-1398-4684-8627-2442fb5af81b button.colab-df-convert');\n",
              "        buttonEl.style.display =\n",
              "          google.colab.kernel.accessAllowed ? 'block' : 'none';\n",
              "\n",
              "        async function convertToInteractive(key) {\n",
              "          const element = document.querySelector('#df-2447dd17-1398-4684-8627-2442fb5af81b');\n",
              "          const dataTable =\n",
              "            await google.colab.kernel.invokeFunction('convertToInteractive',\n",
              "                                                     [key], {});\n",
              "          if (!dataTable) return;\n",
              "\n",
              "          const docLinkHtml = 'Like what you see? Visit the ' +\n",
              "            '<a target=\"_blank\" href=https://colab.research.google.com/notebooks/data_table.ipynb>data table notebook</a>'\n",
              "            + ' to learn more about interactive tables.';\n",
              "          element.innerHTML = '';\n",
              "          dataTable['output_type'] = 'display_data';\n",
              "          await google.colab.output.renderOutput(dataTable, element);\n",
              "          const docLink = document.createElement('div');\n",
              "          docLink.innerHTML = docLinkHtml;\n",
              "          element.appendChild(docLink);\n",
              "        }\n",
              "      </script>\n",
              "    </div>\n",
              "  </div>\n",
              "  "
            ]
          },
          "metadata": {},
          "execution_count": 242
        }
      ]
    },
    {
      "cell_type": "code",
      "source": [
        "# Tokenize text\n",
        "\n",
        "tknzr = TweetTokenizer()\n",
        "# iterate through each row in 'Text' columm and convert text to tokens\n",
        "list_tokenized_text = [tknzr.tokenize(text) for text in df['text']]\n",
        "print(list_tokenized_text[:2])\n",
        "\n",
        "list_tokenized_sentences = [' '.join(tokens) for tokens in list_tokenized_text]\n",
        "print(list_tokenized_sentences[:2])\n",
        "\n",
        "# add new column to data frame\n",
        "df['tokenized_text'] = list_tokenized_sentences #list_tokenized_text \n",
        "\n",
        "df.head()"
      ],
      "metadata": {
        "id": "wnzkHL9EfFdC",
        "colab": {
          "base_uri": "https://localhost:8080/",
          "height": 285
        },
        "outputId": "9d608e06-faa3-4b4d-89a8-beeb2d4a7eff"
      },
      "execution_count": null,
      "outputs": [
        {
          "output_type": "stream",
          "name": "stdout",
          "text": [
            "[['sooo', 'sad', 'i', 'will', 'miss', 'you', 'here', 'in', 'san', 'diego'], ['my', 'boss', 'is', 'bullying', 'me']]\n",
            "['sooo sad i will miss you here in san diego', 'my boss is bullying me']\n"
          ]
        },
        {
          "output_type": "execute_result",
          "data": {
            "text/plain": [
              "           id                                               text sentiment  \\\n",
              "0  549e992a42         sooo sad i will miss you here in san diego  negative   \n",
              "1  088c60f138                             my boss is bullying me  negative   \n",
              "2  9642c003ef                      what interview leave me alone  negative   \n",
              "3  358bd9e861   sons of  why couldnt they put them on the rel...  negative   \n",
              "4  6e0c6d75b1  2am feedings for the baby are fun when he is a...  positive   \n",
              "\n",
              "                              filtered_text  \\\n",
              "0                   sooo sad miss san diego   \n",
              "1                             boss bullying   \n",
              "2                     interview leave alone   \n",
              "3  sons couldnt put releases already bought   \n",
              "4         2am feedings baby fun smiles coos   \n",
              "\n",
              "                                      tokenized_text  \n",
              "0         sooo sad i will miss you here in san diego  \n",
              "1                             my boss is bullying me  \n",
              "2                      what interview leave me alone  \n",
              "3  sons of why couldnt they put them on the relea...  \n",
              "4  2am feedings for the baby are fun when he is a...  "
            ],
            "text/html": [
              "\n",
              "  <div id=\"df-33193c5c-41ac-4642-8948-746abe3aeb6f\">\n",
              "    <div class=\"colab-df-container\">\n",
              "      <div>\n",
              "<style scoped>\n",
              "    .dataframe tbody tr th:only-of-type {\n",
              "        vertical-align: middle;\n",
              "    }\n",
              "\n",
              "    .dataframe tbody tr th {\n",
              "        vertical-align: top;\n",
              "    }\n",
              "\n",
              "    .dataframe thead th {\n",
              "        text-align: right;\n",
              "    }\n",
              "</style>\n",
              "<table border=\"1\" class=\"dataframe\">\n",
              "  <thead>\n",
              "    <tr style=\"text-align: right;\">\n",
              "      <th></th>\n",
              "      <th>id</th>\n",
              "      <th>text</th>\n",
              "      <th>sentiment</th>\n",
              "      <th>filtered_text</th>\n",
              "      <th>tokenized_text</th>\n",
              "    </tr>\n",
              "  </thead>\n",
              "  <tbody>\n",
              "    <tr>\n",
              "      <th>0</th>\n",
              "      <td>549e992a42</td>\n",
              "      <td>sooo sad i will miss you here in san diego</td>\n",
              "      <td>negative</td>\n",
              "      <td>sooo sad miss san diego</td>\n",
              "      <td>sooo sad i will miss you here in san diego</td>\n",
              "    </tr>\n",
              "    <tr>\n",
              "      <th>1</th>\n",
              "      <td>088c60f138</td>\n",
              "      <td>my boss is bullying me</td>\n",
              "      <td>negative</td>\n",
              "      <td>boss bullying</td>\n",
              "      <td>my boss is bullying me</td>\n",
              "    </tr>\n",
              "    <tr>\n",
              "      <th>2</th>\n",
              "      <td>9642c003ef</td>\n",
              "      <td>what interview leave me alone</td>\n",
              "      <td>negative</td>\n",
              "      <td>interview leave alone</td>\n",
              "      <td>what interview leave me alone</td>\n",
              "    </tr>\n",
              "    <tr>\n",
              "      <th>3</th>\n",
              "      <td>358bd9e861</td>\n",
              "      <td>sons of  why couldnt they put them on the rel...</td>\n",
              "      <td>negative</td>\n",
              "      <td>sons couldnt put releases already bought</td>\n",
              "      <td>sons of why couldnt they put them on the relea...</td>\n",
              "    </tr>\n",
              "    <tr>\n",
              "      <th>4</th>\n",
              "      <td>6e0c6d75b1</td>\n",
              "      <td>2am feedings for the baby are fun when he is a...</td>\n",
              "      <td>positive</td>\n",
              "      <td>2am feedings baby fun smiles coos</td>\n",
              "      <td>2am feedings for the baby are fun when he is a...</td>\n",
              "    </tr>\n",
              "  </tbody>\n",
              "</table>\n",
              "</div>\n",
              "      <button class=\"colab-df-convert\" onclick=\"convertToInteractive('df-33193c5c-41ac-4642-8948-746abe3aeb6f')\"\n",
              "              title=\"Convert this dataframe to an interactive table.\"\n",
              "              style=\"display:none;\">\n",
              "        \n",
              "  <svg xmlns=\"http://www.w3.org/2000/svg\" height=\"24px\"viewBox=\"0 0 24 24\"\n",
              "       width=\"24px\">\n",
              "    <path d=\"M0 0h24v24H0V0z\" fill=\"none\"/>\n",
              "    <path d=\"M18.56 5.44l.94 2.06.94-2.06 2.06-.94-2.06-.94-.94-2.06-.94 2.06-2.06.94zm-11 1L8.5 8.5l.94-2.06 2.06-.94-2.06-.94L8.5 2.5l-.94 2.06-2.06.94zm10 10l.94 2.06.94-2.06 2.06-.94-2.06-.94-.94-2.06-.94 2.06-2.06.94z\"/><path d=\"M17.41 7.96l-1.37-1.37c-.4-.4-.92-.59-1.43-.59-.52 0-1.04.2-1.43.59L10.3 9.45l-7.72 7.72c-.78.78-.78 2.05 0 2.83L4 21.41c.39.39.9.59 1.41.59.51 0 1.02-.2 1.41-.59l7.78-7.78 2.81-2.81c.8-.78.8-2.07 0-2.86zM5.41 20L4 18.59l7.72-7.72 1.47 1.35L5.41 20z\"/>\n",
              "  </svg>\n",
              "      </button>\n",
              "      \n",
              "  <style>\n",
              "    .colab-df-container {\n",
              "      display:flex;\n",
              "      flex-wrap:wrap;\n",
              "      gap: 12px;\n",
              "    }\n",
              "\n",
              "    .colab-df-convert {\n",
              "      background-color: #E8F0FE;\n",
              "      border: none;\n",
              "      border-radius: 50%;\n",
              "      cursor: pointer;\n",
              "      display: none;\n",
              "      fill: #1967D2;\n",
              "      height: 32px;\n",
              "      padding: 0 0 0 0;\n",
              "      width: 32px;\n",
              "    }\n",
              "\n",
              "    .colab-df-convert:hover {\n",
              "      background-color: #E2EBFA;\n",
              "      box-shadow: 0px 1px 2px rgba(60, 64, 67, 0.3), 0px 1px 3px 1px rgba(60, 64, 67, 0.15);\n",
              "      fill: #174EA6;\n",
              "    }\n",
              "\n",
              "    [theme=dark] .colab-df-convert {\n",
              "      background-color: #3B4455;\n",
              "      fill: #D2E3FC;\n",
              "    }\n",
              "\n",
              "    [theme=dark] .colab-df-convert:hover {\n",
              "      background-color: #434B5C;\n",
              "      box-shadow: 0px 1px 3px 1px rgba(0, 0, 0, 0.15);\n",
              "      filter: drop-shadow(0px 1px 2px rgba(0, 0, 0, 0.3));\n",
              "      fill: #FFFFFF;\n",
              "    }\n",
              "  </style>\n",
              "\n",
              "      <script>\n",
              "        const buttonEl =\n",
              "          document.querySelector('#df-33193c5c-41ac-4642-8948-746abe3aeb6f button.colab-df-convert');\n",
              "        buttonEl.style.display =\n",
              "          google.colab.kernel.accessAllowed ? 'block' : 'none';\n",
              "\n",
              "        async function convertToInteractive(key) {\n",
              "          const element = document.querySelector('#df-33193c5c-41ac-4642-8948-746abe3aeb6f');\n",
              "          const dataTable =\n",
              "            await google.colab.kernel.invokeFunction('convertToInteractive',\n",
              "                                                     [key], {});\n",
              "          if (!dataTable) return;\n",
              "\n",
              "          const docLinkHtml = 'Like what you see? Visit the ' +\n",
              "            '<a target=\"_blank\" href=https://colab.research.google.com/notebooks/data_table.ipynb>data table notebook</a>'\n",
              "            + ' to learn more about interactive tables.';\n",
              "          element.innerHTML = '';\n",
              "          dataTable['output_type'] = 'display_data';\n",
              "          await google.colab.output.renderOutput(dataTable, element);\n",
              "          const docLink = document.createElement('div');\n",
              "          docLink.innerHTML = docLinkHtml;\n",
              "          element.appendChild(docLink);\n",
              "        }\n",
              "      </script>\n",
              "    </div>\n",
              "  </div>\n",
              "  "
            ]
          },
          "metadata": {},
          "execution_count": 243
        }
      ]
    },
    {
      "cell_type": "code",
      "source": [
        "# create a Porter stemmer object\n",
        "porter = PorterStemmer()\n",
        "\n",
        "# define a function to apply the stemmer to a list of words\n",
        "def stem_tweet(text):\n",
        "    words = text.split()\n",
        "    stemmed_words = [porter.stem(word) for word in words]\n",
        "    return ' '.join(stemmed_words)\n",
        "\n",
        "# apply the stemmer to the 'text' column of the DataFrame\n",
        "df['stemmed_word'] = df['text'].apply(stem_tweet)\n",
        "\n",
        "# print the first 5 rows of the DataFrame\n",
        "print(df.head())"
      ],
      "metadata": {
        "id": "y14dBwgIfFf0",
        "colab": {
          "base_uri": "https://localhost:8080/"
        },
        "outputId": "360b127e-a1f9-4655-d0c9-62ded8ee5504"
      },
      "execution_count": null,
      "outputs": [
        {
          "output_type": "stream",
          "name": "stdout",
          "text": [
            "           id                                               text sentiment  \\\n",
            "0  549e992a42         sooo sad i will miss you here in san diego  negative   \n",
            "1  088c60f138                             my boss is bullying me  negative   \n",
            "2  9642c003ef                      what interview leave me alone  negative   \n",
            "3  358bd9e861   sons of  why couldnt they put them on the rel...  negative   \n",
            "4  6e0c6d75b1  2am feedings for the baby are fun when he is a...  positive   \n",
            "\n",
            "                              filtered_text  \\\n",
            "0                   sooo sad miss san diego   \n",
            "1                             boss bullying   \n",
            "2                     interview leave alone   \n",
            "3  sons couldnt put releases already bought   \n",
            "4         2am feedings baby fun smiles coos   \n",
            "\n",
            "                                      tokenized_text  \\\n",
            "0         sooo sad i will miss you here in san diego   \n",
            "1                             my boss is bullying me   \n",
            "2                      what interview leave me alone   \n",
            "3  sons of why couldnt they put them on the relea...   \n",
            "4  2am feedings for the baby are fun when he is a...   \n",
            "\n",
            "                                        stemmed_word  \n",
            "0         sooo sad i will miss you here in san diego  \n",
            "1                                my boss is bulli me  \n",
            "2                        what interview leav me alon  \n",
            "3  son of whi couldnt they put them on the releas...  \n",
            "4  2am feed for the babi are fun when he is all s...  \n"
          ]
        }
      ]
    },
    {
      "cell_type": "code",
      "source": [
        "wnl = WordNetLemmatizer()\n",
        "lemma_word=wnl.lemmatize('ponies', pos='n')\n",
        "print(lemma_word)\n",
        "\n",
        "lemma_word=wnl.lemmatize('eating', pos='v')\n",
        "print(lemma_word)\n",
        "\n",
        "lemma_word=wnl.lemmatize('ate', pos='v')\n",
        "print(lemma_word)\n",
        "\n",
        "lemma_word=wnl.lemmatize('better', pos='a')\n",
        "print(lemma_word)"
      ],
      "metadata": {
        "id": "lv6vb19yfFiZ",
        "colab": {
          "base_uri": "https://localhost:8080/"
        },
        "outputId": "f60e407f-b0ad-4dcd-80f7-0781849ed40b"
      },
      "execution_count": null,
      "outputs": [
        {
          "output_type": "stream",
          "name": "stdout",
          "text": [
            "pony\n",
            "eat\n",
            "eat\n",
            "good\n"
          ]
        }
      ]
    },
    {
      "cell_type": "code",
      "source": [
        "wnl = WordNetLemmatizer()\n",
        "\n",
        "list_lemmatized_sentences = []\n",
        "\n",
        "# iterate through each list of tokens and lemmatize the tokens\n",
        "for tokens in list_tokenized_text:\n",
        "  lemma_words = [wnl.lemmatize(word) for word in tokens]\n",
        "  lemma_sentence = ' '.join(lemma_words)\n",
        "  list_lemmatized_sentences.append(lemma_sentence)\n",
        "  \n",
        "print(list_lemmatized_sentences[:2])\n",
        "\n",
        "# add new column to data frame\n",
        "df['lemmatized_text'] = list_lemmatized_sentences\n",
        "\n",
        "df.head()"
      ],
      "metadata": {
        "id": "KkvZX_CbfFk7",
        "colab": {
          "base_uri": "https://localhost:8080/",
          "height": 371
        },
        "outputId": "ecff47dc-6ce3-4dde-f99c-ee2f89ca052b"
      },
      "execution_count": null,
      "outputs": [
        {
          "output_type": "stream",
          "name": "stdout",
          "text": [
            "['sooo sad i will miss you here in san diego', 'my bos is bullying me']\n"
          ]
        },
        {
          "output_type": "execute_result",
          "data": {
            "text/plain": [
              "           id                                               text sentiment  \\\n",
              "0  549e992a42         sooo sad i will miss you here in san diego  negative   \n",
              "1  088c60f138                             my boss is bullying me  negative   \n",
              "2  9642c003ef                      what interview leave me alone  negative   \n",
              "3  358bd9e861   sons of  why couldnt they put them on the rel...  negative   \n",
              "4  6e0c6d75b1  2am feedings for the baby are fun when he is a...  positive   \n",
              "\n",
              "                              filtered_text  \\\n",
              "0                   sooo sad miss san diego   \n",
              "1                             boss bullying   \n",
              "2                     interview leave alone   \n",
              "3  sons couldnt put releases already bought   \n",
              "4         2am feedings baby fun smiles coos   \n",
              "\n",
              "                                      tokenized_text  \\\n",
              "0         sooo sad i will miss you here in san diego   \n",
              "1                             my boss is bullying me   \n",
              "2                      what interview leave me alone   \n",
              "3  sons of why couldnt they put them on the relea...   \n",
              "4  2am feedings for the baby are fun when he is a...   \n",
              "\n",
              "                                        stemmed_word  \\\n",
              "0         sooo sad i will miss you here in san diego   \n",
              "1                                my boss is bulli me   \n",
              "2                        what interview leav me alon   \n",
              "3  son of whi couldnt they put them on the releas...   \n",
              "4  2am feed for the babi are fun when he is all s...   \n",
              "\n",
              "                                     lemmatized_text  \n",
              "0         sooo sad i will miss you here in san diego  \n",
              "1                              my bos is bullying me  \n",
              "2                      what interview leave me alone  \n",
              "3  son of why couldnt they put them on the releas...  \n",
              "4  2am feeding for the baby are fun when he is al...  "
            ],
            "text/html": [
              "\n",
              "  <div id=\"df-4ca0a018-f387-4347-b937-7cf0361b32ee\">\n",
              "    <div class=\"colab-df-container\">\n",
              "      <div>\n",
              "<style scoped>\n",
              "    .dataframe tbody tr th:only-of-type {\n",
              "        vertical-align: middle;\n",
              "    }\n",
              "\n",
              "    .dataframe tbody tr th {\n",
              "        vertical-align: top;\n",
              "    }\n",
              "\n",
              "    .dataframe thead th {\n",
              "        text-align: right;\n",
              "    }\n",
              "</style>\n",
              "<table border=\"1\" class=\"dataframe\">\n",
              "  <thead>\n",
              "    <tr style=\"text-align: right;\">\n",
              "      <th></th>\n",
              "      <th>id</th>\n",
              "      <th>text</th>\n",
              "      <th>sentiment</th>\n",
              "      <th>filtered_text</th>\n",
              "      <th>tokenized_text</th>\n",
              "      <th>stemmed_word</th>\n",
              "      <th>lemmatized_text</th>\n",
              "    </tr>\n",
              "  </thead>\n",
              "  <tbody>\n",
              "    <tr>\n",
              "      <th>0</th>\n",
              "      <td>549e992a42</td>\n",
              "      <td>sooo sad i will miss you here in san diego</td>\n",
              "      <td>negative</td>\n",
              "      <td>sooo sad miss san diego</td>\n",
              "      <td>sooo sad i will miss you here in san diego</td>\n",
              "      <td>sooo sad i will miss you here in san diego</td>\n",
              "      <td>sooo sad i will miss you here in san diego</td>\n",
              "    </tr>\n",
              "    <tr>\n",
              "      <th>1</th>\n",
              "      <td>088c60f138</td>\n",
              "      <td>my boss is bullying me</td>\n",
              "      <td>negative</td>\n",
              "      <td>boss bullying</td>\n",
              "      <td>my boss is bullying me</td>\n",
              "      <td>my boss is bulli me</td>\n",
              "      <td>my bos is bullying me</td>\n",
              "    </tr>\n",
              "    <tr>\n",
              "      <th>2</th>\n",
              "      <td>9642c003ef</td>\n",
              "      <td>what interview leave me alone</td>\n",
              "      <td>negative</td>\n",
              "      <td>interview leave alone</td>\n",
              "      <td>what interview leave me alone</td>\n",
              "      <td>what interview leav me alon</td>\n",
              "      <td>what interview leave me alone</td>\n",
              "    </tr>\n",
              "    <tr>\n",
              "      <th>3</th>\n",
              "      <td>358bd9e861</td>\n",
              "      <td>sons of  why couldnt they put them on the rel...</td>\n",
              "      <td>negative</td>\n",
              "      <td>sons couldnt put releases already bought</td>\n",
              "      <td>sons of why couldnt they put them on the relea...</td>\n",
              "      <td>son of whi couldnt they put them on the releas...</td>\n",
              "      <td>son of why couldnt they put them on the releas...</td>\n",
              "    </tr>\n",
              "    <tr>\n",
              "      <th>4</th>\n",
              "      <td>6e0c6d75b1</td>\n",
              "      <td>2am feedings for the baby are fun when he is a...</td>\n",
              "      <td>positive</td>\n",
              "      <td>2am feedings baby fun smiles coos</td>\n",
              "      <td>2am feedings for the baby are fun when he is a...</td>\n",
              "      <td>2am feed for the babi are fun when he is all s...</td>\n",
              "      <td>2am feeding for the baby are fun when he is al...</td>\n",
              "    </tr>\n",
              "  </tbody>\n",
              "</table>\n",
              "</div>\n",
              "      <button class=\"colab-df-convert\" onclick=\"convertToInteractive('df-4ca0a018-f387-4347-b937-7cf0361b32ee')\"\n",
              "              title=\"Convert this dataframe to an interactive table.\"\n",
              "              style=\"display:none;\">\n",
              "        \n",
              "  <svg xmlns=\"http://www.w3.org/2000/svg\" height=\"24px\"viewBox=\"0 0 24 24\"\n",
              "       width=\"24px\">\n",
              "    <path d=\"M0 0h24v24H0V0z\" fill=\"none\"/>\n",
              "    <path d=\"M18.56 5.44l.94 2.06.94-2.06 2.06-.94-2.06-.94-.94-2.06-.94 2.06-2.06.94zm-11 1L8.5 8.5l.94-2.06 2.06-.94-2.06-.94L8.5 2.5l-.94 2.06-2.06.94zm10 10l.94 2.06.94-2.06 2.06-.94-2.06-.94-.94-2.06-.94 2.06-2.06.94z\"/><path d=\"M17.41 7.96l-1.37-1.37c-.4-.4-.92-.59-1.43-.59-.52 0-1.04.2-1.43.59L10.3 9.45l-7.72 7.72c-.78.78-.78 2.05 0 2.83L4 21.41c.39.39.9.59 1.41.59.51 0 1.02-.2 1.41-.59l7.78-7.78 2.81-2.81c.8-.78.8-2.07 0-2.86zM5.41 20L4 18.59l7.72-7.72 1.47 1.35L5.41 20z\"/>\n",
              "  </svg>\n",
              "      </button>\n",
              "      \n",
              "  <style>\n",
              "    .colab-df-container {\n",
              "      display:flex;\n",
              "      flex-wrap:wrap;\n",
              "      gap: 12px;\n",
              "    }\n",
              "\n",
              "    .colab-df-convert {\n",
              "      background-color: #E8F0FE;\n",
              "      border: none;\n",
              "      border-radius: 50%;\n",
              "      cursor: pointer;\n",
              "      display: none;\n",
              "      fill: #1967D2;\n",
              "      height: 32px;\n",
              "      padding: 0 0 0 0;\n",
              "      width: 32px;\n",
              "    }\n",
              "\n",
              "    .colab-df-convert:hover {\n",
              "      background-color: #E2EBFA;\n",
              "      box-shadow: 0px 1px 2px rgba(60, 64, 67, 0.3), 0px 1px 3px 1px rgba(60, 64, 67, 0.15);\n",
              "      fill: #174EA6;\n",
              "    }\n",
              "\n",
              "    [theme=dark] .colab-df-convert {\n",
              "      background-color: #3B4455;\n",
              "      fill: #D2E3FC;\n",
              "    }\n",
              "\n",
              "    [theme=dark] .colab-df-convert:hover {\n",
              "      background-color: #434B5C;\n",
              "      box-shadow: 0px 1px 3px 1px rgba(0, 0, 0, 0.15);\n",
              "      filter: drop-shadow(0px 1px 2px rgba(0, 0, 0, 0.3));\n",
              "      fill: #FFFFFF;\n",
              "    }\n",
              "  </style>\n",
              "\n",
              "      <script>\n",
              "        const buttonEl =\n",
              "          document.querySelector('#df-4ca0a018-f387-4347-b937-7cf0361b32ee button.colab-df-convert');\n",
              "        buttonEl.style.display =\n",
              "          google.colab.kernel.accessAllowed ? 'block' : 'none';\n",
              "\n",
              "        async function convertToInteractive(key) {\n",
              "          const element = document.querySelector('#df-4ca0a018-f387-4347-b937-7cf0361b32ee');\n",
              "          const dataTable =\n",
              "            await google.colab.kernel.invokeFunction('convertToInteractive',\n",
              "                                                     [key], {});\n",
              "          if (!dataTable) return;\n",
              "\n",
              "          const docLinkHtml = 'Like what you see? Visit the ' +\n",
              "            '<a target=\"_blank\" href=https://colab.research.google.com/notebooks/data_table.ipynb>data table notebook</a>'\n",
              "            + ' to learn more about interactive tables.';\n",
              "          element.innerHTML = '';\n",
              "          dataTable['output_type'] = 'display_data';\n",
              "          await google.colab.output.renderOutput(dataTable, element);\n",
              "          const docLink = document.createElement('div');\n",
              "          docLink.innerHTML = docLinkHtml;\n",
              "          element.appendChild(docLink);\n",
              "        }\n",
              "      </script>\n",
              "    </div>\n",
              "  </div>\n",
              "  "
            ]
          },
          "metadata": {},
          "execution_count": 246
        }
      ]
    },
    {
      "cell_type": "code",
      "source": [
        "def get_wordnet_pos(word):\n",
        "    tag = nltk.pos_tag([word])[0][1][0].upper()\n",
        "    tag_dict = {\"J\": wordnet.ADJ,\n",
        "                \"N\": wordnet.NOUN,\n",
        "                \"V\": wordnet.VERB,\n",
        "                \"R\": wordnet.ADV}"
      ],
      "metadata": {
        "id": "5Ees0ro2fFnM"
      },
      "execution_count": null,
      "outputs": []
    },
    {
      "cell_type": "code",
      "source": [
        "# use raw text\n",
        "X_train_text, X_val_text, y_train, y_val = train_test_split(df['text'], df['sentiment'], test_size=0.3, random_state=RANDOM_SEED)\n",
        "print(f'training data set size: {len(X_train_text)}')\n",
        "print(f'validation data set size: {len(X_val_text)}')\n",
        "\n",
        "#use stop words\n",
        "X_train_filtered_text, X_val_filtered_text, y_train, y_val = train_test_split(df['filtered_text'], df['sentiment'], test_size=0.3, random_state=RANDOM_SEED)\n",
        "print(f'training data set size: {len(X_train_filtered_text)}')\n",
        "print(f'validation data set size: {len(X_val_filtered_text)}')\n",
        "\n",
        "# use tokenised text\n",
        "X_train_tokenized_text, X_val_tokenized_text, y_train, y_val = train_test_split(df['tokenized_text'], df['sentiment'], test_size=0.3, random_state=RANDOM_SEED)\n",
        "print(f'training data set size: {len(X_train_tokenized_text)}')\n",
        "print(f'validation data set size: {len(X_val_tokenized_text)}')\n",
        "\n",
        "#use stemmed text\n",
        "X_train_stemmed_word, X_val_stemmed_word, y_train, y_val = train_test_split(df['stemmed_word'], df['sentiment'], test_size=0.3, random_state=RANDOM_SEED)\n",
        "print(f'training data set size: {len(X_train_stemmed_word)}')\n",
        "print(f'validation data set size: {len(X_val_stemmed_word)}')\n",
        "\n",
        "\n",
        "# use lemmatized text\n",
        "X_train_lemmatized_text, X_val_lemmatized_text, y_train, y_val = train_test_split(df['lemmatized_text'], df['sentiment'], test_size=0.3, random_state=RANDOM_SEED)\n",
        "print(f'training data set size: {len(X_train_lemmatized_text)}')\n",
        "print(f'validation data set size: {len(X_val_lemmatized_text)}')\n",
        "\n",
        "# define class_names to using with plot_confusion_matrix\n",
        "class_list = ['positive', 'negative']"
      ],
      "metadata": {
        "id": "JgTUNjVufFp2",
        "colab": {
          "base_uri": "https://localhost:8080/"
        },
        "outputId": "d81c1c7c-75fc-4b8b-83a4-7589a6f78214"
      },
      "execution_count": null,
      "outputs": [
        {
          "output_type": "stream",
          "name": "stdout",
          "text": [
            "training data set size: 11454\n",
            "validation data set size: 4909\n",
            "training data set size: 11454\n",
            "validation data set size: 4909\n",
            "training data set size: 11454\n",
            "validation data set size: 4909\n",
            "training data set size: 11454\n",
            "validation data set size: 4909\n",
            "training data set size: 11454\n",
            "validation data set size: 4909\n"
          ]
        }
      ]
    },
    {
      "cell_type": "code",
      "source": [
        "# plotting confusion matrix\n",
        "def plot_confusion_matrix(matrix, class_names):\n",
        "    plt.clf()\n",
        "    plt.imshow(matrix, interpolation='nearest', cmap=plt.cm.Set2_r)\n",
        "    plt.title('Confusion Matrix')\n",
        "    plt.ylabel('Actual')\n",
        "    plt.xlabel('Predicted')\n",
        "    tick_marks = np.arange(len(class_names))\n",
        "    plt.xticks(tick_marks, class_names)\n",
        "    plt.yticks(tick_marks, class_names)\n",
        "    s = [['TP','FN'], ['FP', 'TN']]\n",
        "\n",
        "    for i in range(2):\n",
        "        for j in range(2):\n",
        "            plt.text(j,i, str(s[i][j])+\" = \"+str(matrix[i][j]))\n",
        "    plt.show()\n",
        "\n",
        "# method to calculate evaluation results\n",
        "def evaluate(actuals, predictions, class_names):\n",
        "  accuracy = metrics.accuracy_score(actuals, predictions)\n",
        "  confusion_matrix = metrics.confusion_matrix(actuals, predictions, labels=class_names)\n",
        "  return accuracy, confusion_matrix"
      ],
      "metadata": {
        "id": "-t_1QuXBfFsa"
      },
      "execution_count": null,
      "outputs": []
    },
    {
      "cell_type": "code",
      "source": [
        "# method to train and predict using SVM classifier\n",
        "def svm_predictions(X_train, X_val, y_train, y_val, class_names):\n",
        "  # build model\n",
        "  clf = svm.SVC(kernel='linear', random_state=RANDOM_SEED) \n",
        "  clf.fit(X_train, y_train)\n",
        "\n",
        "  # Make predictions on test data\n",
        "  y_pred = clf.predict(X_val)\n",
        "\n",
        "  # evalution\n",
        "  accuracy, confusion_matrix = evaluate(y_val, y_pred, class_names)\n",
        "  print(f'Accuracy: {accuracy}')\n",
        "  plot_confusion_matrix(confusion_matrix, class_names)\n",
        "\n",
        "  return clf"
      ],
      "metadata": {
        "id": "j5GUmCdffFuq"
      },
      "execution_count": null,
      "outputs": []
    },
    {
      "cell_type": "markdown",
      "source": [
        "**Module** **1**"
      ],
      "metadata": {
        "id": "udN9tPFEwl4q"
      }
    },
    {
      "cell_type": "code",
      "source": [
        "vectorizer1 = CountVectorizer()  # default: lowercase=True, ngram_range=(1,1)\n",
        "vectorizer1.fit(X_train_text)\n",
        "\n",
        "# convert train and test text data to numeric vectors\n",
        "X_train = vectorizer1.transform(X_train_text)\n",
        "X_val = vectorizer1.transform(X_val_text)\n",
        "\n",
        "m1 = svm_predictions(X_train, X_val, y_train, y_val, class_list)"
      ],
      "metadata": {
        "id": "cfGNeNQpfFw7",
        "colab": {
          "base_uri": "https://localhost:8080/",
          "height": 312
        },
        "outputId": "37be1629-d4c7-49ad-9d66-f8a42923b204"
      },
      "execution_count": null,
      "outputs": [
        {
          "output_type": "stream",
          "name": "stdout",
          "text": [
            "Accuracy: 0.8602566714198411\n"
          ]
        },
        {
          "output_type": "display_data",
          "data": {
            "text/plain": [
              "<Figure size 432x288 with 1 Axes>"
            ],
            "image/png": "[encoded data removed]"
          },
          "metadata": {
            "needs_background": "light"
          }
        }
      ]
    },
    {
      "cell_type": "markdown",
      "source": [
        "**Module** **2**"
      ],
      "metadata": {
        "id": "vdWO2IsQwrFN"
      }
    },
    {
      "cell_type": "code",
      "source": [
        "vectorizer2 = TfidfVectorizer()  # default: lowercase=True, ngram_range=(1,1)\n",
        "vectorizer2.fit(X_train_text)\n",
        "\n",
        "# convert train and test text data to numeric vectors\n",
        "X_train = vectorizer2.transform(X_train_text)\n",
        "X_val = vectorizer2.transform(X_val_text)\n",
        "\n",
        "m2 = svm_predictions(X_train, X_val, y_train, y_val, class_list)"
      ],
      "metadata": {
        "id": "B7bfzSD3fFzd",
        "colab": {
          "base_uri": "https://localhost:8080/",
          "height": 312
        },
        "outputId": "fba8ce23-7348-4d67-9d32-737635c71b94"
      },
      "execution_count": null,
      "outputs": [
        {
          "output_type": "stream",
          "name": "stdout",
          "text": [
            "Accuracy: 0.8677938480342229\n"
          ]
        },
        {
          "output_type": "display_data",
          "data": {
            "text/plain": [
              "<Figure size 432x288 with 1 Axes>"
            ],
            "image/png": "[encoded data removed]"
          },
          "metadata": {
            "needs_background": "light"
          }
        }
      ]
    },
    {
      "cell_type": "markdown",
      "source": [
        "**Module** **3**"
      ],
      "metadata": {
        "id": "mRfKFxFhw72S"
      }
    },
    {
      "cell_type": "code",
      "source": [
        "vectorizer3 = CountVectorizer()  # default: lowercase=True, ngram_range=(1,1)\n",
        "vectorizer3.fit(X_train_filtered_text)\n",
        "\n",
        "# convert train and test text data to numeric vectors\n",
        "X_train = vectorizer3.transform(X_train_filtered_text)\n",
        "X_val = vectorizer3.transform(X_val_filtered_text)\n",
        "\n",
        "m3 = svm_predictions(X_train, X_val, y_train, y_val, class_list)"
      ],
      "metadata": {
        "id": "9dNuNKCofF1R",
        "colab": {
          "base_uri": "https://localhost:8080/",
          "height": 312
        },
        "outputId": "ffa11ae0-36c9-4ef1-878c-08638ae92eca"
      },
      "execution_count": null,
      "outputs": [
        {
          "output_type": "stream",
          "name": "stdout",
          "text": [
            "Accuracy: 0.8447749032389489\n"
          ]
        },
        {
          "output_type": "display_data",
          "data": {
            "text/plain": [
              "<Figure size 432x288 with 1 Axes>"
            ],
            "image/png": "[encoded data removed]"
          },
          "metadata": {
            "needs_background": "light"
          }
        }
      ]
    },
    {
      "cell_type": "markdown",
      "source": [
        "**Module** **4**"
      ],
      "metadata": {
        "id": "BXbnCDNDxlm_"
      }
    },
    {
      "cell_type": "code",
      "source": [
        "vectorizer4 = TfidfVectorizer()  # default: lowercase=True, ngram_range=(1,1)\n",
        "vectorizer4.fit(X_train_filtered_text)\n",
        "\n",
        "# convert train and test text data to numeric vectors\n",
        "X_train = vectorizer4.transform(X_train_filtered_text)\n",
        "X_val = vectorizer4.transform(X_val_filtered_text)\n",
        "\n",
        "m4 = svm_predictions(X_train, X_val, y_train, y_val, class_list)"
      ],
      "metadata": {
        "id": "yoLwAD0ErsdE"
      },
      "execution_count": null,
      "outputs": []
    },
    {
      "cell_type": "markdown",
      "source": [
        "**Module** **5**"
      ],
      "metadata": {
        "id": "bbH0JfeLxprQ"
      }
    },
    {
      "cell_type": "code",
      "source": [],
      "metadata": {
        "id": "caOrYlhkfF3z"
      },
      "execution_count": null,
      "outputs": []
    },
    {
      "cell_type": "code",
      "source": [
        "vectorizer5 = CountVectorizer()  # default: lowercase=True, ngram_range=(1,1)\n",
        "vectorizer5.fit(X_train_tokenized_text)\n",
        "# convert train and test text data to numeric vectors\n",
        "X_train = vectorizer5.transform(X_train_tokenized_text)\n",
        "X_val = vectorizer5.transform(X_val_tokenized_text)\n",
        "\n",
        "m5 = svm_predictions(X_train, X_val, y_train, y_val, class_list)"
      ],
      "metadata": {
        "id": "FI4z95YPrJ9u"
      },
      "execution_count": null,
      "outputs": []
    },
    {
      "cell_type": "markdown",
      "source": [
        "**Module** **6**"
      ],
      "metadata": {
        "id": "rwYydEVsxtee"
      }
    },
    {
      "cell_type": "code",
      "source": [
        "vectorizer6 = TfidfVectorizer()  # default: lowercase=True, ngram_range=(1,1)\n",
        "vectorizer6.fit(X_train_tokenized_text)\n",
        "# convert train and test text data to numeric vectors\n",
        "X_train = vectorizer6.transform(X_train_tokenized_text)\n",
        "X_val = vectorizer6.transform(X_val_tokenized_text)\n",
        "\n",
        "m6 = svm_predictions(X_train, X_val, y_train, y_val, class_list)"
      ],
      "metadata": {
        "id": "y_1263RLrR1f"
      },
      "execution_count": null,
      "outputs": []
    },
    {
      "cell_type": "markdown",
      "source": [
        "**Module** **7**"
      ],
      "metadata": {
        "id": "UVEFXFktxxls"
      }
    },
    {
      "cell_type": "code",
      "source": [
        "vectorizer7 = CountVectorizer()  # default: lowercase=True, ngram_range=(1,1)\n",
        "vectorizer7.fit(X_train_stemmed_word)\n",
        "# convert train and test text data to numeric vectors\n",
        "X_train = vectorizer7.transform(X_train_stemmed_word)\n",
        "X_val = vectorizer7.transform(X_val_stemmed_word)\n",
        "\n",
        "m7 = svm_predictions(X_train, X_val, y_train, y_val, class_list)"
      ],
      "metadata": {
        "id": "bwGrILpHrXxw"
      },
      "execution_count": null,
      "outputs": []
    },
    {
      "cell_type": "markdown",
      "source": [
        "**Module** **8**"
      ],
      "metadata": {
        "id": "bJGROQNex3_w"
      }
    },
    {
      "cell_type": "code",
      "source": [
        "vectorizer8 = TfidfVectorizer()  # default: lowercase=True, ngram_range=(1,1)\n",
        "vectorizer8.fit(X_train_stemmed_word)\n",
        "# convert train and test text data to numeric vectors\n",
        "X_train = vectorizer8.transform(X_train_stemmed_word)\n",
        "X_val = vectorizer8.transform(X_val_stemmed_word)\n",
        "\n",
        "M8 = svm_predictions(X_train, X_val, y_train, y_val, class_list)"
      ],
      "metadata": {
        "id": "paCyqMXErdM4"
      },
      "execution_count": null,
      "outputs": []
    },
    {
      "cell_type": "markdown",
      "source": [
        "**Module** **9**"
      ],
      "metadata": {
        "id": "EcGUuW9oyQpp"
      }
    },
    {
      "cell_type": "code",
      "source": [
        "vectorizer9 = CountVectorizer()  # default: lowercase=True, ngram_range=(1,1)\n",
        "vectorizer9.fit(X_train_lemmatized_text)\n",
        "# convert train and test text data to numeric vectors\n",
        "X_train = vectorizer9.transform(X_train_lemmatized_text)\n",
        "X_val = vectorizer9.transform(X_val_lemmatized_text)\n",
        "\n",
        "m9 = svm_predictions(X_train, X_val, y_train, y_val, class_list)"
      ],
      "metadata": {
        "id": "x3fOYEzZrjMX"
      },
      "execution_count": null,
      "outputs": []
    },
    {
      "cell_type": "code",
      "source": [
        "vectorizer10 = TfidfVectorizer()  # default: lowercase=True, ngram_range=(1,1)\n",
        "vectorizer10.fit(X_train_lemmatized_text)\n",
        "# convert train and test text data to numeric vectors\n",
        "X_train = vectorizer10.transform(X_train_lemmatized_text)\n",
        "X_val = vectorizer10.transform(X_val_lemmatized_text)\n",
        "\n",
        "m10 = svm_predictions(X_train, X_val, y_train, y_val, class_list)"
      ],
      "metadata": {
        "id": "jF497jLOsKvi"
      },
      "execution_count": null,
      "outputs": []
    },
    {
      "cell_type": "markdown",
      "source": [
        "#Using Naive Bayes to predict."
      ],
      "metadata": {
        "id": "F4gA6lh14AaX"
      }
    },
    {
      "cell_type": "code",
      "source": [
        "# method to train and predict using Decision Tree\n",
        "def gnb_predictions(X_train, X_val, y_train, y_val, class_list):\n",
        "  # build model\n",
        "  clf = GaussianNB()\n",
        "  clf.fit(X_train.toarray(), y_train)\n",
        "\n",
        "  # Make predictions on test data\n",
        "  y_pred = clf.predict(X_val.toarray())\n",
        "\n",
        "  # evalution\n",
        "  accuracy, confusion_matrix = evaluate(y_val, y_pred, class_list)\n",
        "  print(f'Accuracy: {accuracy}')\n",
        "  plot_confusion_matrix(confusion_matrix, class_list)\n",
        "\n",
        "  return clf"
      ],
      "metadata": {
        "id": "uznljPnQsQrH"
      },
      "execution_count": null,
      "outputs": []
    },
    {
      "cell_type": "markdown",
      "source": [
        "* **Model** **1**"
      ],
      "metadata": {
        "id": "1X5HOM7d4lqi"
      }
    },
    {
      "cell_type": "code",
      "source": [
        "vectorizer21 = CountVectorizer()\n",
        "vectorizer21.fit(X_train_text)\n",
        "X_train = vectorizer21.transform(X_train_text)\n",
        "X_val = vectorizer21.transform(X_val_text)\n",
        "\n",
        "m21 = gnb_predictions(X_train, X_val, y_train, y_val, class_list)"
      ],
      "metadata": {
        "id": "lpFuwJcI4Mof"
      },
      "execution_count": null,
      "outputs": []
    },
    {
      "cell_type": "markdown",
      "source": [
        "**DT** **Model** **2**"
      ],
      "metadata": {
        "id": "olOhHRM848Dj"
      }
    },
    {
      "cell_type": "code",
      "source": [
        "vectorizer22 = TfidfVectorizer()\n",
        "vectorizer22.fit(X_train_text)\n",
        "X_train = vectorizer22.transform(X_train_text)\n",
        "X_val = vectorizer22.transform(X_val_text)\n",
        "\n",
        "m22 = gnb_predictions(X_train, X_val, y_train, y_val, class_list)"
      ],
      "metadata": {
        "id": "88qTBV1r4gDb"
      },
      "execution_count": null,
      "outputs": []
    },
    {
      "cell_type": "markdown",
      "source": [
        "**DT** **Model** **3**"
      ],
      "metadata": {
        "id": "vplpPADI5Cri"
      }
    },
    {
      "cell_type": "code",
      "source": [
        "vectorizer23 = CountVectorizer()  # default: lowercase=True, ngram_range=(1,1)\n",
        "vectorizer23.fit(X_train_filtered_text)\n",
        "\n",
        "# convert train and test text data to numeric vectors\n",
        "X_train = vectorizer23.transform(X_train_filtered_text)\n",
        "X_val = vectorizer23.transform(X_val_filtered_text)\n",
        "\n",
        "m23 = gnb_predictions(X_train, X_val, y_train, y_val, class_list)"
      ],
      "metadata": {
        "id": "yXjII7C05Rau"
      },
      "execution_count": null,
      "outputs": []
    },
    {
      "cell_type": "code",
      "source": [],
      "metadata": {
        "id": "mZBqZrpYChlf"
      },
      "execution_count": null,
      "outputs": []
    },
    {
      "cell_type": "markdown",
      "source": [
        "Module 8 has produced the best results. The test dataset is now applied on module 8 since this will produced the best results as indicated by the training data set.\n",
        "\n",
        "**Importing the test data set**"
      ],
      "metadata": {
        "id": "CEztE2ks6xVq"
      }
    },
    {
      "cell_type": "code",
      "source": [
        "df_test = pd.read_csv('/content/test.csv')"
      ],
      "metadata": {
        "id": "b4fOEedH5VR0"
      },
      "execution_count": null,
      "outputs": []
    },
    {
      "cell_type": "markdown",
      "source": [
        "Visualiation of the test data set."
      ],
      "metadata": {
        "id": "MP-gh7GszeRD"
      }
    },
    {
      "cell_type": "code",
      "source": [
        "df_test.head()"
      ],
      "metadata": {
        "id": "BBXhCVyY7D4U"
      },
      "execution_count": null,
      "outputs": []
    },
    {
      "cell_type": "markdown",
      "source": [],
      "metadata": {
        "id": "8KGOWp5-znni"
      }
    },
    {
      "cell_type": "code",
      "source": [
        "\n",
        "# create a Porter stemmer object\n",
        "porter = PorterStemmer()\n",
        "\n",
        "# define a function to apply the stemmer to a list of words\n",
        "def stem_tweet(text):\n",
        "    words = text.split()\n",
        "    stemmed_words = [porter.stem(word) for word in words]\n",
        "    return ' '.join(stemmed_words)\n",
        "\n",
        "# apply the stemmer to the 'text' column of the DataFrame\n",
        "df['stemmed_word'] = df['text'].apply(stem_tweet)\n",
        "\n",
        "wnl = WordNetLemmatizer()\n",
        "\n",
        "list_lemmatized_sentences = []\n",
        "\n",
        "# iterate through each list of tokens and lemmatize the tokens\n",
        "for tokens in list_tokenized_text:\n",
        "  lemma_words = [wnl.lemmatize(word) for word in tokens]\n",
        "  lemma_sentence = ' '.join(lemma_words)\n",
        "  list_lemmatized_sentences.append(lemma_sentence)\n",
        "  \n",
        "print(list_lemmatized_sentences[:2])\n",
        "\n",
        "# add new column to data frame\n",
        "df['lemmatized_text'] = list_lemmatized_sentences\n",
        "\n",
        "df.head()"
      ],
      "metadata": {
        "id": "s42UOiVc7HxB"
      },
      "execution_count": null,
      "outputs": []
    },
    {
      "cell_type": "code",
      "source": [
        "\n",
        " #remove any URLs\n",
        "df_test['text'] = df_test['text'].apply(lambda x: re.sub(r'http\\S+', '', x))\n",
        "df_test.head()\n",
        "\n",
        "#Lower Casing\n",
        "df_test['text'] = df_test['text'].apply(lambda x: x.lower())\n",
        "\n",
        "\n",
        "#Removing Punctuations\n",
        "def remove_punctuations(text):\n",
        "    for punctuation in string.punctuation:\n",
        "        text = text.replace(punctuation, '')\n",
        "    return text\n",
        "\n",
        "# apply the remove_punctuations function to the 'text' column of the data\n",
        "df_test['text'] = df_test['text'].apply(remove_punctuations)\n",
        "\n",
        "\n",
        "# define set of English stopwords\n",
        "stop_words = set(stopwords.words('english')) \n",
        "\n",
        "# Define a function to remove stop words from a sentence\n",
        "def remove_stop_words(sentence):\n",
        "    words = sentence.split()\n",
        "    filtered_words = [word for word in words if word.lower() not in stop_words]\n",
        "    filtered_sentence = ' '.join(filtered_words)\n",
        "    return filtered_sentence\n",
        "\n",
        "# Apply the function to the 'text' column of the DataFrame\n",
        "df_test['filtered_text'] = df_test['text'].apply(remove_stop_words)\n",
        "\n",
        "# Print the first 5 rows of the DataFrame\n",
        "print(df_test.head())"
      ],
      "metadata": {
        "id": "geTgzX6V8RCK"
      },
      "execution_count": null,
      "outputs": []
    },
    {
      "cell_type": "markdown",
      "source": [
        "Tokenization\n",
        "\n",
        "Words/ strings are broken down to small units which makes up a part of language data. The tokenizer model used is the TweeTokenizer model because we are dealing with tweets."
      ],
      "metadata": {
        "id": "mdA486TQD-It"
      }
    },
    {
      "cell_type": "code",
      "source": [
        "# Tokenize text\n",
        "\n",
        "tknzr = TweetTokenizer()\n",
        "# iterate through each row in 'Text' columm and convert text to tokens\n",
        "list_tokenized_text = [tknzr.tokenize(text) for text in df_test['text']]\n",
        "print(list_tokenized_text[:2])\n",
        "\n",
        "list_tokenized_sentences = [' '.join(tokens) for tokens in list_tokenized_text]\n",
        "print(list_tokenized_sentences[:2])\n",
        "\n",
        "# add new column to data frame\n",
        "df_test['tokenized_text'] = list_tokenized_sentences #list_tokenized_text \n",
        "df_test.head()"
      ],
      "metadata": {
        "id": "lvqGXJB7_rNh"
      },
      "execution_count": null,
      "outputs": []
    },
    {
      "cell_type": "code",
      "source": [
        "# create a Porter stemmer object\n",
        "porter = PorterStemmer()\n",
        "\n",
        "# define a function to apply the stemmer to a list of words\n",
        "def stem_tweet(text):\n",
        "    words = text.split()\n",
        "    stemmed_words = [porter.stem(word) for word in words]\n",
        "    return ' '.join(stemmed_words)\n",
        "\n",
        "# apply the stemmer to the 'text' column of the DataFrame\n",
        "df_test['stemmed_word'] = df_test['text'].apply(stem_tweet)\n",
        "df_test.head()"
      ],
      "metadata": {
        "id": "YF158tfuEAT6"
      },
      "execution_count": null,
      "outputs": []
    },
    {
      "cell_type": "markdown",
      "source": [
        "Normalisation \n",
        "\n",
        "This process is some form of simplification of the language. The data or text is transform to a standard form by taking out lower casing, removing prefixes and surfixes - stemming and or lemmatisation.\n",
        "This process improves the efficiency and effectivness of the predictions and also takes care of parsity.\n",
        "\n",
        "**Lemmatisation**"
      ],
      "metadata": {
        "id": "oF53c-Dz1D49"
      }
    },
    {
      "cell_type": "code",
      "source": [
        "wnl = WordNetLemmatizer()\n",
        "\n",
        "list_lemmatized_sentences = []\n",
        "\n",
        "# iterate through each list of tokens and lemmatize the tokens\n",
        "for tokens in list_tokenized_text:\n",
        "  lemma_words = [wnl.lemmatize(word) for word in tokens]\n",
        "  lemma_sentence = ' '.join(lemma_words)\n",
        "  list_lemmatized_sentences.append(lemma_sentence)\n",
        "  \n",
        "print(list_lemmatized_sentences[:2])\n",
        "\n",
        "# add new column to data frame\n",
        "df_test['lemmatized_text'] = list_lemmatized_sentences\n",
        "\n",
        "df_test.head()"
      ],
      "metadata": {
        "id": "G3RfDi9CEd2r"
      },
      "execution_count": null,
      "outputs": []
    },
    {
      "cell_type": "code",
      "source": [
        "X_test = vectorizer8.transform(df_test['stemmed_word'])\n",
        "predictions = m8.predict(X_test)\n",
        "print(predictions)"
      ],
      "metadata": {
        "id": "XLCg3WlOE24R"
      },
      "execution_count": null,
      "outputs": []
    },
    {
      "cell_type": "code",
      "source": [
        "df_test['predicted_sentiment']= predictions\n",
        "df_test.head()"
      ],
      "metadata": {
        "id": "bwn9gTweE8aV"
      },
      "execution_count": null,
      "outputs": []
    },
    {
      "cell_type": "code",
      "source": [
        "df_test.to_csv('/content/test-predictions.csv',index=True)"
      ],
      "metadata": {
        "id": "ZVKdmkN4FTVG"
      },
      "execution_count": null,
      "outputs": []
    },
    {
      "cell_type": "code",
      "source": [
        "import json\n",
        "\n",
        "import pandas as pd\n",
        "\n",
        "test_file_path = \"/content/test-predictions.csv\"\n",
        "df_test = pd.read_csv(test_file_path)\n",
        "df_test = df_test[[\"id\", \"predicted_sentiment\"]]\n",
        "\n",
        "data = []\n",
        "for index, row in df_test.iterrows():\n",
        "    data.append({'id': row['id'], 'prediction': row['predicted_sentiment']})\n",
        "\n",
        "print(data[0:5])\n",
        "\n",
        "submission_file_path = \"submission.json\"\n",
        "with open(submission_file_path, 'w') as fp:\n",
        "    fp.write('\\n'.join(json.dumps(i) for i in data))"
      ],
      "metadata": {
        "id": "UYOGY7I7FfF_"
      },
      "execution_count": null,
      "outputs": []
    },
    {
      "cell_type": "code",
      "source": [],
      "metadata": {
        "id": "2yom5PRmFqvn"
      },
      "execution_count": null,
      "outputs": []
    }
  ]
}