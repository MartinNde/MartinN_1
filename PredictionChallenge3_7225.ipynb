{
  "nbformat": 4,
  "nbformat_minor": 0,
  "metadata": {
    "colab": {
      "provenance": [],
      "include_colab_link": true
    },
    "kernelspec": {
      "name": "python3",
      "display_name": "Python 3"
    }
  },
  "cells": [
    {
      "cell_type": "markdown",
      "metadata": {
        "id": "view-in-github",
        "colab_type": "text"
      },
      "source": [
        "<a href=\"https://colab.research.google.com/github/MartinNde/MartinN_1/blob/main/PredictionChallenge3_7225.ipynb\" target=\"_parent\"><img src=\"https://colab.research.google.com/assets/colab-badge.svg\" alt=\"Open In Colab\"/></a>"
      ]
    },
    {
      "cell_type": "markdown",
      "metadata": {
        "id": "VKK5DA390wRe"
      },
      "source": [
        "# Prediction Challenge 3\n"
      ]
    },
    {
      "cell_type": "code",
      "metadata": {
        "id": "R8ZiiRbxlH2D"
      },
      "source": [],
      "execution_count": null,
      "outputs": []
    },
    {
      "cell_type": "code",
      "source": [
        "# install keras rl2 (we need to install keras-rl2 so it works with the tensorflow 2 version that comes pre-installed with colab)\n",
        "!pip install keras-rl2"
      ],
      "metadata": {
        "colab": {
          "base_uri": "https://localhost:8080/"
        },
        "id": "deGfOT2xuFgD",
        "outputId": "72457f80-d376-417a-9bc3-dac93dfaa04a"
      },
      "execution_count": 1,
      "outputs": [
        {
          "output_type": "stream",
          "name": "stdout",
          "text": [
            "Looking in indexes: https://pypi.org/simple, https://us-python.pkg.dev/colab-wheels/public/simple/\n",
            "Collecting keras-rl2\n",
            "  Downloading keras_rl2-1.0.5-py3-none-any.whl (52 kB)\n",
            "\u001b[2K     \u001b[90m━━━━━━━━━━━━━━━━━━━━━━━━━━━━━━━━━━━━━━━━\u001b[0m \u001b[32m52.1/52.1 KB\u001b[0m \u001b[31m2.0 MB/s\u001b[0m eta \u001b[36m0:00:00\u001b[0m\n",
            "\u001b[?25hRequirement already satisfied: tensorflow in /usr/local/lib/python3.9/dist-packages (from keras-rl2) (2.11.0)\n",
            "Requirement already satisfied: termcolor>=1.1.0 in /usr/local/lib/python3.9/dist-packages (from tensorflow->keras-rl2) (2.2.0)\n",
            "Requirement already satisfied: wrapt>=1.11.0 in /usr/local/lib/python3.9/dist-packages (from tensorflow->keras-rl2) (1.15.0)\n",
            "Requirement already satisfied: grpcio<2.0,>=1.24.3 in /usr/local/lib/python3.9/dist-packages (from tensorflow->keras-rl2) (1.51.3)\n",
            "Requirement already satisfied: tensorboard<2.12,>=2.11 in /usr/local/lib/python3.9/dist-packages (from tensorflow->keras-rl2) (2.11.2)\n",
            "Requirement already satisfied: h5py>=2.9.0 in /usr/local/lib/python3.9/dist-packages (from tensorflow->keras-rl2) (3.8.0)\n",
            "Requirement already satisfied: typing-extensions>=3.6.6 in /usr/local/lib/python3.9/dist-packages (from tensorflow->keras-rl2) (4.5.0)\n",
            "Requirement already satisfied: opt-einsum>=2.3.2 in /usr/local/lib/python3.9/dist-packages (from tensorflow->keras-rl2) (3.3.0)\n",
            "Requirement already satisfied: packaging in /usr/local/lib/python3.9/dist-packages (from tensorflow->keras-rl2) (23.0)\n",
            "Requirement already satisfied: google-pasta>=0.1.1 in /usr/local/lib/python3.9/dist-packages (from tensorflow->keras-rl2) (0.2.0)\n",
            "Requirement already satisfied: tensorflow-estimator<2.12,>=2.11.0 in /usr/local/lib/python3.9/dist-packages (from tensorflow->keras-rl2) (2.11.0)\n",
            "Requirement already satisfied: libclang>=13.0.0 in /usr/local/lib/python3.9/dist-packages (from tensorflow->keras-rl2) (15.0.6.1)\n",
            "Requirement already satisfied: setuptools in /usr/local/lib/python3.9/dist-packages (from tensorflow->keras-rl2) (67.6.0)\n",
            "Requirement already satisfied: flatbuffers>=2.0 in /usr/local/lib/python3.9/dist-packages (from tensorflow->keras-rl2) (23.3.3)\n",
            "Requirement already satisfied: keras<2.12,>=2.11.0 in /usr/local/lib/python3.9/dist-packages (from tensorflow->keras-rl2) (2.11.0)\n",
            "Requirement already satisfied: numpy>=1.20 in /usr/local/lib/python3.9/dist-packages (from tensorflow->keras-rl2) (1.22.4)\n",
            "Requirement already satisfied: astunparse>=1.6.0 in /usr/local/lib/python3.9/dist-packages (from tensorflow->keras-rl2) (1.6.3)\n",
            "Requirement already satisfied: tensorflow-io-gcs-filesystem>=0.23.1 in /usr/local/lib/python3.9/dist-packages (from tensorflow->keras-rl2) (0.31.0)\n",
            "Requirement already satisfied: six>=1.12.0 in /usr/local/lib/python3.9/dist-packages (from tensorflow->keras-rl2) (1.16.0)\n",
            "Requirement already satisfied: absl-py>=1.0.0 in /usr/local/lib/python3.9/dist-packages (from tensorflow->keras-rl2) (1.4.0)\n",
            "Requirement already satisfied: protobuf<3.20,>=3.9.2 in /usr/local/lib/python3.9/dist-packages (from tensorflow->keras-rl2) (3.19.6)\n",
            "Requirement already satisfied: gast<=0.4.0,>=0.2.1 in /usr/local/lib/python3.9/dist-packages (from tensorflow->keras-rl2) (0.4.0)\n",
            "Requirement already satisfied: wheel<1.0,>=0.23.0 in /usr/local/lib/python3.9/dist-packages (from astunparse>=1.6.0->tensorflow->keras-rl2) (0.40.0)\n",
            "Requirement already satisfied: tensorboard-data-server<0.7.0,>=0.6.0 in /usr/local/lib/python3.9/dist-packages (from tensorboard<2.12,>=2.11->tensorflow->keras-rl2) (0.6.1)\n",
            "Requirement already satisfied: markdown>=2.6.8 in /usr/local/lib/python3.9/dist-packages (from tensorboard<2.12,>=2.11->tensorflow->keras-rl2) (3.4.3)\n",
            "Requirement already satisfied: werkzeug>=1.0.1 in /usr/local/lib/python3.9/dist-packages (from tensorboard<2.12,>=2.11->tensorflow->keras-rl2) (2.2.3)\n",
            "Requirement already satisfied: tensorboard-plugin-wit>=1.6.0 in /usr/local/lib/python3.9/dist-packages (from tensorboard<2.12,>=2.11->tensorflow->keras-rl2) (1.8.1)\n",
            "Requirement already satisfied: google-auth-oauthlib<0.5,>=0.4.1 in /usr/local/lib/python3.9/dist-packages (from tensorboard<2.12,>=2.11->tensorflow->keras-rl2) (0.4.6)\n",
            "Requirement already satisfied: google-auth<3,>=1.6.3 in /usr/local/lib/python3.9/dist-packages (from tensorboard<2.12,>=2.11->tensorflow->keras-rl2) (2.16.2)\n",
            "Requirement already satisfied: requests<3,>=2.21.0 in /usr/local/lib/python3.9/dist-packages (from tensorboard<2.12,>=2.11->tensorflow->keras-rl2) (2.27.1)\n",
            "Requirement already satisfied: cachetools<6.0,>=2.0.0 in /usr/local/lib/python3.9/dist-packages (from google-auth<3,>=1.6.3->tensorboard<2.12,>=2.11->tensorflow->keras-rl2) (5.3.0)\n",
            "Requirement already satisfied: rsa<5,>=3.1.4 in /usr/local/lib/python3.9/dist-packages (from google-auth<3,>=1.6.3->tensorboard<2.12,>=2.11->tensorflow->keras-rl2) (4.9)\n",
            "Requirement already satisfied: pyasn1-modules>=0.2.1 in /usr/local/lib/python3.9/dist-packages (from google-auth<3,>=1.6.3->tensorboard<2.12,>=2.11->tensorflow->keras-rl2) (0.2.8)\n",
            "Requirement already satisfied: requests-oauthlib>=0.7.0 in /usr/local/lib/python3.9/dist-packages (from google-auth-oauthlib<0.5,>=0.4.1->tensorboard<2.12,>=2.11->tensorflow->keras-rl2) (1.3.1)\n",
            "Requirement already satisfied: importlib-metadata>=4.4 in /usr/local/lib/python3.9/dist-packages (from markdown>=2.6.8->tensorboard<2.12,>=2.11->tensorflow->keras-rl2) (6.1.0)\n",
            "Requirement already satisfied: charset-normalizer~=2.0.0 in /usr/local/lib/python3.9/dist-packages (from requests<3,>=2.21.0->tensorboard<2.12,>=2.11->tensorflow->keras-rl2) (2.0.12)\n",
            "Requirement already satisfied: certifi>=2017.4.17 in /usr/local/lib/python3.9/dist-packages (from requests<3,>=2.21.0->tensorboard<2.12,>=2.11->tensorflow->keras-rl2) (2022.12.7)\n",
            "Requirement already satisfied: idna<4,>=2.5 in /usr/local/lib/python3.9/dist-packages (from requests<3,>=2.21.0->tensorboard<2.12,>=2.11->tensorflow->keras-rl2) (3.4)\n",
            "Requirement already satisfied: urllib3<1.27,>=1.21.1 in /usr/local/lib/python3.9/dist-packages (from requests<3,>=2.21.0->tensorboard<2.12,>=2.11->tensorflow->keras-rl2) (1.26.15)\n",
            "Requirement already satisfied: MarkupSafe>=2.1.1 in /usr/local/lib/python3.9/dist-packages (from werkzeug>=1.0.1->tensorboard<2.12,>=2.11->tensorflow->keras-rl2) (2.1.2)\n",
            "Requirement already satisfied: zipp>=0.5 in /usr/local/lib/python3.9/dist-packages (from importlib-metadata>=4.4->markdown>=2.6.8->tensorboard<2.12,>=2.11->tensorflow->keras-rl2) (3.15.0)\n",
            "Requirement already satisfied: pyasn1<0.5.0,>=0.4.6 in /usr/local/lib/python3.9/dist-packages (from pyasn1-modules>=0.2.1->google-auth<3,>=1.6.3->tensorboard<2.12,>=2.11->tensorflow->keras-rl2) (0.4.8)\n",
            "Requirement already satisfied: oauthlib>=3.0.0 in /usr/local/lib/python3.9/dist-packages (from requests-oauthlib>=0.7.0->google-auth-oauthlib<0.5,>=0.4.1->tensorboard<2.12,>=2.11->tensorflow->keras-rl2) (3.2.2)\n",
            "Installing collected packages: keras-rl2\n",
            "Successfully installed keras-rl2-1.0.5\n"
          ]
        }
      ]
    },
    {
      "cell_type": "code",
      "source": [
        "!pip install gym"
      ],
      "metadata": {
        "colab": {
          "base_uri": "https://localhost:8080/"
        },
        "id": "LrUzv72bwiYP",
        "outputId": "43474282-1c30-407c-e513-77fc886f6253"
      },
      "execution_count": 2,
      "outputs": [
        {
          "output_type": "stream",
          "name": "stdout",
          "text": [
            "Looking in indexes: https://pypi.org/simple, https://us-python.pkg.dev/colab-wheels/public/simple/\n",
            "Requirement already satisfied: gym in /usr/local/lib/python3.9/dist-packages (0.25.2)\n",
            "Requirement already satisfied: gym-notices>=0.0.4 in /usr/local/lib/python3.9/dist-packages (from gym) (0.0.8)\n",
            "Requirement already satisfied: numpy>=1.18.0 in /usr/local/lib/python3.9/dist-packages (from gym) (1.22.4)\n",
            "Requirement already satisfied: importlib-metadata>=4.8.0 in /usr/local/lib/python3.9/dist-packages (from gym) (6.1.0)\n",
            "Requirement already satisfied: cloudpickle>=1.2.0 in /usr/local/lib/python3.9/dist-packages (from gym) (2.2.1)\n",
            "Requirement already satisfied: zipp>=0.5 in /usr/local/lib/python3.9/dist-packages (from importlib-metadata>=4.8.0->gym) (3.15.0)\n"
          ]
        }
      ]
    },
    {
      "cell_type": "code",
      "source": [
        "# load the gym module\n",
        "import gym\n",
        "import matplotlib.pyplot as plt\n",
        "# import the usual Keras modules for creating deep neural networks\n",
        "from keras import Sequential\n",
        "from keras.layers import Input, Flatten, Dense\n",
        "from keras.optimizers import Adam\n",
        "\n",
        "ENV_NAME = 'CartPole-v0'\n",
        "env = gym.make(ENV_NAME)"
      ],
      "metadata": {
        "colab": {
          "base_uri": "https://localhost:8080/"
        },
        "id": "9WMz2eOtwo3v",
        "outputId": "6d7d9fbf-7aa7-4e37-abd0-56a3a461d167"
      },
      "execution_count": 13,
      "outputs": [
        {
          "output_type": "stream",
          "name": "stderr",
          "text": [
            "/usr/local/lib/python3.9/dist-packages/gym/envs/registration.py:593: UserWarning: \u001b[33mWARN: The environment CartPole-v0 is out of date. You should consider upgrading to version `v1`.\u001b[0m\n",
            "  logger.warn(\n",
            "/usr/local/lib/python3.9/dist-packages/gym/core.py:317: DeprecationWarning: \u001b[33mWARN: Initializing wrapper in old step API which returns one bool instead of two. It is recommended to set `new_step_api=True` to use new step API. This will be the default behaviour in future.\u001b[0m\n",
            "  deprecation(\n",
            "/usr/local/lib/python3.9/dist-packages/gym/wrappers/step_api_compatibility.py:39: DeprecationWarning: \u001b[33mWARN: Initializing environment in old step API which returns one bool instead of two. It is recommended to set `new_step_api=True` to use new step API. This will be the default behaviour in future.\u001b[0m\n",
            "  deprecation(\n"
          ]
        }
      ]
    },
    {
      "cell_type": "code",
      "source": [
        "import rl\n",
        "from rl.memory import SequentialMemory  # import the exerience replay buffer module\n",
        "from rl.policy import BoltzmannQPolicy  # import the policy\n",
        "from rl.agents.dqn import DQNAgent      # import the DQN agent\n",
        "\n",
        "# setup experience replay buffer\n",
        "# here the sequential memory limit is set up the same as the nb_steps (number of steps)\n",
        "# parameter in the fit method.  This means that all the action-states will fit into the\n",
        "# memory buffer\n",
        "# keep window_length as 1. It's used in other RL methods, but keep it to 1 in DQNs\n",
        "memory = SequentialMemory(limit=10000, window_length=1)\n",
        "\n",
        "# define the policy (how we select the actions)\n",
        "policy = BoltzmannQPolicy()"
      ],
      "metadata": {
        "id": "aFPJ_maZwsf_"
      },
      "execution_count": 4,
      "outputs": []
    },
    {
      "cell_type": "markdown",
      "source": [
        "#Implementation of DQN for CartPole, applying policy BoltzmannQPolicy"
      ],
      "metadata": {
        "id": "uNNdoXo4w_CQ"
      }
    },
    {
      "cell_type": "code",
      "source": [
        "from rl.policy import BoltzmannQPolicy\n",
        "from rl.policy import LinearAnnealedPolicy, EpsGreedyQPolicy\n",
        "\n",
        "# setup experience replay buffer\n",
        "memory = SequentialMemory(limit=10000, window_length=1)\n",
        "\n",
        "# setup the Linear annealed policy with the BoltzmannQPolicy as the inner policy\n",
        "policy =  LinearAnnealedPolicy(inner_policy=EpsGreedyQPolicy(),   # policy used to select actions\n",
        "                               attr='eps',                        # attribute in the inner policy to vary             \n",
        "                               value_max=1,                       # maximum value of attribute that is varying\n",
        "                               value_min=0.1,                      # minimum value of attribute that is varying\n",
        "                               value_test=0.05,                    # test if the value selected is < 0.05\n",
        "                               nb_steps=1000)                    # the number of steps between value_max and value_min\n",
        "\n",
        "# Q-Network\n",
        "model = Sequential()\n",
        "model.add(Input(shape=(1,env.observation_space.shape[0])))  # The input is 1 observation vector, and the number of observations in that vector \n",
        "model.add(Flatten())\n",
        "model.add(Dense(16, activation='relu'))\n",
        "# add extra layers here\n",
        "model.add(Dense(env.action_space.n, activation='linear'))   # the output is the number of actions in the action space\n",
        "print(model.summary())\n",
        "\n",
        "# define the agent\n",
        "dqn = DQNAgent(model=model,                     # Q-Network model\n",
        "               nb_actions=env.action_space.n,   # number of actions\n",
        "               memory=memory,                   # experience replay memory\n",
        "               nb_steps_warmup=10,              # how many steps are waited before starting experience replay\n",
        "               target_model_update=1e-2,        # how often the target network is updated\n",
        "               policy=policy)                   # the action selection policy\n",
        "\n",
        "dqn.compile(Adam(lr=1e-2), metrics=['mae'])\n",
        "\n",
        "history = dqn.fit(env, nb_steps=10000, visualize=False, verbose=2)\n",
        "\n",
        "# summarize the history for number  of episode steps\n",
        "plt.plot(history.history['nb_episode_steps'])\n",
        "plt.ylabel('nb_episode_steps')\n",
        "plt.xlabel('episodes')\n",
        "plt.show()\n",
        "\n",
        "dqn.test(env, nb_episodes=20, visualize=False)"
      ],
      "metadata": {
        "colab": {
          "base_uri": "https://localhost:8080/",
          "height": 1000
        },
        "id": "F1yI7Cuxwxov",
        "outputId": "e0bcf3d0-76c6-44e6-f703-f1b198bd59b4"
      },
      "execution_count": 14,
      "outputs": [
        {
          "output_type": "stream",
          "name": "stdout",
          "text": [
            "Model: \"sequential_8\"\n",
            "_________________________________________________________________\n",
            " Layer (type)                Output Shape              Param #   \n",
            "=================================================================\n",
            " flatten_8 (Flatten)         (None, 4)                 0         \n",
            "                                                                 \n",
            " dense_16 (Dense)            (None, 16)                80        \n",
            "                                                                 \n",
            " dense_17 (Dense)            (None, 2)                 34        \n",
            "                                                                 \n",
            "=================================================================\n",
            "Total params: 114\n",
            "Trainable params: 114\n",
            "Non-trainable params: 0\n",
            "_________________________________________________________________\n",
            "None\n"
          ]
        },
        {
          "output_type": "stream",
          "name": "stderr",
          "text": [
            "/usr/local/lib/python3.9/dist-packages/keras/optimizers/optimizer_v2/adam.py:117: UserWarning: The `lr` argument is deprecated, use `learning_rate` instead.\n",
            "  super().__init__(name, **kwargs)\n"
          ]
        },
        {
          "output_type": "stream",
          "name": "stdout",
          "text": [
            "Training for 10000 steps ...\n"
          ]
        },
        {
          "output_type": "stream",
          "name": "stderr",
          "text": [
            "/usr/local/lib/python3.9/dist-packages/keras/engine/training_v1.py:2357: UserWarning: `Model.state_updates` will be removed in a future version. This property should not be used in TensorFlow 2.0, as `updates` are applied automatically.\n",
            "  updates=self.state_updates,\n",
            "/usr/local/lib/python3.9/dist-packages/rl/memory.py:37: UserWarning: Not enough entries to sample without replacement. Consider increasing your warm-up phase to avoid oversampling!\n",
            "  warnings.warn('Not enough entries to sample without replacement. Consider increasing your warm-up phase to avoid oversampling!')\n",
            "/usr/local/lib/python3.9/dist-packages/rl/memory.py:38: DeprecationWarning: This function is deprecated. Please call randint(1, 10 + 1) instead\n",
            "  batch_idxs = np.random.random_integers(low, high - 1, size=size)\n",
            "/usr/local/lib/python3.9/dist-packages/rl/memory.py:38: DeprecationWarning: This function is deprecated. Please call randint(1, 11 + 1) instead\n",
            "  batch_idxs = np.random.random_integers(low, high - 1, size=size)\n",
            "/usr/local/lib/python3.9/dist-packages/rl/memory.py:38: DeprecationWarning: This function is deprecated. Please call randint(1, 12 + 1) instead\n",
            "  batch_idxs = np.random.random_integers(low, high - 1, size=size)\n",
            "/usr/local/lib/python3.9/dist-packages/rl/memory.py:38: DeprecationWarning: This function is deprecated. Please call randint(1, 13 + 1) instead\n",
            "  batch_idxs = np.random.random_integers(low, high - 1, size=size)\n",
            "/usr/local/lib/python3.9/dist-packages/rl/memory.py:38: DeprecationWarning: This function is deprecated. Please call randint(1, 14 + 1) instead\n",
            "  batch_idxs = np.random.random_integers(low, high - 1, size=size)\n",
            "/usr/local/lib/python3.9/dist-packages/rl/memory.py:38: DeprecationWarning: This function is deprecated. Please call randint(1, 15 + 1) instead\n",
            "  batch_idxs = np.random.random_integers(low, high - 1, size=size)\n",
            "/usr/local/lib/python3.9/dist-packages/rl/memory.py:38: DeprecationWarning: This function is deprecated. Please call randint(1, 16 + 1) instead\n",
            "  batch_idxs = np.random.random_integers(low, high - 1, size=size)\n",
            "/usr/local/lib/python3.9/dist-packages/rl/memory.py:38: DeprecationWarning: This function is deprecated. Please call randint(1, 17 + 1) instead\n",
            "  batch_idxs = np.random.random_integers(low, high - 1, size=size)\n",
            "/usr/local/lib/python3.9/dist-packages/rl/memory.py:38: DeprecationWarning: This function is deprecated. Please call randint(1, 18 + 1) instead\n",
            "  batch_idxs = np.random.random_integers(low, high - 1, size=size)\n",
            "/usr/local/lib/python3.9/dist-packages/rl/memory.py:38: DeprecationWarning: This function is deprecated. Please call randint(1, 19 + 1) instead\n",
            "  batch_idxs = np.random.random_integers(low, high - 1, size=size)\n",
            "/usr/local/lib/python3.9/dist-packages/rl/memory.py:37: UserWarning: Not enough entries to sample without replacement. Consider increasing your warm-up phase to avoid oversampling!\n",
            "  warnings.warn('Not enough entries to sample without replacement. Consider increasing your warm-up phase to avoid oversampling!')\n",
            "/usr/local/lib/python3.9/dist-packages/rl/memory.py:38: DeprecationWarning: This function is deprecated. Please call randint(1, 20 + 1) instead\n",
            "  batch_idxs = np.random.random_integers(low, high - 1, size=size)\n",
            "/usr/local/lib/python3.9/dist-packages/rl/memory.py:38: DeprecationWarning: This function is deprecated. Please call randint(1, 21 + 1) instead\n",
            "  batch_idxs = np.random.random_integers(low, high - 1, size=size)\n",
            "/usr/local/lib/python3.9/dist-packages/rl/memory.py:38: DeprecationWarning: This function is deprecated. Please call randint(1, 22 + 1) instead\n",
            "  batch_idxs = np.random.random_integers(low, high - 1, size=size)\n",
            "/usr/local/lib/python3.9/dist-packages/rl/memory.py:38: DeprecationWarning: This function is deprecated. Please call randint(1, 23 + 1) instead\n",
            "  batch_idxs = np.random.random_integers(low, high - 1, size=size)\n",
            "/usr/local/lib/python3.9/dist-packages/rl/memory.py:38: DeprecationWarning: This function is deprecated. Please call randint(1, 24 + 1) instead\n",
            "  batch_idxs = np.random.random_integers(low, high - 1, size=size)\n",
            "/usr/local/lib/python3.9/dist-packages/rl/memory.py:38: DeprecationWarning: This function is deprecated. Please call randint(1, 25 + 1) instead\n",
            "  batch_idxs = np.random.random_integers(low, high - 1, size=size)\n",
            "/usr/local/lib/python3.9/dist-packages/rl/memory.py:38: DeprecationWarning: This function is deprecated. Please call randint(1, 26 + 1) instead\n",
            "  batch_idxs = np.random.random_integers(low, high - 1, size=size)\n",
            "/usr/local/lib/python3.9/dist-packages/rl/memory.py:38: DeprecationWarning: This function is deprecated. Please call randint(1, 27 + 1) instead\n",
            "  batch_idxs = np.random.random_integers(low, high - 1, size=size)\n",
            "/usr/local/lib/python3.9/dist-packages/rl/memory.py:38: DeprecationWarning: This function is deprecated. Please call randint(1, 28 + 1) instead\n",
            "  batch_idxs = np.random.random_integers(low, high - 1, size=size)\n",
            "/usr/local/lib/python3.9/dist-packages/rl/memory.py:38: DeprecationWarning: This function is deprecated. Please call randint(1, 29 + 1) instead\n",
            "  batch_idxs = np.random.random_integers(low, high - 1, size=size)\n",
            "/usr/local/lib/python3.9/dist-packages/rl/memory.py:38: DeprecationWarning: This function is deprecated. Please call randint(1, 30 + 1) instead\n",
            "  batch_idxs = np.random.random_integers(low, high - 1, size=size)\n",
            "/usr/local/lib/python3.9/dist-packages/rl/memory.py:38: DeprecationWarning: This function is deprecated. Please call randint(1, 31 + 1) instead\n",
            "  batch_idxs = np.random.random_integers(low, high - 1, size=size)\n"
          ]
        },
        {
          "output_type": "stream",
          "name": "stdout",
          "text": [
            "   20/10000: episode: 1, duration: 2.050s, episode steps:  20, steps per second:  10, episode reward: 20.000, mean reward:  1.000 [ 1.000,  1.000], mean action: 0.350 [0.000, 1.000],  loss: 0.450389, mae: 0.561566, mean_q: 0.270058, mean_eps: 0.986500\n",
            "   31/10000: episode: 2, duration: 0.091s, episode steps:  11, steps per second: 120, episode reward: 11.000, mean reward:  1.000 [ 1.000,  1.000], mean action: 0.727 [0.000, 1.000],  loss: 0.155565, mae: 0.603085, mean_q: 0.876197, mean_eps: 0.977500\n",
            "   54/10000: episode: 3, duration: 0.189s, episode steps:  23, steps per second: 122, episode reward: 23.000, mean reward:  1.000 [ 1.000,  1.000], mean action: 0.478 [0.000, 1.000],  loss: 0.060333, mae: 0.646667, mean_q: 1.149004, mean_eps: 0.962200\n",
            "   72/10000: episode: 4, duration: 0.139s, episode steps:  18, steps per second: 130, episode reward: 18.000, mean reward:  1.000 [ 1.000,  1.000], mean action: 0.667 [0.000, 1.000],  loss: 0.010928, mae: 0.731803, mean_q: 1.537835, mean_eps: 0.943750\n",
            "  102/10000: episode: 5, duration: 0.219s, episode steps:  30, steps per second: 137, episode reward: 30.000, mean reward:  1.000 [ 1.000,  1.000], mean action: 0.533 [0.000, 1.000],  loss: 0.008152, mae: 0.794030, mean_q: 1.631205, mean_eps: 0.922150\n",
            "  114/10000: episode: 6, duration: 0.089s, episode steps:  12, steps per second: 135, episode reward: 12.000, mean reward:  1.000 [ 1.000,  1.000], mean action: 0.750 [0.000, 1.000],  loss: 0.012598, mae: 0.888259, mean_q: 1.791903, mean_eps: 0.903250\n",
            "  142/10000: episode: 7, duration: 0.211s, episode steps:  28, steps per second: 133, episode reward: 28.000, mean reward:  1.000 [ 1.000,  1.000], mean action: 0.571 [0.000, 1.000],  loss: 0.014709, mae: 0.964276, mean_q: 1.963206, mean_eps: 0.885250\n",
            "  153/10000: episode: 8, duration: 0.089s, episode steps:  11, steps per second: 123, episode reward: 11.000, mean reward:  1.000 [ 1.000,  1.000], mean action: 0.818 [0.000, 1.000],  loss: 0.017553, mae: 1.053727, mean_q: 2.107334, mean_eps: 0.867700\n",
            "  172/10000: episode: 9, duration: 0.149s, episode steps:  19, steps per second: 128, episode reward: 19.000, mean reward:  1.000 [ 1.000,  1.000], mean action: 0.526 [0.000, 1.000],  loss: 0.025263, mae: 1.111641, mean_q: 2.212147, mean_eps: 0.854200\n",
            "  204/10000: episode: 10, duration: 0.250s, episode steps:  32, steps per second: 128, episode reward: 32.000, mean reward:  1.000 [ 1.000,  1.000], mean action: 0.438 [0.000, 1.000],  loss: 0.035336, mae: 1.222839, mean_q: 2.425954, mean_eps: 0.831250\n",
            "  221/10000: episode: 11, duration: 0.127s, episode steps:  17, steps per second: 134, episode reward: 17.000, mean reward:  1.000 [ 1.000,  1.000], mean action: 0.588 [0.000, 1.000],  loss: 0.037439, mae: 1.322970, mean_q: 2.681378, mean_eps: 0.809200\n",
            "  238/10000: episode: 12, duration: 0.136s, episode steps:  17, steps per second: 125, episode reward: 17.000, mean reward:  1.000 [ 1.000,  1.000], mean action: 0.471 [0.000, 1.000],  loss: 0.049984, mae: 1.438483, mean_q: 2.848384, mean_eps: 0.793900\n",
            "  263/10000: episode: 13, duration: 0.179s, episode steps:  25, steps per second: 140, episode reward: 25.000, mean reward:  1.000 [ 1.000,  1.000], mean action: 0.480 [0.000, 1.000],  loss: 0.075659, mae: 1.557779, mean_q: 3.061573, mean_eps: 0.775000\n",
            "  286/10000: episode: 14, duration: 0.171s, episode steps:  23, steps per second: 135, episode reward: 23.000, mean reward:  1.000 [ 1.000,  1.000], mean action: 0.391 [0.000, 1.000],  loss: 0.087738, mae: 1.672884, mean_q: 3.328912, mean_eps: 0.753400\n",
            "  302/10000: episode: 15, duration: 0.126s, episode steps:  16, steps per second: 127, episode reward: 16.000, mean reward:  1.000 [ 1.000,  1.000], mean action: 0.312 [0.000, 1.000],  loss: 0.091559, mae: 1.763542, mean_q: 3.413291, mean_eps: 0.735850\n",
            "  311/10000: episode: 16, duration: 0.076s, episode steps:   9, steps per second: 118, episode reward:  9.000, mean reward:  1.000 [ 1.000,  1.000], mean action: 0.111 [0.000, 1.000],  loss: 0.139450, mae: 1.839749, mean_q: 3.600912, mean_eps: 0.724600\n",
            "  326/10000: episode: 17, duration: 0.124s, episode steps:  15, steps per second: 121, episode reward: 15.000, mean reward:  1.000 [ 1.000,  1.000], mean action: 0.333 [0.000, 1.000],  loss: 0.173686, mae: 1.924039, mean_q: 3.703273, mean_eps: 0.713800\n",
            "  351/10000: episode: 18, duration: 0.205s, episode steps:  25, steps per second: 122, episode reward: 25.000, mean reward:  1.000 [ 1.000,  1.000], mean action: 0.320 [0.000, 1.000],  loss: 0.208504, mae: 2.016112, mean_q: 3.884386, mean_eps: 0.695800\n",
            "  364/10000: episode: 19, duration: 0.102s, episode steps:  13, steps per second: 128, episode reward: 13.000, mean reward:  1.000 [ 1.000,  1.000], mean action: 0.231 [0.000, 1.000],  loss: 0.157636, mae: 2.095326, mean_q: 4.082191, mean_eps: 0.678700\n",
            "  379/10000: episode: 20, duration: 0.113s, episode steps:  15, steps per second: 132, episode reward: 15.000, mean reward:  1.000 [ 1.000,  1.000], mean action: 0.467 [0.000, 1.000],  loss: 0.234450, mae: 2.172529, mean_q: 4.120750, mean_eps: 0.666100\n",
            "  400/10000: episode: 21, duration: 0.152s, episode steps:  21, steps per second: 138, episode reward: 21.000, mean reward:  1.000 [ 1.000,  1.000], mean action: 0.429 [0.000, 1.000],  loss: 0.236602, mae: 2.274236, mean_q: 4.328151, mean_eps: 0.649900\n",
            "  408/10000: episode: 22, duration: 0.065s, episode steps:   8, steps per second: 123, episode reward:  8.000, mean reward:  1.000 [ 1.000,  1.000], mean action: 0.000 [0.000, 0.000],  loss: 0.266695, mae: 2.300251, mean_q: 4.404985, mean_eps: 0.636850\n",
            "  419/10000: episode: 23, duration: 0.084s, episode steps:  11, steps per second: 131, episode reward: 11.000, mean reward:  1.000 [ 1.000,  1.000], mean action: 0.273 [0.000, 1.000],  loss: 0.287765, mae: 2.352512, mean_q: 4.375803, mean_eps: 0.628300\n",
            "  440/10000: episode: 24, duration: 0.189s, episode steps:  21, steps per second: 111, episode reward: 21.000, mean reward:  1.000 [ 1.000,  1.000], mean action: 0.333 [0.000, 1.000],  loss: 0.271287, mae: 2.420102, mean_q: 4.639867, mean_eps: 0.613900\n",
            "  457/10000: episode: 25, duration: 0.198s, episode steps:  17, steps per second:  86, episode reward: 17.000, mean reward:  1.000 [ 1.000,  1.000], mean action: 0.412 [0.000, 1.000],  loss: 0.214670, mae: 2.486947, mean_q: 4.728553, mean_eps: 0.596800\n",
            "  475/10000: episode: 26, duration: 0.193s, episode steps:  18, steps per second:  93, episode reward: 18.000, mean reward:  1.000 [ 1.000,  1.000], mean action: 0.389 [0.000, 1.000],  loss: 0.200683, mae: 2.591397, mean_q: 4.969596, mean_eps: 0.581050\n",
            "  495/10000: episode: 27, duration: 0.205s, episode steps:  20, steps per second:  98, episode reward: 20.000, mean reward:  1.000 [ 1.000,  1.000], mean action: 0.400 [0.000, 1.000],  loss: 0.278696, mae: 2.654510, mean_q: 4.993035, mean_eps: 0.563950\n",
            "  522/10000: episode: 28, duration: 0.294s, episode steps:  27, steps per second:  92, episode reward: 27.000, mean reward:  1.000 [ 1.000,  1.000], mean action: 0.519 [0.000, 1.000],  loss: 0.184828, mae: 2.758355, mean_q: 5.300609, mean_eps: 0.542800\n",
            "  546/10000: episode: 29, duration: 0.260s, episode steps:  24, steps per second:  92, episode reward: 24.000, mean reward:  1.000 [ 1.000,  1.000], mean action: 0.417 [0.000, 1.000],  loss: 0.231865, mae: 2.859182, mean_q: 5.528972, mean_eps: 0.519850\n",
            "  582/10000: episode: 30, duration: 0.381s, episode steps:  36, steps per second:  94, episode reward: 36.000, mean reward:  1.000 [ 1.000,  1.000], mean action: 0.472 [0.000, 1.000],  loss: 0.287797, mae: 2.966656, mean_q: 5.632797, mean_eps: 0.492850\n",
            "  596/10000: episode: 31, duration: 0.171s, episode steps:  14, steps per second:  82, episode reward: 14.000, mean reward:  1.000 [ 1.000,  1.000], mean action: 0.429 [0.000, 1.000],  loss: 0.320109, mae: 3.088432, mean_q: 5.923891, mean_eps: 0.470350\n",
            "  675/10000: episode: 32, duration: 0.844s, episode steps:  79, steps per second:  94, episode reward: 79.000, mean reward:  1.000 [ 1.000,  1.000], mean action: 0.519 [0.000, 1.000],  loss: 0.225858, mae: 3.185299, mean_q: 6.195337, mean_eps: 0.428500\n",
            "  822/10000: episode: 33, duration: 1.088s, episode steps: 147, steps per second: 135, episode reward: 147.000, mean reward:  1.000 [ 1.000,  1.000], mean action: 0.510 [0.000, 1.000],  loss: 0.265751, mae: 3.548605, mean_q: 6.990348, mean_eps: 0.326800\n",
            "  845/10000: episode: 34, duration: 0.171s, episode steps:  23, steps per second: 135, episode reward: 23.000, mean reward:  1.000 [ 1.000,  1.000], mean action: 0.522 [0.000, 1.000],  loss: 0.235408, mae: 3.884949, mean_q: 7.716551, mean_eps: 0.250300\n",
            "  873/10000: episode: 35, duration: 0.215s, episode steps:  28, steps per second: 130, episode reward: 28.000, mean reward:  1.000 [ 1.000,  1.000], mean action: 0.571 [0.000, 1.000],  loss: 0.180316, mae: 3.958127, mean_q: 7.924747, mean_eps: 0.227350\n",
            " 1030/10000: episode: 36, duration: 1.109s, episode steps: 157, steps per second: 142, episode reward: 157.000, mean reward:  1.000 [ 1.000,  1.000], mean action: 0.503 [0.000, 1.000],  loss: 0.312214, mae: 4.391779, mean_q: 8.718102, mean_eps: 0.146594\n",
            " 1128/10000: episode: 37, duration: 0.686s, episode steps:  98, steps per second: 143, episode reward: 98.000, mean reward:  1.000 [ 1.000,  1.000], mean action: 0.531 [0.000, 1.000],  loss: 0.410014, mae: 4.837859, mean_q: 9.594111, mean_eps: 0.100000\n",
            " 1296/10000: episode: 38, duration: 1.212s, episode steps: 168, steps per second: 139, episode reward: 168.000, mean reward:  1.000 [ 1.000,  1.000], mean action: 0.524 [0.000, 1.000],  loss: 0.316240, mae: 5.349713, mean_q: 10.682084, mean_eps: 0.100000\n",
            " 1397/10000: episode: 39, duration: 0.723s, episode steps: 101, steps per second: 140, episode reward: 101.000, mean reward:  1.000 [ 1.000,  1.000], mean action: 0.545 [0.000, 1.000],  loss: 0.381336, mae: 5.838846, mean_q: 11.712628, mean_eps: 0.100000\n",
            " 1491/10000: episode: 40, duration: 0.708s, episode steps:  94, steps per second: 133, episode reward: 94.000, mean reward:  1.000 [ 1.000,  1.000], mean action: 0.532 [0.000, 1.000],  loss: 0.421692, mae: 6.171789, mean_q: 12.364799, mean_eps: 0.100000\n",
            " 1573/10000: episode: 41, duration: 0.625s, episode steps:  82, steps per second: 131, episode reward: 82.000, mean reward:  1.000 [ 1.000,  1.000], mean action: 0.549 [0.000, 1.000],  loss: 0.476264, mae: 6.500423, mean_q: 13.011142, mean_eps: 0.100000\n",
            " 1684/10000: episode: 42, duration: 0.823s, episode steps: 111, steps per second: 135, episode reward: 111.000, mean reward:  1.000 [ 1.000,  1.000], mean action: 0.532 [0.000, 1.000],  loss: 0.521272, mae: 6.855184, mean_q: 13.729564, mean_eps: 0.100000\n",
            " 1802/10000: episode: 43, duration: 0.849s, episode steps: 118, steps per second: 139, episode reward: 118.000, mean reward:  1.000 [ 1.000,  1.000], mean action: 0.534 [0.000, 1.000],  loss: 0.424509, mae: 7.324459, mean_q: 14.679792, mean_eps: 0.100000\n",
            " 1890/10000: episode: 44, duration: 0.629s, episode steps:  88, steps per second: 140, episode reward: 88.000, mean reward:  1.000 [ 1.000,  1.000], mean action: 0.534 [0.000, 1.000],  loss: 0.641729, mae: 7.709885, mean_q: 15.392251, mean_eps: 0.100000\n",
            " 1968/10000: episode: 45, duration: 0.577s, episode steps:  78, steps per second: 135, episode reward: 78.000, mean reward:  1.000 [ 1.000,  1.000], mean action: 0.538 [0.000, 1.000],  loss: 0.617649, mae: 8.027507, mean_q: 16.084273, mean_eps: 0.100000\n",
            " 2066/10000: episode: 46, duration: 0.762s, episode steps:  98, steps per second: 129, episode reward: 98.000, mean reward:  1.000 [ 1.000,  1.000], mean action: 0.531 [0.000, 1.000],  loss: 0.608549, mae: 8.395428, mean_q: 16.775411, mean_eps: 0.100000\n",
            " 2155/10000: episode: 47, duration: 0.917s, episode steps:  89, steps per second:  97, episode reward: 89.000, mean reward:  1.000 [ 1.000,  1.000], mean action: 0.539 [0.000, 1.000],  loss: 0.581873, mae: 8.643566, mean_q: 17.355561, mean_eps: 0.100000\n",
            " 2245/10000: episode: 48, duration: 0.904s, episode steps:  90, steps per second: 100, episode reward: 90.000, mean reward:  1.000 [ 1.000,  1.000], mean action: 0.522 [0.000, 1.000],  loss: 0.791479, mae: 9.065671, mean_q: 18.083062, mean_eps: 0.100000\n",
            " 2404/10000: episode: 49, duration: 1.329s, episode steps: 159, steps per second: 120, episode reward: 159.000, mean reward:  1.000 [ 1.000,  1.000], mean action: 0.528 [0.000, 1.000],  loss: 0.756699, mae: 9.460290, mean_q: 18.915895, mean_eps: 0.100000\n",
            " 2509/10000: episode: 50, duration: 0.765s, episode steps: 105, steps per second: 137, episode reward: 105.000, mean reward:  1.000 [ 1.000,  1.000], mean action: 0.524 [0.000, 1.000],  loss: 0.883216, mae: 9.885887, mean_q: 19.722620, mean_eps: 0.100000\n",
            " 2667/10000: episode: 51, duration: 1.149s, episode steps: 158, steps per second: 138, episode reward: 158.000, mean reward:  1.000 [ 1.000,  1.000], mean action: 0.519 [0.000, 1.000],  loss: 0.982536, mae: 10.340731, mean_q: 20.632600, mean_eps: 0.100000\n",
            " 2756/10000: episode: 52, duration: 0.647s, episode steps:  89, steps per second: 138, episode reward: 89.000, mean reward:  1.000 [ 1.000,  1.000], mean action: 0.551 [0.000, 1.000],  loss: 0.967760, mae: 10.660694, mean_q: 21.276009, mean_eps: 0.100000\n",
            " 2874/10000: episode: 53, duration: 0.883s, episode steps: 118, steps per second: 134, episode reward: 118.000, mean reward:  1.000 [ 1.000,  1.000], mean action: 0.525 [0.000, 1.000],  loss: 0.823479, mae: 10.998807, mean_q: 21.999671, mean_eps: 0.100000\n",
            " 2977/10000: episode: 54, duration: 0.743s, episode steps: 103, steps per second: 139, episode reward: 103.000, mean reward:  1.000 [ 1.000,  1.000], mean action: 0.515 [0.000, 1.000],  loss: 0.926375, mae: 11.406127, mean_q: 22.818521, mean_eps: 0.100000\n",
            " 3105/10000: episode: 55, duration: 0.917s, episode steps: 128, steps per second: 140, episode reward: 128.000, mean reward:  1.000 [ 1.000,  1.000], mean action: 0.523 [0.000, 1.000],  loss: 0.886192, mae: 11.682726, mean_q: 23.375959, mean_eps: 0.100000\n",
            " 3243/10000: episode: 56, duration: 1.020s, episode steps: 138, steps per second: 135, episode reward: 138.000, mean reward:  1.000 [ 1.000,  1.000], mean action: 0.522 [0.000, 1.000],  loss: 0.932675, mae: 12.193485, mean_q: 24.430659, mean_eps: 0.100000\n",
            " 3350/10000: episode: 57, duration: 0.798s, episode steps: 107, steps per second: 134, episode reward: 107.000, mean reward:  1.000 [ 1.000,  1.000], mean action: 0.523 [0.000, 1.000],  loss: 0.895243, mae: 12.494325, mean_q: 25.039581, mean_eps: 0.100000\n",
            " 3471/10000: episode: 58, duration: 0.880s, episode steps: 121, steps per second: 138, episode reward: 121.000, mean reward:  1.000 [ 1.000,  1.000], mean action: 0.521 [0.000, 1.000],  loss: 0.873863, mae: 12.835872, mean_q: 25.722514, mean_eps: 0.100000\n",
            " 3566/10000: episode: 59, duration: 0.688s, episode steps:  95, steps per second: 138, episode reward: 95.000, mean reward:  1.000 [ 1.000,  1.000], mean action: 0.537 [0.000, 1.000],  loss: 1.097935, mae: 13.176052, mean_q: 26.403977, mean_eps: 0.100000\n",
            " 3682/10000: episode: 60, duration: 0.883s, episode steps: 116, steps per second: 131, episode reward: 116.000, mean reward:  1.000 [ 1.000,  1.000], mean action: 0.534 [0.000, 1.000],  loss: 0.874794, mae: 13.518551, mean_q: 27.062282, mean_eps: 0.100000\n",
            " 3768/10000: episode: 61, duration: 0.892s, episode steps:  86, steps per second:  96, episode reward: 86.000, mean reward:  1.000 [ 1.000,  1.000], mean action: 0.535 [0.000, 1.000],  loss: 1.402711, mae: 13.560434, mean_q: 27.067088, mean_eps: 0.100000\n",
            " 3869/10000: episode: 62, duration: 1.035s, episode steps: 101, steps per second:  98, episode reward: 101.000, mean reward:  1.000 [ 1.000,  1.000], mean action: 0.525 [0.000, 1.000],  loss: 0.805906, mae: 13.819412, mean_q: 27.667933, mean_eps: 0.100000\n",
            " 3993/10000: episode: 63, duration: 1.101s, episode steps: 124, steps per second: 113, episode reward: 124.000, mean reward:  1.000 [ 1.000,  1.000], mean action: 0.524 [0.000, 1.000],  loss: 0.782229, mae: 14.180922, mean_q: 28.471978, mean_eps: 0.100000\n",
            " 4106/10000: episode: 64, duration: 0.812s, episode steps: 113, steps per second: 139, episode reward: 113.000, mean reward:  1.000 [ 1.000,  1.000], mean action: 0.531 [0.000, 1.000],  loss: 0.892474, mae: 14.300365, mean_q: 28.703973, mean_eps: 0.100000\n",
            " 4227/10000: episode: 65, duration: 0.894s, episode steps: 121, steps per second: 135, episode reward: 121.000, mean reward:  1.000 [ 1.000,  1.000], mean action: 0.529 [0.000, 1.000],  loss: 0.884280, mae: 14.620680, mean_q: 29.336151, mean_eps: 0.100000\n",
            " 4337/10000: episode: 66, duration: 0.795s, episode steps: 110, steps per second: 138, episode reward: 110.000, mean reward:  1.000 [ 1.000,  1.000], mean action: 0.527 [0.000, 1.000],  loss: 0.970513, mae: 14.964501, mean_q: 30.052370, mean_eps: 0.100000\n",
            " 4448/10000: episode: 67, duration: 0.819s, episode steps: 111, steps per second: 135, episode reward: 111.000, mean reward:  1.000 [ 1.000,  1.000], mean action: 0.505 [0.000, 1.000],  loss: 1.542231, mae: 15.170595, mean_q: 30.382501, mean_eps: 0.100000\n",
            " 4561/10000: episode: 68, duration: 0.846s, episode steps: 113, steps per second: 134, episode reward: 113.000, mean reward:  1.000 [ 1.000,  1.000], mean action: 0.531 [0.000, 1.000],  loss: 1.435848, mae: 15.259545, mean_q: 30.451458, mean_eps: 0.100000\n",
            " 4670/10000: episode: 69, duration: 0.794s, episode steps: 109, steps per second: 137, episode reward: 109.000, mean reward:  1.000 [ 1.000,  1.000], mean action: 0.532 [0.000, 1.000],  loss: 0.854715, mae: 15.647577, mean_q: 31.484049, mean_eps: 0.100000\n",
            " 4785/10000: episode: 70, duration: 0.819s, episode steps: 115, steps per second: 140, episode reward: 115.000, mean reward:  1.000 [ 1.000,  1.000], mean action: 0.522 [0.000, 1.000],  loss: 1.041246, mae: 15.816059, mean_q: 31.730107, mean_eps: 0.100000\n",
            " 4900/10000: episode: 71, duration: 0.851s, episode steps: 115, steps per second: 135, episode reward: 115.000, mean reward:  1.000 [ 1.000,  1.000], mean action: 0.539 [0.000, 1.000],  loss: 0.886360, mae: 15.936716, mean_q: 31.993910, mean_eps: 0.100000\n",
            " 5029/10000: episode: 72, duration: 0.951s, episode steps: 129, steps per second: 136, episode reward: 129.000, mean reward:  1.000 [ 1.000,  1.000], mean action: 0.527 [0.000, 1.000],  loss: 0.828437, mae: 16.176656, mean_q: 32.483116, mean_eps: 0.100000\n",
            " 5167/10000: episode: 73, duration: 0.983s, episode steps: 138, steps per second: 140, episode reward: 138.000, mean reward:  1.000 [ 1.000,  1.000], mean action: 0.522 [0.000, 1.000],  loss: 1.261072, mae: 16.246959, mean_q: 32.584508, mean_eps: 0.100000\n",
            " 5324/10000: episode: 74, duration: 1.248s, episode steps: 157, steps per second: 126, episode reward: 157.000, mean reward:  1.000 [ 1.000,  1.000], mean action: 0.516 [0.000, 1.000],  loss: 1.370510, mae: 16.801997, mean_q: 33.617680, mean_eps: 0.100000\n",
            " 5482/10000: episode: 75, duration: 1.587s, episode steps: 158, steps per second: 100, episode reward: 158.000, mean reward:  1.000 [ 1.000,  1.000], mean action: 0.525 [0.000, 1.000],  loss: 1.010942, mae: 16.991890, mean_q: 34.081828, mean_eps: 0.100000\n",
            " 5628/10000: episode: 76, duration: 1.242s, episode steps: 146, steps per second: 118, episode reward: 146.000, mean reward:  1.000 [ 1.000,  1.000], mean action: 0.514 [0.000, 1.000],  loss: 0.848871, mae: 17.107407, mean_q: 34.462675, mean_eps: 0.100000\n",
            " 5768/10000: episode: 77, duration: 0.995s, episode steps: 140, steps per second: 141, episode reward: 140.000, mean reward:  1.000 [ 1.000,  1.000], mean action: 0.514 [0.000, 1.000],  loss: 1.059376, mae: 17.519398, mean_q: 35.165588, mean_eps: 0.100000\n",
            " 5853/10000: episode: 78, duration: 0.610s, episode steps:  85, steps per second: 139, episode reward: 85.000, mean reward:  1.000 [ 1.000,  1.000], mean action: 0.494 [0.000, 1.000],  loss: 1.468742, mae: 17.611495, mean_q: 35.326386, mean_eps: 0.100000\n",
            " 6001/10000: episode: 79, duration: 1.061s, episode steps: 148, steps per second: 139, episode reward: 148.000, mean reward:  1.000 [ 1.000,  1.000], mean action: 0.480 [0.000, 1.000],  loss: 1.078904, mae: 18.057418, mean_q: 36.207134, mean_eps: 0.100000\n",
            " 6148/10000: episode: 80, duration: 1.087s, episode steps: 147, steps per second: 135, episode reward: 147.000, mean reward:  1.000 [ 1.000,  1.000], mean action: 0.483 [0.000, 1.000],  loss: 1.129481, mae: 18.122461, mean_q: 36.356646, mean_eps: 0.100000\n",
            " 6335/10000: episode: 81, duration: 1.333s, episode steps: 187, steps per second: 140, episode reward: 187.000, mean reward:  1.000 [ 1.000,  1.000], mean action: 0.508 [0.000, 1.000],  loss: 1.257266, mae: 18.455555, mean_q: 36.984338, mean_eps: 0.100000\n",
            " 6535/10000: episode: 82, duration: 1.407s, episode steps: 200, steps per second: 142, episode reward: 200.000, mean reward:  1.000 [ 1.000,  1.000], mean action: 0.510 [0.000, 1.000],  loss: 1.143802, mae: 18.661004, mean_q: 37.416102, mean_eps: 0.100000\n",
            " 6629/10000: episode: 83, duration: 0.643s, episode steps:  94, steps per second: 146, episode reward: 94.000, mean reward:  1.000 [ 1.000,  1.000], mean action: 0.489 [0.000, 1.000],  loss: 1.110266, mae: 18.735232, mean_q: 37.541709, mean_eps: 0.100000\n",
            " 6829/10000: episode: 84, duration: 1.408s, episode steps: 200, steps per second: 142, episode reward: 200.000, mean reward:  1.000 [ 1.000,  1.000], mean action: 0.505 [0.000, 1.000],  loss: 0.939778, mae: 19.257985, mean_q: 38.691793, mean_eps: 0.100000\n",
            " 7029/10000: episode: 85, duration: 1.678s, episode steps: 200, steps per second: 119, episode reward: 200.000, mean reward:  1.000 [ 1.000,  1.000], mean action: 0.505 [0.000, 1.000],  loss: 1.147951, mae: 19.762949, mean_q: 39.760486, mean_eps: 0.100000\n",
            " 7229/10000: episode: 86, duration: 1.939s, episode steps: 200, steps per second: 103, episode reward: 200.000, mean reward:  1.000 [ 1.000,  1.000], mean action: 0.500 [0.000, 1.000],  loss: 1.559715, mae: 20.268898, mean_q: 40.701216, mean_eps: 0.100000\n",
            " 7429/10000: episode: 87, duration: 1.447s, episode steps: 200, steps per second: 138, episode reward: 200.000, mean reward:  1.000 [ 1.000,  1.000], mean action: 0.500 [0.000, 1.000],  loss: 1.468824, mae: 20.821583, mean_q: 41.961757, mean_eps: 0.100000\n",
            " 7629/10000: episode: 88, duration: 1.439s, episode steps: 200, steps per second: 139, episode reward: 200.000, mean reward:  1.000 [ 1.000,  1.000], mean action: 0.495 [0.000, 1.000],  loss: 2.369492, mae: 21.442791, mean_q: 43.123368, mean_eps: 0.100000\n",
            " 7829/10000: episode: 89, duration: 1.418s, episode steps: 200, steps per second: 141, episode reward: 200.000, mean reward:  1.000 [ 1.000,  1.000], mean action: 0.490 [0.000, 1.000],  loss: 2.485109, mae: 21.975995, mean_q: 44.164097, mean_eps: 0.100000\n",
            " 8029/10000: episode: 90, duration: 1.431s, episode steps: 200, steps per second: 140, episode reward: 200.000, mean reward:  1.000 [ 1.000,  1.000], mean action: 0.500 [0.000, 1.000],  loss: 1.951931, mae: 22.637523, mean_q: 45.563053, mean_eps: 0.100000\n",
            " 8229/10000: episode: 91, duration: 1.426s, episode steps: 200, steps per second: 140, episode reward: 200.000, mean reward:  1.000 [ 1.000,  1.000], mean action: 0.500 [0.000, 1.000],  loss: 2.100139, mae: 23.293168, mean_q: 47.084617, mean_eps: 0.100000\n",
            " 8415/10000: episode: 92, duration: 1.309s, episode steps: 186, steps per second: 142, episode reward: 186.000, mean reward:  1.000 [ 1.000,  1.000], mean action: 0.468 [0.000, 1.000],  loss: 2.853436, mae: 23.994445, mean_q: 48.348965, mean_eps: 0.100000\n",
            " 8613/10000: episode: 93, duration: 1.554s, episode steps: 198, steps per second: 127, episode reward: 198.000, mean reward:  1.000 [ 1.000,  1.000], mean action: 0.470 [0.000, 1.000],  loss: 5.243756, mae: 24.794815, mean_q: 49.794536, mean_eps: 0.100000\n",
            " 8781/10000: episode: 94, duration: 1.760s, episode steps: 168, steps per second:  95, episode reward: 168.000, mean reward:  1.000 [ 1.000,  1.000], mean action: 0.488 [0.000, 1.000],  loss: 3.884360, mae: 25.675504, mean_q: 51.694667, mean_eps: 0.100000\n",
            " 8981/10000: episode: 95, duration: 1.537s, episode steps: 200, steps per second: 130, episode reward: 200.000, mean reward:  1.000 [ 1.000,  1.000], mean action: 0.485 [0.000, 1.000],  loss: 4.104685, mae: 26.564431, mean_q: 53.380483, mean_eps: 0.100000\n",
            " 9181/10000: episode: 96, duration: 1.450s, episode steps: 200, steps per second: 138, episode reward: 200.000, mean reward:  1.000 [ 1.000,  1.000], mean action: 0.485 [0.000, 1.000],  loss: 5.180838, mae: 27.403353, mean_q: 55.122974, mean_eps: 0.100000\n",
            " 9381/10000: episode: 97, duration: 1.452s, episode steps: 200, steps per second: 138, episode reward: 200.000, mean reward:  1.000 [ 1.000,  1.000], mean action: 0.490 [0.000, 1.000],  loss: 5.164232, mae: 28.336167, mean_q: 57.004629, mean_eps: 0.100000\n",
            " 9581/10000: episode: 98, duration: 1.395s, episode steps: 200, steps per second: 143, episode reward: 200.000, mean reward:  1.000 [ 1.000,  1.000], mean action: 0.480 [0.000, 1.000],  loss: 6.259041, mae: 29.149358, mean_q: 58.679329, mean_eps: 0.100000\n",
            " 9781/10000: episode: 99, duration: 1.414s, episode steps: 200, steps per second: 141, episode reward: 200.000, mean reward:  1.000 [ 1.000,  1.000], mean action: 0.490 [0.000, 1.000],  loss: 5.133997, mae: 30.312437, mean_q: 61.137029, mean_eps: 0.100000\n",
            " 9981/10000: episode: 100, duration: 1.451s, episode steps: 200, steps per second: 138, episode reward: 200.000, mean reward:  1.000 [ 1.000,  1.000], mean action: 0.495 [0.000, 1.000],  loss: 9.216721, mae: 31.456381, mean_q: 63.224543, mean_eps: 0.100000\n",
            "done, took 79.134 seconds\n"
          ]
        },
        {
          "output_type": "display_data",
          "data": {
            "text/plain": [
              "<Figure size 432x288 with 1 Axes>"
            ],
            "image/png": "[encoded data removed]"
          },
          "metadata": {
            "needs_background": "light"
          }
        },
        {
          "output_type": "stream",
          "name": "stdout",
          "text": [
            "Testing for 20 episodes ...\n",
            "Episode 1: reward: 200.000, steps: 200\n",
            "Episode 2: reward: 200.000, steps: 200\n",
            "Episode 3: reward: 200.000, steps: 200\n",
            "Episode 4: reward: 200.000, steps: 200\n",
            "Episode 5: reward: 200.000, steps: 200\n",
            "Episode 6: reward: 200.000, steps: 200\n",
            "Episode 7: reward: 200.000, steps: 200\n",
            "Episode 8: reward: 200.000, steps: 200\n",
            "Episode 9: reward: 200.000, steps: 200\n",
            "Episode 10: reward: 200.000, steps: 200\n",
            "Episode 11: reward: 200.000, steps: 200\n",
            "Episode 12: reward: 200.000, steps: 200\n",
            "Episode 13: reward: 200.000, steps: 200\n",
            "Episode 14: reward: 200.000, steps: 200\n",
            "Episode 15: reward: 200.000, steps: 200\n",
            "Episode 16: reward: 200.000, steps: 200\n",
            "Episode 17: reward: 200.000, steps: 200\n",
            "Episode 18: reward: 200.000, steps: 200\n",
            "Episode 19: reward: 200.000, steps: 200\n",
            "Episode 20: reward: 200.000, steps: 200\n"
          ]
        },
        {
          "output_type": "execute_result",
          "data": {
            "text/plain": [
              "<keras.callbacks.History at 0x7f4ef1b68670>"
            ]
          },
          "metadata": {},
          "execution_count": 14
        }
      ]
    },
    {
      "cell_type": "markdown",
      "source": [
        "Changes I made :\n",
        "\n",
        "I changed the learning rate to 1e-2 and nub_step to 1000 - b/c a slower annealing schdedule can help the agent explore more thorougly, leading to a better performance. "
      ],
      "metadata": {
        "id": "as4eO5iZUp6W"
      }
    },
    {
      "cell_type": "code",
      "source": [],
      "metadata": {
        "id": "eZJur1Q5VawQ"
      },
      "execution_count": 5,
      "outputs": []
    }
  ]
}