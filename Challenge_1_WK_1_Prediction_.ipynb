{
  "nbformat": 4,
  "nbformat_minor": 0,
  "metadata": {
    "colab": {
      "provenance": [],
      "authorship_tag": "ABX9TyMRU25il2T9LHLm9VBSwufX",
      "include_colab_link": true
    },
    "kernelspec": {
      "name": "python3",
      "display_name": "Python 3"
    },
    "language_info": {
      "name": "python"
    }
  },
  "cells": [
    {
      "cell_type": "markdown",
      "metadata": {
        "id": "view-in-github",
        "colab_type": "text"
      },
      "source": [
        "<a href=\"https://colab.research.google.com/github/MartinNde/MartinN_1/blob/main/Challenge_1_WK_1_Prediction_.ipynb\" target=\"_parent\"><img src=\"https://colab.research.google.com/assets/colab-badge.svg\" alt=\"Open In Colab\"/></a>"
      ]
    },
    {
      "cell_type": "markdown",
      "source": [
        "#Importing the Dataset and some useful libraries "
      ],
      "metadata": {
        "id": "ajs0JCbIlCQS"
      }
    },
    {
      "cell_type": "code",
      "source": [
        "!pip install keras-tuner"
      ],
      "metadata": {
        "id": "oBhQIPT1lNQu"
      },
      "execution_count": null,
      "outputs": []
    },
    {
      "cell_type": "code",
      "execution_count": 2,
      "metadata": {
        "colab": {
          "base_uri": "https://localhost:8080/"
        },
        "id": "3U97wiADko8j",
        "outputId": "e844ef11-80a7-491c-9504-096ebbf44e3e"
      },
      "outputs": [
        {
          "output_type": "stream",
          "name": "stderr",
          "text": [
            "<ipython-input-2-a085f2bddb81>:6: DeprecationWarning: `import kerastuner` is deprecated, please use `import keras_tuner`.\n",
            "  import kerastuner as kt\n"
          ]
        }
      ],
      "source": [
        "# load the mnist dataset from keras\n",
        "\n",
        "import tensorflow as tf\n",
        "from tensorflow import keras\n",
        "from keras import datasets\n",
        "import kerastuner as kt\n",
        "tf.keras.datasets.fashion_mnist.load_data()\n",
        "from sklearn.preprocessing import normalize\n",
        "from sklearn.model_selection import train_test_split\n",
        "from tensorflow.keras import utils\n",
        "from tensorflow.keras.models import Sequential\n",
        "from tensorflow.keras.layers import Dense\n",
        "import matplotlib.pyplot as plt\n",
        "from keras.layers import Flatten\n",
        "from keras.models import Sequential\n",
        "from keras.layers import Flatten, Dense\n",
        "\n",
        "(x_train, y_train), (x_test, y_test) = keras.datasets.fashion_mnist.load_data()\n",
        "\n",
        "# Normalize pixel values between 0 and 1\n",
        "x_train = x_train.astype('float32') / 255.0\n",
        "x_test = x_test.astype('float32') / 255.0\n",
        "\n",
        "assert x_train.shape == (60000, 28, 28)\n",
        "assert x_test.shape == (10000, 28, 28)\n",
        "assert y_train.shape == (60000,)\n",
        "assert y_test.shape == (10000,)\n",
        "\n",
        "# apply one-hot-encoding to the output data\n",
        "y_train = tf.keras.utils.to_categorical(y_train, 10)\n",
        "y_test = tf.keras.utils.to_categorical(y_test, 10)"
      ]
    },
    {
      "cell_type": "markdown",
      "source": [
        "##View the data"
      ],
      "metadata": {
        "id": "91WVkpfHYz__"
      }
    },
    {
      "cell_type": "code",
      "source": [
        "import matplotlib.pyplot as plt\n",
        "\n",
        "# Select the first image in the training set\n",
        "image = x_train[0]\n",
        "label = y_train[0]\n",
        "\n",
        "# Display the image and its label\n",
        "plt.imshow(image, cmap='gray')\n",
        "plt.title(f'Label: {label}')\n",
        "plt.show()\n"
      ],
      "metadata": {
        "colab": {
          "base_uri": "https://localhost:8080/",
          "height": 281
        },
        "id": "p7eBgIURobpO",
        "outputId": "732499a8-4d63-4944-caf2-a22032ad51e6"
      },
      "execution_count": 3,
      "outputs": [
        {
          "output_type": "display_data",
          "data": {
            "text/plain": [
              "<Figure size 432x288 with 1 Axes>"
            ],
            "image/png": "[encoded data removed]"
          },
          "metadata": {
            "needs_background": "light"
          }
        }
      ]
    },
    {
      "cell_type": "markdown",
      "source": [
        "#Create, Compile and fit the model and plot the accuracy and loss"
      ],
      "metadata": {
        "id": "MtDBqcVIoMYK"
      }
    },
    {
      "cell_type": "code",
      "source": [
        "# Create, compile and fit the model with the original MNIST data\n",
        "from keras import layers\n",
        "from keras import Sequential\n",
        "from keras.layers import Dense\n",
        "\n",
        "model = keras.Sequential()\n",
        "model.add(keras.layers.Flatten(input_shape=(28, 28,)))\n",
        "model.add(Dense(units=10, activation='relu'))\n",
        "model.add(Dense(units=10, activation='softmax'))\n",
        "\n",
        "model.compile(optimizer = 'adam', loss = 'categorical_crossentropy', metrics = ['accuracy'])\n",
        "\n",
        "history = model.fit(x_train, y_train, epochs = 20, validation_data = (x_test, y_test))\n",
        "\n",
        "# plot the history of the training\n",
        "import matplotlib.pyplot as plt\n",
        "\n",
        "# summarize the history for accuracy\n",
        "plt.plot(history.history['accuracy'])\n",
        "plt.plot(history.history['val_accuracy'])\n",
        "plt.title('model accuracy')\n",
        "plt.ylabel('accuracy')\n",
        "plt.xlabel('epoch')\n",
        "plt.legend(['train','test'], loc='upper left')\n",
        "plt.show()\n",
        "\n",
        "# summarize the history for loss\n",
        "plt.plot(history.history['loss'])\n",
        "plt.plot(history.history['val_loss'])\n",
        "plt.title('model loss')\n",
        "plt.ylabel('loss')\n",
        "plt.xlabel('epoch')\n",
        "plt.legend(['train','test'], loc='upper left')\n",
        "plt.show()"
      ],
      "metadata": {
        "colab": {
          "base_uri": "https://localhost:8080/",
          "height": 1000
        },
        "id": "nHJkEEbkYedW",
        "outputId": "3b55fb7d-cd74-421e-f375-991bf552a420"
      },
      "execution_count": 4,
      "outputs": [
        {
          "output_type": "stream",
          "name": "stdout",
          "text": [
            "Epoch 1/20\n",
            "1875/1875 [==============================] - 6s 3ms/step - loss: 0.6661 - accuracy: 0.7750 - val_loss: 0.5178 - val_accuracy: 0.8221\n",
            "Epoch 2/20\n",
            "1875/1875 [==============================] - 8s 4ms/step - loss: 0.4606 - accuracy: 0.8411 - val_loss: 0.4710 - val_accuracy: 0.8370\n",
            "Epoch 3/20\n",
            "1875/1875 [==============================] - 8s 4ms/step - loss: 0.4291 - accuracy: 0.8505 - val_loss: 0.4434 - val_accuracy: 0.8455\n",
            "Epoch 4/20\n",
            "1875/1875 [==============================] - 10s 5ms/step - loss: 0.4113 - accuracy: 0.8564 - val_loss: 0.4448 - val_accuracy: 0.8419\n",
            "Epoch 5/20\n",
            "1875/1875 [==============================] - 5s 3ms/step - loss: 0.4021 - accuracy: 0.8582 - val_loss: 0.4417 - val_accuracy: 0.8458\n",
            "Epoch 6/20\n",
            "1875/1875 [==============================] - 4s 2ms/step - loss: 0.3935 - accuracy: 0.8613 - val_loss: 0.4303 - val_accuracy: 0.8476\n",
            "Epoch 7/20\n",
            "1875/1875 [==============================] - 4s 2ms/step - loss: 0.3854 - accuracy: 0.8641 - val_loss: 0.4401 - val_accuracy: 0.8455\n",
            "Epoch 8/20\n",
            "1875/1875 [==============================] - 5s 3ms/step - loss: 0.3814 - accuracy: 0.8656 - val_loss: 0.4253 - val_accuracy: 0.8513\n",
            "Epoch 9/20\n",
            "1875/1875 [==============================] - 4s 2ms/step - loss: 0.3772 - accuracy: 0.8658 - val_loss: 0.4193 - val_accuracy: 0.8512\n",
            "Epoch 10/20\n",
            "1875/1875 [==============================] - 4s 2ms/step - loss: 0.3735 - accuracy: 0.8679 - val_loss: 0.4186 - val_accuracy: 0.8515\n",
            "Epoch 11/20\n",
            "1875/1875 [==============================] - 5s 3ms/step - loss: 0.3694 - accuracy: 0.8677 - val_loss: 0.4249 - val_accuracy: 0.8474\n",
            "Epoch 12/20\n",
            "1875/1875 [==============================] - 4s 2ms/step - loss: 0.3658 - accuracy: 0.8691 - val_loss: 0.4251 - val_accuracy: 0.8484\n",
            "Epoch 13/20\n",
            "1875/1875 [==============================] - 4s 2ms/step - loss: 0.3628 - accuracy: 0.8695 - val_loss: 0.4218 - val_accuracy: 0.8493\n",
            "Epoch 14/20\n",
            "1875/1875 [==============================] - 6s 3ms/step - loss: 0.3583 - accuracy: 0.8717 - val_loss: 0.4235 - val_accuracy: 0.8495\n",
            "Epoch 15/20\n",
            "1875/1875 [==============================] - 4s 2ms/step - loss: 0.3557 - accuracy: 0.8724 - val_loss: 0.4138 - val_accuracy: 0.8535\n",
            "Epoch 16/20\n",
            "1875/1875 [==============================] - 4s 2ms/step - loss: 0.3534 - accuracy: 0.8728 - val_loss: 0.4182 - val_accuracy: 0.8530\n",
            "Epoch 17/20\n",
            "1875/1875 [==============================] - 5s 3ms/step - loss: 0.3512 - accuracy: 0.8740 - val_loss: 0.4125 - val_accuracy: 0.8511\n",
            "Epoch 18/20\n",
            "1875/1875 [==============================] - 4s 2ms/step - loss: 0.3478 - accuracy: 0.8765 - val_loss: 0.4104 - val_accuracy: 0.8534\n",
            "Epoch 19/20\n",
            "1875/1875 [==============================] - 4s 2ms/step - loss: 0.3459 - accuracy: 0.8760 - val_loss: 0.4286 - val_accuracy: 0.8461\n",
            "Epoch 20/20\n",
            "1875/1875 [==============================] - 5s 3ms/step - loss: 0.3454 - accuracy: 0.8753 - val_loss: 0.4131 - val_accuracy: 0.8556\n"
          ]
        },
        {
          "output_type": "display_data",
          "data": {
            "text/plain": [
              "<Figure size 432x288 with 1 Axes>"
            ],
            "image/png": "[encoded data removed]"
          },
          "metadata": {
            "needs_background": "light"
          }
        },
        {
          "output_type": "display_data",
          "data": {
            "text/plain": [
              "<Figure size 432x288 with 1 Axes>"
            ],
            "image/png": "[encoded data removed]"
          },
          "metadata": {
            "needs_background": "light"
          }
        }
      ]
    },
    {
      "cell_type": "markdown",
      "source": [
        "#Augment the dataset with rotated zoomed, width and height shifts"
      ],
      "metadata": {
        "id": "i0QEP8gtgzUE"
      }
    },
    {
      "cell_type": "code",
      "source": [
        "# use the image data generator from keras to augment the data\n",
        "from keras.preprocessing.image import ImageDataGenerator\n",
        "# setup the generator that will augment the images\n",
        "train_gen = ImageDataGenerator(rotation_range=8,   # rotate\n",
        "                               width_shift_range=0.08,  # width shiift\n",
        "                               shear_range=0.3,   # shear\n",
        "                               height_shift_range=0.08, # height shift\n",
        "                               zoom_range=0.08 )   # zoom\n",
        "\n",
        "\n",
        "import numpy as np\n",
        "# Generate aungemnted images for the training data\n",
        "x_train = np.reshape(x_train, (60000,28,28,1))\n",
        "training_set = train_gen.flow(x_train, y_train, batch_size=x_train.shape[0])\n",
        "\n",
        "# Generate aungemnted images for the test data\n",
        "x_test = np.reshape(x_test, (10000,28,28,1))\n",
        "test_set= train_gen.flow(x_test, y_test, batch_size=x_test.shape[0])\n",
        "\n",
        "# extract the augmented images from the output flow of the generator\n",
        "# add the augmented images generated from the training data to the original training data\n",
        "i = 0\n",
        "for x, y in training_set:\n",
        "  if i < 2:\n",
        "    print(i)\n",
        "    x_train = np.concatenate((x_train, x))\n",
        "    y_train = np.concatenate((y_train, y))\n",
        "    print(x_train.shape)\n",
        "    print(y_train.shape)\n",
        "  else:\n",
        "    break\n",
        "  i += 1\n",
        "\n",
        "# add the augmented images generated from the test data to the original test data\n",
        "i = 0\n",
        "for x, y in test_set:\n",
        "  if i < 2:\n",
        "    print(i)\n",
        "    x_test_aug = np.concatenate((x_test, x))\n",
        "    y_test_aug = np.concatenate((y_test, y))\n",
        "    print(x_test.shape)\n",
        "    print(y_test.shape)\n",
        "  else:\n",
        "    break\n",
        "  i += 1\n",
        "     "
      ],
      "metadata": {
        "colab": {
          "base_uri": "https://localhost:8080/"
        },
        "id": "9fMVTpo4avwN",
        "outputId": "62588aa6-52c5-4cee-dc8a-9d34f70a8707"
      },
      "execution_count": 5,
      "outputs": [
        {
          "output_type": "stream",
          "name": "stdout",
          "text": [
            "0\n",
            "(120000, 28, 28, 1)\n",
            "(120000, 10)\n",
            "1\n",
            "(180000, 28, 28, 1)\n",
            "(180000, 10)\n",
            "0\n",
            "(10000, 28, 28, 1)\n",
            "(10000, 10)\n",
            "1\n",
            "(10000, 28, 28, 1)\n",
            "(10000, 10)\n"
          ]
        }
      ]
    },
    {
      "cell_type": "markdown",
      "source": [
        "#Create, compile and fit the model with the augmented fashion_mnist data"
      ],
      "metadata": {
        "id": "fNIGoiG1jcbs"
      }
    },
    {
      "cell_type": "code",
      "source": [
        "# same as code above to create, compile and fit the model but now using the new augmented data\n",
        "from keras import layers\n",
        "from keras import Sequential\n",
        "from keras.layers import Dense\n",
        "model = keras.Sequential()\n",
        "model.add(keras.layers.Flatten(input_shape=(28, 28)))\n",
        "model.add(Dense(units=10, activation='relu'))\n",
        "model.add(Dense(units=10, activation='softmax'))\n",
        "\n",
        "model.compile(optimizer = 'adam', loss = 'categorical_crossentropy', metrics = ['accuracy'])\n",
        "\n",
        "history = model.fit(x_train, y_train, epochs = 20, validation_data = (x_test, y_test))\n",
        "\n",
        "# plot the history of the training\n",
        "import matplotlib.pyplot as plt\n",
        "\n",
        "# summarize the history for accuracy\n",
        "plt.plot(history.history['accuracy'])\n",
        "plt.plot(history.history['val_accuracy'])\n",
        "plt.title('model accuracy')\n",
        "plt.ylabel('accuracy')\n",
        "plt.xlabel('epoch')\n",
        "plt.legend(['train','test'], loc='upper left')\n",
        "plt.show()\n",
        "\n",
        "# summarize the history for loss\n",
        "plt.plot(history.history['loss'])\n",
        "plt.plot(history.history['val_loss'])\n",
        "plt.title('model loss')\n",
        "plt.ylabel('loss')\n",
        "plt.xlabel('epoch')\n",
        "plt.legend(['train','test'], loc='upper left')\n",
        "plt.show()"
      ],
      "metadata": {
        "colab": {
          "base_uri": "https://localhost:8080/",
          "height": 1000
        },
        "id": "XIEhpVAJhIng",
        "outputId": "d9b12310-8b8d-41fe-a738-91bc48d78279"
      },
      "execution_count": 6,
      "outputs": [
        {
          "output_type": "stream",
          "name": "stdout",
          "text": [
            "Epoch 1/20\n",
            "5625/5625 [==============================] - 13s 2ms/step - loss: 0.7210 - accuracy: 0.7381 - val_loss: 0.5072 - val_accuracy: 0.8248\n",
            "Epoch 2/20\n",
            "5625/5625 [==============================] - 12s 2ms/step - loss: 0.6063 - accuracy: 0.7815 - val_loss: 0.4949 - val_accuracy: 0.8270\n",
            "Epoch 3/20\n",
            "5625/5625 [==============================] - 13s 2ms/step - loss: 0.5823 - accuracy: 0.7898 - val_loss: 0.4752 - val_accuracy: 0.8328\n",
            "Epoch 4/20\n",
            "5625/5625 [==============================] - 12s 2ms/step - loss: 0.5697 - accuracy: 0.7944 - val_loss: 0.4706 - val_accuracy: 0.8343\n",
            "Epoch 5/20\n",
            "5625/5625 [==============================] - 12s 2ms/step - loss: 0.5626 - accuracy: 0.7956 - val_loss: 0.4518 - val_accuracy: 0.8410\n",
            "Epoch 6/20\n",
            "5625/5625 [==============================] - 13s 2ms/step - loss: 0.5566 - accuracy: 0.7985 - val_loss: 0.4640 - val_accuracy: 0.8380\n",
            "Epoch 7/20\n",
            "5625/5625 [==============================] - 12s 2ms/step - loss: 0.5529 - accuracy: 0.7997 - val_loss: 0.4506 - val_accuracy: 0.8416\n",
            "Epoch 8/20\n",
            "5625/5625 [==============================] - 12s 2ms/step - loss: 0.5486 - accuracy: 0.8010 - val_loss: 0.4557 - val_accuracy: 0.8356\n",
            "Epoch 9/20\n",
            "5625/5625 [==============================] - 12s 2ms/step - loss: 0.5456 - accuracy: 0.8022 - val_loss: 0.4572 - val_accuracy: 0.8417\n",
            "Epoch 10/20\n",
            "5625/5625 [==============================] - 13s 2ms/step - loss: 0.5431 - accuracy: 0.8029 - val_loss: 0.4727 - val_accuracy: 0.8284\n",
            "Epoch 11/20\n",
            "5625/5625 [==============================] - 12s 2ms/step - loss: 0.5407 - accuracy: 0.8034 - val_loss: 0.4459 - val_accuracy: 0.8440\n",
            "Epoch 12/20\n",
            "5625/5625 [==============================] - 12s 2ms/step - loss: 0.5384 - accuracy: 0.8043 - val_loss: 0.4409 - val_accuracy: 0.8447\n",
            "Epoch 13/20\n",
            "5625/5625 [==============================] - 13s 2ms/step - loss: 0.5363 - accuracy: 0.8057 - val_loss: 0.4412 - val_accuracy: 0.8449\n",
            "Epoch 14/20\n",
            "5625/5625 [==============================] - 12s 2ms/step - loss: 0.5350 - accuracy: 0.8054 - val_loss: 0.4369 - val_accuracy: 0.8445\n",
            "Epoch 15/20\n",
            "5625/5625 [==============================] - 12s 2ms/step - loss: 0.5333 - accuracy: 0.8058 - val_loss: 0.4492 - val_accuracy: 0.8419\n",
            "Epoch 16/20\n",
            "5625/5625 [==============================] - 13s 2ms/step - loss: 0.5320 - accuracy: 0.8068 - val_loss: 0.4404 - val_accuracy: 0.8484\n",
            "Epoch 17/20\n",
            "5625/5625 [==============================] - 11s 2ms/step - loss: 0.5300 - accuracy: 0.8071 - val_loss: 0.4348 - val_accuracy: 0.8455\n",
            "Epoch 18/20\n",
            "5625/5625 [==============================] - 12s 2ms/step - loss: 0.5282 - accuracy: 0.8080 - val_loss: 0.4400 - val_accuracy: 0.8450\n",
            "Epoch 19/20\n",
            "5625/5625 [==============================] - 12s 2ms/step - loss: 0.5283 - accuracy: 0.8078 - val_loss: 0.4396 - val_accuracy: 0.8474\n",
            "Epoch 20/20\n",
            "5625/5625 [==============================] - 13s 2ms/step - loss: 0.5265 - accuracy: 0.8086 - val_loss: 0.4330 - val_accuracy: 0.8487\n"
          ]
        },
        {
          "output_type": "display_data",
          "data": {
            "text/plain": [
              "<Figure size 432x288 with 1 Axes>"
            ],
            "image/png": "[encoded data removed]"
          },
          "metadata": {
            "needs_background": "light"
          }
        },
        {
          "output_type": "display_data",
          "data": {
            "text/plain": [
              "<Figure size 432x288 with 1 Axes>"
            ],
            "image/png": "[encoded data removed]"
          },
          "metadata": {
            "needs_background": "light"
          }
        }
      ]
    },
    {
      "cell_type": "markdown",
      "source": [
        "#Setup the Early Stopping callback"
      ],
      "metadata": {
        "id": "a8FHbWbRpyen"
      }
    },
    {
      "cell_type": "code",
      "source": [
        "# create the model\n",
        "model = Sequential() \n",
        "model.add(Dense(units=10, input_dim=4, activation='relu'))\n",
        "model.add(Dense(units=10, activation='relu'))\n",
        "model.add(Dense(units=3, activation='softmax'))\n",
        "model.summary()\n",
        "\n",
        "# Compile the model\n",
        "model.compile(loss='categorical_crossentropy', optimizer='adam', metrics=['accuracy'])"
      ],
      "metadata": {
        "colab": {
          "base_uri": "https://localhost:8080/"
        },
        "id": "jNTmLpaAjaZw",
        "outputId": "686919be-4e18-4f9c-db55-68c80c9df51f"
      },
      "execution_count": 7,
      "outputs": [
        {
          "output_type": "stream",
          "name": "stdout",
          "text": [
            "Model: \"sequential_2\"\n",
            "_________________________________________________________________\n",
            " Layer (type)                Output Shape              Param #   \n",
            "=================================================================\n",
            " dense_4 (Dense)             (None, 10)                50        \n",
            "                                                                 \n",
            " dense_5 (Dense)             (None, 10)                110       \n",
            "                                                                 \n",
            " dense_6 (Dense)             (None, 3)                 33        \n",
            "                                                                 \n",
            "=================================================================\n",
            "Total params: 193\n",
            "Trainable params: 193\n",
            "Non-trainable params: 0\n",
            "_________________________________________________________________\n"
          ]
        }
      ]
    },
    {
      "cell_type": "code",
      "source": [
        "from tensorflow.keras import Sequential\n",
        "from tensorflow.keras.layers import Dense, Flatten\n",
        "\n",
        "# build the model\n",
        "def model_builder(hp):\n",
        "  model = tf.keras.Sequential()\n",
        "  # specify the input layer separately to the first layer\n",
        "  model.add(tf.keras.layers.Flatten(input_shape=(28, 28)))\n",
        "\n",
        "  # Tune the number of units in the first Dense layer\n",
        "  # Specify a change in the number of units in this layer \n",
        "  # from 32 to 512 in steps of 32\n",
        "  # We have specified the name of this hyperparameter as 'hidden_layer_1_units'\n",
        "  # this name will appear in the output text when running tuner.search function later on\n",
        "  hp_units = hp.Int('hidden_layer_1_units', min_value = 32, max_value = 512, step = 32)\n",
        "  # specify the range of units (hp_units) as the units input parameter to this layer of the model\n",
        "  model.add(Dense(units=hp_units, activation='relu'))\n",
        "\n",
        "  hp_units = hp.Int('hidden_layer_2_units', min_value = 64, max_value = 128, step = 32)\n",
        "  # specify the range of units (hp_units) as the units input parameter to this layer of the model\n",
        "  model.add(Dense(units=hp_units, activation='relu'))\n",
        "\n",
        "  # Specify the output layer\n",
        "  model.add(Dense(units=10, activation='softmax'))\n",
        "\n",
        "  # set the optimiser in the compile method\n",
        "  model.compile(optimizer = 'adam', loss = 'categorical_crossentropy', metrics = ['accuracy'])\n",
        "  \n",
        "  return model"
      ],
      "metadata": {
        "id": "0kz1xJ8qqNPI"
      },
      "execution_count": 8,
      "outputs": []
    },
    {
      "cell_type": "code",
      "source": [
        "# instatiate the tuner and perform hypertuning\n",
        "tuner = kt.Hyperband(model_builder,\n",
        "                     objective = 'val_accuracy', \n",
        "                     max_epochs = 10,\n",
        "                     factor = 3,            # factor is a number that determines how many models are created to run in parallel whaen testing the hyperparameters\n",
        "                     directory = 'my_dir', # directory that the tuned hyperparameter results are stored in (change the name of this directory if you get the message INFO:tensorflow:Oracle triggered exit)\n",
        "                     project_name = 'intro_to_kt') \n",
        "     "
      ],
      "metadata": {
        "id": "WK7eeEeRqix9"
      },
      "execution_count": 9,
      "outputs": []
    },
    {
      "cell_type": "code",
      "source": [
        "# define a callback to clear the training outputs at the end of every training step\n",
        "class ClearTrainingOutput(tf.keras.callbacks.Callback):\n",
        "  def on_train_end(*args, **kwargs):\n",
        "    IPython.display.clear_output(wait = True)"
      ],
      "metadata": {
        "id": "ML5He-njqzLk"
      },
      "execution_count": 10,
      "outputs": []
    },
    {
      "cell_type": "code",
      "source": [
        "import IPython\n",
        "# run the hyperparameter search\n",
        "tuner.search(x_train, y_train, epochs = 10, validation_data = (x_test, y_test), callbacks = [ClearTrainingOutput()])"
      ],
      "metadata": {
        "id": "kuSVogbmu5Xe",
        "colab": {
          "base_uri": "https://localhost:8080/"
        },
        "outputId": "6e86f096-429c-4bcb-be97-44c7936f67d2"
      },
      "execution_count": 16,
      "outputs": [
        {
          "output_type": "stream",
          "name": "stdout",
          "text": [
            "Trial 42 Complete [00h 05m 24s]\n",
            "val_accuracy: 0.8870999813079834\n",
            "\n",
            "Best val_accuracy So Far: 0.8903999924659729\n",
            "Total elapsed time: 01h 35m 51s\n"
          ]
        }
      ]
    },
    {
      "cell_type": "code",
      "source": [
        "# print out the hyperparameters keras tuner has determined to be the best values\n",
        "best_hps = tuner.get_best_hyperparameters()[0]\n",
        "print(best_hps.values)"
      ],
      "metadata": {
        "colab": {
          "base_uri": "https://localhost:8080/"
        },
        "id": "b8fD2byFu_o5",
        "outputId": "2fb4f321-1d18-49b4-f930-6c181bf341e0"
      },
      "execution_count": 12,
      "outputs": [
        {
          "output_type": "stream",
          "name": "stdout",
          "text": [
            "{'hidden_layer_1_units': 384, 'hidden_layer_2_units': 128, 'tuner/epochs': 10, 'tuner/initial_epoch': 4, 'tuner/bracket': 2, 'tuner/round': 2, 'tuner/trial_id': '0013'}\n"
          ]
        }
      ]
    },
    {
      "cell_type": "code",
      "source": [
        "# set the model to have the optimum hyperparameters and print the summary so we can see the \n",
        "model = tuner.hypermodel.build(best_hps)\n",
        "model.summary()"
      ],
      "metadata": {
        "colab": {
          "base_uri": "https://localhost:8080/"
        },
        "id": "DZOGxkfFvI6a",
        "outputId": "d403bdce-cf47-43b5-f489-f862ae0ad538"
      },
      "execution_count": 13,
      "outputs": [
        {
          "output_type": "stream",
          "name": "stdout",
          "text": [
            "Model: \"sequential_1\"\n",
            "_________________________________________________________________\n",
            " Layer (type)                Output Shape              Param #   \n",
            "=================================================================\n",
            " flatten_1 (Flatten)         (None, 784)               0         \n",
            "                                                                 \n",
            " dense_3 (Dense)             (None, 384)               301440    \n",
            "                                                                 \n",
            " dense_4 (Dense)             (None, 128)               49280     \n",
            "                                                                 \n",
            " dense_5 (Dense)             (None, 10)                1290      \n",
            "                                                                 \n",
            "=================================================================\n",
            "Total params: 352,010\n",
            "Trainable params: 352,010\n",
            "Non-trainable params: 0\n",
            "_________________________________________________________________\n"
          ]
        }
      ]
    },
    {
      "cell_type": "code",
      "source": [
        "\n",
        "# train the model as usual\n",
        "history = model.fit(x_train, y_train, epochs = 10, validation_data = (x_test, y_test))"
      ],
      "metadata": {
        "colab": {
          "base_uri": "https://localhost:8080/"
        },
        "id": "VOzkBnu3vMcx",
        "outputId": "b79ba60c-a97f-4ded-f700-862ff58e47dd"
      },
      "execution_count": 14,
      "outputs": [
        {
          "output_type": "stream",
          "name": "stdout",
          "text": [
            "Epoch 1/10\n",
            "5625/5625 [==============================] - 41s 7ms/step - loss: 0.5403 - accuracy: 0.7968 - val_loss: 0.3815 - val_accuracy: 0.8614\n",
            "Epoch 2/10\n",
            "5625/5625 [==============================] - 40s 7ms/step - loss: 0.4265 - accuracy: 0.8392 - val_loss: 0.3595 - val_accuracy: 0.8710\n",
            "Epoch 3/10\n",
            "5625/5625 [==============================] - 39s 7ms/step - loss: 0.3909 - accuracy: 0.8517 - val_loss: 0.3498 - val_accuracy: 0.8714\n",
            "Epoch 4/10\n",
            "5625/5625 [==============================] - 41s 7ms/step - loss: 0.3672 - accuracy: 0.8599 - val_loss: 0.3344 - val_accuracy: 0.8788\n",
            "Epoch 5/10\n",
            "5625/5625 [==============================] - 39s 7ms/step - loss: 0.3493 - accuracy: 0.8667 - val_loss: 0.3422 - val_accuracy: 0.8792\n",
            "Epoch 6/10\n",
            "5625/5625 [==============================] - 40s 7ms/step - loss: 0.3361 - accuracy: 0.8715 - val_loss: 0.3305 - val_accuracy: 0.8817\n",
            "Epoch 7/10\n",
            "5625/5625 [==============================] - 41s 7ms/step - loss: 0.3252 - accuracy: 0.8760 - val_loss: 0.3453 - val_accuracy: 0.8799\n",
            "Epoch 8/10\n",
            "5625/5625 [==============================] - 40s 7ms/step - loss: 0.3146 - accuracy: 0.8791 - val_loss: 0.3290 - val_accuracy: 0.8815\n",
            "Epoch 9/10\n",
            "5625/5625 [==============================] - 39s 7ms/step - loss: 0.3054 - accuracy: 0.8823 - val_loss: 0.3533 - val_accuracy: 0.8795\n",
            "Epoch 10/10\n",
            "5625/5625 [==============================] - 40s 7ms/step - loss: 0.2973 - accuracy: 0.8863 - val_loss: 0.3262 - val_accuracy: 0.8889\n"
          ]
        }
      ]
    },
    {
      "cell_type": "code",
      "source": [
        "1# plot the history of the training\n",
        "import matplotlib.pyplot as plt\n",
        "\n",
        "# summarize the history for accuracy\n",
        "plt.plot(history.history['accuracy'])\n",
        "plt.plot(history.history['val_accuracy'])\n",
        "plt.title('model accuracy')\n",
        "plt.ylabel('accuracy')\n",
        "plt.xlabel('epoch')\n",
        "plt.legend(['train','test'], loc='upper left')\n",
        "plt.show()\n",
        "\n",
        "# summarize the history for loss\n",
        "plt.plot(history.history['loss'])\n",
        "plt.plot(history.history['val_loss'])\n",
        "plt.title('model loss')\n",
        "plt.ylabel('loss')\n",
        "plt.xlabel('epoch')\n",
        "plt.legend(['train','test'], loc='upper left')\n",
        "plt.show()"
      ],
      "metadata": {
        "colab": {
          "base_uri": "https://localhost:8080/",
          "height": 573
        },
        "id": "eSh-0VIZvR50",
        "outputId": "9ea1108e-d130-4cae-bd46-0caf973ca8bc"
      },
      "execution_count": 15,
      "outputs": [
        {
          "output_type": "display_data",
          "data": {
            "text/plain": [
              "<Figure size 432x288 with 1 Axes>"
            ],
            "image/png": "[encoded data removed]"
          },
          "metadata": {
            "needs_background": "light"
          }
        },
        {
          "output_type": "display_data",
          "data": {
            "text/plain": [
              "<Figure size 432x288 with 1 Axes>"
            ],
            "image/png": "[encoded data removed]"
          },
          "metadata": {
            "needs_background": "light"
          }
        }
      ]
    }
  ]
}