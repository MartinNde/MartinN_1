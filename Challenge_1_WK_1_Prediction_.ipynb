{
  "nbformat": 4,
  "nbformat_minor": 0,
  "metadata": {
    "colab": {
      "provenance": [],
      "authorship_tag": "ABX9TyNYnPPgGLT8GocFmpAYFAfV",
      "include_colab_link": true
    },
    "kernelspec": {
      "name": "python3",
      "display_name": "Python 3"
    },
    "language_info": {
      "name": "python"
    }
  },
  "cells": [
    {
      "cell_type": "markdown",
      "metadata": {
        "id": "view-in-github",
        "colab_type": "text"
      },
      "source": [
        "<a href=\"https://colab.research.google.com/github/MartinNde/MartinN_1/blob/main/Challenge_1_WK_1_Prediction_.ipynb\" target=\"_parent\"><img src=\"https://colab.research.google.com/assets/colab-badge.svg\" alt=\"Open In Colab\"/></a>"
      ]
    },
    {
      "cell_type": "markdown",
      "source": [
        "#Importing the Dataset and some useful libraries "
      ],
      "metadata": {
        "id": "ajs0JCbIlCQS"
      }
    },
    {
      "cell_type": "code",
      "source": [
        "!pip install keras-tuner"
      ],
      "metadata": {
        "id": "oBhQIPT1lNQu"
      },
      "execution_count": null,
      "outputs": []
    },
    {
      "cell_type": "code",
      "execution_count": 21,
      "metadata": {
        "colab": {
          "base_uri": "https://localhost:8080/"
        },
        "id": "3U97wiADko8j",
        "outputId": "502c04b9-4fa3-4ca8-f66b-c625594ce0f1"
      },
      "outputs": [
        {
          "output_type": "stream",
          "name": "stderr",
          "text": [
            "<ipython-input-21-a085f2bddb81>:6: DeprecationWarning: `import kerastuner` is deprecated, please use `import keras_tuner`.\n",
            "  import kerastuner as kt\n"
          ]
        }
      ],
      "source": [
        "# load the mnist dataset from keras\n",
        "\n",
        "import tensorflow as tf\n",
        "from tensorflow import keras\n",
        "from keras import datasets\n",
        "import kerastuner as kt\n",
        "tf.keras.datasets.fashion_mnist.load_data()\n",
        "from sklearn.preprocessing import normalize\n",
        "from sklearn.model_selection import train_test_split\n",
        "from tensorflow.keras import utils\n",
        "from tensorflow.keras.models import Sequential\n",
        "from tensorflow.keras.layers import Dense\n",
        "import matplotlib.pyplot as plt\n",
        "from keras.layers import Flatten\n",
        "from keras.models import Sequential\n",
        "from keras.layers import Flatten, Dense\n",
        "\n",
        "(x_train, y_train), (x_test, y_test) = keras.datasets.fashion_mnist.load_data()\n",
        "\n",
        "# Normalize pixel values between 0 and 1\n",
        "x_train = x_train.astype('float32') / 255.0\n",
        "x_test = x_test.astype('float32') / 255.0\n",
        "\n",
        "assert x_train.shape == (60000, 28, 28)\n",
        "assert x_test.shape == (10000, 28, 28)\n",
        "assert y_train.shape == (60000,)\n",
        "assert y_test.shape == (10000,)\n",
        "\n",
        "# apply one-hot-encoding to the output data\n",
        "y_train = tf.keras.utils.to_categorical(y_train, 10)\n",
        "y_test = tf.keras.utils.to_categorical(y_test, 10)"
      ]
    },
    {
      "cell_type": "markdown",
      "source": [
        "##View the data"
      ],
      "metadata": {
        "id": "91WVkpfHYz__"
      }
    },
    {
      "cell_type": "code",
      "source": [
        "import matplotlib.pyplot as plt\n",
        "\n",
        "# Select the first image in the training set\n",
        "image = x_train[0]\n",
        "label = y_train[0]\n",
        "\n",
        "# Display the image and its label\n",
        "plt.imshow(image, cmap='gray')\n",
        "plt.title(f'Label: {label}')\n",
        "plt.show()\n"
      ],
      "metadata": {
        "colab": {
          "base_uri": "https://localhost:8080/",
          "height": 281
        },
        "id": "p7eBgIURobpO",
        "outputId": "94a4fa05-b269-408d-edc0-2f77d15ba64e"
      },
      "execution_count": 3,
      "outputs": [
        {
          "output_type": "display_data",
          "data": {
            "text/plain": [
              "<Figure size 432x288 with 1 Axes>"
            ],
            "image/png": "[encoded data removed]"
          },
          "metadata": {
            "needs_background": "light"
          }
        }
      ]
    },
    {
      "cell_type": "markdown",
      "source": [
        "#Create, Compile and fit the model and plot the accuracy and loss"
      ],
      "metadata": {
        "id": "MtDBqcVIoMYK"
      }
    },
    {
      "cell_type": "code",
      "source": [
        "# Create, compile and fit the model with the original MNIST data\n",
        "from keras import layers\n",
        "from keras import Sequential\n",
        "from keras.layers import Dense\n",
        "model = keras.Sequential()\n",
        "model.add(keras.layers.Flatten(input_shape=(28, 28)))\n",
        "model.add(Dense(units=10, activation='relu'))\n",
        "model.add(Dense(units=10, activation='softmax'))\n",
        "\n",
        "model.compile(optimizer = 'adam', loss = 'categorical_crossentropy', metrics = ['accuracy'])\n",
        "\n",
        "history = model.fit(x_train, y_train, epochs = 20, validation_data = (x_test, y_test))\n",
        "\n",
        "# plot the history of the training\n",
        "import matplotlib.pyplot as plt\n",
        "\n",
        "# summarize the history for accuracy\n",
        "plt.plot(history.history['accuracy'])\n",
        "plt.plot(history.history['val_accuracy'])\n",
        "plt.title('model accuracy')\n",
        "plt.ylabel('accuracy')\n",
        "plt.xlabel('epoch')\n",
        "plt.legend(['train','test'], loc='upper left')\n",
        "plt.show()\n",
        "\n",
        "# summarize the history for loss\n",
        "plt.plot(history.history['loss'])\n",
        "plt.plot(history.history['val_loss'])\n",
        "plt.title('model loss')\n",
        "plt.ylabel('loss')\n",
        "plt.xlabel('epoch')\n",
        "plt.legend(['train','test'], loc='upper left')\n",
        "plt.show()"
      ],
      "metadata": {
        "colab": {
          "base_uri": "https://localhost:8080/",
          "height": 1000
        },
        "id": "nHJkEEbkYedW",
        "outputId": "2b3b71a8-4e40-4b20-9c64-369d4aad054b"
      },
      "execution_count": 4,
      "outputs": [
        {
          "output_type": "stream",
          "name": "stdout",
          "text": [
            "Epoch 1/20\n",
            "1875/1875 [==============================] - 8s 4ms/step - loss: 0.6943 - accuracy: 0.7598 - val_loss: 0.5196 - val_accuracy: 0.8209\n",
            "Epoch 2/20\n",
            "1875/1875 [==============================] - 11s 6ms/step - loss: 0.4777 - accuracy: 0.8346 - val_loss: 0.4923 - val_accuracy: 0.8267\n",
            "Epoch 3/20\n",
            "1875/1875 [==============================] - 7s 4ms/step - loss: 0.4465 - accuracy: 0.8460 - val_loss: 0.4661 - val_accuracy: 0.8392\n",
            "Epoch 4/20\n",
            "1875/1875 [==============================] - 5s 2ms/step - loss: 0.4300 - accuracy: 0.8504 - val_loss: 0.4642 - val_accuracy: 0.8385\n",
            "Epoch 5/20\n",
            "1875/1875 [==============================] - 5s 3ms/step - loss: 0.4198 - accuracy: 0.8550 - val_loss: 0.4476 - val_accuracy: 0.8449\n",
            "Epoch 6/20\n",
            "1875/1875 [==============================] - 6s 3ms/step - loss: 0.4118 - accuracy: 0.8575 - val_loss: 0.4429 - val_accuracy: 0.8472\n",
            "Epoch 7/20\n",
            "1875/1875 [==============================] - 4s 2ms/step - loss: 0.4047 - accuracy: 0.8602 - val_loss: 0.4407 - val_accuracy: 0.8465\n",
            "Epoch 8/20\n",
            "1875/1875 [==============================] - 6s 3ms/step - loss: 0.3977 - accuracy: 0.8617 - val_loss: 0.4444 - val_accuracy: 0.8448\n",
            "Epoch 9/20\n",
            "1875/1875 [==============================] - 4s 2ms/step - loss: 0.3927 - accuracy: 0.8627 - val_loss: 0.4322 - val_accuracy: 0.8488\n",
            "Epoch 10/20\n",
            "1875/1875 [==============================] - 4s 2ms/step - loss: 0.3856 - accuracy: 0.8659 - val_loss: 0.4269 - val_accuracy: 0.8524\n",
            "Epoch 11/20\n",
            "1875/1875 [==============================] - 6s 3ms/step - loss: 0.3798 - accuracy: 0.8681 - val_loss: 0.4225 - val_accuracy: 0.8534\n",
            "Epoch 12/20\n",
            "1875/1875 [==============================] - 4s 2ms/step - loss: 0.3766 - accuracy: 0.8686 - val_loss: 0.4278 - val_accuracy: 0.8518\n",
            "Epoch 13/20\n",
            "1875/1875 [==============================] - 5s 3ms/step - loss: 0.3728 - accuracy: 0.8695 - val_loss: 0.4311 - val_accuracy: 0.8474\n",
            "Epoch 14/20\n",
            "1875/1875 [==============================] - 5s 3ms/step - loss: 0.3704 - accuracy: 0.8712 - val_loss: 0.4216 - val_accuracy: 0.8537\n",
            "Epoch 15/20\n",
            "1875/1875 [==============================] - 4s 2ms/step - loss: 0.3662 - accuracy: 0.8710 - val_loss: 0.4169 - val_accuracy: 0.8547\n",
            "Epoch 16/20\n",
            "1875/1875 [==============================] - 5s 3ms/step - loss: 0.3657 - accuracy: 0.8713 - val_loss: 0.4215 - val_accuracy: 0.8528\n",
            "Epoch 17/20\n",
            "1875/1875 [==============================] - 4s 2ms/step - loss: 0.3643 - accuracy: 0.8720 - val_loss: 0.4382 - val_accuracy: 0.8501\n",
            "Epoch 18/20\n",
            "1875/1875 [==============================] - 4s 2ms/step - loss: 0.3609 - accuracy: 0.8717 - val_loss: 0.4150 - val_accuracy: 0.8565\n",
            "Epoch 19/20\n",
            "1875/1875 [==============================] - 6s 3ms/step - loss: 0.3589 - accuracy: 0.8737 - val_loss: 0.4276 - val_accuracy: 0.8488\n",
            "Epoch 20/20\n",
            "1875/1875 [==============================] - 4s 2ms/step - loss: 0.3578 - accuracy: 0.8734 - val_loss: 0.4189 - val_accuracy: 0.8548\n"
          ]
        },
        {
          "output_type": "display_data",
          "data": {
            "text/plain": [
              "<Figure size 432x288 with 1 Axes>"
            ],
            "image/png": "[encoded data removed]"
          },
          "metadata": {
            "needs_background": "light"
          }
        },
        {
          "output_type": "display_data",
          "data": {
            "text/plain": [
              "<Figure size 432x288 with 1 Axes>"
            ],
            "image/png": "[encoded data removed]"
          },
          "metadata": {
            "needs_background": "light"
          }
        }
      ]
    },
    {
      "cell_type": "markdown",
      "source": [
        "#Augment the dataset with rotated zoomed, with and height shifts"
      ],
      "metadata": {
        "id": "i0QEP8gtgzUE"
      }
    },
    {
      "cell_type": "code",
      "source": [
        "# use the image data generator from keras to augment the data\n",
        "from keras.preprocessing.image import ImageDataGenerator\n",
        "# setup the generator that will augment the images\n",
        "train_gen = ImageDataGenerator(rotation_range=8,   # rotate\n",
        "                               width_shift_range=0.08,  # width shiift\n",
        "                               shear_range=0.3,   # shear\n",
        "                               height_shift_range=0.08, # height shift\n",
        "                               zoom_range=0.08 )   # zoom\n",
        "\n",
        "\n",
        "import numpy as np\n",
        "# Generate aungemnted images for the training data\n",
        "x_train = np.reshape(x_train, (60000,28,28,1))\n",
        "training_set = train_gen.flow(x_train, y_train, batch_size=x_train.shape[0])\n",
        "\n",
        "# Generate aungemnted images for the test data\n",
        "x_test = np.reshape(x_test, (10000,28,28,1))\n",
        "test_set= train_gen.flow(x_test, y_test, batch_size=x_test.shape[0])\n",
        "\n",
        "# extract the augmented images from the output flow of the generator\n",
        "# add the augmented images generated from the training data to the original training data\n",
        "i = 0\n",
        "for x, y in training_set:\n",
        "  if i < 2:\n",
        "    print(i)\n",
        "    x_train = np.concatenate((x_train, x))\n",
        "    y_train = np.concatenate((y_train, y))\n",
        "    print(x_train.shape)\n",
        "    print(y_train.shape)\n",
        "  else:\n",
        "    break\n",
        "  i += 1\n",
        "\n",
        "# add the augmented images generated from the test data to the original test data\n",
        "i = 0\n",
        "for x, y in test_set:\n",
        "  if i < 2:\n",
        "    print(i)\n",
        "    x_test_aug = np.concatenate((x_test, x))\n",
        "    y_test_aug = np.concatenate((y_test, y))\n",
        "    print(x_test.shape)\n",
        "    print(y_test.shape)\n",
        "  else:\n",
        "    break\n",
        "  i += 1\n",
        "     "
      ],
      "metadata": {
        "colab": {
          "base_uri": "https://localhost:8080/"
        },
        "id": "9fMVTpo4avwN",
        "outputId": "e876566d-c0a3-41e7-96cb-51def2b2120c"
      },
      "execution_count": 5,
      "outputs": [
        {
          "output_type": "stream",
          "name": "stdout",
          "text": [
            "0\n",
            "(120000, 28, 28, 1)\n",
            "(120000, 10)\n",
            "1\n",
            "(180000, 28, 28, 1)\n",
            "(180000, 10)\n",
            "0\n",
            "(10000, 28, 28, 1)\n",
            "(10000, 10)\n",
            "1\n",
            "(10000, 28, 28, 1)\n",
            "(10000, 10)\n"
          ]
        }
      ]
    },
    {
      "cell_type": "markdown",
      "source": [
        "#Create, compile and fit the model with the augmented fashion_mnist data"
      ],
      "metadata": {
        "id": "fNIGoiG1jcbs"
      }
    },
    {
      "cell_type": "code",
      "source": [
        "# same as code above to create, compile and fit the model but now using the new augmented data\n",
        "from keras import layers\n",
        "from keras import Sequential\n",
        "from keras.layers import Dense\n",
        "model = keras.Sequential()\n",
        "model.add(keras.layers.Flatten(input_shape=(28, 28)))\n",
        "model.add(Dense(units=10, activation='relu'))\n",
        "model.add(Dense(units=10, activation='softmax'))\n",
        "\n",
        "model.compile(optimizer = 'adam', loss = 'categorical_crossentropy', metrics = ['accuracy'])\n",
        "\n",
        "history = model.fit(x_train, y_train, epochs = 20, validation_data = (x_test, y_test))\n",
        "\n",
        "# plot the history of the training\n",
        "import matplotlib.pyplot as plt\n",
        "\n",
        "# summarize the history for accuracy\n",
        "plt.plot(history.history['accuracy'])\n",
        "plt.plot(history.history['val_accuracy'])\n",
        "plt.title('model accuracy')\n",
        "plt.ylabel('accuracy')\n",
        "plt.xlabel('epoch')\n",
        "plt.legend(['train','test'], loc='upper left')\n",
        "plt.show()\n",
        "\n",
        "# summarize the history for loss\n",
        "plt.plot(history.history['loss'])\n",
        "plt.plot(history.history['val_loss'])\n",
        "plt.title('model loss')\n",
        "plt.ylabel('loss')\n",
        "plt.xlabel('epoch')\n",
        "plt.legend(['train','test'], loc='upper left')\n",
        "plt.show()"
      ],
      "metadata": {
        "colab": {
          "base_uri": "https://localhost:8080/",
          "height": 1000
        },
        "id": "XIEhpVAJhIng",
        "outputId": "6b855e23-48b7-4dcb-a796-ecf1474d0d50"
      },
      "execution_count": 6,
      "outputs": [
        {
          "output_type": "stream",
          "name": "stdout",
          "text": [
            "Epoch 1/20\n",
            "5625/5625 [==============================] - 14s 2ms/step - loss: 0.7205 - accuracy: 0.7407 - val_loss: 0.5255 - val_accuracy: 0.8227\n",
            "Epoch 2/20\n",
            "5625/5625 [==============================] - 14s 2ms/step - loss: 0.6174 - accuracy: 0.7787 - val_loss: 0.5136 - val_accuracy: 0.8191\n",
            "Epoch 3/20\n",
            "5625/5625 [==============================] - 13s 2ms/step - loss: 0.6003 - accuracy: 0.7856 - val_loss: 0.4923 - val_accuracy: 0.8292\n",
            "Epoch 4/20\n",
            "5625/5625 [==============================] - 13s 2ms/step - loss: 0.5902 - accuracy: 0.7888 - val_loss: 0.4886 - val_accuracy: 0.8317\n",
            "Epoch 5/20\n",
            "5625/5625 [==============================] - 14s 2ms/step - loss: 0.5845 - accuracy: 0.7904 - val_loss: 0.4775 - val_accuracy: 0.8311\n",
            "Epoch 6/20\n",
            "5625/5625 [==============================] - 14s 3ms/step - loss: 0.5800 - accuracy: 0.7920 - val_loss: 0.4800 - val_accuracy: 0.8319\n",
            "Epoch 7/20\n",
            "5625/5625 [==============================] - 13s 2ms/step - loss: 0.5761 - accuracy: 0.7935 - val_loss: 0.4759 - val_accuracy: 0.8322\n",
            "Epoch 8/20\n",
            "5625/5625 [==============================] - 13s 2ms/step - loss: 0.5727 - accuracy: 0.7950 - val_loss: 0.4690 - val_accuracy: 0.8371\n",
            "Epoch 9/20\n",
            "5625/5625 [==============================] - 14s 2ms/step - loss: 0.5695 - accuracy: 0.7964 - val_loss: 0.4693 - val_accuracy: 0.8365\n",
            "Epoch 10/20\n",
            "5625/5625 [==============================] - 14s 2ms/step - loss: 0.5661 - accuracy: 0.7971 - val_loss: 0.4769 - val_accuracy: 0.8322\n",
            "Epoch 11/20\n",
            "5625/5625 [==============================] - 14s 2ms/step - loss: 0.5638 - accuracy: 0.7971 - val_loss: 0.4713 - val_accuracy: 0.8367\n",
            "Epoch 12/20\n",
            "5625/5625 [==============================] - 14s 3ms/step - loss: 0.5615 - accuracy: 0.7973 - val_loss: 0.4691 - val_accuracy: 0.8389\n",
            "Epoch 13/20\n",
            "5625/5625 [==============================] - 14s 2ms/step - loss: 0.5594 - accuracy: 0.7988 - val_loss: 0.4744 - val_accuracy: 0.8325\n",
            "Epoch 14/20\n",
            "5625/5625 [==============================] - 14s 2ms/step - loss: 0.5569 - accuracy: 0.7999 - val_loss: 0.4559 - val_accuracy: 0.8430\n",
            "Epoch 15/20\n",
            "5625/5625 [==============================] - 14s 3ms/step - loss: 0.5554 - accuracy: 0.8001 - val_loss: 0.4606 - val_accuracy: 0.8396\n",
            "Epoch 16/20\n",
            "5625/5625 [==============================] - 13s 2ms/step - loss: 0.5540 - accuracy: 0.8005 - val_loss: 0.4758 - val_accuracy: 0.8308\n",
            "Epoch 17/20\n",
            "5625/5625 [==============================] - 13s 2ms/step - loss: 0.5515 - accuracy: 0.8012 - val_loss: 0.4613 - val_accuracy: 0.8368\n",
            "Epoch 18/20\n",
            "5625/5625 [==============================] - 13s 2ms/step - loss: 0.5511 - accuracy: 0.8011 - val_loss: 0.4686 - val_accuracy: 0.8341\n",
            "Epoch 19/20\n",
            "5625/5625 [==============================] - 13s 2ms/step - loss: 0.5501 - accuracy: 0.8020 - val_loss: 0.4570 - val_accuracy: 0.8388\n",
            "Epoch 20/20\n",
            "5625/5625 [==============================] - 13s 2ms/step - loss: 0.5493 - accuracy: 0.8026 - val_loss: 0.4532 - val_accuracy: 0.8424\n"
          ]
        },
        {
          "output_type": "display_data",
          "data": {
            "text/plain": [
              "<Figure size 432x288 with 1 Axes>"
            ],
            "image/png": "[encoded data removed]"
          },
          "metadata": {
            "needs_background": "light"
          }
        },
        {
          "output_type": "display_data",
          "data": {
            "text/plain": [
              "<Figure size 432x288 with 1 Axes>"
            ],
            "image/png": "[encoded data removed]"
          },
          "metadata": {
            "needs_background": "light"
          }
        }
      ]
    },
    {
      "cell_type": "markdown",
      "source": [
        "#Setup the Early Stopping callback"
      ],
      "metadata": {
        "id": "a8FHbWbRpyen"
      }
    },
    {
      "cell_type": "code",
      "source": [
        "# create the model\n",
        "model = Sequential() \n",
        "model.add(Dense(units=10, input_dim=4, activation='relu'))\n",
        "model.add(Dense(units=10, activation='relu'))\n",
        "model.add(Dense(units=3, activation='softmax'))\n",
        "model.summary()\n",
        "\n",
        "# Compile the model\n",
        "model.compile(loss='categorical_crossentropy', optimizer='adam', metrics=['accuracy'])"
      ],
      "metadata": {
        "colab": {
          "base_uri": "https://localhost:8080/"
        },
        "id": "jNTmLpaAjaZw",
        "outputId": "f08fecba-b465-4316-adeb-e23dda45b339"
      },
      "execution_count": 67,
      "outputs": [
        {
          "output_type": "stream",
          "name": "stdout",
          "text": [
            "Model: \"sequential_8\"\n",
            "_________________________________________________________________\n",
            " Layer (type)                Output Shape              Param #   \n",
            "=================================================================\n",
            " dense_24 (Dense)            (None, 10)                50        \n",
            "                                                                 \n",
            " dense_25 (Dense)            (None, 10)                110       \n",
            "                                                                 \n",
            " dense_26 (Dense)            (None, 3)                 33        \n",
            "                                                                 \n",
            "=================================================================\n",
            "Total params: 193\n",
            "Trainable params: 193\n",
            "Non-trainable params: 0\n",
            "_________________________________________________________________\n"
          ]
        }
      ]
    },
    {
      "cell_type": "code",
      "source": [
        "from tensorflow.keras import Sequential\n",
        "from tensorflow.keras.layers import Dense, Flatten\n",
        "\n",
        "# build the model\n",
        "def model_builder(hp):\n",
        "  model = tf.keras.Sequential()\n",
        "  # specify the input layer separately to the first layer\n",
        "  model.add(tf.keras.layers.Flatten(input_shape=(28, 28)))\n",
        "\n",
        "  # Tune the number of units in the first Dense layer\n",
        "  # Specify a change in the number of units in this layer \n",
        "  # from 32 to 512 in steps of 32\n",
        "  # We have specified the name of this hyperparameter as 'hidden_layer_1_units'\n",
        "  # this name will appear in the output text when running tuner.search function later on\n",
        "  hp_units = hp.Int('hidden_layer_1_units', min_value = 32, max_value = 512, step = 32)\n",
        "  # specify the range of units (hp_units) as the units input parameter to this layer of the model\n",
        "  model.add(Dense(units=hp_units, activation='relu'))\n",
        "\n",
        "  hp_units = hp.Int('hidden_layer_2_units', min_value = 64, max_value = 128, step = 32)\n",
        "  # specify the range of units (hp_units) as the units input parameter to this layer of the model\n",
        "  model.add(Dense(units=hp_units, activation='relu'))\n",
        "\n",
        "  # Specify the output layer\n",
        "  model.add(Dense(units=10, activation='softmax'))\n",
        "\n",
        "  # set the optimiser in the compile method\n",
        "  model.compile(optimizer = 'adam', loss = 'categorical_crossentropy', metrics = ['accuracy'])\n",
        "  \n",
        "  return model"
      ],
      "metadata": {
        "id": "0kz1xJ8qqNPI"
      },
      "execution_count": 59,
      "outputs": []
    },
    {
      "cell_type": "code",
      "source": [
        "# instatiate the tuner and perform hypertuning\n",
        "tuner = kt.Hyperband(model_builder,\n",
        "                     objective = 'val_accuracy', \n",
        "                     max_epochs = 10,\n",
        "                     factor = 3,            # factor is a number that determines how many models are created to run in parallel whaen testing the hyperparameters\n",
        "                     directory = 'my_dir', # directory that the tuned hyperparameter results are stored in (change the name of this directory if you get the message INFO:tensorflow:Oracle triggered exit)\n",
        "                     project_name = 'intro_to_kt') \n",
        "     "
      ],
      "metadata": {
        "id": "WK7eeEeRqix9"
      },
      "execution_count": 60,
      "outputs": []
    },
    {
      "cell_type": "code",
      "source": [
        "# define a callback to clear the training outputs at the end of every training step\n",
        "class ClearTrainingOutput(tf.keras.callbacks.Callback):\n",
        "  def on_train_end(*args, **kwargs):\n",
        "    IPython.display.clear_output(wait = True)"
      ],
      "metadata": {
        "id": "ML5He-njqzLk"
      },
      "execution_count": 61,
      "outputs": []
    },
    {
      "cell_type": "code",
      "source": [
        "import IPython\n",
        "# run the hyperparameter search\n",
        "tuner.search(x_train, y_train, epochs = 10, validation_data = (x_test, y_test), callbacks = [ClearTrainingOutput()])"
      ],
      "metadata": {
        "id": "kuSVogbmu5Xe"
      },
      "execution_count": 62,
      "outputs": []
    },
    {
      "cell_type": "code",
      "source": [
        "# print out the hyperparameters keras tuner has determined to be the best values\n",
        "best_hps = tuner.get_best_hyperparameters()[0]\n",
        "print(best_hps.values)"
      ],
      "metadata": {
        "colab": {
          "base_uri": "https://localhost:8080/"
        },
        "id": "b8fD2byFu_o5",
        "outputId": "a0f184d9-6e9f-4f48-c2fb-daca6b6479d1"
      },
      "execution_count": 63,
      "outputs": [
        {
          "output_type": "stream",
          "name": "stdout",
          "text": [
            "{'hidden_layer_1_units': 416, 'hidden_layer_2_units': 64, 'tuner/epochs': 10, 'tuner/initial_epoch': 4, 'tuner/bracket': 1, 'tuner/round': 1, 'tuner/trial_id': '0020'}\n"
          ]
        }
      ]
    },
    {
      "cell_type": "code",
      "source": [
        "# set the model to have the optimum hyperparameters and print the summary so we can see the \n",
        "model = tuner.hypermodel.build(best_hps)\n",
        "model.summary()"
      ],
      "metadata": {
        "colab": {
          "base_uri": "https://localhost:8080/"
        },
        "id": "DZOGxkfFvI6a",
        "outputId": "e2c3eab7-4cfa-4a9d-93dd-51cc5b041e64"
      },
      "execution_count": 64,
      "outputs": [
        {
          "output_type": "stream",
          "name": "stdout",
          "text": [
            "Model: \"sequential_7\"\n",
            "_________________________________________________________________\n",
            " Layer (type)                Output Shape              Param #   \n",
            "=================================================================\n",
            " flatten_5 (Flatten)         (None, 784)               0         \n",
            "                                                                 \n",
            " dense_21 (Dense)            (None, 416)               326560    \n",
            "                                                                 \n",
            " dense_22 (Dense)            (None, 64)                26688     \n",
            "                                                                 \n",
            " dense_23 (Dense)            (None, 10)                650       \n",
            "                                                                 \n",
            "=================================================================\n",
            "Total params: 353,898\n",
            "Trainable params: 353,898\n",
            "Non-trainable params: 0\n",
            "_________________________________________________________________\n"
          ]
        }
      ]
    },
    {
      "cell_type": "code",
      "source": [
        "\n",
        "# train the model as usual\n",
        "history = model.fit(x_train, y_train, epochs = 10, validation_data = (x_test, y_test))"
      ],
      "metadata": {
        "colab": {
          "base_uri": "https://localhost:8080/"
        },
        "id": "VOzkBnu3vMcx",
        "outputId": "f6d76e3b-ca6c-4cf3-f4f9-000f95a7f0df"
      },
      "execution_count": 65,
      "outputs": [
        {
          "output_type": "stream",
          "name": "stdout",
          "text": [
            "Epoch 1/10\n",
            "1875/1875 [==============================] - 18s 9ms/step - loss: 0.4790 - accuracy: 0.8277 - val_loss: 0.4158 - val_accuracy: 0.8515\n",
            "Epoch 2/10\n",
            "1875/1875 [==============================] - 15s 8ms/step - loss: 0.3619 - accuracy: 0.8671 - val_loss: 0.3741 - val_accuracy: 0.8680\n",
            "Epoch 3/10\n",
            "1875/1875 [==============================] - 17s 9ms/step - loss: 0.3246 - accuracy: 0.8790 - val_loss: 0.3554 - val_accuracy: 0.8706\n",
            "Epoch 4/10\n",
            "1875/1875 [==============================] - 18s 10ms/step - loss: 0.3003 - accuracy: 0.8884 - val_loss: 0.3727 - val_accuracy: 0.8672\n",
            "Epoch 5/10\n",
            "1875/1875 [==============================] - 15s 8ms/step - loss: 0.2858 - accuracy: 0.8924 - val_loss: 0.3458 - val_accuracy: 0.8755\n",
            "Epoch 6/10\n",
            "1875/1875 [==============================] - 18s 10ms/step - loss: 0.2695 - accuracy: 0.8989 - val_loss: 0.3677 - val_accuracy: 0.8691\n",
            "Epoch 7/10\n",
            "1875/1875 [==============================] - 16s 9ms/step - loss: 0.2582 - accuracy: 0.9039 - val_loss: 0.3411 - val_accuracy: 0.8818\n",
            "Epoch 8/10\n",
            "1875/1875 [==============================] - 15s 8ms/step - loss: 0.2442 - accuracy: 0.9077 - val_loss: 0.3358 - val_accuracy: 0.8850\n",
            "Epoch 9/10\n",
            "1875/1875 [==============================] - 15s 8ms/step - loss: 0.2349 - accuracy: 0.9111 - val_loss: 0.3362 - val_accuracy: 0.8888\n",
            "Epoch 10/10\n",
            "1875/1875 [==============================] - 15s 8ms/step - loss: 0.2244 - accuracy: 0.9148 - val_loss: 0.3423 - val_accuracy: 0.8834\n"
          ]
        }
      ]
    },
    {
      "cell_type": "code",
      "source": [
        "1# plot the history of the training\n",
        "import matplotlib.pyplot as plt\n",
        "\n",
        "# summarize the history for accuracy\n",
        "plt.plot(history.history['accuracy'])\n",
        "plt.plot(history.history['val_accuracy'])\n",
        "plt.title('model accuracy')\n",
        "plt.ylabel('accuracy')\n",
        "plt.xlabel('epoch')\n",
        "plt.legend(['train','test'], loc='upper left')\n",
        "plt.show()\n",
        "\n",
        "# summarize the history for loss\n",
        "plt.plot(history.history['loss'])\n",
        "plt.plot(history.history['val_loss'])\n",
        "plt.title('model loss')\n",
        "plt.ylabel('loss')\n",
        "plt.xlabel('epoch')\n",
        "plt.legend(['train','test'], loc='upper left')\n",
        "plt.show()"
      ],
      "metadata": {
        "colab": {
          "base_uri": "https://localhost:8080/",
          "height": 573
        },
        "id": "eSh-0VIZvR50",
        "outputId": "c6498e8e-59ff-4ef3-fc90-ee1d940e2d95"
      },
      "execution_count": 66,
      "outputs": [
        {
          "output_type": "display_data",
          "data": {
            "text/plain": [
              "<Figure size 432x288 with 1 Axes>"
            ],
            "image/png": "[encoded data removed]"
          },
          "metadata": {
            "needs_background": "light"
          }
        },
        {
          "output_type": "display_data",
          "data": {
            "text/plain": [
              "<Figure size 432x288 with 1 Axes>"
            ],
            "image/png": "[encoded data removed]"
          },
          "metadata": {
            "needs_background": "light"
          }
        }
      ]
    }
  ]
}