{
  "nbformat": 4,
  "nbformat_minor": 0,
  "metadata": {
    "colab": {
      "name": "PredictionChallenge3.ipynb",
      "provenance": [],
      "include_colab_link": true
    },
    "kernelspec": {
      "name": "python3",
      "display_name": "Python 3"
    }
  },
  "cells": [
    {
      "cell_type": "markdown",
      "metadata": {
        "id": "view-in-github",
        "colab_type": "text"
      },
      "source": [
        "<a href=\"https://colab.research.google.com/github/MartinNde/MartinN_1/blob/main/PredictionChallenge3.ipynb\" target=\"_parent\"><img src=\"https://colab.research.google.com/assets/colab-badge.svg\" alt=\"Open In Colab\"/></a>"
      ]
    },
    {
      "cell_type": "markdown",
      "metadata": {
        "id": "VKK5DA390wRe"
      },
      "source": [
        "# Prediction Challenge 3\n"
      ]
    },
    {
      "cell_type": "code",
      "metadata": {
        "id": "R8ZiiRbxlH2D"
      },
      "source": [],
      "execution_count": 10,
      "outputs": []
    },
    {
      "cell_type": "code",
      "source": [
        "# install keras rl2 (we need to install keras-rl2 so it works with the tensorflow 2 version that comes pre-installed with colab)\n",
        "!pip install keras-rl2"
      ],
      "metadata": {
        "colab": {
          "base_uri": "https://localhost:8080/"
        },
        "id": "deGfOT2xuFgD",
        "outputId": "dc8d8bb9-5326-4167-d9fa-1d12328d6082"
      },
      "execution_count": 11,
      "outputs": [
        {
          "output_type": "stream",
          "name": "stdout",
          "text": [
            "Looking in indexes: https://pypi.org/simple, https://us-python.pkg.dev/colab-wheels/public/simple/\n",
            "Requirement already satisfied: keras-rl2 in /usr/local/lib/python3.9/dist-packages (1.0.5)\n",
            "Requirement already satisfied: tensorflow in /usr/local/lib/python3.9/dist-packages (from keras-rl2) (2.11.0)\n",
            "Requirement already satisfied: protobuf<3.20,>=3.9.2 in /usr/local/lib/python3.9/dist-packages (from tensorflow->keras-rl2) (3.19.6)\n",
            "Requirement already satisfied: packaging in /usr/local/lib/python3.9/dist-packages (from tensorflow->keras-rl2) (23.0)\n",
            "Requirement already satisfied: libclang>=13.0.0 in /usr/local/lib/python3.9/dist-packages (from tensorflow->keras-rl2) (15.0.6.1)\n",
            "Requirement already satisfied: wrapt>=1.11.0 in /usr/local/lib/python3.9/dist-packages (from tensorflow->keras-rl2) (1.15.0)\n",
            "Requirement already satisfied: termcolor>=1.1.0 in /usr/local/lib/python3.9/dist-packages (from tensorflow->keras-rl2) (2.2.0)\n",
            "Requirement already satisfied: gast<=0.4.0,>=0.2.1 in /usr/local/lib/python3.9/dist-packages (from tensorflow->keras-rl2) (0.4.0)\n",
            "Requirement already satisfied: astunparse>=1.6.0 in /usr/local/lib/python3.9/dist-packages (from tensorflow->keras-rl2) (1.6.3)\n",
            "Requirement already satisfied: tensorboard<2.12,>=2.11 in /usr/local/lib/python3.9/dist-packages (from tensorflow->keras-rl2) (2.11.2)\n",
            "Requirement already satisfied: absl-py>=1.0.0 in /usr/local/lib/python3.9/dist-packages (from tensorflow->keras-rl2) (1.4.0)\n",
            "Requirement already satisfied: h5py>=2.9.0 in /usr/local/lib/python3.9/dist-packages (from tensorflow->keras-rl2) (3.1.0)\n",
            "Requirement already satisfied: keras<2.12,>=2.11.0 in /usr/local/lib/python3.9/dist-packages (from tensorflow->keras-rl2) (2.11.0)\n",
            "Requirement already satisfied: google-pasta>=0.1.1 in /usr/local/lib/python3.9/dist-packages (from tensorflow->keras-rl2) (0.2.0)\n",
            "Requirement already satisfied: numpy>=1.20 in /usr/local/lib/python3.9/dist-packages (from tensorflow->keras-rl2) (1.22.4)\n",
            "Requirement already satisfied: tensorflow-estimator<2.12,>=2.11.0 in /usr/local/lib/python3.9/dist-packages (from tensorflow->keras-rl2) (2.11.0)\n",
            "Requirement already satisfied: opt-einsum>=2.3.2 in /usr/local/lib/python3.9/dist-packages (from tensorflow->keras-rl2) (3.3.0)\n",
            "Requirement already satisfied: flatbuffers>=2.0 in /usr/local/lib/python3.9/dist-packages (from tensorflow->keras-rl2) (23.3.3)\n",
            "Requirement already satisfied: tensorflow-io-gcs-filesystem>=0.23.1 in /usr/local/lib/python3.9/dist-packages (from tensorflow->keras-rl2) (0.31.0)\n",
            "Requirement already satisfied: typing-extensions>=3.6.6 in /usr/local/lib/python3.9/dist-packages (from tensorflow->keras-rl2) (4.5.0)\n",
            "Requirement already satisfied: setuptools in /usr/local/lib/python3.9/dist-packages (from tensorflow->keras-rl2) (63.4.3)\n",
            "Requirement already satisfied: six>=1.12.0 in /usr/local/lib/python3.9/dist-packages (from tensorflow->keras-rl2) (1.15.0)\n",
            "Requirement already satisfied: grpcio<2.0,>=1.24.3 in /usr/local/lib/python3.9/dist-packages (from tensorflow->keras-rl2) (1.51.3)\n",
            "Requirement already satisfied: wheel<1.0,>=0.23.0 in /usr/local/lib/python3.9/dist-packages (from astunparse>=1.6.0->tensorflow->keras-rl2) (0.38.4)\n",
            "Requirement already satisfied: google-auth-oauthlib<0.5,>=0.4.1 in /usr/local/lib/python3.9/dist-packages (from tensorboard<2.12,>=2.11->tensorflow->keras-rl2) (0.4.6)\n",
            "Requirement already satisfied: tensorboard-plugin-wit>=1.6.0 in /usr/local/lib/python3.9/dist-packages (from tensorboard<2.12,>=2.11->tensorflow->keras-rl2) (1.8.1)\n",
            "Requirement already satisfied: werkzeug>=1.0.1 in /usr/local/lib/python3.9/dist-packages (from tensorboard<2.12,>=2.11->tensorflow->keras-rl2) (2.2.3)\n",
            "Requirement already satisfied: requests<3,>=2.21.0 in /usr/local/lib/python3.9/dist-packages (from tensorboard<2.12,>=2.11->tensorflow->keras-rl2) (2.25.1)\n",
            "Requirement already satisfied: markdown>=2.6.8 in /usr/local/lib/python3.9/dist-packages (from tensorboard<2.12,>=2.11->tensorflow->keras-rl2) (3.4.1)\n",
            "Requirement already satisfied: google-auth<3,>=1.6.3 in /usr/local/lib/python3.9/dist-packages (from tensorboard<2.12,>=2.11->tensorflow->keras-rl2) (2.16.2)\n",
            "Requirement already satisfied: tensorboard-data-server<0.7.0,>=0.6.0 in /usr/local/lib/python3.9/dist-packages (from tensorboard<2.12,>=2.11->tensorflow->keras-rl2) (0.6.1)\n",
            "Requirement already satisfied: pyasn1-modules>=0.2.1 in /usr/local/lib/python3.9/dist-packages (from google-auth<3,>=1.6.3->tensorboard<2.12,>=2.11->tensorflow->keras-rl2) (0.2.8)\n",
            "Requirement already satisfied: cachetools<6.0,>=2.0.0 in /usr/local/lib/python3.9/dist-packages (from google-auth<3,>=1.6.3->tensorboard<2.12,>=2.11->tensorflow->keras-rl2) (5.3.0)\n",
            "Requirement already satisfied: rsa<5,>=3.1.4 in /usr/local/lib/python3.9/dist-packages (from google-auth<3,>=1.6.3->tensorboard<2.12,>=2.11->tensorflow->keras-rl2) (4.9)\n",
            "Requirement already satisfied: requests-oauthlib>=0.7.0 in /usr/local/lib/python3.9/dist-packages (from google-auth-oauthlib<0.5,>=0.4.1->tensorboard<2.12,>=2.11->tensorflow->keras-rl2) (1.3.1)\n",
            "Requirement already satisfied: importlib-metadata>=4.4 in /usr/local/lib/python3.9/dist-packages (from markdown>=2.6.8->tensorboard<2.12,>=2.11->tensorflow->keras-rl2) (6.0.0)\n",
            "Requirement already satisfied: certifi>=2017.4.17 in /usr/local/lib/python3.9/dist-packages (from requests<3,>=2.21.0->tensorboard<2.12,>=2.11->tensorflow->keras-rl2) (2022.12.7)\n",
            "Requirement already satisfied: chardet<5,>=3.0.2 in /usr/local/lib/python3.9/dist-packages (from requests<3,>=2.21.0->tensorboard<2.12,>=2.11->tensorflow->keras-rl2) (4.0.0)\n",
            "Requirement already satisfied: idna<3,>=2.5 in /usr/local/lib/python3.9/dist-packages (from requests<3,>=2.21.0->tensorboard<2.12,>=2.11->tensorflow->keras-rl2) (2.10)\n",
            "Requirement already satisfied: urllib3<1.27,>=1.21.1 in /usr/local/lib/python3.9/dist-packages (from requests<3,>=2.21.0->tensorboard<2.12,>=2.11->tensorflow->keras-rl2) (1.26.15)\n",
            "Requirement already satisfied: MarkupSafe>=2.1.1 in /usr/local/lib/python3.9/dist-packages (from werkzeug>=1.0.1->tensorboard<2.12,>=2.11->tensorflow->keras-rl2) (2.1.2)\n",
            "Requirement already satisfied: zipp>=0.5 in /usr/local/lib/python3.9/dist-packages (from importlib-metadata>=4.4->markdown>=2.6.8->tensorboard<2.12,>=2.11->tensorflow->keras-rl2) (3.15.0)\n",
            "Requirement already satisfied: pyasn1<0.5.0,>=0.4.6 in /usr/local/lib/python3.9/dist-packages (from pyasn1-modules>=0.2.1->google-auth<3,>=1.6.3->tensorboard<2.12,>=2.11->tensorflow->keras-rl2) (0.4.8)\n",
            "Requirement already satisfied: oauthlib>=3.0.0 in /usr/local/lib/python3.9/dist-packages (from requests-oauthlib>=0.7.0->google-auth-oauthlib<0.5,>=0.4.1->tensorboard<2.12,>=2.11->tensorflow->keras-rl2) (3.2.2)\n"
          ]
        }
      ]
    },
    {
      "cell_type": "code",
      "source": [
        "!pip install gym"
      ],
      "metadata": {
        "colab": {
          "base_uri": "https://localhost:8080/"
        },
        "id": "LrUzv72bwiYP",
        "outputId": "6514247d-1177-4070-d40d-993c5bc9c875"
      },
      "execution_count": 12,
      "outputs": [
        {
          "output_type": "stream",
          "name": "stdout",
          "text": [
            "Looking in indexes: https://pypi.org/simple, https://us-python.pkg.dev/colab-wheels/public/simple/\n",
            "Requirement already satisfied: gym in /usr/local/lib/python3.9/dist-packages (0.25.2)\n",
            "Requirement already satisfied: gym-notices>=0.0.4 in /usr/local/lib/python3.9/dist-packages (from gym) (0.0.8)\n",
            "Requirement already satisfied: cloudpickle>=1.2.0 in /usr/local/lib/python3.9/dist-packages (from gym) (2.2.1)\n",
            "Requirement already satisfied: importlib-metadata>=4.8.0 in /usr/local/lib/python3.9/dist-packages (from gym) (6.0.0)\n",
            "Requirement already satisfied: numpy>=1.18.0 in /usr/local/lib/python3.9/dist-packages (from gym) (1.22.4)\n",
            "Requirement already satisfied: zipp>=0.5 in /usr/local/lib/python3.9/dist-packages (from importlib-metadata>=4.8.0->gym) (3.15.0)\n"
          ]
        }
      ]
    },
    {
      "cell_type": "code",
      "source": [
        "# load the gym module\n",
        "import gym\n",
        "import matplotlib.pyplot as plt\n",
        "# import the usual Keras modules for creating deep neural networks\n",
        "from keras import Sequential\n",
        "from keras.layers import Input, Flatten, Dense\n",
        "from keras.optimizers import Adam\n",
        "\n",
        "ENV_NAME = 'CartPole-v0'\n",
        "env = gym.make(ENV_NAME)"
      ],
      "metadata": {
        "colab": {
          "base_uri": "https://localhost:8080/"
        },
        "id": "9WMz2eOtwo3v",
        "outputId": "9e7be2ce-92d9-467d-81da-ca8d22a0daab"
      },
      "execution_count": 13,
      "outputs": [
        {
          "output_type": "stream",
          "name": "stderr",
          "text": [
            "/usr/local/lib/python3.9/dist-packages/gym/envs/registration.py:593: UserWarning: \u001b[33mWARN: The environment CartPole-v0 is out of date. You should consider upgrading to version `v1`.\u001b[0m\n",
            "  logger.warn(\n",
            "/usr/local/lib/python3.9/dist-packages/gym/core.py:317: DeprecationWarning: \u001b[33mWARN: Initializing wrapper in old step API which returns one bool instead of two. It is recommended to set `new_step_api=True` to use new step API. This will be the default behaviour in future.\u001b[0m\n",
            "  deprecation(\n",
            "/usr/local/lib/python3.9/dist-packages/gym/wrappers/step_api_compatibility.py:39: DeprecationWarning: \u001b[33mWARN: Initializing environment in old step API which returns one bool instead of two. It is recommended to set `new_step_api=True` to use new step API. This will be the default behaviour in future.\u001b[0m\n",
            "  deprecation(\n"
          ]
        }
      ]
    },
    {
      "cell_type": "code",
      "source": [
        "import rl\n",
        "from rl.memory import SequentialMemory  # import the exerience replay buffer module\n",
        "from rl.policy import BoltzmannQPolicy  # import the policy\n",
        "from rl.agents.dqn import DQNAgent      # import the DQN agent\n",
        "\n",
        "# setup experience replay buffer\n",
        "# here the sequential memory limit is set up the same as the nb_steps (number of steps)\n",
        "# parameter in the fit method.  This means that all the action-states will fit into the\n",
        "# memory buffer\n",
        "# keep window_length as 1. It's used in other RL methods, but keep it to 1 in DQNs\n",
        "memory = SequentialMemory(limit=10000, window_length=1)\n",
        "\n",
        "# define the policy (how we select the actions)\n",
        "policy = BoltzmannQPolicy()"
      ],
      "metadata": {
        "id": "aFPJ_maZwsf_"
      },
      "execution_count": 14,
      "outputs": []
    },
    {
      "cell_type": "markdown",
      "source": [
        "#Implementation of DQN for CartPole, applying policy BoltzmannQPolicy"
      ],
      "metadata": {
        "id": "uNNdoXo4w_CQ"
      }
    },
    {
      "cell_type": "code",
      "source": [
        "from rl.policy import BoltzmannQPolicy\n",
        "from rl.policy import LinearAnnealedPolicy, EpsGreedyQPolicy\n",
        "\n",
        "# setup experience replay buffer\n",
        "memory = SequentialMemory(limit=10000, window_length=1)\n",
        "\n",
        "# setup the Linear annealed policy with the BoltzmannQPolicy as the inner policy\n",
        "policy =  LinearAnnealedPolicy(inner_policy=EpsGreedyQPolicy(),   # policy used to select actions\n",
        "                               attr='eps',                        # attribute in the inner policy to vary             \n",
        "                               value_max=1,                       # maximum value of attribute that is varying\n",
        "                               value_min=0.1,                      # minimum value of attribute that is varying\n",
        "                               value_test=0.05,                    # test if the value selected is < 0.05\n",
        "                               nb_steps=10000)                    # the number of steps between value_max and value_min\n",
        "\n",
        "# Q-Network\n",
        "model = Sequential()\n",
        "model.add(Input(shape=(1,env.observation_space.shape[0])))  # The input is 1 observation vector, and the number of observations in that vector \n",
        "model.add(Flatten())\n",
        "model.add(Dense(16, activation='relu'))\n",
        "# add extra layers here\n",
        "model.add(Dense(env.action_space.n, activation='linear'))   # the output is the number of actions in the action space\n",
        "print(model.summary())\n",
        "\n",
        "# define the agent\n",
        "dqn = DQNAgent(model=model,                     # Q-Network model\n",
        "               nb_actions=env.action_space.n,   # number of actions\n",
        "               memory=memory,                   # experience replay memory\n",
        "               nb_steps_warmup=10,              # how many steps are waited before starting experience replay\n",
        "               target_model_update=1e-2,        # how often the target network is updated\n",
        "               policy=policy)                   # the action selection policy\n",
        "\n",
        "dqn.compile(Adam(lr=1e-3), metrics=['mae'])\n",
        "\n",
        "history = dqn.fit(env, nb_steps=10000, visualize=False, verbose=2)\n",
        "\n",
        "# summarize the history for number  of episode steps\n",
        "plt.plot(history.history['nb_episode_steps'])\n",
        "plt.ylabel('nb_episode_steps')\n",
        "plt.xlabel('episodes')\n",
        "plt.show()\n",
        "\n",
        "dqn.test(env, nb_episodes=20, visualize=False)"
      ],
      "metadata": {
        "colab": {
          "base_uri": "https://localhost:8080/",
          "height": 1000
        },
        "id": "F1yI7Cuxwxov",
        "outputId": "85af3414-339f-4472-8314-09d1d19495b5"
      },
      "execution_count": 18,
      "outputs": [
        {
          "output_type": "stream",
          "name": "stdout",
          "text": [
            "Model: \"sequential_1\"\n",
            "_________________________________________________________________\n",
            " Layer (type)                Output Shape              Param #   \n",
            "=================================================================\n",
            " flatten_1 (Flatten)         (None, 4)                 0         \n",
            "                                                                 \n",
            " dense_2 (Dense)             (None, 16)                80        \n",
            "                                                                 \n",
            " dense_3 (Dense)             (None, 2)                 34        \n",
            "                                                                 \n",
            "=================================================================\n",
            "Total params: 114\n",
            "Trainable params: 114\n",
            "Non-trainable params: 0\n",
            "_________________________________________________________________\n",
            "None\n"
          ]
        },
        {
          "output_type": "stream",
          "name": "stderr",
          "text": [
            "/usr/local/lib/python3.9/dist-packages/keras/optimizers/optimizer_v2/adam.py:117: UserWarning: The `lr` argument is deprecated, use `learning_rate` instead.\n",
            "  super().__init__(name, **kwargs)\n"
          ]
        },
        {
          "output_type": "stream",
          "name": "stdout",
          "text": [
            "Training for 10000 steps ...\n"
          ]
        },
        {
          "output_type": "stream",
          "name": "stderr",
          "text": [
            "/usr/local/lib/python3.9/dist-packages/keras/engine/training_v1.py:2357: UserWarning: `Model.state_updates` will be removed in a future version. This property should not be used in TensorFlow 2.0, as `updates` are applied automatically.\n",
            "  updates=self.state_updates,\n",
            "/usr/local/lib/python3.9/dist-packages/rl/memory.py:37: UserWarning: Not enough entries to sample without replacement. Consider increasing your warm-up phase to avoid oversampling!\n",
            "  warnings.warn('Not enough entries to sample without replacement. Consider increasing your warm-up phase to avoid oversampling!')\n",
            "/usr/local/lib/python3.9/dist-packages/rl/memory.py:38: DeprecationWarning: This function is deprecated. Please call randint(1, 10 + 1) instead\n",
            "  batch_idxs = np.random.random_integers(low, high - 1, size=size)\n",
            "/usr/local/lib/python3.9/dist-packages/rl/memory.py:38: DeprecationWarning: This function is deprecated. Please call randint(1, 11 + 1) instead\n",
            "  batch_idxs = np.random.random_integers(low, high - 1, size=size)\n",
            "/usr/local/lib/python3.9/dist-packages/rl/memory.py:38: DeprecationWarning: This function is deprecated. Please call randint(1, 12 + 1) instead\n",
            "  batch_idxs = np.random.random_integers(low, high - 1, size=size)\n",
            "/usr/local/lib/python3.9/dist-packages/rl/memory.py:38: DeprecationWarning: This function is deprecated. Please call randint(1, 13 + 1) instead\n",
            "  batch_idxs = np.random.random_integers(low, high - 1, size=size)\n",
            "/usr/local/lib/python3.9/dist-packages/rl/memory.py:38: DeprecationWarning: This function is deprecated. Please call randint(1, 14 + 1) instead\n",
            "  batch_idxs = np.random.random_integers(low, high - 1, size=size)\n",
            "/usr/local/lib/python3.9/dist-packages/rl/memory.py:37: UserWarning: Not enough entries to sample without replacement. Consider increasing your warm-up phase to avoid oversampling!\n",
            "  warnings.warn('Not enough entries to sample without replacement. Consider increasing your warm-up phase to avoid oversampling!')\n",
            "/usr/local/lib/python3.9/dist-packages/rl/memory.py:38: DeprecationWarning: This function is deprecated. Please call randint(1, 15 + 1) instead\n",
            "  batch_idxs = np.random.random_integers(low, high - 1, size=size)\n",
            "/usr/local/lib/python3.9/dist-packages/rl/memory.py:38: DeprecationWarning: This function is deprecated. Please call randint(1, 16 + 1) instead\n",
            "  batch_idxs = np.random.random_integers(low, high - 1, size=size)\n",
            "/usr/local/lib/python3.9/dist-packages/rl/memory.py:38: DeprecationWarning: This function is deprecated. Please call randint(1, 17 + 1) instead\n",
            "  batch_idxs = np.random.random_integers(low, high - 1, size=size)\n",
            "/usr/local/lib/python3.9/dist-packages/rl/memory.py:38: DeprecationWarning: This function is deprecated. Please call randint(1, 18 + 1) instead\n",
            "  batch_idxs = np.random.random_integers(low, high - 1, size=size)\n",
            "/usr/local/lib/python3.9/dist-packages/rl/memory.py:38: DeprecationWarning: This function is deprecated. Please call randint(1, 19 + 1) instead\n",
            "  batch_idxs = np.random.random_integers(low, high - 1, size=size)\n",
            "/usr/local/lib/python3.9/dist-packages/rl/memory.py:38: DeprecationWarning: This function is deprecated. Please call randint(1, 20 + 1) instead\n",
            "  batch_idxs = np.random.random_integers(low, high - 1, size=size)\n",
            "/usr/local/lib/python3.9/dist-packages/rl/memory.py:38: DeprecationWarning: This function is deprecated. Please call randint(1, 21 + 1) instead\n",
            "  batch_idxs = np.random.random_integers(low, high - 1, size=size)\n",
            "/usr/local/lib/python3.9/dist-packages/rl/memory.py:38: DeprecationWarning: This function is deprecated. Please call randint(1, 22 + 1) instead\n",
            "  batch_idxs = np.random.random_integers(low, high - 1, size=size)\n",
            "/usr/local/lib/python3.9/dist-packages/rl/memory.py:38: DeprecationWarning: This function is deprecated. Please call randint(1, 23 + 1) instead\n",
            "  batch_idxs = np.random.random_integers(low, high - 1, size=size)\n",
            "/usr/local/lib/python3.9/dist-packages/rl/memory.py:38: DeprecationWarning: This function is deprecated. Please call randint(1, 24 + 1) instead\n",
            "  batch_idxs = np.random.random_integers(low, high - 1, size=size)\n",
            "/usr/local/lib/python3.9/dist-packages/rl/memory.py:38: DeprecationWarning: This function is deprecated. Please call randint(1, 25 + 1) instead\n",
            "  batch_idxs = np.random.random_integers(low, high - 1, size=size)\n",
            "/usr/local/lib/python3.9/dist-packages/rl/memory.py:38: DeprecationWarning: This function is deprecated. Please call randint(1, 26 + 1) instead\n",
            "  batch_idxs = np.random.random_integers(low, high - 1, size=size)\n",
            "/usr/local/lib/python3.9/dist-packages/rl/memory.py:38: DeprecationWarning: This function is deprecated. Please call randint(1, 27 + 1) instead\n",
            "  batch_idxs = np.random.random_integers(low, high - 1, size=size)\n",
            "/usr/local/lib/python3.9/dist-packages/rl/memory.py:38: DeprecationWarning: This function is deprecated. Please call randint(1, 28 + 1) instead\n",
            "  batch_idxs = np.random.random_integers(low, high - 1, size=size)\n",
            "/usr/local/lib/python3.9/dist-packages/rl/memory.py:38: DeprecationWarning: This function is deprecated. Please call randint(1, 29 + 1) instead\n",
            "  batch_idxs = np.random.random_integers(low, high - 1, size=size)\n",
            "/usr/local/lib/python3.9/dist-packages/rl/memory.py:38: DeprecationWarning: This function is deprecated. Please call randint(1, 30 + 1) instead\n",
            "  batch_idxs = np.random.random_integers(low, high - 1, size=size)\n",
            "/usr/local/lib/python3.9/dist-packages/rl/memory.py:38: DeprecationWarning: This function is deprecated. Please call randint(1, 31 + 1) instead\n",
            "  batch_idxs = np.random.random_integers(low, high - 1, size=size)\n"
          ]
        },
        {
          "output_type": "stream",
          "name": "stdout",
          "text": [
            "   15/10000: episode: 1, duration: 0.660s, episode steps:  15, steps per second:  23, episode reward: 15.000, mean reward:  1.000 [ 1.000,  1.000], mean action: 0.333 [0.000, 1.000],  loss: 0.534447, mae: 0.561791, mean_q: -0.047805, mean_eps: 0.998875\n",
            "   39/10000: episode: 2, duration: 0.149s, episode steps:  24, steps per second: 161, episode reward: 24.000, mean reward:  1.000 [ 1.000,  1.000], mean action: 0.542 [0.000, 1.000],  loss: 0.489813, mae: 0.518800, mean_q: 0.045338, mean_eps: 0.997615\n",
            "  109/10000: episode: 3, duration: 0.417s, episode steps:  70, steps per second: 168, episode reward: 70.000, mean reward:  1.000 [ 1.000,  1.000], mean action: 0.543 [0.000, 1.000],  loss: 0.366246, mae: 0.548305, mean_q: 0.280911, mean_eps: 0.993385\n",
            "  123/10000: episode: 4, duration: 0.083s, episode steps:  14, steps per second: 168, episode reward: 14.000, mean reward:  1.000 [ 1.000,  1.000], mean action: 0.357 [0.000, 1.000],  loss: 0.261215, mae: 0.614135, mean_q: 0.563485, mean_eps: 0.989605\n",
            "  152/10000: episode: 5, duration: 0.173s, episode steps:  29, steps per second: 167, episode reward: 29.000, mean reward:  1.000 [ 1.000,  1.000], mean action: 0.517 [0.000, 1.000],  loss: 0.202969, mae: 0.642840, mean_q: 0.727066, mean_eps: 0.987670\n",
            "  166/10000: episode: 6, duration: 0.096s, episode steps:  14, steps per second: 146, episode reward: 14.000, mean reward:  1.000 [ 1.000,  1.000], mean action: 0.643 [0.000, 1.000],  loss: 0.186312, mae: 0.669614, mean_q: 0.825831, mean_eps: 0.985735\n",
            "  193/10000: episode: 7, duration: 0.165s, episode steps:  27, steps per second: 164, episode reward: 27.000, mean reward:  1.000 [ 1.000,  1.000], mean action: 0.519 [0.000, 1.000],  loss: 0.162997, mae: 0.716024, mean_q: 0.963001, mean_eps: 0.983890\n",
            "  207/10000: episode: 8, duration: 0.089s, episode steps:  14, steps per second: 157, episode reward: 14.000, mean reward:  1.000 [ 1.000,  1.000], mean action: 0.286 [0.000, 1.000],  loss: 0.151548, mae: 0.757435, mean_q: 1.066039, mean_eps: 0.982045\n",
            "  224/10000: episode: 9, duration: 0.106s, episode steps:  17, steps per second: 160, episode reward: 17.000, mean reward:  1.000 [ 1.000,  1.000], mean action: 0.647 [0.000, 1.000],  loss: 0.137270, mae: 0.808889, mean_q: 1.218488, mean_eps: 0.980650\n",
            "  255/10000: episode: 10, duration: 0.184s, episode steps:  31, steps per second: 168, episode reward: 31.000, mean reward:  1.000 [ 1.000,  1.000], mean action: 0.387 [0.000, 1.000],  loss: 0.129521, mae: 0.862498, mean_q: 1.341533, mean_eps: 0.978490\n",
            "  287/10000: episode: 11, duration: 0.193s, episode steps:  32, steps per second: 166, episode reward: 32.000, mean reward:  1.000 [ 1.000,  1.000], mean action: 0.562 [0.000, 1.000],  loss: 0.116623, mae: 0.947452, mean_q: 1.553263, mean_eps: 0.975655\n",
            "  306/10000: episode: 12, duration: 0.128s, episode steps:  19, steps per second: 148, episode reward: 19.000, mean reward:  1.000 [ 1.000,  1.000], mean action: 0.684 [0.000, 1.000],  loss: 0.112499, mae: 1.055780, mean_q: 1.802772, mean_eps: 0.973360\n",
            "  337/10000: episode: 13, duration: 0.210s, episode steps:  31, steps per second: 148, episode reward: 31.000, mean reward:  1.000 [ 1.000,  1.000], mean action: 0.419 [0.000, 1.000],  loss: 0.125661, mae: 1.128546, mean_q: 1.958141, mean_eps: 0.971110\n",
            "  345/10000: episode: 14, duration: 0.052s, episode steps:   8, steps per second: 155, episode reward:  8.000, mean reward:  1.000 [ 1.000,  1.000], mean action: 1.000 [1.000, 1.000],  loss: 0.115861, mae: 1.193170, mean_q: 2.118823, mean_eps: 0.969355\n",
            "  374/10000: episode: 15, duration: 0.173s, episode steps:  29, steps per second: 168, episode reward: 29.000, mean reward:  1.000 [ 1.000,  1.000], mean action: 0.448 [0.000, 1.000],  loss: 0.132482, mae: 1.265496, mean_q: 2.244196, mean_eps: 0.967690\n",
            "  393/10000: episode: 16, duration: 0.111s, episode steps:  19, steps per second: 171, episode reward: 19.000, mean reward:  1.000 [ 1.000,  1.000], mean action: 0.526 [0.000, 1.000],  loss: 0.151959, mae: 1.377881, mean_q: 2.485701, mean_eps: 0.965530\n",
            "  426/10000: episode: 17, duration: 0.198s, episode steps:  33, steps per second: 167, episode reward: 33.000, mean reward:  1.000 [ 1.000,  1.000], mean action: 0.636 [0.000, 1.000],  loss: 0.147990, mae: 1.450638, mean_q: 2.643525, mean_eps: 0.963190\n",
            "  475/10000: episode: 18, duration: 0.287s, episode steps:  49, steps per second: 171, episode reward: 49.000, mean reward:  1.000 [ 1.000,  1.000], mean action: 0.490 [0.000, 1.000],  loss: 0.171291, mae: 1.615863, mean_q: 3.005824, mean_eps: 0.959500\n",
            "  490/10000: episode: 19, duration: 0.090s, episode steps:  15, steps per second: 167, episode reward: 15.000, mean reward:  1.000 [ 1.000,  1.000], mean action: 0.667 [0.000, 1.000],  loss: 0.218098, mae: 1.785391, mean_q: 3.304675, mean_eps: 0.956620\n",
            "  527/10000: episode: 20, duration: 0.229s, episode steps:  37, steps per second: 161, episode reward: 37.000, mean reward:  1.000 [ 1.000,  1.000], mean action: 0.514 [0.000, 1.000],  loss: 0.211840, mae: 1.846194, mean_q: 3.468652, mean_eps: 0.954280\n",
            "  562/10000: episode: 21, duration: 0.206s, episode steps:  35, steps per second: 170, episode reward: 35.000, mean reward:  1.000 [ 1.000,  1.000], mean action: 0.486 [0.000, 1.000],  loss: 0.221531, mae: 2.015040, mean_q: 3.835499, mean_eps: 0.951040\n",
            "  573/10000: episode: 22, duration: 0.069s, episode steps:  11, steps per second: 158, episode reward: 11.000, mean reward:  1.000 [ 1.000,  1.000], mean action: 0.273 [0.000, 1.000],  loss: 0.179353, mae: 2.050389, mean_q: 3.933492, mean_eps: 0.948970\n",
            "  614/10000: episode: 23, duration: 0.255s, episode steps:  41, steps per second: 161, episode reward: 41.000, mean reward:  1.000 [ 1.000,  1.000], mean action: 0.512 [0.000, 1.000],  loss: 0.280697, mae: 2.200324, mean_q: 4.150886, mean_eps: 0.946630\n",
            "  635/10000: episode: 24, duration: 0.121s, episode steps:  21, steps per second: 174, episode reward: 21.000, mean reward:  1.000 [ 1.000,  1.000], mean action: 0.619 [0.000, 1.000],  loss: 0.374169, mae: 2.349074, mean_q: 4.430366, mean_eps: 0.943840\n",
            "  659/10000: episode: 25, duration: 0.154s, episode steps:  24, steps per second: 156, episode reward: 24.000, mean reward:  1.000 [ 1.000,  1.000], mean action: 0.667 [0.000, 1.000],  loss: 0.248349, mae: 2.405249, mean_q: 4.630667, mean_eps: 0.941815\n",
            "  682/10000: episode: 26, duration: 0.135s, episode steps:  23, steps per second: 171, episode reward: 23.000, mean reward:  1.000 [ 1.000,  1.000], mean action: 0.652 [0.000, 1.000],  loss: 0.317428, mae: 2.531748, mean_q: 4.886549, mean_eps: 0.939700\n",
            "  701/10000: episode: 27, duration: 0.119s, episode steps:  19, steps per second: 160, episode reward: 19.000, mean reward:  1.000 [ 1.000,  1.000], mean action: 0.526 [0.000, 1.000],  loss: 0.544347, mae: 2.649596, mean_q: 5.050737, mean_eps: 0.937810\n",
            "  735/10000: episode: 28, duration: 0.292s, episode steps:  34, steps per second: 117, episode reward: 34.000, mean reward:  1.000 [ 1.000,  1.000], mean action: 0.471 [0.000, 1.000],  loss: 0.382410, mae: 2.737737, mean_q: 5.303242, mean_eps: 0.935425\n",
            "  759/10000: episode: 29, duration: 0.199s, episode steps:  24, steps per second: 121, episode reward: 24.000, mean reward:  1.000 [ 1.000,  1.000], mean action: 0.583 [0.000, 1.000],  loss: 0.344402, mae: 2.862505, mean_q: 5.523974, mean_eps: 0.932815\n",
            "  783/10000: episode: 30, duration: 0.212s, episode steps:  24, steps per second: 113, episode reward: 24.000, mean reward:  1.000 [ 1.000,  1.000], mean action: 0.708 [0.000, 1.000],  loss: 0.556978, mae: 2.991440, mean_q: 5.728738, mean_eps: 0.930655\n",
            "  795/10000: episode: 31, duration: 0.120s, episode steps:  12, steps per second: 100, episode reward: 12.000, mean reward:  1.000 [ 1.000,  1.000], mean action: 0.417 [0.000, 1.000],  loss: 0.452789, mae: 3.053661, mean_q: 5.848527, mean_eps: 0.929035\n",
            "  815/10000: episode: 32, duration: 0.179s, episode steps:  20, steps per second: 111, episode reward: 20.000, mean reward:  1.000 [ 1.000,  1.000], mean action: 0.650 [0.000, 1.000],  loss: 0.537549, mae: 3.126623, mean_q: 5.952026, mean_eps: 0.927595\n",
            "  835/10000: episode: 33, duration: 0.166s, episode steps:  20, steps per second: 120, episode reward: 20.000, mean reward:  1.000 [ 1.000,  1.000], mean action: 0.650 [0.000, 1.000],  loss: 0.604285, mae: 3.208955, mean_q: 6.171467, mean_eps: 0.925795\n",
            "  866/10000: episode: 34, duration: 0.263s, episode steps:  31, steps per second: 118, episode reward: 31.000, mean reward:  1.000 [ 1.000,  1.000], mean action: 0.613 [0.000, 1.000],  loss: 0.770871, mae: 3.358875, mean_q: 6.355442, mean_eps: 0.923500\n",
            "  874/10000: episode: 35, duration: 0.082s, episode steps:   8, steps per second:  98, episode reward:  8.000, mean reward:  1.000 [ 1.000,  1.000], mean action: 0.875 [0.000, 1.000],  loss: 0.606483, mae: 3.421571, mean_q: 6.498415, mean_eps: 0.921745\n",
            "  892/10000: episode: 36, duration: 0.157s, episode steps:  18, steps per second: 115, episode reward: 18.000, mean reward:  1.000 [ 1.000,  1.000], mean action: 0.444 [0.000, 1.000],  loss: 0.517733, mae: 3.429631, mean_q: 6.607951, mean_eps: 0.920575\n",
            "  911/10000: episode: 37, duration: 0.162s, episode steps:  19, steps per second: 117, episode reward: 19.000, mean reward:  1.000 [ 1.000,  1.000], mean action: 0.316 [0.000, 1.000],  loss: 0.873393, mae: 3.557167, mean_q: 6.755410, mean_eps: 0.918910\n",
            "  928/10000: episode: 38, duration: 0.153s, episode steps:  17, steps per second: 111, episode reward: 17.000, mean reward:  1.000 [ 1.000,  1.000], mean action: 0.647 [0.000, 1.000],  loss: 0.658485, mae: 3.601945, mean_q: 6.835270, mean_eps: 0.917290\n",
            "  938/10000: episode: 39, duration: 0.087s, episode steps:  10, steps per second: 115, episode reward: 10.000, mean reward:  1.000 [ 1.000,  1.000], mean action: 0.900 [0.000, 1.000],  loss: 0.429329, mae: 3.576743, mean_q: 6.959540, mean_eps: 0.916075\n",
            "  963/10000: episode: 40, duration: 0.218s, episode steps:  25, steps per second: 115, episode reward: 25.000, mean reward:  1.000 [ 1.000,  1.000], mean action: 0.560 [0.000, 1.000],  loss: 0.744058, mae: 3.738814, mean_q: 7.214800, mean_eps: 0.914500\n",
            "  989/10000: episode: 41, duration: 0.227s, episode steps:  26, steps per second: 115, episode reward: 26.000, mean reward:  1.000 [ 1.000,  1.000], mean action: 0.538 [0.000, 1.000],  loss: 0.858450, mae: 3.832139, mean_q: 7.211462, mean_eps: 0.912205\n",
            " 1012/10000: episode: 42, duration: 0.176s, episode steps:  23, steps per second: 131, episode reward: 23.000, mean reward:  1.000 [ 1.000,  1.000], mean action: 0.565 [0.000, 1.000],  loss: 0.736278, mae: 3.909569, mean_q: 7.459362, mean_eps: 0.910000\n",
            " 1026/10000: episode: 43, duration: 0.088s, episode steps:  14, steps per second: 159, episode reward: 14.000, mean reward:  1.000 [ 1.000,  1.000], mean action: 0.357 [0.000, 1.000],  loss: 0.852312, mae: 3.983677, mean_q: 7.654755, mean_eps: 0.908335\n",
            " 1045/10000: episode: 44, duration: 0.117s, episode steps:  19, steps per second: 162, episode reward: 19.000, mean reward:  1.000 [ 1.000,  1.000], mean action: 0.632 [0.000, 1.000],  loss: 0.840794, mae: 4.049106, mean_q: 7.699687, mean_eps: 0.906850\n",
            " 1066/10000: episode: 45, duration: 0.133s, episode steps:  21, steps per second: 158, episode reward: 21.000, mean reward:  1.000 [ 1.000,  1.000], mean action: 0.524 [0.000, 1.000],  loss: 0.875894, mae: 4.122119, mean_q: 7.816924, mean_eps: 0.905050\n",
            " 1082/10000: episode: 46, duration: 0.097s, episode steps:  16, steps per second: 164, episode reward: 16.000, mean reward:  1.000 [ 1.000,  1.000], mean action: 0.625 [0.000, 1.000],  loss: 0.645670, mae: 4.133937, mean_q: 7.904676, mean_eps: 0.903385\n",
            " 1097/10000: episode: 47, duration: 0.090s, episode steps:  15, steps per second: 167, episode reward: 15.000, mean reward:  1.000 [ 1.000,  1.000], mean action: 0.667 [0.000, 1.000],  loss: 0.702621, mae: 4.186261, mean_q: 8.031470, mean_eps: 0.901990\n",
            " 1118/10000: episode: 48, duration: 0.134s, episode steps:  21, steps per second: 157, episode reward: 21.000, mean reward:  1.000 [ 1.000,  1.000], mean action: 0.619 [0.000, 1.000],  loss: 1.056559, mae: 4.304671, mean_q: 8.176178, mean_eps: 0.900370\n",
            " 1168/10000: episode: 49, duration: 0.302s, episode steps:  50, steps per second: 165, episode reward: 50.000, mean reward:  1.000 [ 1.000,  1.000], mean action: 0.480 [0.000, 1.000],  loss: 1.047476, mae: 4.410332, mean_q: 8.266816, mean_eps: 0.897175\n",
            " 1213/10000: episode: 50, duration: 0.271s, episode steps:  45, steps per second: 166, episode reward: 45.000, mean reward:  1.000 [ 1.000,  1.000], mean action: 0.556 [0.000, 1.000],  loss: 1.095360, mae: 4.558824, mean_q: 8.514651, mean_eps: 0.892900\n",
            " 1230/10000: episode: 51, duration: 0.102s, episode steps:  17, steps per second: 167, episode reward: 17.000, mean reward:  1.000 [ 1.000,  1.000], mean action: 0.647 [0.000, 1.000],  loss: 0.767340, mae: 4.601993, mean_q: 8.754797, mean_eps: 0.890110\n",
            " 1243/10000: episode: 52, duration: 0.078s, episode steps:  13, steps per second: 166, episode reward: 13.000, mean reward:  1.000 [ 1.000,  1.000], mean action: 0.308 [0.000, 1.000],  loss: 0.883108, mae: 4.657674, mean_q: 8.886101, mean_eps: 0.888760\n",
            " 1279/10000: episode: 53, duration: 0.218s, episode steps:  36, steps per second: 165, episode reward: 36.000, mean reward:  1.000 [ 1.000,  1.000], mean action: 0.583 [0.000, 1.000],  loss: 1.046905, mae: 4.751254, mean_q: 9.041409, mean_eps: 0.886555\n",
            " 1292/10000: episode: 54, duration: 0.078s, episode steps:  13, steps per second: 166, episode reward: 13.000, mean reward:  1.000 [ 1.000,  1.000], mean action: 0.692 [0.000, 1.000],  loss: 1.125633, mae: 4.803686, mean_q: 9.020346, mean_eps: 0.884350\n",
            " 1324/10000: episode: 55, duration: 0.194s, episode steps:  32, steps per second: 165, episode reward: 32.000, mean reward:  1.000 [ 1.000,  1.000], mean action: 0.438 [0.000, 1.000],  loss: 0.958621, mae: 4.888379, mean_q: 9.301989, mean_eps: 0.882325\n",
            " 1340/10000: episode: 56, duration: 0.107s, episode steps:  16, steps per second: 149, episode reward: 16.000, mean reward:  1.000 [ 1.000,  1.000], mean action: 0.562 [0.000, 1.000],  loss: 1.393305, mae: 5.024558, mean_q: 9.461295, mean_eps: 0.880165\n",
            " 1367/10000: episode: 57, duration: 0.165s, episode steps:  27, steps per second: 164, episode reward: 27.000, mean reward:  1.000 [ 1.000,  1.000], mean action: 0.519 [0.000, 1.000],  loss: 1.748560, mae: 5.108202, mean_q: 9.492287, mean_eps: 0.878230\n",
            " 1378/10000: episode: 58, duration: 0.075s, episode steps:  11, steps per second: 147, episode reward: 11.000, mean reward:  1.000 [ 1.000,  1.000], mean action: 0.545 [0.000, 1.000],  loss: 1.364346, mae: 5.117739, mean_q: 9.490912, mean_eps: 0.876520\n",
            " 1388/10000: episode: 59, duration: 0.068s, episode steps:  10, steps per second: 148, episode reward: 10.000, mean reward:  1.000 [ 1.000,  1.000], mean action: 0.700 [0.000, 1.000],  loss: 1.743722, mae: 5.122806, mean_q: 9.441102, mean_eps: 0.875575\n",
            " 1417/10000: episode: 60, duration: 0.176s, episode steps:  29, steps per second: 165, episode reward: 29.000, mean reward:  1.000 [ 1.000,  1.000], mean action: 0.414 [0.000, 1.000],  loss: 1.326802, mae: 5.154890, mean_q: 9.693624, mean_eps: 0.873820\n",
            " 1438/10000: episode: 61, duration: 0.130s, episode steps:  21, steps per second: 161, episode reward: 21.000, mean reward:  1.000 [ 1.000,  1.000], mean action: 0.571 [0.000, 1.000],  loss: 1.392127, mae: 5.233643, mean_q: 9.792953, mean_eps: 0.871570\n",
            " 1462/10000: episode: 62, duration: 0.147s, episode steps:  24, steps per second: 164, episode reward: 24.000, mean reward:  1.000 [ 1.000,  1.000], mean action: 0.583 [0.000, 1.000],  loss: 1.479416, mae: 5.262400, mean_q: 9.815052, mean_eps: 0.869545\n",
            " 1476/10000: episode: 63, duration: 0.094s, episode steps:  14, steps per second: 148, episode reward: 14.000, mean reward:  1.000 [ 1.000,  1.000], mean action: 0.357 [0.000, 1.000],  loss: 0.776441, mae: 5.253902, mean_q: 10.020721, mean_eps: 0.867835\n",
            " 1490/10000: episode: 64, duration: 0.087s, episode steps:  14, steps per second: 161, episode reward: 14.000, mean reward:  1.000 [ 1.000,  1.000], mean action: 0.357 [0.000, 1.000],  loss: 1.775343, mae: 5.390837, mean_q: 10.164216, mean_eps: 0.866575\n",
            " 1501/10000: episode: 65, duration: 0.073s, episode steps:  11, steps per second: 150, episode reward: 11.000, mean reward:  1.000 [ 1.000,  1.000], mean action: 0.364 [0.000, 1.000],  loss: 1.165050, mae: 5.380388, mean_q: 10.151798, mean_eps: 0.865450\n",
            " 1537/10000: episode: 66, duration: 0.229s, episode steps:  36, steps per second: 157, episode reward: 36.000, mean reward:  1.000 [ 1.000,  1.000], mean action: 0.444 [0.000, 1.000],  loss: 1.380089, mae: 5.433341, mean_q: 10.279342, mean_eps: 0.863335\n",
            " 1557/10000: episode: 67, duration: 0.117s, episode steps:  20, steps per second: 171, episode reward: 20.000, mean reward:  1.000 [ 1.000,  1.000], mean action: 0.600 [0.000, 1.000],  loss: 1.165049, mae: 5.514892, mean_q: 10.497400, mean_eps: 0.860815\n",
            " 1591/10000: episode: 68, duration: 0.200s, episode steps:  34, steps per second: 170, episode reward: 34.000, mean reward:  1.000 [ 1.000,  1.000], mean action: 0.500 [0.000, 1.000],  loss: 1.416128, mae: 5.610289, mean_q: 10.647496, mean_eps: 0.858385\n",
            " 1623/10000: episode: 69, duration: 0.180s, episode steps:  32, steps per second: 178, episode reward: 32.000, mean reward:  1.000 [ 1.000,  1.000], mean action: 0.469 [0.000, 1.000],  loss: 1.153179, mae: 5.612265, mean_q: 10.703939, mean_eps: 0.855415\n",
            " 1637/10000: episode: 70, duration: 0.085s, episode steps:  14, steps per second: 165, episode reward: 14.000, mean reward:  1.000 [ 1.000,  1.000], mean action: 0.571 [0.000, 1.000],  loss: 1.362851, mae: 5.787793, mean_q: 11.097825, mean_eps: 0.853345\n",
            " 1678/10000: episode: 71, duration: 0.253s, episode steps:  41, steps per second: 162, episode reward: 41.000, mean reward:  1.000 [ 1.000,  1.000], mean action: 0.610 [0.000, 1.000],  loss: 1.979962, mae: 5.838096, mean_q: 10.956216, mean_eps: 0.850870\n",
            " 1702/10000: episode: 72, duration: 0.147s, episode steps:  24, steps per second: 163, episode reward: 24.000, mean reward:  1.000 [ 1.000,  1.000], mean action: 0.417 [0.000, 1.000],  loss: 1.833504, mae: 5.893065, mean_q: 11.079785, mean_eps: 0.847945\n",
            " 1721/10000: episode: 73, duration: 0.121s, episode steps:  19, steps per second: 157, episode reward: 19.000, mean reward:  1.000 [ 1.000,  1.000], mean action: 0.632 [0.000, 1.000],  loss: 1.812694, mae: 5.972533, mean_q: 11.295217, mean_eps: 0.846010\n",
            " 1733/10000: episode: 74, duration: 0.072s, episode steps:  12, steps per second: 166, episode reward: 12.000, mean reward:  1.000 [ 1.000,  1.000], mean action: 0.250 [0.000, 1.000],  loss: 1.124815, mae: 5.922728, mean_q: 11.280750, mean_eps: 0.844615\n",
            " 1752/10000: episode: 75, duration: 0.111s, episode steps:  19, steps per second: 171, episode reward: 19.000, mean reward:  1.000 [ 1.000,  1.000], mean action: 0.579 [0.000, 1.000],  loss: 1.727363, mae: 6.013170, mean_q: 11.416616, mean_eps: 0.843220\n",
            " 1768/10000: episode: 76, duration: 0.104s, episode steps:  16, steps per second: 153, episode reward: 16.000, mean reward:  1.000 [ 1.000,  1.000], mean action: 0.688 [0.000, 1.000],  loss: 2.940964, mae: 6.173155, mean_q: 11.475734, mean_eps: 0.841645\n",
            " 1790/10000: episode: 77, duration: 0.130s, episode steps:  22, steps per second: 170, episode reward: 22.000, mean reward:  1.000 [ 1.000,  1.000], mean action: 0.636 [0.000, 1.000],  loss: 1.599396, mae: 6.086119, mean_q: 11.480792, mean_eps: 0.839935\n",
            " 1803/10000: episode: 78, duration: 0.087s, episode steps:  13, steps per second: 149, episode reward: 13.000, mean reward:  1.000 [ 1.000,  1.000], mean action: 0.385 [0.000, 1.000],  loss: 2.414706, mae: 6.206065, mean_q: 11.698687, mean_eps: 0.838360\n",
            " 1898/10000: episode: 79, duration: 0.579s, episode steps:  95, steps per second: 164, episode reward: 95.000, mean reward:  1.000 [ 1.000,  1.000], mean action: 0.526 [0.000, 1.000],  loss: 2.174936, mae: 6.288468, mean_q: 11.838362, mean_eps: 0.833500\n",
            " 1937/10000: episode: 80, duration: 0.229s, episode steps:  39, steps per second: 170, episode reward: 39.000, mean reward:  1.000 [ 1.000,  1.000], mean action: 0.513 [0.000, 1.000],  loss: 1.405423, mae: 6.376460, mean_q: 12.190661, mean_eps: 0.827470\n",
            " 1980/10000: episode: 81, duration: 0.259s, episode steps:  43, steps per second: 166, episode reward: 43.000, mean reward:  1.000 [ 1.000,  1.000], mean action: 0.535 [0.000, 1.000],  loss: 2.184361, mae: 6.553197, mean_q: 12.464749, mean_eps: 0.823780\n",
            " 2005/10000: episode: 82, duration: 0.151s, episode steps:  25, steps per second: 166, episode reward: 25.000, mean reward:  1.000 [ 1.000,  1.000], mean action: 0.480 [0.000, 1.000],  loss: 2.129357, mae: 6.602935, mean_q: 12.533363, mean_eps: 0.820720\n",
            " 2025/10000: episode: 83, duration: 0.127s, episode steps:  20, steps per second: 158, episode reward: 20.000, mean reward:  1.000 [ 1.000,  1.000], mean action: 0.400 [0.000, 1.000],  loss: 1.797930, mae: 6.617139, mean_q: 12.671985, mean_eps: 0.818695\n",
            " 2049/10000: episode: 84, duration: 0.155s, episode steps:  24, steps per second: 154, episode reward: 24.000, mean reward:  1.000 [ 1.000,  1.000], mean action: 0.417 [0.000, 1.000],  loss: 2.450580, mae: 6.753479, mean_q: 12.797349, mean_eps: 0.816715\n",
            " 2105/10000: episode: 85, duration: 0.326s, episode steps:  56, steps per second: 172, episode reward: 56.000, mean reward:  1.000 [ 1.000,  1.000], mean action: 0.482 [0.000, 1.000],  loss: 2.247798, mae: 6.850636, mean_q: 13.051493, mean_eps: 0.813115\n",
            " 2131/10000: episode: 86, duration: 0.156s, episode steps:  26, steps per second: 166, episode reward: 26.000, mean reward:  1.000 [ 1.000,  1.000], mean action: 0.538 [0.000, 1.000],  loss: 1.623483, mae: 6.904503, mean_q: 13.259318, mean_eps: 0.809425\n",
            " 2169/10000: episode: 87, duration: 0.261s, episode steps:  38, steps per second: 146, episode reward: 38.000, mean reward:  1.000 [ 1.000,  1.000], mean action: 0.526 [0.000, 1.000],  loss: 1.773863, mae: 7.046387, mean_q: 13.598694, mean_eps: 0.806545\n",
            " 2196/10000: episode: 88, duration: 0.159s, episode steps:  27, steps per second: 170, episode reward: 27.000, mean reward:  1.000 [ 1.000,  1.000], mean action: 0.481 [0.000, 1.000],  loss: 2.056105, mae: 7.102760, mean_q: 13.632262, mean_eps: 0.803620\n",
            " 2209/10000: episode: 89, duration: 0.086s, episode steps:  13, steps per second: 152, episode reward: 13.000, mean reward:  1.000 [ 1.000,  1.000], mean action: 0.462 [0.000, 1.000],  loss: 2.698979, mae: 7.217957, mean_q: 13.736328, mean_eps: 0.801820\n",
            " 2224/10000: episode: 90, duration: 0.089s, episode steps:  15, steps per second: 169, episode reward: 15.000, mean reward:  1.000 [ 1.000,  1.000], mean action: 0.400 [0.000, 1.000],  loss: 2.881786, mae: 7.298614, mean_q: 13.841111, mean_eps: 0.800560\n",
            " 2246/10000: episode: 91, duration: 0.134s, episode steps:  22, steps per second: 164, episode reward: 22.000, mean reward:  1.000 [ 1.000,  1.000], mean action: 0.455 [0.000, 1.000],  loss: 2.470371, mae: 7.238645, mean_q: 13.752748, mean_eps: 0.798895\n",
            " 2297/10000: episode: 92, duration: 0.296s, episode steps:  51, steps per second: 172, episode reward: 51.000, mean reward:  1.000 [ 1.000,  1.000], mean action: 0.471 [0.000, 1.000],  loss: 2.503386, mae: 7.375675, mean_q: 14.064325, mean_eps: 0.795610\n",
            " 2306/10000: episode: 93, duration: 0.058s, episode steps:   9, steps per second: 156, episode reward:  9.000, mean reward:  1.000 [ 1.000,  1.000], mean action: 0.889 [0.000, 1.000],  loss: 1.649559, mae: 7.322823, mean_q: 13.988831, mean_eps: 0.792910\n",
            " 2328/10000: episode: 94, duration: 0.133s, episode steps:  22, steps per second: 165, episode reward: 22.000, mean reward:  1.000 [ 1.000,  1.000], mean action: 0.409 [0.000, 1.000],  loss: 2.823810, mae: 7.436142, mean_q: 14.116740, mean_eps: 0.791515\n",
            " 2349/10000: episode: 95, duration: 0.130s, episode steps:  21, steps per second: 162, episode reward: 21.000, mean reward:  1.000 [ 1.000,  1.000], mean action: 0.524 [0.000, 1.000],  loss: 2.966835, mae: 7.512980, mean_q: 14.216449, mean_eps: 0.789580\n",
            " 2421/10000: episode: 96, duration: 0.441s, episode steps:  72, steps per second: 163, episode reward: 72.000, mean reward:  1.000 [ 1.000,  1.000], mean action: 0.500 [0.000, 1.000],  loss: 2.135641, mae: 7.555533, mean_q: 14.512711, mean_eps: 0.785395\n",
            " 2471/10000: episode: 97, duration: 0.305s, episode steps:  50, steps per second: 164, episode reward: 50.000, mean reward:  1.000 [ 1.000,  1.000], mean action: 0.500 [0.000, 1.000],  loss: 2.437863, mae: 7.747527, mean_q: 14.840907, mean_eps: 0.779905\n",
            " 2488/10000: episode: 98, duration: 0.103s, episode steps:  17, steps per second: 165, episode reward: 17.000, mean reward:  1.000 [ 1.000,  1.000], mean action: 0.235 [0.000, 1.000],  loss: 2.757678, mae: 7.829293, mean_q: 15.005014, mean_eps: 0.776890\n",
            " 2516/10000: episode: 99, duration: 0.177s, episode steps:  28, steps per second: 158, episode reward: 28.000, mean reward:  1.000 [ 1.000,  1.000], mean action: 0.536 [0.000, 1.000],  loss: 3.704188, mae: 7.890523, mean_q: 14.953761, mean_eps: 0.774865\n",
            " 2536/10000: episode: 100, duration: 0.125s, episode steps:  20, steps per second: 160, episode reward: 20.000, mean reward:  1.000 [ 1.000,  1.000], mean action: 0.450 [0.000, 1.000],  loss: 2.583457, mae: 7.936699, mean_q: 15.198407, mean_eps: 0.772705\n",
            " 2575/10000: episode: 101, duration: 0.245s, episode steps:  39, steps per second: 159, episode reward: 39.000, mean reward:  1.000 [ 1.000,  1.000], mean action: 0.538 [0.000, 1.000],  loss: 2.431873, mae: 8.008903, mean_q: 15.393600, mean_eps: 0.770050\n",
            " 2590/10000: episode: 102, duration: 0.087s, episode steps:  15, steps per second: 172, episode reward: 15.000, mean reward:  1.000 [ 1.000,  1.000], mean action: 0.667 [0.000, 1.000],  loss: 3.165779, mae: 8.115772, mean_q: 15.538470, mean_eps: 0.767620\n",
            " 2612/10000: episode: 103, duration: 0.132s, episode steps:  22, steps per second: 167, episode reward: 22.000, mean reward:  1.000 [ 1.000,  1.000], mean action: 0.364 [0.000, 1.000],  loss: 2.474535, mae: 8.013430, mean_q: 15.359563, mean_eps: 0.765955\n",
            " 2625/10000: episode: 104, duration: 0.086s, episode steps:  13, steps per second: 151, episode reward: 13.000, mean reward:  1.000 [ 1.000,  1.000], mean action: 0.231 [0.000, 1.000],  loss: 4.247543, mae: 8.242362, mean_q: 15.564782, mean_eps: 0.764380\n",
            " 2673/10000: episode: 105, duration: 0.405s, episode steps:  48, steps per second: 119, episode reward: 48.000, mean reward:  1.000 [ 1.000,  1.000], mean action: 0.500 [0.000, 1.000],  loss: 3.363292, mae: 8.216913, mean_q: 15.636779, mean_eps: 0.761635\n",
            " 2709/10000: episode: 106, duration: 0.303s, episode steps:  36, steps per second: 119, episode reward: 36.000, mean reward:  1.000 [ 1.000,  1.000], mean action: 0.472 [0.000, 1.000],  loss: 3.319002, mae: 8.238803, mean_q: 15.707593, mean_eps: 0.757855\n",
            " 2777/10000: episode: 107, duration: 0.583s, episode steps:  68, steps per second: 117, episode reward: 68.000, mean reward:  1.000 [ 1.000,  1.000], mean action: 0.471 [0.000, 1.000],  loss: 3.734270, mae: 8.387286, mean_q: 15.951245, mean_eps: 0.753175\n",
            " 2805/10000: episode: 108, duration: 0.256s, episode steps:  28, steps per second: 109, episode reward: 28.000, mean reward:  1.000 [ 1.000,  1.000], mean action: 0.571 [0.000, 1.000],  loss: 2.545654, mae: 8.362146, mean_q: 16.105978, mean_eps: 0.748855\n",
            " 2864/10000: episode: 109, duration: 0.486s, episode steps:  59, steps per second: 121, episode reward: 59.000, mean reward:  1.000 [ 1.000,  1.000], mean action: 0.525 [0.000, 1.000],  loss: 3.532649, mae: 8.555299, mean_q: 16.401410, mean_eps: 0.744940\n",
            " 2909/10000: episode: 110, duration: 0.408s, episode steps:  45, steps per second: 110, episode reward: 45.000, mean reward:  1.000 [ 1.000,  1.000], mean action: 0.533 [0.000, 1.000],  loss: 3.336972, mae: 8.726206, mean_q: 16.777663, mean_eps: 0.740260\n",
            " 2981/10000: episode: 111, duration: 0.504s, episode steps:  72, steps per second: 143, episode reward: 72.000, mean reward:  1.000 [ 1.000,  1.000], mean action: 0.514 [0.000, 1.000],  loss: 2.941670, mae: 8.790243, mean_q: 16.963747, mean_eps: 0.734995\n",
            " 3020/10000: episode: 112, duration: 0.245s, episode steps:  39, steps per second: 159, episode reward: 39.000, mean reward:  1.000 [ 1.000,  1.000], mean action: 0.462 [0.000, 1.000],  loss: 3.572597, mae: 8.874403, mean_q: 17.046884, mean_eps: 0.730000\n",
            " 3031/10000: episode: 113, duration: 0.068s, episode steps:  11, steps per second: 161, episode reward: 11.000, mean reward:  1.000 [ 1.000,  1.000], mean action: 0.636 [0.000, 1.000],  loss: 2.737501, mae: 8.945267, mean_q: 17.354124, mean_eps: 0.727750\n",
            " 3084/10000: episode: 114, duration: 0.323s, episode steps:  53, steps per second: 164, episode reward: 53.000, mean reward:  1.000 [ 1.000,  1.000], mean action: 0.528 [0.000, 1.000],  loss: 3.228264, mae: 9.046193, mean_q: 17.500072, mean_eps: 0.724870\n",
            " 3113/10000: episode: 115, duration: 0.180s, episode steps:  29, steps per second: 161, episode reward: 29.000, mean reward:  1.000 [ 1.000,  1.000], mean action: 0.517 [0.000, 1.000],  loss: 3.452229, mae: 9.082719, mean_q: 17.506563, mean_eps: 0.721180\n",
            " 3133/10000: episode: 116, duration: 0.128s, episode steps:  20, steps per second: 156, episode reward: 20.000, mean reward:  1.000 [ 1.000,  1.000], mean action: 0.500 [0.000, 1.000],  loss: 2.989481, mae: 9.183988, mean_q: 17.761638, mean_eps: 0.718975\n",
            " 3193/10000: episode: 117, duration: 0.364s, episode steps:  60, steps per second: 165, episode reward: 60.000, mean reward:  1.000 [ 1.000,  1.000], mean action: 0.533 [0.000, 1.000],  loss: 3.721337, mae: 9.277083, mean_q: 17.890975, mean_eps: 0.715375\n",
            " 3239/10000: episode: 118, duration: 0.278s, episode steps:  46, steps per second: 165, episode reward: 46.000, mean reward:  1.000 [ 1.000,  1.000], mean action: 0.522 [0.000, 1.000],  loss: 4.130387, mae: 9.380781, mean_q: 17.984666, mean_eps: 0.710605\n",
            " 3307/10000: episode: 119, duration: 0.410s, episode steps:  68, steps per second: 166, episode reward: 68.000, mean reward:  1.000 [ 1.000,  1.000], mean action: 0.500 [0.000, 1.000],  loss: 4.322174, mae: 9.579068, mean_q: 18.422413, mean_eps: 0.705475\n",
            " 3331/10000: episode: 120, duration: 0.152s, episode steps:  24, steps per second: 158, episode reward: 24.000, mean reward:  1.000 [ 1.000,  1.000], mean action: 0.500 [0.000, 1.000],  loss: 3.456757, mae: 9.614702, mean_q: 18.583839, mean_eps: 0.701335\n",
            " 3360/10000: episode: 121, duration: 0.187s, episode steps:  29, steps per second: 155, episode reward: 29.000, mean reward:  1.000 [ 1.000,  1.000], mean action: 0.552 [0.000, 1.000],  loss: 2.574753, mae: 9.655881, mean_q: 18.882140, mean_eps: 0.698950\n",
            " 3397/10000: episode: 122, duration: 0.228s, episode steps:  37, steps per second: 162, episode reward: 37.000, mean reward:  1.000 [ 1.000,  1.000], mean action: 0.541 [0.000, 1.000],  loss: 3.111065, mae: 9.738690, mean_q: 18.893767, mean_eps: 0.695980\n",
            " 3409/10000: episode: 123, duration: 0.078s, episode steps:  12, steps per second: 153, episode reward: 12.000, mean reward:  1.000 [ 1.000,  1.000], mean action: 0.750 [0.000, 1.000],  loss: 4.088977, mae: 9.772258, mean_q: 18.936281, mean_eps: 0.693775\n",
            " 3459/10000: episode: 124, duration: 0.301s, episode steps:  50, steps per second: 166, episode reward: 50.000, mean reward:  1.000 [ 1.000,  1.000], mean action: 0.460 [0.000, 1.000],  loss: 3.673768, mae: 9.955047, mean_q: 19.288692, mean_eps: 0.690985\n",
            " 3493/10000: episode: 125, duration: 0.199s, episode steps:  34, steps per second: 171, episode reward: 34.000, mean reward:  1.000 [ 1.000,  1.000], mean action: 0.529 [0.000, 1.000],  loss: 4.780600, mae: 9.980206, mean_q: 19.144928, mean_eps: 0.687205\n",
            " 3519/10000: episode: 126, duration: 0.159s, episode steps:  26, steps per second: 164, episode reward: 26.000, mean reward:  1.000 [ 1.000,  1.000], mean action: 0.462 [0.000, 1.000],  loss: 4.930212, mae: 10.032334, mean_q: 19.249193, mean_eps: 0.684505\n",
            " 3579/10000: episode: 127, duration: 0.362s, episode steps:  60, steps per second: 166, episode reward: 60.000, mean reward:  1.000 [ 1.000,  1.000], mean action: 0.500 [0.000, 1.000],  loss: 3.608800, mae: 10.046874, mean_q: 19.482889, mean_eps: 0.680635\n",
            " 3614/10000: episode: 128, duration: 0.228s, episode steps:  35, steps per second: 154, episode reward: 35.000, mean reward:  1.000 [ 1.000,  1.000], mean action: 0.514 [0.000, 1.000],  loss: 5.219957, mae: 10.299876, mean_q: 19.805985, mean_eps: 0.676360\n",
            " 3640/10000: episode: 129, duration: 0.159s, episode steps:  26, steps per second: 163, episode reward: 26.000, mean reward:  1.000 [ 1.000,  1.000], mean action: 0.462 [0.000, 1.000],  loss: 4.812258, mae: 10.296280, mean_q: 19.771673, mean_eps: 0.673615\n",
            " 3651/10000: episode: 130, duration: 0.074s, episode steps:  11, steps per second: 149, episode reward: 11.000, mean reward:  1.000 [ 1.000,  1.000], mean action: 0.273 [0.000, 1.000],  loss: 3.353589, mae: 10.307042, mean_q: 19.901576, mean_eps: 0.671950\n",
            " 3690/10000: episode: 131, duration: 0.246s, episode steps:  39, steps per second: 159, episode reward: 39.000, mean reward:  1.000 [ 1.000,  1.000], mean action: 0.564 [0.000, 1.000],  loss: 4.290239, mae: 10.403190, mean_q: 20.131164, mean_eps: 0.669700\n",
            " 3712/10000: episode: 132, duration: 0.137s, episode steps:  22, steps per second: 161, episode reward: 22.000, mean reward:  1.000 [ 1.000,  1.000], mean action: 0.545 [0.000, 1.000],  loss: 5.138721, mae: 10.470283, mean_q: 20.230577, mean_eps: 0.666955\n",
            " 3742/10000: episode: 133, duration: 0.182s, episode steps:  30, steps per second: 165, episode reward: 30.000, mean reward:  1.000 [ 1.000,  1.000], mean action: 0.500 [0.000, 1.000],  loss: 4.427653, mae: 10.433668, mean_q: 20.216879, mean_eps: 0.664615\n",
            " 3791/10000: episode: 134, duration: 0.300s, episode steps:  49, steps per second: 163, episode reward: 49.000, mean reward:  1.000 [ 1.000,  1.000], mean action: 0.531 [0.000, 1.000],  loss: 4.474393, mae: 10.644155, mean_q: 20.598641, mean_eps: 0.661060\n",
            " 3834/10000: episode: 135, duration: 0.256s, episode steps:  43, steps per second: 168, episode reward: 43.000, mean reward:  1.000 [ 1.000,  1.000], mean action: 0.535 [0.000, 1.000],  loss: 3.674449, mae: 10.741284, mean_q: 20.935074, mean_eps: 0.656920\n",
            " 3871/10000: episode: 136, duration: 0.232s, episode steps:  37, steps per second: 159, episode reward: 37.000, mean reward:  1.000 [ 1.000,  1.000], mean action: 0.568 [0.000, 1.000],  loss: 5.699571, mae: 10.839093, mean_q: 20.852219, mean_eps: 0.653320\n",
            " 4022/10000: episode: 137, duration: 0.940s, episode steps: 151, steps per second: 161, episode reward: 151.000, mean reward:  1.000 [ 1.000,  1.000], mean action: 0.457 [0.000, 1.000],  loss: 4.859889, mae: 10.970555, mean_q: 21.179240, mean_eps: 0.644860\n",
            " 4113/10000: episode: 138, duration: 0.541s, episode steps:  91, steps per second: 168, episode reward: 91.000, mean reward:  1.000 [ 1.000,  1.000], mean action: 0.505 [0.000, 1.000],  loss: 3.474798, mae: 11.171773, mean_q: 21.809191, mean_eps: 0.633970\n",
            " 4149/10000: episode: 139, duration: 0.215s, episode steps:  36, steps per second: 168, episode reward: 36.000, mean reward:  1.000 [ 1.000,  1.000], mean action: 0.528 [0.000, 1.000],  loss: 4.870060, mae: 11.416218, mean_q: 22.099382, mean_eps: 0.628255\n",
            " 4214/10000: episode: 140, duration: 0.387s, episode steps:  65, steps per second: 168, episode reward: 65.000, mean reward:  1.000 [ 1.000,  1.000], mean action: 0.462 [0.000, 1.000],  loss: 5.190056, mae: 11.424323, mean_q: 22.154548, mean_eps: 0.623710\n",
            " 4226/10000: episode: 141, duration: 0.073s, episode steps:  12, steps per second: 165, episode reward: 12.000, mean reward:  1.000 [ 1.000,  1.000], mean action: 0.583 [0.000, 1.000],  loss: 3.702388, mae: 11.304149, mean_q: 22.036133, mean_eps: 0.620245\n",
            " 4336/10000: episode: 142, duration: 0.679s, episode steps: 110, steps per second: 162, episode reward: 110.000, mean reward:  1.000 [ 1.000,  1.000], mean action: 0.482 [0.000, 1.000],  loss: 4.763969, mae: 11.657279, mean_q: 22.659860, mean_eps: 0.614755\n",
            " 4415/10000: episode: 143, duration: 0.476s, episode steps:  79, steps per second: 166, episode reward: 79.000, mean reward:  1.000 [ 1.000,  1.000], mean action: 0.494 [0.000, 1.000],  loss: 4.622713, mae: 11.844366, mean_q: 23.024888, mean_eps: 0.606250\n",
            " 4485/10000: episode: 144, duration: 0.414s, episode steps:  70, steps per second: 169, episode reward: 70.000, mean reward:  1.000 [ 1.000,  1.000], mean action: 0.514 [0.000, 1.000],  loss: 4.879871, mae: 11.946080, mean_q: 23.168562, mean_eps: 0.599545\n",
            " 4634/10000: episode: 145, duration: 1.064s, episode steps: 149, steps per second: 140, episode reward: 149.000, mean reward:  1.000 [ 1.000,  1.000], mean action: 0.483 [0.000, 1.000],  loss: 4.647503, mae: 12.200331, mean_q: 23.801229, mean_eps: 0.589690\n",
            " 4699/10000: episode: 146, duration: 0.539s, episode steps:  65, steps per second: 120, episode reward: 65.000, mean reward:  1.000 [ 1.000,  1.000], mean action: 0.492 [0.000, 1.000],  loss: 5.570208, mae: 12.415961, mean_q: 24.138580, mean_eps: 0.580060\n",
            " 4735/10000: episode: 147, duration: 0.333s, episode steps:  36, steps per second: 108, episode reward: 36.000, mean reward:  1.000 [ 1.000,  1.000], mean action: 0.528 [0.000, 1.000],  loss: 3.730083, mae: 12.495641, mean_q: 24.524874, mean_eps: 0.575515\n",
            " 4771/10000: episode: 148, duration: 0.315s, episode steps:  36, steps per second: 114, episode reward: 36.000, mean reward:  1.000 [ 1.000,  1.000], mean action: 0.500 [0.000, 1.000],  loss: 6.412713, mae: 12.645581, mean_q: 24.508640, mean_eps: 0.572275\n",
            " 4826/10000: episode: 149, duration: 0.501s, episode steps:  55, steps per second: 110, episode reward: 55.000, mean reward:  1.000 [ 1.000,  1.000], mean action: 0.455 [0.000, 1.000],  loss: 4.476341, mae: 12.646112, mean_q: 24.632121, mean_eps: 0.568180\n",
            " 4884/10000: episode: 150, duration: 0.459s, episode steps:  58, steps per second: 126, episode reward: 58.000, mean reward:  1.000 [ 1.000,  1.000], mean action: 0.552 [0.000, 1.000],  loss: 5.916587, mae: 12.787223, mean_q: 24.907750, mean_eps: 0.563095\n",
            " 4941/10000: episode: 151, duration: 0.365s, episode steps:  57, steps per second: 156, episode reward: 57.000, mean reward:  1.000 [ 1.000,  1.000], mean action: 0.491 [0.000, 1.000],  loss: 4.762460, mae: 12.850221, mean_q: 25.111621, mean_eps: 0.557920\n",
            " 5031/10000: episode: 152, duration: 0.570s, episode steps:  90, steps per second: 158, episode reward: 90.000, mean reward:  1.000 [ 1.000,  1.000], mean action: 0.522 [0.000, 1.000],  loss: 7.072131, mae: 13.060974, mean_q: 25.366221, mean_eps: 0.551305\n",
            " 5101/10000: episode: 153, duration: 0.415s, episode steps:  70, steps per second: 169, episode reward: 70.000, mean reward:  1.000 [ 1.000,  1.000], mean action: 0.529 [0.000, 1.000],  loss: 6.529885, mae: 13.171739, mean_q: 25.604936, mean_eps: 0.544105\n",
            " 5158/10000: episode: 154, duration: 0.355s, episode steps:  57, steps per second: 160, episode reward: 57.000, mean reward:  1.000 [ 1.000,  1.000], mean action: 0.491 [0.000, 1.000],  loss: 6.225866, mae: 13.276157, mean_q: 25.847689, mean_eps: 0.538390\n",
            " 5179/10000: episode: 155, duration: 0.133s, episode steps:  21, steps per second: 158, episode reward: 21.000, mean reward:  1.000 [ 1.000,  1.000], mean action: 0.429 [0.000, 1.000],  loss: 5.845063, mae: 13.325731, mean_q: 25.930632, mean_eps: 0.534880\n",
            " 5258/10000: episode: 156, duration: 0.496s, episode steps:  79, steps per second: 159, episode reward: 79.000, mean reward:  1.000 [ 1.000,  1.000], mean action: 0.468 [0.000, 1.000],  loss: 7.090776, mae: 13.456969, mean_q: 26.129496, mean_eps: 0.530380\n",
            " 5295/10000: episode: 157, duration: 0.248s, episode steps:  37, steps per second: 149, episode reward: 37.000, mean reward:  1.000 [ 1.000,  1.000], mean action: 0.459 [0.000, 1.000],  loss: 8.031760, mae: 13.544385, mean_q: 26.243998, mean_eps: 0.525160\n",
            " 5368/10000: episode: 158, duration: 0.456s, episode steps:  73, steps per second: 160, episode reward: 73.000, mean reward:  1.000 [ 1.000,  1.000], mean action: 0.507 [0.000, 1.000],  loss: 5.842432, mae: 13.513923, mean_q: 26.289546, mean_eps: 0.520210\n",
            " 5451/10000: episode: 159, duration: 0.490s, episode steps:  83, steps per second: 169, episode reward: 83.000, mean reward:  1.000 [ 1.000,  1.000], mean action: 0.494 [0.000, 1.000],  loss: 5.967897, mae: 13.676975, mean_q: 26.688186, mean_eps: 0.513190\n",
            " 5531/10000: episode: 160, duration: 0.495s, episode steps:  80, steps per second: 162, episode reward: 80.000, mean reward:  1.000 [ 1.000,  1.000], mean action: 0.463 [0.000, 1.000],  loss: 6.825516, mae: 13.861036, mean_q: 26.992941, mean_eps: 0.505855\n",
            " 5601/10000: episode: 161, duration: 0.413s, episode steps:  70, steps per second: 169, episode reward: 70.000, mean reward:  1.000 [ 1.000,  1.000], mean action: 0.457 [0.000, 1.000],  loss: 6.444398, mae: 13.954833, mean_q: 27.144134, mean_eps: 0.499105\n",
            " 5630/10000: episode: 162, duration: 0.188s, episode steps:  29, steps per second: 154, episode reward: 29.000, mean reward:  1.000 [ 1.000,  1.000], mean action: 0.483 [0.000, 1.000],  loss: 6.116240, mae: 14.067303, mean_q: 27.423705, mean_eps: 0.494650\n",
            " 5714/10000: episode: 163, duration: 0.500s, episode steps:  84, steps per second: 168, episode reward: 84.000, mean reward:  1.000 [ 1.000,  1.000], mean action: 0.488 [0.000, 1.000],  loss: 7.156055, mae: 14.101261, mean_q: 27.397665, mean_eps: 0.489565\n",
            " 5810/10000: episode: 164, duration: 0.567s, episode steps:  96, steps per second: 169, episode reward: 96.000, mean reward:  1.000 [ 1.000,  1.000], mean action: 0.490 [0.000, 1.000],  loss: 6.681931, mae: 14.249481, mean_q: 27.770358, mean_eps: 0.481465\n",
            " 5867/10000: episode: 165, duration: 0.345s, episode steps:  57, steps per second: 165, episode reward: 57.000, mean reward:  1.000 [ 1.000,  1.000], mean action: 0.456 [0.000, 1.000],  loss: 6.484976, mae: 14.296171, mean_q: 27.856630, mean_eps: 0.474580\n",
            " 5963/10000: episode: 166, duration: 0.545s, episode steps:  96, steps per second: 176, episode reward: 96.000, mean reward:  1.000 [ 1.000,  1.000], mean action: 0.469 [0.000, 1.000],  loss: 5.841804, mae: 14.423344, mean_q: 28.194631, mean_eps: 0.467695\n",
            " 6058/10000: episode: 167, duration: 0.588s, episode steps:  95, steps per second: 161, episode reward: 95.000, mean reward:  1.000 [ 1.000,  1.000], mean action: 0.463 [0.000, 1.000],  loss: 6.453326, mae: 14.670511, mean_q: 28.663005, mean_eps: 0.459100\n",
            " 6139/10000: episode: 168, duration: 0.477s, episode steps:  81, steps per second: 170, episode reward: 81.000, mean reward:  1.000 [ 1.000,  1.000], mean action: 0.469 [0.000, 1.000],  loss: 6.292980, mae: 14.746899, mean_q: 28.849617, mean_eps: 0.451180\n",
            " 6247/10000: episode: 169, duration: 0.629s, episode steps: 108, steps per second: 172, episode reward: 108.000, mean reward:  1.000 [ 1.000,  1.000], mean action: 0.463 [0.000, 1.000],  loss: 6.450449, mae: 14.914466, mean_q: 29.218007, mean_eps: 0.442675\n",
            " 6260/10000: episode: 170, duration: 0.085s, episode steps:  13, steps per second: 152, episode reward: 13.000, mean reward:  1.000 [ 1.000,  1.000], mean action: 0.692 [0.000, 1.000],  loss: 5.853493, mae: 15.132218, mean_q: 29.700059, mean_eps: 0.437230\n",
            " 6332/10000: episode: 171, duration: 0.436s, episode steps:  72, steps per second: 165, episode reward: 72.000, mean reward:  1.000 [ 1.000,  1.000], mean action: 0.472 [0.000, 1.000],  loss: 6.336413, mae: 15.150629, mean_q: 29.642555, mean_eps: 0.433405\n",
            " 6455/10000: episode: 172, duration: 0.720s, episode steps: 123, steps per second: 171, episode reward: 123.000, mean reward:  1.000 [ 1.000,  1.000], mean action: 0.463 [0.000, 1.000],  loss: 6.975255, mae: 15.353114, mean_q: 30.087196, mean_eps: 0.424630\n",
            " 6569/10000: episode: 173, duration: 0.863s, episode steps: 114, steps per second: 132, episode reward: 114.000, mean reward:  1.000 [ 1.000,  1.000], mean action: 0.474 [0.000, 1.000],  loss: 6.711475, mae: 15.508742, mean_q: 30.387290, mean_eps: 0.413965\n",
            " 6675/10000: episode: 174, duration: 0.916s, episode steps: 106, steps per second: 116, episode reward: 106.000, mean reward:  1.000 [ 1.000,  1.000], mean action: 0.500 [0.000, 1.000],  loss: 7.684392, mae: 15.707757, mean_q: 30.726800, mean_eps: 0.404065\n",
            " 6875/10000: episode: 175, duration: 1.602s, episode steps: 200, steps per second: 125, episode reward: 200.000, mean reward:  1.000 [ 1.000,  1.000], mean action: 0.485 [0.000, 1.000],  loss: 6.247542, mae: 15.966663, mean_q: 31.391078, mean_eps: 0.390295\n",
            " 6993/10000: episode: 176, duration: 0.690s, episode steps: 118, steps per second: 171, episode reward: 118.000, mean reward:  1.000 [ 1.000,  1.000], mean action: 0.466 [0.000, 1.000],  loss: 7.431172, mae: 16.222509, mean_q: 31.836895, mean_eps: 0.375985\n",
            " 7121/10000: episode: 177, duration: 0.767s, episode steps: 128, steps per second: 167, episode reward: 128.000, mean reward:  1.000 [ 1.000,  1.000], mean action: 0.531 [0.000, 1.000],  loss: 6.596147, mae: 16.391376, mean_q: 32.298982, mean_eps: 0.364915\n",
            " 7232/10000: episode: 178, duration: 1.051s, episode steps: 111, steps per second: 106, episode reward: 111.000, mean reward:  1.000 [ 1.000,  1.000], mean action: 0.441 [0.000, 1.000],  loss: 6.961975, mae: 16.666223, mean_q: 32.791970, mean_eps: 0.354160\n",
            " 7335/10000: episode: 179, duration: 0.962s, episode steps: 103, steps per second: 107, episode reward: 103.000, mean reward:  1.000 [ 1.000,  1.000], mean action: 0.466 [0.000, 1.000],  loss: 8.087414, mae: 16.886282, mean_q: 33.185206, mean_eps: 0.344530\n",
            " 7452/10000: episode: 180, duration: 0.708s, episode steps: 117, steps per second: 165, episode reward: 117.000, mean reward:  1.000 [ 1.000,  1.000], mean action: 0.444 [0.000, 1.000],  loss: 6.847504, mae: 17.061813, mean_q: 33.690986, mean_eps: 0.334630\n",
            " 7577/10000: episode: 181, duration: 0.754s, episode steps: 125, steps per second: 166, episode reward: 125.000, mean reward:  1.000 [ 1.000,  1.000], mean action: 0.440 [0.000, 1.000],  loss: 8.700056, mae: 17.228408, mean_q: 33.893192, mean_eps: 0.323740\n",
            " 7718/10000: episode: 182, duration: 0.835s, episode steps: 141, steps per second: 169, episode reward: 141.000, mean reward:  1.000 [ 1.000,  1.000], mean action: 0.454 [0.000, 1.000],  loss: 7.890714, mae: 17.471260, mean_q: 34.381047, mean_eps: 0.311770\n",
            " 7795/10000: episode: 183, duration: 0.464s, episode steps:  77, steps per second: 166, episode reward: 77.000, mean reward:  1.000 [ 1.000,  1.000], mean action: 0.532 [0.000, 1.000],  loss: 8.053294, mae: 17.698730, mean_q: 34.939762, mean_eps: 0.301960\n",
            " 7995/10000: episode: 184, duration: 1.185s, episode steps: 200, steps per second: 169, episode reward: 200.000, mean reward:  1.000 [ 1.000,  1.000], mean action: 0.485 [0.000, 1.000],  loss: 7.163563, mae: 17.878686, mean_q: 35.331091, mean_eps: 0.289495\n",
            " 8016/10000: episode: 185, duration: 0.128s, episode steps:  21, steps per second: 164, episode reward: 21.000, mean reward:  1.000 [ 1.000,  1.000], mean action: 0.476 [0.000, 1.000],  loss: 6.885224, mae: 18.126237, mean_q: 35.863606, mean_eps: 0.279550\n",
            " 8170/10000: episode: 186, duration: 0.934s, episode steps: 154, steps per second: 165, episode reward: 154.000, mean reward:  1.000 [ 1.000,  1.000], mean action: 0.532 [0.000, 1.000],  loss: 8.709787, mae: 18.235342, mean_q: 35.995129, mean_eps: 0.271675\n",
            " 8370/10000: episode: 187, duration: 1.274s, episode steps: 200, steps per second: 157, episode reward: 200.000, mean reward:  1.000 [ 1.000,  1.000], mean action: 0.485 [0.000, 1.000],  loss: 8.579947, mae: 18.561464, mean_q: 36.615354, mean_eps: 0.255745\n",
            " 8570/10000: episode: 188, duration: 1.712s, episode steps: 200, steps per second: 117, episode reward: 200.000, mean reward:  1.000 [ 1.000,  1.000], mean action: 0.515 [0.000, 1.000],  loss: 9.171592, mae: 18.929257, mean_q: 37.304483, mean_eps: 0.237745\n",
            " 8770/10000: episode: 189, duration: 1.383s, episode steps: 200, steps per second: 145, episode reward: 200.000, mean reward:  1.000 [ 1.000,  1.000], mean action: 0.515 [0.000, 1.000],  loss: 9.566696, mae: 19.192856, mean_q: 37.818085, mean_eps: 0.219745\n",
            " 8970/10000: episode: 190, duration: 1.189s, episode steps: 200, steps per second: 168, episode reward: 200.000, mean reward:  1.000 [ 1.000,  1.000], mean action: 0.500 [0.000, 1.000],  loss: 7.920072, mae: 19.434198, mean_q: 38.506005, mean_eps: 0.201745\n",
            " 9170/10000: episode: 191, duration: 1.194s, episode steps: 200, steps per second: 167, episode reward: 200.000, mean reward:  1.000 [ 1.000,  1.000], mean action: 0.495 [0.000, 1.000],  loss: 9.470044, mae: 19.860480, mean_q: 39.313411, mean_eps: 0.183745\n",
            " 9354/10000: episode: 192, duration: 1.142s, episode steps: 184, steps per second: 161, episode reward: 184.000, mean reward:  1.000 [ 1.000,  1.000], mean action: 0.533 [0.000, 1.000],  loss: 9.605693, mae: 20.205694, mean_q: 39.953706, mean_eps: 0.166465\n",
            " 9554/10000: episode: 193, duration: 1.199s, episode steps: 200, steps per second: 167, episode reward: 200.000, mean reward:  1.000 [ 1.000,  1.000], mean action: 0.495 [0.000, 1.000],  loss: 8.739190, mae: 20.452061, mean_q: 40.520398, mean_eps: 0.149185\n",
            " 9754/10000: episode: 194, duration: 1.182s, episode steps: 200, steps per second: 169, episode reward: 200.000, mean reward:  1.000 [ 1.000,  1.000], mean action: 0.490 [0.000, 1.000],  loss: 10.374064, mae: 20.754952, mean_q: 41.086191, mean_eps: 0.131185\n",
            " 9954/10000: episode: 195, duration: 1.182s, episode steps: 200, steps per second: 169, episode reward: 200.000, mean reward:  1.000 [ 1.000,  1.000], mean action: 0.505 [0.000, 1.000],  loss: 8.818616, mae: 21.094314, mean_q: 41.902767, mean_eps: 0.113185\n",
            "done, took 66.095 seconds\n"
          ]
        },
        {
          "output_type": "display_data",
          "data": {
            "text/plain": [
              "<Figure size 432x288 with 1 Axes>"
            ],
            "image/png": "[encoded data removed]"
          },
          "metadata": {
            "needs_background": "light"
          }
        },
        {
          "output_type": "stream",
          "name": "stdout",
          "text": [
            "Testing for 20 episodes ...\n",
            "Episode 1: reward: 200.000, steps: 200\n",
            "Episode 2: reward: 200.000, steps: 200\n",
            "Episode 3: reward: 200.000, steps: 200\n",
            "Episode 4: reward: 200.000, steps: 200\n",
            "Episode 5: reward: 200.000, steps: 200\n",
            "Episode 6: reward: 200.000, steps: 200\n",
            "Episode 7: reward: 200.000, steps: 200\n",
            "Episode 8: reward: 200.000, steps: 200\n",
            "Episode 9: reward: 200.000, steps: 200\n",
            "Episode 10: reward: 200.000, steps: 200\n",
            "Episode 11: reward: 200.000, steps: 200\n",
            "Episode 12: reward: 200.000, steps: 200\n",
            "Episode 13: reward: 200.000, steps: 200\n",
            "Episode 14: reward: 200.000, steps: 200\n",
            "Episode 15: reward: 200.000, steps: 200\n",
            "Episode 16: reward: 200.000, steps: 200\n",
            "Episode 17: reward: 200.000, steps: 200\n",
            "Episode 18: reward: 200.000, steps: 200\n",
            "Episode 19: reward: 200.000, steps: 200\n",
            "Episode 20: reward: 200.000, steps: 200\n"
          ]
        },
        {
          "output_type": "execute_result",
          "data": {
            "text/plain": [
              "<keras.callbacks.History at 0x7fd5215a3700>"
            ]
          },
          "metadata": {},
          "execution_count": 18
        }
      ]
    },
    {
      "cell_type": "code",
      "source": [],
      "metadata": {
        "id": "7SD0xr5LxZj_"
      },
      "execution_count": null,
      "outputs": []
    }
  ]
}