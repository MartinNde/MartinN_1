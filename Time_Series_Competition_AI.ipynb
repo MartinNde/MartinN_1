{
  "nbformat": 4,
  "nbformat_minor": 0,
  "metadata": {
    "colab": {
      "provenance": [],
      "mount_file_id": "1qNOL11VjwoGOkxhaxbl30GKy_kXb-WzU",
      "authorship_tag": "ABX9TyOvBmWQmCFlGJ3gHCEumZWM",
      "include_colab_link": true
    },
    "kernelspec": {
      "name": "python3",
      "display_name": "Python 3"
    },
    "language_info": {
      "name": "python"
    }
  },
  "cells": [
    {
      "cell_type": "markdown",
      "metadata": {
        "id": "view-in-github",
        "colab_type": "text"
      },
      "source": [
        "<a href=\"https://colab.research.google.com/github/MartinNde/MartinN_1/blob/main/Time_Series_Competition_AI.ipynb\" target=\"_parent\"><img src=\"https://colab.research.google.com/assets/colab-badge.svg\" alt=\"Open In Colab\"/></a>"
      ]
    },
    {
      "cell_type": "markdown",
      "source": [
        "#Import the packages#"
      ],
      "metadata": {
        "id": "-Wr3ketPYRTb"
      }
    },
    {
      "cell_type": "markdown",
      "source": [],
      "metadata": {
        "id": "sNpkaBhG8E77"
      }
    },
    {
      "cell_type": "code",
      "execution_count": 127,
      "metadata": {
        "id": "llV0UlnVVqzr"
      },
      "outputs": [],
      "source": [
        "import pandas as pd\n",
        "import numpy as np\n",
        "import matplotlib.pyplot as plt\n",
        "import matplotlib.ticker as ticker \n",
        "import statsmodels.api as sm\n",
        "import itertools\n",
        "from sklearn.metrics import mean_squared_error,mean_absolute_error\n",
        "from statsmodels.tsa.api import ExponentialSmoothing, SimpleExpSmoothing, Holt\n",
        "from scipy.spatial.distance import cdist\n",
        "import seaborn as sns\n",
        "import warnings\n",
        "warnings.filterwarnings('ignore')\n",
        "sns.set()\n"
      ]
    },
    {
      "cell_type": "markdown",
      "source": [
        "#Importing the Data#"
      ],
      "metadata": {
        "id": "4gsMIWT8YukR"
      }
    },
    {
      "cell_type": "code",
      "source": [
        "raw_csv_data = pd.read_csv('/content/PT_Train.csv')"
      ],
      "metadata": {
        "id": "zf8cBXmwY_TO"
      },
      "execution_count": 128,
      "outputs": []
    },
    {
      "cell_type": "code",
      "source": [
        "df = raw_csv_data.copy()"
      ],
      "metadata": {
        "id": "dEz_7YlKZWH9"
      },
      "execution_count": 129,
      "outputs": []
    },
    {
      "cell_type": "markdown",
      "source": [
        "###view the data to have an understanding of the structure###"
      ],
      "metadata": {
        "id": "JAZ_6gA4aY7g"
      }
    },
    {
      "cell_type": "code",
      "source": [
        "df.head()"
      ],
      "metadata": {
        "colab": {
          "base_uri": "https://localhost:8080/",
          "height": 206
        },
        "id": "LkKQlgH8Zw6D",
        "outputId": "59aca8be-8434-428a-d0db-033b96990f81"
      },
      "execution_count": 130,
      "outputs": [
        {
          "output_type": "execute_result",
          "data": {
            "text/plain": [
              "    Timestamp (GMT)  Lifetouch Heart Rate  Lifetouch Respiration Rate  \\\n",
              "0  17/08/2015 15:09                   139                          41   \n",
              "1  17/08/2015 15:10                   144                          40   \n",
              "2  17/08/2015 15:11                   140                          42   \n",
              "3  17/08/2015 15:12                   138                          45   \n",
              "4  17/08/2015 15:13                   133                          42   \n",
              "\n",
              "   Oximeter SpO2  Oximeter Pulse  \n",
              "0            NaN             NaN  \n",
              "1           92.0           140.0  \n",
              "2           89.0           144.0  \n",
              "3           93.0           141.0  \n",
              "4           94.0           134.0  "
            ],
            "text/html": [
              "\n",
              "  <div id=\"df-b6033a25-3328-4f44-8d95-5c743b1365af\">\n",
              "    <div class=\"colab-df-container\">\n",
              "      <div>\n",
              "<style scoped>\n",
              "    .dataframe tbody tr th:only-of-type {\n",
              "        vertical-align: middle;\n",
              "    }\n",
              "\n",
              "    .dataframe tbody tr th {\n",
              "        vertical-align: top;\n",
              "    }\n",
              "\n",
              "    .dataframe thead th {\n",
              "        text-align: right;\n",
              "    }\n",
              "</style>\n",
              "<table border=\"1\" class=\"dataframe\">\n",
              "  <thead>\n",
              "    <tr style=\"text-align: right;\">\n",
              "      <th></th>\n",
              "      <th>Timestamp (GMT)</th>\n",
              "      <th>Lifetouch Heart Rate</th>\n",
              "      <th>Lifetouch Respiration Rate</th>\n",
              "      <th>Oximeter SpO2</th>\n",
              "      <th>Oximeter Pulse</th>\n",
              "    </tr>\n",
              "  </thead>\n",
              "  <tbody>\n",
              "    <tr>\n",
              "      <th>0</th>\n",
              "      <td>17/08/2015 15:09</td>\n",
              "      <td>139</td>\n",
              "      <td>41</td>\n",
              "      <td>NaN</td>\n",
              "      <td>NaN</td>\n",
              "    </tr>\n",
              "    <tr>\n",
              "      <th>1</th>\n",
              "      <td>17/08/2015 15:10</td>\n",
              "      <td>144</td>\n",
              "      <td>40</td>\n",
              "      <td>92.0</td>\n",
              "      <td>140.0</td>\n",
              "    </tr>\n",
              "    <tr>\n",
              "      <th>2</th>\n",
              "      <td>17/08/2015 15:11</td>\n",
              "      <td>140</td>\n",
              "      <td>42</td>\n",
              "      <td>89.0</td>\n",
              "      <td>144.0</td>\n",
              "    </tr>\n",
              "    <tr>\n",
              "      <th>3</th>\n",
              "      <td>17/08/2015 15:12</td>\n",
              "      <td>138</td>\n",
              "      <td>45</td>\n",
              "      <td>93.0</td>\n",
              "      <td>141.0</td>\n",
              "    </tr>\n",
              "    <tr>\n",
              "      <th>4</th>\n",
              "      <td>17/08/2015 15:13</td>\n",
              "      <td>133</td>\n",
              "      <td>42</td>\n",
              "      <td>94.0</td>\n",
              "      <td>134.0</td>\n",
              "    </tr>\n",
              "  </tbody>\n",
              "</table>\n",
              "</div>\n",
              "      <button class=\"colab-df-convert\" onclick=\"convertToInteractive('df-b6033a25-3328-4f44-8d95-5c743b1365af')\"\n",
              "              title=\"Convert this dataframe to an interactive table.\"\n",
              "              style=\"display:none;\">\n",
              "        \n",
              "  <svg xmlns=\"http://www.w3.org/2000/svg\" height=\"24px\"viewBox=\"0 0 24 24\"\n",
              "       width=\"24px\">\n",
              "    <path d=\"M0 0h24v24H0V0z\" fill=\"none\"/>\n",
              "    <path d=\"M18.56 5.44l.94 2.06.94-2.06 2.06-.94-2.06-.94-.94-2.06-.94 2.06-2.06.94zm-11 1L8.5 8.5l.94-2.06 2.06-.94-2.06-.94L8.5 2.5l-.94 2.06-2.06.94zm10 10l.94 2.06.94-2.06 2.06-.94-2.06-.94-.94-2.06-.94 2.06-2.06.94z\"/><path d=\"M17.41 7.96l-1.37-1.37c-.4-.4-.92-.59-1.43-.59-.52 0-1.04.2-1.43.59L10.3 9.45l-7.72 7.72c-.78.78-.78 2.05 0 2.83L4 21.41c.39.39.9.59 1.41.59.51 0 1.02-.2 1.41-.59l7.78-7.78 2.81-2.81c.8-.78.8-2.07 0-2.86zM5.41 20L4 18.59l7.72-7.72 1.47 1.35L5.41 20z\"/>\n",
              "  </svg>\n",
              "      </button>\n",
              "      \n",
              "  <style>\n",
              "    .colab-df-container {\n",
              "      display:flex;\n",
              "      flex-wrap:wrap;\n",
              "      gap: 12px;\n",
              "    }\n",
              "\n",
              "    .colab-df-convert {\n",
              "      background-color: #E8F0FE;\n",
              "      border: none;\n",
              "      border-radius: 50%;\n",
              "      cursor: pointer;\n",
              "      display: none;\n",
              "      fill: #1967D2;\n",
              "      height: 32px;\n",
              "      padding: 0 0 0 0;\n",
              "      width: 32px;\n",
              "    }\n",
              "\n",
              "    .colab-df-convert:hover {\n",
              "      background-color: #E2EBFA;\n",
              "      box-shadow: 0px 1px 2px rgba(60, 64, 67, 0.3), 0px 1px 3px 1px rgba(60, 64, 67, 0.15);\n",
              "      fill: #174EA6;\n",
              "    }\n",
              "\n",
              "    [theme=dark] .colab-df-convert {\n",
              "      background-color: #3B4455;\n",
              "      fill: #D2E3FC;\n",
              "    }\n",
              "\n",
              "    [theme=dark] .colab-df-convert:hover {\n",
              "      background-color: #434B5C;\n",
              "      box-shadow: 0px 1px 3px 1px rgba(0, 0, 0, 0.15);\n",
              "      filter: drop-shadow(0px 1px 2px rgba(0, 0, 0, 0.3));\n",
              "      fill: #FFFFFF;\n",
              "    }\n",
              "  </style>\n",
              "\n",
              "      <script>\n",
              "        const buttonEl =\n",
              "          document.querySelector('#df-b6033a25-3328-4f44-8d95-5c743b1365af button.colab-df-convert');\n",
              "        buttonEl.style.display =\n",
              "          google.colab.kernel.accessAllowed ? 'block' : 'none';\n",
              "\n",
              "        async function convertToInteractive(key) {\n",
              "          const element = document.querySelector('#df-b6033a25-3328-4f44-8d95-5c743b1365af');\n",
              "          const dataTable =\n",
              "            await google.colab.kernel.invokeFunction('convertToInteractive',\n",
              "                                                     [key], {});\n",
              "          if (!dataTable) return;\n",
              "\n",
              "          const docLinkHtml = 'Like what you see? Visit the ' +\n",
              "            '<a target=\"_blank\" href=https://colab.research.google.com/notebooks/data_table.ipynb>data table notebook</a>'\n",
              "            + ' to learn more about interactive tables.';\n",
              "          element.innerHTML = '';\n",
              "          dataTable['output_type'] = 'display_data';\n",
              "          await google.colab.output.renderOutput(dataTable, element);\n",
              "          const docLink = document.createElement('div');\n",
              "          docLink.innerHTML = docLinkHtml;\n",
              "          element.appendChild(docLink);\n",
              "        }\n",
              "      </script>\n",
              "    </div>\n",
              "  </div>\n",
              "  "
            ]
          },
          "metadata": {},
          "execution_count": 130
        }
      ]
    },
    {
      "cell_type": "markdown",
      "source": [
        "###Attempt to view the entire data to see if something strange stands out.###"
      ],
      "metadata": {
        "id": "vtc8Ond3aZNv"
      }
    },
    {
      "cell_type": "code",
      "source": [
        "df"
      ],
      "metadata": {
        "colab": {
          "base_uri": "https://localhost:8080/",
          "height": 424
        },
        "id": "gsUV-_SsZ1Ua",
        "outputId": "a7613e47-b1b7-4583-9c33-e62cb0aec5b4"
      },
      "execution_count": 131,
      "outputs": [
        {
          "output_type": "execute_result",
          "data": {
            "text/plain": [
              "      Timestamp (GMT)  Lifetouch Heart Rate  Lifetouch Respiration Rate  \\\n",
              "0    17/08/2015 15:09                   139                          41   \n",
              "1    17/08/2015 15:10                   144                          40   \n",
              "2    17/08/2015 15:11                   140                          42   \n",
              "3    17/08/2015 15:12                   138                          45   \n",
              "4    17/08/2015 15:13                   133                          42   \n",
              "..                ...                   ...                         ...   \n",
              "221  17/08/2015 18:50                   159                          51   \n",
              "222  17/08/2015 18:51                   151                          64   \n",
              "223  17/08/2015 18:52                   140                          64   \n",
              "224  17/08/2015 18:53                   140                          55   \n",
              "225  17/08/2015 18:54                   138                          54   \n",
              "\n",
              "     Oximeter SpO2  Oximeter Pulse  \n",
              "0              NaN             NaN  \n",
              "1             92.0           140.0  \n",
              "2             89.0           144.0  \n",
              "3             93.0           141.0  \n",
              "4             94.0           134.0  \n",
              "..             ...             ...  \n",
              "221            NaN             NaN  \n",
              "222            NaN             NaN  \n",
              "223            NaN             NaN  \n",
              "224            NaN             NaN  \n",
              "225            NaN             NaN  \n",
              "\n",
              "[226 rows x 5 columns]"
            ],
            "text/html": [
              "\n",
              "  <div id=\"df-dc1edcea-8110-420e-83a3-ee2703f7363e\">\n",
              "    <div class=\"colab-df-container\">\n",
              "      <div>\n",
              "<style scoped>\n",
              "    .dataframe tbody tr th:only-of-type {\n",
              "        vertical-align: middle;\n",
              "    }\n",
              "\n",
              "    .dataframe tbody tr th {\n",
              "        vertical-align: top;\n",
              "    }\n",
              "\n",
              "    .dataframe thead th {\n",
              "        text-align: right;\n",
              "    }\n",
              "</style>\n",
              "<table border=\"1\" class=\"dataframe\">\n",
              "  <thead>\n",
              "    <tr style=\"text-align: right;\">\n",
              "      <th></th>\n",
              "      <th>Timestamp (GMT)</th>\n",
              "      <th>Lifetouch Heart Rate</th>\n",
              "      <th>Lifetouch Respiration Rate</th>\n",
              "      <th>Oximeter SpO2</th>\n",
              "      <th>Oximeter Pulse</th>\n",
              "    </tr>\n",
              "  </thead>\n",
              "  <tbody>\n",
              "    <tr>\n",
              "      <th>0</th>\n",
              "      <td>17/08/2015 15:09</td>\n",
              "      <td>139</td>\n",
              "      <td>41</td>\n",
              "      <td>NaN</td>\n",
              "      <td>NaN</td>\n",
              "    </tr>\n",
              "    <tr>\n",
              "      <th>1</th>\n",
              "      <td>17/08/2015 15:10</td>\n",
              "      <td>144</td>\n",
              "      <td>40</td>\n",
              "      <td>92.0</td>\n",
              "      <td>140.0</td>\n",
              "    </tr>\n",
              "    <tr>\n",
              "      <th>2</th>\n",
              "      <td>17/08/2015 15:11</td>\n",
              "      <td>140</td>\n",
              "      <td>42</td>\n",
              "      <td>89.0</td>\n",
              "      <td>144.0</td>\n",
              "    </tr>\n",
              "    <tr>\n",
              "      <th>3</th>\n",
              "      <td>17/08/2015 15:12</td>\n",
              "      <td>138</td>\n",
              "      <td>45</td>\n",
              "      <td>93.0</td>\n",
              "      <td>141.0</td>\n",
              "    </tr>\n",
              "    <tr>\n",
              "      <th>4</th>\n",
              "      <td>17/08/2015 15:13</td>\n",
              "      <td>133</td>\n",
              "      <td>42</td>\n",
              "      <td>94.0</td>\n",
              "      <td>134.0</td>\n",
              "    </tr>\n",
              "    <tr>\n",
              "      <th>...</th>\n",
              "      <td>...</td>\n",
              "      <td>...</td>\n",
              "      <td>...</td>\n",
              "      <td>...</td>\n",
              "      <td>...</td>\n",
              "    </tr>\n",
              "    <tr>\n",
              "      <th>221</th>\n",
              "      <td>17/08/2015 18:50</td>\n",
              "      <td>159</td>\n",
              "      <td>51</td>\n",
              "      <td>NaN</td>\n",
              "      <td>NaN</td>\n",
              "    </tr>\n",
              "    <tr>\n",
              "      <th>222</th>\n",
              "      <td>17/08/2015 18:51</td>\n",
              "      <td>151</td>\n",
              "      <td>64</td>\n",
              "      <td>NaN</td>\n",
              "      <td>NaN</td>\n",
              "    </tr>\n",
              "    <tr>\n",
              "      <th>223</th>\n",
              "      <td>17/08/2015 18:52</td>\n",
              "      <td>140</td>\n",
              "      <td>64</td>\n",
              "      <td>NaN</td>\n",
              "      <td>NaN</td>\n",
              "    </tr>\n",
              "    <tr>\n",
              "      <th>224</th>\n",
              "      <td>17/08/2015 18:53</td>\n",
              "      <td>140</td>\n",
              "      <td>55</td>\n",
              "      <td>NaN</td>\n",
              "      <td>NaN</td>\n",
              "    </tr>\n",
              "    <tr>\n",
              "      <th>225</th>\n",
              "      <td>17/08/2015 18:54</td>\n",
              "      <td>138</td>\n",
              "      <td>54</td>\n",
              "      <td>NaN</td>\n",
              "      <td>NaN</td>\n",
              "    </tr>\n",
              "  </tbody>\n",
              "</table>\n",
              "<p>226 rows × 5 columns</p>\n",
              "</div>\n",
              "      <button class=\"colab-df-convert\" onclick=\"convertToInteractive('df-dc1edcea-8110-420e-83a3-ee2703f7363e')\"\n",
              "              title=\"Convert this dataframe to an interactive table.\"\n",
              "              style=\"display:none;\">\n",
              "        \n",
              "  <svg xmlns=\"http://www.w3.org/2000/svg\" height=\"24px\"viewBox=\"0 0 24 24\"\n",
              "       width=\"24px\">\n",
              "    <path d=\"M0 0h24v24H0V0z\" fill=\"none\"/>\n",
              "    <path d=\"M18.56 5.44l.94 2.06.94-2.06 2.06-.94-2.06-.94-.94-2.06-.94 2.06-2.06.94zm-11 1L8.5 8.5l.94-2.06 2.06-.94-2.06-.94L8.5 2.5l-.94 2.06-2.06.94zm10 10l.94 2.06.94-2.06 2.06-.94-2.06-.94-.94-2.06-.94 2.06-2.06.94z\"/><path d=\"M17.41 7.96l-1.37-1.37c-.4-.4-.92-.59-1.43-.59-.52 0-1.04.2-1.43.59L10.3 9.45l-7.72 7.72c-.78.78-.78 2.05 0 2.83L4 21.41c.39.39.9.59 1.41.59.51 0 1.02-.2 1.41-.59l7.78-7.78 2.81-2.81c.8-.78.8-2.07 0-2.86zM5.41 20L4 18.59l7.72-7.72 1.47 1.35L5.41 20z\"/>\n",
              "  </svg>\n",
              "      </button>\n",
              "      \n",
              "  <style>\n",
              "    .colab-df-container {\n",
              "      display:flex;\n",
              "      flex-wrap:wrap;\n",
              "      gap: 12px;\n",
              "    }\n",
              "\n",
              "    .colab-df-convert {\n",
              "      background-color: #E8F0FE;\n",
              "      border: none;\n",
              "      border-radius: 50%;\n",
              "      cursor: pointer;\n",
              "      display: none;\n",
              "      fill: #1967D2;\n",
              "      height: 32px;\n",
              "      padding: 0 0 0 0;\n",
              "      width: 32px;\n",
              "    }\n",
              "\n",
              "    .colab-df-convert:hover {\n",
              "      background-color: #E2EBFA;\n",
              "      box-shadow: 0px 1px 2px rgba(60, 64, 67, 0.3), 0px 1px 3px 1px rgba(60, 64, 67, 0.15);\n",
              "      fill: #174EA6;\n",
              "    }\n",
              "\n",
              "    [theme=dark] .colab-df-convert {\n",
              "      background-color: #3B4455;\n",
              "      fill: #D2E3FC;\n",
              "    }\n",
              "\n",
              "    [theme=dark] .colab-df-convert:hover {\n",
              "      background-color: #434B5C;\n",
              "      box-shadow: 0px 1px 3px 1px rgba(0, 0, 0, 0.15);\n",
              "      filter: drop-shadow(0px 1px 2px rgba(0, 0, 0, 0.3));\n",
              "      fill: #FFFFFF;\n",
              "    }\n",
              "  </style>\n",
              "\n",
              "      <script>\n",
              "        const buttonEl =\n",
              "          document.querySelector('#df-dc1edcea-8110-420e-83a3-ee2703f7363e button.colab-df-convert');\n",
              "        buttonEl.style.display =\n",
              "          google.colab.kernel.accessAllowed ? 'block' : 'none';\n",
              "\n",
              "        async function convertToInteractive(key) {\n",
              "          const element = document.querySelector('#df-dc1edcea-8110-420e-83a3-ee2703f7363e');\n",
              "          const dataTable =\n",
              "            await google.colab.kernel.invokeFunction('convertToInteractive',\n",
              "                                                     [key], {});\n",
              "          if (!dataTable) return;\n",
              "\n",
              "          const docLinkHtml = 'Like what you see? Visit the ' +\n",
              "            '<a target=\"_blank\" href=https://colab.research.google.com/notebooks/data_table.ipynb>data table notebook</a>'\n",
              "            + ' to learn more about interactive tables.';\n",
              "          element.innerHTML = '';\n",
              "          dataTable['output_type'] = 'display_data';\n",
              "          await google.colab.output.renderOutput(dataTable, element);\n",
              "          const docLink = document.createElement('div');\n",
              "          docLink.innerHTML = docLinkHtml;\n",
              "          element.appendChild(docLink);\n",
              "        }\n",
              "      </script>\n",
              "    </div>\n",
              "  </div>\n",
              "  "
            ]
          },
          "metadata": {},
          "execution_count": 131
        }
      ]
    },
    {
      "cell_type": "code",
      "source": [
        "print(df.shape)\n",
        "df.head()"
      ],
      "metadata": {
        "colab": {
          "base_uri": "https://localhost:8080/",
          "height": 224
        },
        "id": "5sMWwlzLI8i3",
        "outputId": "2e21e401-8bde-47c6-de69-7ebb51e04db8"
      },
      "execution_count": 132,
      "outputs": [
        {
          "output_type": "stream",
          "name": "stdout",
          "text": [
            "(226, 5)\n"
          ]
        },
        {
          "output_type": "execute_result",
          "data": {
            "text/plain": [
              "    Timestamp (GMT)  Lifetouch Heart Rate  Lifetouch Respiration Rate  \\\n",
              "0  17/08/2015 15:09                   139                          41   \n",
              "1  17/08/2015 15:10                   144                          40   \n",
              "2  17/08/2015 15:11                   140                          42   \n",
              "3  17/08/2015 15:12                   138                          45   \n",
              "4  17/08/2015 15:13                   133                          42   \n",
              "\n",
              "   Oximeter SpO2  Oximeter Pulse  \n",
              "0            NaN             NaN  \n",
              "1           92.0           140.0  \n",
              "2           89.0           144.0  \n",
              "3           93.0           141.0  \n",
              "4           94.0           134.0  "
            ],
            "text/html": [
              "\n",
              "  <div id=\"df-3aeceea7-9c28-4148-b12b-cf7f20da1021\">\n",
              "    <div class=\"colab-df-container\">\n",
              "      <div>\n",
              "<style scoped>\n",
              "    .dataframe tbody tr th:only-of-type {\n",
              "        vertical-align: middle;\n",
              "    }\n",
              "\n",
              "    .dataframe tbody tr th {\n",
              "        vertical-align: top;\n",
              "    }\n",
              "\n",
              "    .dataframe thead th {\n",
              "        text-align: right;\n",
              "    }\n",
              "</style>\n",
              "<table border=\"1\" class=\"dataframe\">\n",
              "  <thead>\n",
              "    <tr style=\"text-align: right;\">\n",
              "      <th></th>\n",
              "      <th>Timestamp (GMT)</th>\n",
              "      <th>Lifetouch Heart Rate</th>\n",
              "      <th>Lifetouch Respiration Rate</th>\n",
              "      <th>Oximeter SpO2</th>\n",
              "      <th>Oximeter Pulse</th>\n",
              "    </tr>\n",
              "  </thead>\n",
              "  <tbody>\n",
              "    <tr>\n",
              "      <th>0</th>\n",
              "      <td>17/08/2015 15:09</td>\n",
              "      <td>139</td>\n",
              "      <td>41</td>\n",
              "      <td>NaN</td>\n",
              "      <td>NaN</td>\n",
              "    </tr>\n",
              "    <tr>\n",
              "      <th>1</th>\n",
              "      <td>17/08/2015 15:10</td>\n",
              "      <td>144</td>\n",
              "      <td>40</td>\n",
              "      <td>92.0</td>\n",
              "      <td>140.0</td>\n",
              "    </tr>\n",
              "    <tr>\n",
              "      <th>2</th>\n",
              "      <td>17/08/2015 15:11</td>\n",
              "      <td>140</td>\n",
              "      <td>42</td>\n",
              "      <td>89.0</td>\n",
              "      <td>144.0</td>\n",
              "    </tr>\n",
              "    <tr>\n",
              "      <th>3</th>\n",
              "      <td>17/08/2015 15:12</td>\n",
              "      <td>138</td>\n",
              "      <td>45</td>\n",
              "      <td>93.0</td>\n",
              "      <td>141.0</td>\n",
              "    </tr>\n",
              "    <tr>\n",
              "      <th>4</th>\n",
              "      <td>17/08/2015 15:13</td>\n",
              "      <td>133</td>\n",
              "      <td>42</td>\n",
              "      <td>94.0</td>\n",
              "      <td>134.0</td>\n",
              "    </tr>\n",
              "  </tbody>\n",
              "</table>\n",
              "</div>\n",
              "      <button class=\"colab-df-convert\" onclick=\"convertToInteractive('df-3aeceea7-9c28-4148-b12b-cf7f20da1021')\"\n",
              "              title=\"Convert this dataframe to an interactive table.\"\n",
              "              style=\"display:none;\">\n",
              "        \n",
              "  <svg xmlns=\"http://www.w3.org/2000/svg\" height=\"24px\"viewBox=\"0 0 24 24\"\n",
              "       width=\"24px\">\n",
              "    <path d=\"M0 0h24v24H0V0z\" fill=\"none\"/>\n",
              "    <path d=\"M18.56 5.44l.94 2.06.94-2.06 2.06-.94-2.06-.94-.94-2.06-.94 2.06-2.06.94zm-11 1L8.5 8.5l.94-2.06 2.06-.94-2.06-.94L8.5 2.5l-.94 2.06-2.06.94zm10 10l.94 2.06.94-2.06 2.06-.94-2.06-.94-.94-2.06-.94 2.06-2.06.94z\"/><path d=\"M17.41 7.96l-1.37-1.37c-.4-.4-.92-.59-1.43-.59-.52 0-1.04.2-1.43.59L10.3 9.45l-7.72 7.72c-.78.78-.78 2.05 0 2.83L4 21.41c.39.39.9.59 1.41.59.51 0 1.02-.2 1.41-.59l7.78-7.78 2.81-2.81c.8-.78.8-2.07 0-2.86zM5.41 20L4 18.59l7.72-7.72 1.47 1.35L5.41 20z\"/>\n",
              "  </svg>\n",
              "      </button>\n",
              "      \n",
              "  <style>\n",
              "    .colab-df-container {\n",
              "      display:flex;\n",
              "      flex-wrap:wrap;\n",
              "      gap: 12px;\n",
              "    }\n",
              "\n",
              "    .colab-df-convert {\n",
              "      background-color: #E8F0FE;\n",
              "      border: none;\n",
              "      border-radius: 50%;\n",
              "      cursor: pointer;\n",
              "      display: none;\n",
              "      fill: #1967D2;\n",
              "      height: 32px;\n",
              "      padding: 0 0 0 0;\n",
              "      width: 32px;\n",
              "    }\n",
              "\n",
              "    .colab-df-convert:hover {\n",
              "      background-color: #E2EBFA;\n",
              "      box-shadow: 0px 1px 2px rgba(60, 64, 67, 0.3), 0px 1px 3px 1px rgba(60, 64, 67, 0.15);\n",
              "      fill: #174EA6;\n",
              "    }\n",
              "\n",
              "    [theme=dark] .colab-df-convert {\n",
              "      background-color: #3B4455;\n",
              "      fill: #D2E3FC;\n",
              "    }\n",
              "\n",
              "    [theme=dark] .colab-df-convert:hover {\n",
              "      background-color: #434B5C;\n",
              "      box-shadow: 0px 1px 3px 1px rgba(0, 0, 0, 0.15);\n",
              "      filter: drop-shadow(0px 1px 2px rgba(0, 0, 0, 0.3));\n",
              "      fill: #FFFFFF;\n",
              "    }\n",
              "  </style>\n",
              "\n",
              "      <script>\n",
              "        const buttonEl =\n",
              "          document.querySelector('#df-3aeceea7-9c28-4148-b12b-cf7f20da1021 button.colab-df-convert');\n",
              "        buttonEl.style.display =\n",
              "          google.colab.kernel.accessAllowed ? 'block' : 'none';\n",
              "\n",
              "        async function convertToInteractive(key) {\n",
              "          const element = document.querySelector('#df-3aeceea7-9c28-4148-b12b-cf7f20da1021');\n",
              "          const dataTable =\n",
              "            await google.colab.kernel.invokeFunction('convertToInteractive',\n",
              "                                                     [key], {});\n",
              "          if (!dataTable) return;\n",
              "\n",
              "          const docLinkHtml = 'Like what you see? Visit the ' +\n",
              "            '<a target=\"_blank\" href=https://colab.research.google.com/notebooks/data_table.ipynb>data table notebook</a>'\n",
              "            + ' to learn more about interactive tables.';\n",
              "          element.innerHTML = '';\n",
              "          dataTable['output_type'] = 'display_data';\n",
              "          await google.colab.output.renderOutput(dataTable, element);\n",
              "          const docLink = document.createElement('div');\n",
              "          docLink.innerHTML = docLinkHtml;\n",
              "          element.appendChild(docLink);\n",
              "        }\n",
              "      </script>\n",
              "    </div>\n",
              "  </div>\n",
              "  "
            ]
          },
          "metadata": {},
          "execution_count": 132
        }
      ]
    },
    {
      "cell_type": "code",
      "source": [
        "df.describe()"
      ],
      "metadata": {
        "colab": {
          "base_uri": "https://localhost:8080/",
          "height": 300
        },
        "id": "9FMliZU5aSBi",
        "outputId": "788a25d4-957f-4e73-bd58-6bbe0d54ef65"
      },
      "execution_count": 133,
      "outputs": [
        {
          "output_type": "execute_result",
          "data": {
            "text/plain": [
              "       Lifetouch Heart Rate  Lifetouch Respiration Rate  Oximeter SpO2  \\\n",
              "count            226.000000                  226.000000     191.000000   \n",
              "mean            2315.615044                 2219.216814      83.450262   \n",
              "std            11351.588825                11370.093548      29.802974   \n",
              "min              106.000000                   34.000000      -1.000000   \n",
              "25%              136.000000                   38.000000      92.000000   \n",
              "50%              145.000000                   46.000000      93.000000   \n",
              "75%              156.000000                   53.000000      95.000000   \n",
              "max            61442.000000                61442.000000      98.000000   \n",
              "\n",
              "       Oximeter Pulse  \n",
              "count      191.000000  \n",
              "mean       126.335079  \n",
              "std         46.348142  \n",
              "min         -1.000000  \n",
              "25%        134.000000  \n",
              "50%        139.000000  \n",
              "75%        149.000000  \n",
              "max        166.000000  "
            ],
            "text/html": [
              "\n",
              "  <div id=\"df-b6123f34-ea83-4958-b233-1b1b65e89d88\">\n",
              "    <div class=\"colab-df-container\">\n",
              "      <div>\n",
              "<style scoped>\n",
              "    .dataframe tbody tr th:only-of-type {\n",
              "        vertical-align: middle;\n",
              "    }\n",
              "\n",
              "    .dataframe tbody tr th {\n",
              "        vertical-align: top;\n",
              "    }\n",
              "\n",
              "    .dataframe thead th {\n",
              "        text-align: right;\n",
              "    }\n",
              "</style>\n",
              "<table border=\"1\" class=\"dataframe\">\n",
              "  <thead>\n",
              "    <tr style=\"text-align: right;\">\n",
              "      <th></th>\n",
              "      <th>Lifetouch Heart Rate</th>\n",
              "      <th>Lifetouch Respiration Rate</th>\n",
              "      <th>Oximeter SpO2</th>\n",
              "      <th>Oximeter Pulse</th>\n",
              "    </tr>\n",
              "  </thead>\n",
              "  <tbody>\n",
              "    <tr>\n",
              "      <th>count</th>\n",
              "      <td>226.000000</td>\n",
              "      <td>226.000000</td>\n",
              "      <td>191.000000</td>\n",
              "      <td>191.000000</td>\n",
              "    </tr>\n",
              "    <tr>\n",
              "      <th>mean</th>\n",
              "      <td>2315.615044</td>\n",
              "      <td>2219.216814</td>\n",
              "      <td>83.450262</td>\n",
              "      <td>126.335079</td>\n",
              "    </tr>\n",
              "    <tr>\n",
              "      <th>std</th>\n",
              "      <td>11351.588825</td>\n",
              "      <td>11370.093548</td>\n",
              "      <td>29.802974</td>\n",
              "      <td>46.348142</td>\n",
              "    </tr>\n",
              "    <tr>\n",
              "      <th>min</th>\n",
              "      <td>106.000000</td>\n",
              "      <td>34.000000</td>\n",
              "      <td>-1.000000</td>\n",
              "      <td>-1.000000</td>\n",
              "    </tr>\n",
              "    <tr>\n",
              "      <th>25%</th>\n",
              "      <td>136.000000</td>\n",
              "      <td>38.000000</td>\n",
              "      <td>92.000000</td>\n",
              "      <td>134.000000</td>\n",
              "    </tr>\n",
              "    <tr>\n",
              "      <th>50%</th>\n",
              "      <td>145.000000</td>\n",
              "      <td>46.000000</td>\n",
              "      <td>93.000000</td>\n",
              "      <td>139.000000</td>\n",
              "    </tr>\n",
              "    <tr>\n",
              "      <th>75%</th>\n",
              "      <td>156.000000</td>\n",
              "      <td>53.000000</td>\n",
              "      <td>95.000000</td>\n",
              "      <td>149.000000</td>\n",
              "    </tr>\n",
              "    <tr>\n",
              "      <th>max</th>\n",
              "      <td>61442.000000</td>\n",
              "      <td>61442.000000</td>\n",
              "      <td>98.000000</td>\n",
              "      <td>166.000000</td>\n",
              "    </tr>\n",
              "  </tbody>\n",
              "</table>\n",
              "</div>\n",
              "      <button class=\"colab-df-convert\" onclick=\"convertToInteractive('df-b6123f34-ea83-4958-b233-1b1b65e89d88')\"\n",
              "              title=\"Convert this dataframe to an interactive table.\"\n",
              "              style=\"display:none;\">\n",
              "        \n",
              "  <svg xmlns=\"http://www.w3.org/2000/svg\" height=\"24px\"viewBox=\"0 0 24 24\"\n",
              "       width=\"24px\">\n",
              "    <path d=\"M0 0h24v24H0V0z\" fill=\"none\"/>\n",
              "    <path d=\"M18.56 5.44l.94 2.06.94-2.06 2.06-.94-2.06-.94-.94-2.06-.94 2.06-2.06.94zm-11 1L8.5 8.5l.94-2.06 2.06-.94-2.06-.94L8.5 2.5l-.94 2.06-2.06.94zm10 10l.94 2.06.94-2.06 2.06-.94-2.06-.94-.94-2.06-.94 2.06-2.06.94z\"/><path d=\"M17.41 7.96l-1.37-1.37c-.4-.4-.92-.59-1.43-.59-.52 0-1.04.2-1.43.59L10.3 9.45l-7.72 7.72c-.78.78-.78 2.05 0 2.83L4 21.41c.39.39.9.59 1.41.59.51 0 1.02-.2 1.41-.59l7.78-7.78 2.81-2.81c.8-.78.8-2.07 0-2.86zM5.41 20L4 18.59l7.72-7.72 1.47 1.35L5.41 20z\"/>\n",
              "  </svg>\n",
              "      </button>\n",
              "      \n",
              "  <style>\n",
              "    .colab-df-container {\n",
              "      display:flex;\n",
              "      flex-wrap:wrap;\n",
              "      gap: 12px;\n",
              "    }\n",
              "\n",
              "    .colab-df-convert {\n",
              "      background-color: #E8F0FE;\n",
              "      border: none;\n",
              "      border-radius: 50%;\n",
              "      cursor: pointer;\n",
              "      display: none;\n",
              "      fill: #1967D2;\n",
              "      height: 32px;\n",
              "      padding: 0 0 0 0;\n",
              "      width: 32px;\n",
              "    }\n",
              "\n",
              "    .colab-df-convert:hover {\n",
              "      background-color: #E2EBFA;\n",
              "      box-shadow: 0px 1px 2px rgba(60, 64, 67, 0.3), 0px 1px 3px 1px rgba(60, 64, 67, 0.15);\n",
              "      fill: #174EA6;\n",
              "    }\n",
              "\n",
              "    [theme=dark] .colab-df-convert {\n",
              "      background-color: #3B4455;\n",
              "      fill: #D2E3FC;\n",
              "    }\n",
              "\n",
              "    [theme=dark] .colab-df-convert:hover {\n",
              "      background-color: #434B5C;\n",
              "      box-shadow: 0px 1px 3px 1px rgba(0, 0, 0, 0.15);\n",
              "      filter: drop-shadow(0px 1px 2px rgba(0, 0, 0, 0.3));\n",
              "      fill: #FFFFFF;\n",
              "    }\n",
              "  </style>\n",
              "\n",
              "      <script>\n",
              "        const buttonEl =\n",
              "          document.querySelector('#df-b6123f34-ea83-4958-b233-1b1b65e89d88 button.colab-df-convert');\n",
              "        buttonEl.style.display =\n",
              "          google.colab.kernel.accessAllowed ? 'block' : 'none';\n",
              "\n",
              "        async function convertToInteractive(key) {\n",
              "          const element = document.querySelector('#df-b6123f34-ea83-4958-b233-1b1b65e89d88');\n",
              "          const dataTable =\n",
              "            await google.colab.kernel.invokeFunction('convertToInteractive',\n",
              "                                                     [key], {});\n",
              "          if (!dataTable) return;\n",
              "\n",
              "          const docLinkHtml = 'Like what you see? Visit the ' +\n",
              "            '<a target=\"_blank\" href=https://colab.research.google.com/notebooks/data_table.ipynb>data table notebook</a>'\n",
              "            + ' to learn more about interactive tables.';\n",
              "          element.innerHTML = '';\n",
              "          dataTable['output_type'] = 'display_data';\n",
              "          await google.colab.output.renderOutput(dataTable, element);\n",
              "          const docLink = document.createElement('div');\n",
              "          docLink.innerHTML = docLinkHtml;\n",
              "          element.appendChild(docLink);\n",
              "        }\n",
              "      </script>\n",
              "    </div>\n",
              "  </div>\n",
              "  "
            ]
          },
          "metadata": {},
          "execution_count": 133
        }
      ]
    },
    {
      "cell_type": "code",
      "source": [
        "df.isna().sum()"
      ],
      "metadata": {
        "colab": {
          "base_uri": "https://localhost:8080/"
        },
        "id": "T4zEst7SIiTe",
        "outputId": "9da04cd2-284d-4d37-ca1b-f7bda6add71f"
      },
      "execution_count": 134,
      "outputs": [
        {
          "output_type": "execute_result",
          "data": {
            "text/plain": [
              "Timestamp (GMT)                0\n",
              "Lifetouch Heart Rate           0\n",
              "Lifetouch Respiration Rate     0\n",
              "Oximeter SpO2                 35\n",
              "Oximeter Pulse                35\n",
              "dtype: int64"
            ]
          },
          "metadata": {},
          "execution_count": 134
        }
      ]
    },
    {
      "cell_type": "markdown",
      "source": [
        "Simpliyfing the Dataset by taking out the columns that are not needed for the prediction."
      ],
      "metadata": {
        "id": "pjhAt2wxLEQn"
      }
    },
    {
      "cell_type": "code",
      "source": [
        "df = df.drop(['Lifetouch Respiration Rate','Oximeter SpO2','Oximeter Pulse'], axis=1)\n",
        "\n"
      ],
      "metadata": {
        "id": "63wKHEyHbR4j"
      },
      "execution_count": 135,
      "outputs": []
    },
    {
      "cell_type": "code",
      "source": [
        "df.describe()"
      ],
      "metadata": {
        "colab": {
          "base_uri": "https://localhost:8080/",
          "height": 300
        },
        "id": "SBVTY9fFvyCS",
        "outputId": "1b29e804-f5fc-4fe6-aff6-7b53b2afd64f"
      },
      "execution_count": 136,
      "outputs": [
        {
          "output_type": "execute_result",
          "data": {
            "text/plain": [
              "       Lifetouch Heart Rate\n",
              "count            226.000000\n",
              "mean            2315.615044\n",
              "std            11351.588825\n",
              "min              106.000000\n",
              "25%              136.000000\n",
              "50%              145.000000\n",
              "75%              156.000000\n",
              "max            61442.000000"
            ],
            "text/html": [
              "\n",
              "  <div id=\"df-31cfbad8-8a11-47e5-a675-96e517368d13\">\n",
              "    <div class=\"colab-df-container\">\n",
              "      <div>\n",
              "<style scoped>\n",
              "    .dataframe tbody tr th:only-of-type {\n",
              "        vertical-align: middle;\n",
              "    }\n",
              "\n",
              "    .dataframe tbody tr th {\n",
              "        vertical-align: top;\n",
              "    }\n",
              "\n",
              "    .dataframe thead th {\n",
              "        text-align: right;\n",
              "    }\n",
              "</style>\n",
              "<table border=\"1\" class=\"dataframe\">\n",
              "  <thead>\n",
              "    <tr style=\"text-align: right;\">\n",
              "      <th></th>\n",
              "      <th>Lifetouch Heart Rate</th>\n",
              "    </tr>\n",
              "  </thead>\n",
              "  <tbody>\n",
              "    <tr>\n",
              "      <th>count</th>\n",
              "      <td>226.000000</td>\n",
              "    </tr>\n",
              "    <tr>\n",
              "      <th>mean</th>\n",
              "      <td>2315.615044</td>\n",
              "    </tr>\n",
              "    <tr>\n",
              "      <th>std</th>\n",
              "      <td>11351.588825</td>\n",
              "    </tr>\n",
              "    <tr>\n",
              "      <th>min</th>\n",
              "      <td>106.000000</td>\n",
              "    </tr>\n",
              "    <tr>\n",
              "      <th>25%</th>\n",
              "      <td>136.000000</td>\n",
              "    </tr>\n",
              "    <tr>\n",
              "      <th>50%</th>\n",
              "      <td>145.000000</td>\n",
              "    </tr>\n",
              "    <tr>\n",
              "      <th>75%</th>\n",
              "      <td>156.000000</td>\n",
              "    </tr>\n",
              "    <tr>\n",
              "      <th>max</th>\n",
              "      <td>61442.000000</td>\n",
              "    </tr>\n",
              "  </tbody>\n",
              "</table>\n",
              "</div>\n",
              "      <button class=\"colab-df-convert\" onclick=\"convertToInteractive('df-31cfbad8-8a11-47e5-a675-96e517368d13')\"\n",
              "              title=\"Convert this dataframe to an interactive table.\"\n",
              "              style=\"display:none;\">\n",
              "        \n",
              "  <svg xmlns=\"http://www.w3.org/2000/svg\" height=\"24px\"viewBox=\"0 0 24 24\"\n",
              "       width=\"24px\">\n",
              "    <path d=\"M0 0h24v24H0V0z\" fill=\"none\"/>\n",
              "    <path d=\"M18.56 5.44l.94 2.06.94-2.06 2.06-.94-2.06-.94-.94-2.06-.94 2.06-2.06.94zm-11 1L8.5 8.5l.94-2.06 2.06-.94-2.06-.94L8.5 2.5l-.94 2.06-2.06.94zm10 10l.94 2.06.94-2.06 2.06-.94-2.06-.94-.94-2.06-.94 2.06-2.06.94z\"/><path d=\"M17.41 7.96l-1.37-1.37c-.4-.4-.92-.59-1.43-.59-.52 0-1.04.2-1.43.59L10.3 9.45l-7.72 7.72c-.78.78-.78 2.05 0 2.83L4 21.41c.39.39.9.59 1.41.59.51 0 1.02-.2 1.41-.59l7.78-7.78 2.81-2.81c.8-.78.8-2.07 0-2.86zM5.41 20L4 18.59l7.72-7.72 1.47 1.35L5.41 20z\"/>\n",
              "  </svg>\n",
              "      </button>\n",
              "      \n",
              "  <style>\n",
              "    .colab-df-container {\n",
              "      display:flex;\n",
              "      flex-wrap:wrap;\n",
              "      gap: 12px;\n",
              "    }\n",
              "\n",
              "    .colab-df-convert {\n",
              "      background-color: #E8F0FE;\n",
              "      border: none;\n",
              "      border-radius: 50%;\n",
              "      cursor: pointer;\n",
              "      display: none;\n",
              "      fill: #1967D2;\n",
              "      height: 32px;\n",
              "      padding: 0 0 0 0;\n",
              "      width: 32px;\n",
              "    }\n",
              "\n",
              "    .colab-df-convert:hover {\n",
              "      background-color: #E2EBFA;\n",
              "      box-shadow: 0px 1px 2px rgba(60, 64, 67, 0.3), 0px 1px 3px 1px rgba(60, 64, 67, 0.15);\n",
              "      fill: #174EA6;\n",
              "    }\n",
              "\n",
              "    [theme=dark] .colab-df-convert {\n",
              "      background-color: #3B4455;\n",
              "      fill: #D2E3FC;\n",
              "    }\n",
              "\n",
              "    [theme=dark] .colab-df-convert:hover {\n",
              "      background-color: #434B5C;\n",
              "      box-shadow: 0px 1px 3px 1px rgba(0, 0, 0, 0.15);\n",
              "      filter: drop-shadow(0px 1px 2px rgba(0, 0, 0, 0.3));\n",
              "      fill: #FFFFFF;\n",
              "    }\n",
              "  </style>\n",
              "\n",
              "      <script>\n",
              "        const buttonEl =\n",
              "          document.querySelector('#df-31cfbad8-8a11-47e5-a675-96e517368d13 button.colab-df-convert');\n",
              "        buttonEl.style.display =\n",
              "          google.colab.kernel.accessAllowed ? 'block' : 'none';\n",
              "\n",
              "        async function convertToInteractive(key) {\n",
              "          const element = document.querySelector('#df-31cfbad8-8a11-47e5-a675-96e517368d13');\n",
              "          const dataTable =\n",
              "            await google.colab.kernel.invokeFunction('convertToInteractive',\n",
              "                                                     [key], {});\n",
              "          if (!dataTable) return;\n",
              "\n",
              "          const docLinkHtml = 'Like what you see? Visit the ' +\n",
              "            '<a target=\"_blank\" href=https://colab.research.google.com/notebooks/data_table.ipynb>data table notebook</a>'\n",
              "            + ' to learn more about interactive tables.';\n",
              "          element.innerHTML = '';\n",
              "          dataTable['output_type'] = 'display_data';\n",
              "          await google.colab.output.renderOutput(dataTable, element);\n",
              "          const docLink = document.createElement('div');\n",
              "          docLink.innerHTML = docLinkHtml;\n",
              "          element.appendChild(docLink);\n",
              "        }\n",
              "      </script>\n",
              "    </div>\n",
              "  </div>\n",
              "  "
            ]
          },
          "metadata": {},
          "execution_count": 136
        }
      ]
    },
    {
      "cell_type": "code",
      "source": [
        "df.isna().sum()"
      ],
      "metadata": {
        "colab": {
          "base_uri": "https://localhost:8080/"
        },
        "id": "OV510fq9v2tz",
        "outputId": "573a4e45-2469-4553-efb6-3f4cf8df6a22"
      },
      "execution_count": 137,
      "outputs": [
        {
          "output_type": "execute_result",
          "data": {
            "text/plain": [
              "Timestamp (GMT)         0\n",
              "Lifetouch Heart Rate    0\n",
              "dtype: int64"
            ]
          },
          "metadata": {},
          "execution_count": 137
        }
      ]
    },
    {
      "cell_type": "markdown",
      "source": [
        "Setting the index"
      ],
      "metadata": {
        "id": "yHLcVHkilP1Z"
      }
    },
    {
      "cell_type": "code",
      "source": [
        "df['Timestamp (GMT)']=pd.to_datetime(df['Timestamp (GMT)'])"
      ],
      "metadata": {
        "id": "DT4BFjZtRD5h"
      },
      "execution_count": 138,
      "outputs": []
    },
    {
      "cell_type": "code",
      "source": [
        "df.info()"
      ],
      "metadata": {
        "colab": {
          "base_uri": "https://localhost:8080/"
        },
        "id": "NcXrTMB4RMcq",
        "outputId": "b12a769f-7c07-47f2-fe01-dd441f687de4"
      },
      "execution_count": 139,
      "outputs": [
        {
          "output_type": "stream",
          "name": "stdout",
          "text": [
            "<class 'pandas.core.frame.DataFrame'>\n",
            "RangeIndex: 226 entries, 0 to 225\n",
            "Data columns (total 2 columns):\n",
            " #   Column                Non-Null Count  Dtype         \n",
            "---  ------                --------------  -----         \n",
            " 0   Timestamp (GMT)       226 non-null    datetime64[ns]\n",
            " 1   Lifetouch Heart Rate  226 non-null    int64         \n",
            "dtypes: datetime64[ns](1), int64(1)\n",
            "memory usage: 3.7 KB\n"
          ]
        }
      ]
    },
    {
      "cell_type": "code",
      "source": [
        "df.set_index(\"Timestamp (GMT)\", inplace = True)"
      ],
      "metadata": {
        "id": "ZLvKSFcLbXSh"
      },
      "execution_count": 140,
      "outputs": []
    },
    {
      "cell_type": "code",
      "source": [
        "df"
      ],
      "metadata": {
        "colab": {
          "base_uri": "https://localhost:8080/",
          "height": 455
        },
        "id": "9RhevmN8jnR_",
        "outputId": "3f4e7520-53f9-4186-d41e-11d2617471f6"
      },
      "execution_count": 141,
      "outputs": [
        {
          "output_type": "execute_result",
          "data": {
            "text/plain": [
              "                     Lifetouch Heart Rate\n",
              "Timestamp (GMT)                          \n",
              "2015-08-17 15:09:00                   139\n",
              "2015-08-17 15:10:00                   144\n",
              "2015-08-17 15:11:00                   140\n",
              "2015-08-17 15:12:00                   138\n",
              "2015-08-17 15:13:00                   133\n",
              "...                                   ...\n",
              "2015-08-17 18:50:00                   159\n",
              "2015-08-17 18:51:00                   151\n",
              "2015-08-17 18:52:00                   140\n",
              "2015-08-17 18:53:00                   140\n",
              "2015-08-17 18:54:00                   138\n",
              "\n",
              "[226 rows x 1 columns]"
            ],
            "text/html": [
              "\n",
              "  <div id=\"df-1b314aa2-3d7b-4b1b-a3a8-a1740859cbd4\">\n",
              "    <div class=\"colab-df-container\">\n",
              "      <div>\n",
              "<style scoped>\n",
              "    .dataframe tbody tr th:only-of-type {\n",
              "        vertical-align: middle;\n",
              "    }\n",
              "\n",
              "    .dataframe tbody tr th {\n",
              "        vertical-align: top;\n",
              "    }\n",
              "\n",
              "    .dataframe thead th {\n",
              "        text-align: right;\n",
              "    }\n",
              "</style>\n",
              "<table border=\"1\" class=\"dataframe\">\n",
              "  <thead>\n",
              "    <tr style=\"text-align: right;\">\n",
              "      <th></th>\n",
              "      <th>Lifetouch Heart Rate</th>\n",
              "    </tr>\n",
              "    <tr>\n",
              "      <th>Timestamp (GMT)</th>\n",
              "      <th></th>\n",
              "    </tr>\n",
              "  </thead>\n",
              "  <tbody>\n",
              "    <tr>\n",
              "      <th>2015-08-17 15:09:00</th>\n",
              "      <td>139</td>\n",
              "    </tr>\n",
              "    <tr>\n",
              "      <th>2015-08-17 15:10:00</th>\n",
              "      <td>144</td>\n",
              "    </tr>\n",
              "    <tr>\n",
              "      <th>2015-08-17 15:11:00</th>\n",
              "      <td>140</td>\n",
              "    </tr>\n",
              "    <tr>\n",
              "      <th>2015-08-17 15:12:00</th>\n",
              "      <td>138</td>\n",
              "    </tr>\n",
              "    <tr>\n",
              "      <th>2015-08-17 15:13:00</th>\n",
              "      <td>133</td>\n",
              "    </tr>\n",
              "    <tr>\n",
              "      <th>...</th>\n",
              "      <td>...</td>\n",
              "    </tr>\n",
              "    <tr>\n",
              "      <th>2015-08-17 18:50:00</th>\n",
              "      <td>159</td>\n",
              "    </tr>\n",
              "    <tr>\n",
              "      <th>2015-08-17 18:51:00</th>\n",
              "      <td>151</td>\n",
              "    </tr>\n",
              "    <tr>\n",
              "      <th>2015-08-17 18:52:00</th>\n",
              "      <td>140</td>\n",
              "    </tr>\n",
              "    <tr>\n",
              "      <th>2015-08-17 18:53:00</th>\n",
              "      <td>140</td>\n",
              "    </tr>\n",
              "    <tr>\n",
              "      <th>2015-08-17 18:54:00</th>\n",
              "      <td>138</td>\n",
              "    </tr>\n",
              "  </tbody>\n",
              "</table>\n",
              "<p>226 rows × 1 columns</p>\n",
              "</div>\n",
              "      <button class=\"colab-df-convert\" onclick=\"convertToInteractive('df-1b314aa2-3d7b-4b1b-a3a8-a1740859cbd4')\"\n",
              "              title=\"Convert this dataframe to an interactive table.\"\n",
              "              style=\"display:none;\">\n",
              "        \n",
              "  <svg xmlns=\"http://www.w3.org/2000/svg\" height=\"24px\"viewBox=\"0 0 24 24\"\n",
              "       width=\"24px\">\n",
              "    <path d=\"M0 0h24v24H0V0z\" fill=\"none\"/>\n",
              "    <path d=\"M18.56 5.44l.94 2.06.94-2.06 2.06-.94-2.06-.94-.94-2.06-.94 2.06-2.06.94zm-11 1L8.5 8.5l.94-2.06 2.06-.94-2.06-.94L8.5 2.5l-.94 2.06-2.06.94zm10 10l.94 2.06.94-2.06 2.06-.94-2.06-.94-.94-2.06-.94 2.06-2.06.94z\"/><path d=\"M17.41 7.96l-1.37-1.37c-.4-.4-.92-.59-1.43-.59-.52 0-1.04.2-1.43.59L10.3 9.45l-7.72 7.72c-.78.78-.78 2.05 0 2.83L4 21.41c.39.39.9.59 1.41.59.51 0 1.02-.2 1.41-.59l7.78-7.78 2.81-2.81c.8-.78.8-2.07 0-2.86zM5.41 20L4 18.59l7.72-7.72 1.47 1.35L5.41 20z\"/>\n",
              "  </svg>\n",
              "      </button>\n",
              "      \n",
              "  <style>\n",
              "    .colab-df-container {\n",
              "      display:flex;\n",
              "      flex-wrap:wrap;\n",
              "      gap: 12px;\n",
              "    }\n",
              "\n",
              "    .colab-df-convert {\n",
              "      background-color: #E8F0FE;\n",
              "      border: none;\n",
              "      border-radius: 50%;\n",
              "      cursor: pointer;\n",
              "      display: none;\n",
              "      fill: #1967D2;\n",
              "      height: 32px;\n",
              "      padding: 0 0 0 0;\n",
              "      width: 32px;\n",
              "    }\n",
              "\n",
              "    .colab-df-convert:hover {\n",
              "      background-color: #E2EBFA;\n",
              "      box-shadow: 0px 1px 2px rgba(60, 64, 67, 0.3), 0px 1px 3px 1px rgba(60, 64, 67, 0.15);\n",
              "      fill: #174EA6;\n",
              "    }\n",
              "\n",
              "    [theme=dark] .colab-df-convert {\n",
              "      background-color: #3B4455;\n",
              "      fill: #D2E3FC;\n",
              "    }\n",
              "\n",
              "    [theme=dark] .colab-df-convert:hover {\n",
              "      background-color: #434B5C;\n",
              "      box-shadow: 0px 1px 3px 1px rgba(0, 0, 0, 0.15);\n",
              "      filter: drop-shadow(0px 1px 2px rgba(0, 0, 0, 0.3));\n",
              "      fill: #FFFFFF;\n",
              "    }\n",
              "  </style>\n",
              "\n",
              "      <script>\n",
              "        const buttonEl =\n",
              "          document.querySelector('#df-1b314aa2-3d7b-4b1b-a3a8-a1740859cbd4 button.colab-df-convert');\n",
              "        buttonEl.style.display =\n",
              "          google.colab.kernel.accessAllowed ? 'block' : 'none';\n",
              "\n",
              "        async function convertToInteractive(key) {\n",
              "          const element = document.querySelector('#df-1b314aa2-3d7b-4b1b-a3a8-a1740859cbd4');\n",
              "          const dataTable =\n",
              "            await google.colab.kernel.invokeFunction('convertToInteractive',\n",
              "                                                     [key], {});\n",
              "          if (!dataTable) return;\n",
              "\n",
              "          const docLinkHtml = 'Like what you see? Visit the ' +\n",
              "            '<a target=\"_blank\" href=https://colab.research.google.com/notebooks/data_table.ipynb>data table notebook</a>'\n",
              "            + ' to learn more about interactive tables.';\n",
              "          element.innerHTML = '';\n",
              "          dataTable['output_type'] = 'display_data';\n",
              "          await google.colab.output.renderOutput(dataTable, element);\n",
              "          const docLink = document.createElement('div');\n",
              "          docLink.innerHTML = docLinkHtml;\n",
              "          element.appendChild(docLink);\n",
              "        }\n",
              "      </script>\n",
              "    </div>\n",
              "  </div>\n",
              "  "
            ]
          },
          "metadata": {},
          "execution_count": 141
        }
      ]
    },
    {
      "cell_type": "code",
      "source": [
        "df.sort_values(by=['Lifetouch Heart Rate']).tail(20)"
      ],
      "metadata": {
        "colab": {
          "base_uri": "https://localhost:8080/",
          "height": 708
        },
        "id": "S3pploE58YJ2",
        "outputId": "369cb1ab-ce9a-41a8-96a4-c8472315f1e9"
      },
      "execution_count": 142,
      "outputs": [
        {
          "output_type": "execute_result",
          "data": {
            "text/plain": [
              "                     Lifetouch Heart Rate\n",
              "Timestamp (GMT)                          \n",
              "2015-08-17 17:54:00                   163\n",
              "2015-08-17 17:55:00                   164\n",
              "2015-08-17 17:40:00                   164\n",
              "2015-08-17 18:07:00                   164\n",
              "2015-08-17 18:01:00                   165\n",
              "2015-08-17 17:56:00                   166\n",
              "2015-08-17 17:39:00                   166\n",
              "2015-08-17 17:42:00                   167\n",
              "2015-08-17 17:58:00                   169\n",
              "2015-08-17 17:57:00                   169\n",
              "2015-08-17 17:59:00                   170\n",
              "2015-08-17 18:00:00                   172\n",
              "2015-08-17 15:43:00                 61441\n",
              "2015-08-17 15:44:00                 61441\n",
              "2015-08-17 15:39:00                 61441\n",
              "2015-08-17 15:41:00                 61441\n",
              "2015-08-17 15:42:00                 61441\n",
              "2015-08-17 15:50:00                 61442\n",
              "2015-08-17 15:45:00                 61442\n",
              "2015-08-17 15:40:00                 61442"
            ],
            "text/html": [
              "\n",
              "  <div id=\"df-ab11663b-d1d3-40b4-a804-b2aa31f65b3b\">\n",
              "    <div class=\"colab-df-container\">\n",
              "      <div>\n",
              "<style scoped>\n",
              "    .dataframe tbody tr th:only-of-type {\n",
              "        vertical-align: middle;\n",
              "    }\n",
              "\n",
              "    .dataframe tbody tr th {\n",
              "        vertical-align: top;\n",
              "    }\n",
              "\n",
              "    .dataframe thead th {\n",
              "        text-align: right;\n",
              "    }\n",
              "</style>\n",
              "<table border=\"1\" class=\"dataframe\">\n",
              "  <thead>\n",
              "    <tr style=\"text-align: right;\">\n",
              "      <th></th>\n",
              "      <th>Lifetouch Heart Rate</th>\n",
              "    </tr>\n",
              "    <tr>\n",
              "      <th>Timestamp (GMT)</th>\n",
              "      <th></th>\n",
              "    </tr>\n",
              "  </thead>\n",
              "  <tbody>\n",
              "    <tr>\n",
              "      <th>2015-08-17 17:54:00</th>\n",
              "      <td>163</td>\n",
              "    </tr>\n",
              "    <tr>\n",
              "      <th>2015-08-17 17:55:00</th>\n",
              "      <td>164</td>\n",
              "    </tr>\n",
              "    <tr>\n",
              "      <th>2015-08-17 17:40:00</th>\n",
              "      <td>164</td>\n",
              "    </tr>\n",
              "    <tr>\n",
              "      <th>2015-08-17 18:07:00</th>\n",
              "      <td>164</td>\n",
              "    </tr>\n",
              "    <tr>\n",
              "      <th>2015-08-17 18:01:00</th>\n",
              "      <td>165</td>\n",
              "    </tr>\n",
              "    <tr>\n",
              "      <th>2015-08-17 17:56:00</th>\n",
              "      <td>166</td>\n",
              "    </tr>\n",
              "    <tr>\n",
              "      <th>2015-08-17 17:39:00</th>\n",
              "      <td>166</td>\n",
              "    </tr>\n",
              "    <tr>\n",
              "      <th>2015-08-17 17:42:00</th>\n",
              "      <td>167</td>\n",
              "    </tr>\n",
              "    <tr>\n",
              "      <th>2015-08-17 17:58:00</th>\n",
              "      <td>169</td>\n",
              "    </tr>\n",
              "    <tr>\n",
              "      <th>2015-08-17 17:57:00</th>\n",
              "      <td>169</td>\n",
              "    </tr>\n",
              "    <tr>\n",
              "      <th>2015-08-17 17:59:00</th>\n",
              "      <td>170</td>\n",
              "    </tr>\n",
              "    <tr>\n",
              "      <th>2015-08-17 18:00:00</th>\n",
              "      <td>172</td>\n",
              "    </tr>\n",
              "    <tr>\n",
              "      <th>2015-08-17 15:43:00</th>\n",
              "      <td>61441</td>\n",
              "    </tr>\n",
              "    <tr>\n",
              "      <th>2015-08-17 15:44:00</th>\n",
              "      <td>61441</td>\n",
              "    </tr>\n",
              "    <tr>\n",
              "      <th>2015-08-17 15:39:00</th>\n",
              "      <td>61441</td>\n",
              "    </tr>\n",
              "    <tr>\n",
              "      <th>2015-08-17 15:41:00</th>\n",
              "      <td>61441</td>\n",
              "    </tr>\n",
              "    <tr>\n",
              "      <th>2015-08-17 15:42:00</th>\n",
              "      <td>61441</td>\n",
              "    </tr>\n",
              "    <tr>\n",
              "      <th>2015-08-17 15:50:00</th>\n",
              "      <td>61442</td>\n",
              "    </tr>\n",
              "    <tr>\n",
              "      <th>2015-08-17 15:45:00</th>\n",
              "      <td>61442</td>\n",
              "    </tr>\n",
              "    <tr>\n",
              "      <th>2015-08-17 15:40:00</th>\n",
              "      <td>61442</td>\n",
              "    </tr>\n",
              "  </tbody>\n",
              "</table>\n",
              "</div>\n",
              "      <button class=\"colab-df-convert\" onclick=\"convertToInteractive('df-ab11663b-d1d3-40b4-a804-b2aa31f65b3b')\"\n",
              "              title=\"Convert this dataframe to an interactive table.\"\n",
              "              style=\"display:none;\">\n",
              "        \n",
              "  <svg xmlns=\"http://www.w3.org/2000/svg\" height=\"24px\"viewBox=\"0 0 24 24\"\n",
              "       width=\"24px\">\n",
              "    <path d=\"M0 0h24v24H0V0z\" fill=\"none\"/>\n",
              "    <path d=\"M18.56 5.44l.94 2.06.94-2.06 2.06-.94-2.06-.94-.94-2.06-.94 2.06-2.06.94zm-11 1L8.5 8.5l.94-2.06 2.06-.94-2.06-.94L8.5 2.5l-.94 2.06-2.06.94zm10 10l.94 2.06.94-2.06 2.06-.94-2.06-.94-.94-2.06-.94 2.06-2.06.94z\"/><path d=\"M17.41 7.96l-1.37-1.37c-.4-.4-.92-.59-1.43-.59-.52 0-1.04.2-1.43.59L10.3 9.45l-7.72 7.72c-.78.78-.78 2.05 0 2.83L4 21.41c.39.39.9.59 1.41.59.51 0 1.02-.2 1.41-.59l7.78-7.78 2.81-2.81c.8-.78.8-2.07 0-2.86zM5.41 20L4 18.59l7.72-7.72 1.47 1.35L5.41 20z\"/>\n",
              "  </svg>\n",
              "      </button>\n",
              "      \n",
              "  <style>\n",
              "    .colab-df-container {\n",
              "      display:flex;\n",
              "      flex-wrap:wrap;\n",
              "      gap: 12px;\n",
              "    }\n",
              "\n",
              "    .colab-df-convert {\n",
              "      background-color: #E8F0FE;\n",
              "      border: none;\n",
              "      border-radius: 50%;\n",
              "      cursor: pointer;\n",
              "      display: none;\n",
              "      fill: #1967D2;\n",
              "      height: 32px;\n",
              "      padding: 0 0 0 0;\n",
              "      width: 32px;\n",
              "    }\n",
              "\n",
              "    .colab-df-convert:hover {\n",
              "      background-color: #E2EBFA;\n",
              "      box-shadow: 0px 1px 2px rgba(60, 64, 67, 0.3), 0px 1px 3px 1px rgba(60, 64, 67, 0.15);\n",
              "      fill: #174EA6;\n",
              "    }\n",
              "\n",
              "    [theme=dark] .colab-df-convert {\n",
              "      background-color: #3B4455;\n",
              "      fill: #D2E3FC;\n",
              "    }\n",
              "\n",
              "    [theme=dark] .colab-df-convert:hover {\n",
              "      background-color: #434B5C;\n",
              "      box-shadow: 0px 1px 3px 1px rgba(0, 0, 0, 0.15);\n",
              "      filter: drop-shadow(0px 1px 2px rgba(0, 0, 0, 0.3));\n",
              "      fill: #FFFFFF;\n",
              "    }\n",
              "  </style>\n",
              "\n",
              "      <script>\n",
              "        const buttonEl =\n",
              "          document.querySelector('#df-ab11663b-d1d3-40b4-a804-b2aa31f65b3b button.colab-df-convert');\n",
              "        buttonEl.style.display =\n",
              "          google.colab.kernel.accessAllowed ? 'block' : 'none';\n",
              "\n",
              "        async function convertToInteractive(key) {\n",
              "          const element = document.querySelector('#df-ab11663b-d1d3-40b4-a804-b2aa31f65b3b');\n",
              "          const dataTable =\n",
              "            await google.colab.kernel.invokeFunction('convertToInteractive',\n",
              "                                                     [key], {});\n",
              "          if (!dataTable) return;\n",
              "\n",
              "          const docLinkHtml = 'Like what you see? Visit the ' +\n",
              "            '<a target=\"_blank\" href=https://colab.research.google.com/notebooks/data_table.ipynb>data table notebook</a>'\n",
              "            + ' to learn more about interactive tables.';\n",
              "          element.innerHTML = '';\n",
              "          dataTable['output_type'] = 'display_data';\n",
              "          await google.colab.output.renderOutput(dataTable, element);\n",
              "          const docLink = document.createElement('div');\n",
              "          docLink.innerHTML = docLinkHtml;\n",
              "          element.appendChild(docLink);\n",
              "        }\n",
              "      </script>\n",
              "    </div>\n",
              "  </div>\n",
              "  "
            ]
          },
          "metadata": {},
          "execution_count": 142
        }
      ]
    },
    {
      "cell_type": "code",
      "source": [
        "plt.figure(figsize =(12,5),dpi=50)\n",
        "plt.plot(df)\n",
        "plt.show()"
      ],
      "metadata": {
        "colab": {
          "base_uri": "https://localhost:8080/",
          "height": 231
        },
        "id": "lCAGarp9S1l_",
        "outputId": "edb223ae-ccde-46cb-af42-8550f14f150f"
      },
      "execution_count": 143,
      "outputs": [
        {
          "output_type": "display_data",
          "data": {
            "text/plain": [
              "<Figure size 600x250 with 1 Axes>"
            ],
            "image/png": "[encoded data removed]"
          },
          "metadata": {}
        }
      ]
    },
    {
      "cell_type": "markdown",
      "source": [
        "Dealing with outliers"
      ],
      "metadata": {
        "id": "Crje8JrkIIZH"
      }
    },
    {
      "cell_type": "markdown",
      "source": [
        "# New section"
      ],
      "metadata": {
        "id": "IhXMjwHv05dD"
      }
    },
    {
      "cell_type": "code",
      "source": [
        "df = df.replace({'Lifetouch Heart Rate':{61441:np.nan,61442:np.nan}})"
      ],
      "metadata": {
        "id": "w9X2sq-BIGe1"
      },
      "execution_count": 144,
      "outputs": []
    },
    {
      "cell_type": "code",
      "source": [
        "df.sort_values(by=['Lifetouch Heart Rate']).tail(20)"
      ],
      "metadata": {
        "colab": {
          "base_uri": "https://localhost:8080/",
          "height": 708
        },
        "id": "jB8VFmENINF-",
        "outputId": "84ed0406-fb71-4916-89bc-2dacafd8888f"
      },
      "execution_count": 145,
      "outputs": [
        {
          "output_type": "execute_result",
          "data": {
            "text/plain": [
              "                     Lifetouch Heart Rate\n",
              "Timestamp (GMT)                          \n",
              "2015-08-17 17:33:00                 163.0\n",
              "2015-08-17 17:55:00                 164.0\n",
              "2015-08-17 17:40:00                 164.0\n",
              "2015-08-17 18:07:00                 164.0\n",
              "2015-08-17 18:01:00                 165.0\n",
              "2015-08-17 17:56:00                 166.0\n",
              "2015-08-17 17:39:00                 166.0\n",
              "2015-08-17 17:42:00                 167.0\n",
              "2015-08-17 17:57:00                 169.0\n",
              "2015-08-17 17:58:00                 169.0\n",
              "2015-08-17 17:59:00                 170.0\n",
              "2015-08-17 18:00:00                 172.0\n",
              "2015-08-17 15:39:00                   NaN\n",
              "2015-08-17 15:40:00                   NaN\n",
              "2015-08-17 15:41:00                   NaN\n",
              "2015-08-17 15:42:00                   NaN\n",
              "2015-08-17 15:43:00                   NaN\n",
              "2015-08-17 15:44:00                   NaN\n",
              "2015-08-17 15:45:00                   NaN\n",
              "2015-08-17 15:50:00                   NaN"
            ],
            "text/html": [
              "\n",
              "  <div id=\"df-f4721e64-6dc2-4a00-ac06-6389628da854\">\n",
              "    <div class=\"colab-df-container\">\n",
              "      <div>\n",
              "<style scoped>\n",
              "    .dataframe tbody tr th:only-of-type {\n",
              "        vertical-align: middle;\n",
              "    }\n",
              "\n",
              "    .dataframe tbody tr th {\n",
              "        vertical-align: top;\n",
              "    }\n",
              "\n",
              "    .dataframe thead th {\n",
              "        text-align: right;\n",
              "    }\n",
              "</style>\n",
              "<table border=\"1\" class=\"dataframe\">\n",
              "  <thead>\n",
              "    <tr style=\"text-align: right;\">\n",
              "      <th></th>\n",
              "      <th>Lifetouch Heart Rate</th>\n",
              "    </tr>\n",
              "    <tr>\n",
              "      <th>Timestamp (GMT)</th>\n",
              "      <th></th>\n",
              "    </tr>\n",
              "  </thead>\n",
              "  <tbody>\n",
              "    <tr>\n",
              "      <th>2015-08-17 17:33:00</th>\n",
              "      <td>163.0</td>\n",
              "    </tr>\n",
              "    <tr>\n",
              "      <th>2015-08-17 17:55:00</th>\n",
              "      <td>164.0</td>\n",
              "    </tr>\n",
              "    <tr>\n",
              "      <th>2015-08-17 17:40:00</th>\n",
              "      <td>164.0</td>\n",
              "    </tr>\n",
              "    <tr>\n",
              "      <th>2015-08-17 18:07:00</th>\n",
              "      <td>164.0</td>\n",
              "    </tr>\n",
              "    <tr>\n",
              "      <th>2015-08-17 18:01:00</th>\n",
              "      <td>165.0</td>\n",
              "    </tr>\n",
              "    <tr>\n",
              "      <th>2015-08-17 17:56:00</th>\n",
              "      <td>166.0</td>\n",
              "    </tr>\n",
              "    <tr>\n",
              "      <th>2015-08-17 17:39:00</th>\n",
              "      <td>166.0</td>\n",
              "    </tr>\n",
              "    <tr>\n",
              "      <th>2015-08-17 17:42:00</th>\n",
              "      <td>167.0</td>\n",
              "    </tr>\n",
              "    <tr>\n",
              "      <th>2015-08-17 17:57:00</th>\n",
              "      <td>169.0</td>\n",
              "    </tr>\n",
              "    <tr>\n",
              "      <th>2015-08-17 17:58:00</th>\n",
              "      <td>169.0</td>\n",
              "    </tr>\n",
              "    <tr>\n",
              "      <th>2015-08-17 17:59:00</th>\n",
              "      <td>170.0</td>\n",
              "    </tr>\n",
              "    <tr>\n",
              "      <th>2015-08-17 18:00:00</th>\n",
              "      <td>172.0</td>\n",
              "    </tr>\n",
              "    <tr>\n",
              "      <th>2015-08-17 15:39:00</th>\n",
              "      <td>NaN</td>\n",
              "    </tr>\n",
              "    <tr>\n",
              "      <th>2015-08-17 15:40:00</th>\n",
              "      <td>NaN</td>\n",
              "    </tr>\n",
              "    <tr>\n",
              "      <th>2015-08-17 15:41:00</th>\n",
              "      <td>NaN</td>\n",
              "    </tr>\n",
              "    <tr>\n",
              "      <th>2015-08-17 15:42:00</th>\n",
              "      <td>NaN</td>\n",
              "    </tr>\n",
              "    <tr>\n",
              "      <th>2015-08-17 15:43:00</th>\n",
              "      <td>NaN</td>\n",
              "    </tr>\n",
              "    <tr>\n",
              "      <th>2015-08-17 15:44:00</th>\n",
              "      <td>NaN</td>\n",
              "    </tr>\n",
              "    <tr>\n",
              "      <th>2015-08-17 15:45:00</th>\n",
              "      <td>NaN</td>\n",
              "    </tr>\n",
              "    <tr>\n",
              "      <th>2015-08-17 15:50:00</th>\n",
              "      <td>NaN</td>\n",
              "    </tr>\n",
              "  </tbody>\n",
              "</table>\n",
              "</div>\n",
              "      <button class=\"colab-df-convert\" onclick=\"convertToInteractive('df-f4721e64-6dc2-4a00-ac06-6389628da854')\"\n",
              "              title=\"Convert this dataframe to an interactive table.\"\n",
              "              style=\"display:none;\">\n",
              "        \n",
              "  <svg xmlns=\"http://www.w3.org/2000/svg\" height=\"24px\"viewBox=\"0 0 24 24\"\n",
              "       width=\"24px\">\n",
              "    <path d=\"M0 0h24v24H0V0z\" fill=\"none\"/>\n",
              "    <path d=\"M18.56 5.44l.94 2.06.94-2.06 2.06-.94-2.06-.94-.94-2.06-.94 2.06-2.06.94zm-11 1L8.5 8.5l.94-2.06 2.06-.94-2.06-.94L8.5 2.5l-.94 2.06-2.06.94zm10 10l.94 2.06.94-2.06 2.06-.94-2.06-.94-.94-2.06-.94 2.06-2.06.94z\"/><path d=\"M17.41 7.96l-1.37-1.37c-.4-.4-.92-.59-1.43-.59-.52 0-1.04.2-1.43.59L10.3 9.45l-7.72 7.72c-.78.78-.78 2.05 0 2.83L4 21.41c.39.39.9.59 1.41.59.51 0 1.02-.2 1.41-.59l7.78-7.78 2.81-2.81c.8-.78.8-2.07 0-2.86zM5.41 20L4 18.59l7.72-7.72 1.47 1.35L5.41 20z\"/>\n",
              "  </svg>\n",
              "      </button>\n",
              "      \n",
              "  <style>\n",
              "    .colab-df-container {\n",
              "      display:flex;\n",
              "      flex-wrap:wrap;\n",
              "      gap: 12px;\n",
              "    }\n",
              "\n",
              "    .colab-df-convert {\n",
              "      background-color: #E8F0FE;\n",
              "      border: none;\n",
              "      border-radius: 50%;\n",
              "      cursor: pointer;\n",
              "      display: none;\n",
              "      fill: #1967D2;\n",
              "      height: 32px;\n",
              "      padding: 0 0 0 0;\n",
              "      width: 32px;\n",
              "    }\n",
              "\n",
              "    .colab-df-convert:hover {\n",
              "      background-color: #E2EBFA;\n",
              "      box-shadow: 0px 1px 2px rgba(60, 64, 67, 0.3), 0px 1px 3px 1px rgba(60, 64, 67, 0.15);\n",
              "      fill: #174EA6;\n",
              "    }\n",
              "\n",
              "    [theme=dark] .colab-df-convert {\n",
              "      background-color: #3B4455;\n",
              "      fill: #D2E3FC;\n",
              "    }\n",
              "\n",
              "    [theme=dark] .colab-df-convert:hover {\n",
              "      background-color: #434B5C;\n",
              "      box-shadow: 0px 1px 3px 1px rgba(0, 0, 0, 0.15);\n",
              "      filter: drop-shadow(0px 1px 2px rgba(0, 0, 0, 0.3));\n",
              "      fill: #FFFFFF;\n",
              "    }\n",
              "  </style>\n",
              "\n",
              "      <script>\n",
              "        const buttonEl =\n",
              "          document.querySelector('#df-f4721e64-6dc2-4a00-ac06-6389628da854 button.colab-df-convert');\n",
              "        buttonEl.style.display =\n",
              "          google.colab.kernel.accessAllowed ? 'block' : 'none';\n",
              "\n",
              "        async function convertToInteractive(key) {\n",
              "          const element = document.querySelector('#df-f4721e64-6dc2-4a00-ac06-6389628da854');\n",
              "          const dataTable =\n",
              "            await google.colab.kernel.invokeFunction('convertToInteractive',\n",
              "                                                     [key], {});\n",
              "          if (!dataTable) return;\n",
              "\n",
              "          const docLinkHtml = 'Like what you see? Visit the ' +\n",
              "            '<a target=\"_blank\" href=https://colab.research.google.com/notebooks/data_table.ipynb>data table notebook</a>'\n",
              "            + ' to learn more about interactive tables.';\n",
              "          element.innerHTML = '';\n",
              "          dataTable['output_type'] = 'display_data';\n",
              "          await google.colab.output.renderOutput(dataTable, element);\n",
              "          const docLink = document.createElement('div');\n",
              "          docLink.innerHTML = docLinkHtml;\n",
              "          element.appendChild(docLink);\n",
              "        }\n",
              "      </script>\n",
              "    </div>\n",
              "  </div>\n",
              "  "
            ]
          },
          "metadata": {},
          "execution_count": 145
        }
      ]
    },
    {
      "cell_type": "code",
      "source": [
        "df = df.ffill()"
      ],
      "metadata": {
        "id": "jafjAycGLYMg"
      },
      "execution_count": 146,
      "outputs": []
    },
    {
      "cell_type": "code",
      "source": [
        "df.sort_values(by=['Lifetouch Heart Rate']).tail(20)"
      ],
      "metadata": {
        "colab": {
          "base_uri": "https://localhost:8080/",
          "height": 708
        },
        "id": "WBjFP_jJLjpm",
        "outputId": "4d36d9d4-bcfe-4e88-9fdc-c8a6bf075c81"
      },
      "execution_count": 147,
      "outputs": [
        {
          "output_type": "execute_result",
          "data": {
            "text/plain": [
              "                     Lifetouch Heart Rate\n",
              "Timestamp (GMT)                          \n",
              "2015-08-17 18:05:00                 161.0\n",
              "2015-08-17 17:32:00                 162.0\n",
              "2015-08-17 17:31:00                 162.0\n",
              "2015-08-17 17:30:00                 163.0\n",
              "2015-08-17 17:34:00                 163.0\n",
              "2015-08-17 17:54:00                 163.0\n",
              "2015-08-17 17:52:00                 163.0\n",
              "2015-08-17 18:02:00                 163.0\n",
              "2015-08-17 17:33:00                 163.0\n",
              "2015-08-17 18:07:00                 164.0\n",
              "2015-08-17 17:40:00                 164.0\n",
              "2015-08-17 17:55:00                 164.0\n",
              "2015-08-17 18:01:00                 165.0\n",
              "2015-08-17 17:56:00                 166.0\n",
              "2015-08-17 17:39:00                 166.0\n",
              "2015-08-17 17:42:00                 167.0\n",
              "2015-08-17 17:58:00                 169.0\n",
              "2015-08-17 17:57:00                 169.0\n",
              "2015-08-17 17:59:00                 170.0\n",
              "2015-08-17 18:00:00                 172.0"
            ],
            "text/html": [
              "\n",
              "  <div id=\"df-d0913dc0-4fcb-4963-9571-fd22009d9656\">\n",
              "    <div class=\"colab-df-container\">\n",
              "      <div>\n",
              "<style scoped>\n",
              "    .dataframe tbody tr th:only-of-type {\n",
              "        vertical-align: middle;\n",
              "    }\n",
              "\n",
              "    .dataframe tbody tr th {\n",
              "        vertical-align: top;\n",
              "    }\n",
              "\n",
              "    .dataframe thead th {\n",
              "        text-align: right;\n",
              "    }\n",
              "</style>\n",
              "<table border=\"1\" class=\"dataframe\">\n",
              "  <thead>\n",
              "    <tr style=\"text-align: right;\">\n",
              "      <th></th>\n",
              "      <th>Lifetouch Heart Rate</th>\n",
              "    </tr>\n",
              "    <tr>\n",
              "      <th>Timestamp (GMT)</th>\n",
              "      <th></th>\n",
              "    </tr>\n",
              "  </thead>\n",
              "  <tbody>\n",
              "    <tr>\n",
              "      <th>2015-08-17 18:05:00</th>\n",
              "      <td>161.0</td>\n",
              "    </tr>\n",
              "    <tr>\n",
              "      <th>2015-08-17 17:32:00</th>\n",
              "      <td>162.0</td>\n",
              "    </tr>\n",
              "    <tr>\n",
              "      <th>2015-08-17 17:31:00</th>\n",
              "      <td>162.0</td>\n",
              "    </tr>\n",
              "    <tr>\n",
              "      <th>2015-08-17 17:30:00</th>\n",
              "      <td>163.0</td>\n",
              "    </tr>\n",
              "    <tr>\n",
              "      <th>2015-08-17 17:34:00</th>\n",
              "      <td>163.0</td>\n",
              "    </tr>\n",
              "    <tr>\n",
              "      <th>2015-08-17 17:54:00</th>\n",
              "      <td>163.0</td>\n",
              "    </tr>\n",
              "    <tr>\n",
              "      <th>2015-08-17 17:52:00</th>\n",
              "      <td>163.0</td>\n",
              "    </tr>\n",
              "    <tr>\n",
              "      <th>2015-08-17 18:02:00</th>\n",
              "      <td>163.0</td>\n",
              "    </tr>\n",
              "    <tr>\n",
              "      <th>2015-08-17 17:33:00</th>\n",
              "      <td>163.0</td>\n",
              "    </tr>\n",
              "    <tr>\n",
              "      <th>2015-08-17 18:07:00</th>\n",
              "      <td>164.0</td>\n",
              "    </tr>\n",
              "    <tr>\n",
              "      <th>2015-08-17 17:40:00</th>\n",
              "      <td>164.0</td>\n",
              "    </tr>\n",
              "    <tr>\n",
              "      <th>2015-08-17 17:55:00</th>\n",
              "      <td>164.0</td>\n",
              "    </tr>\n",
              "    <tr>\n",
              "      <th>2015-08-17 18:01:00</th>\n",
              "      <td>165.0</td>\n",
              "    </tr>\n",
              "    <tr>\n",
              "      <th>2015-08-17 17:56:00</th>\n",
              "      <td>166.0</td>\n",
              "    </tr>\n",
              "    <tr>\n",
              "      <th>2015-08-17 17:39:00</th>\n",
              "      <td>166.0</td>\n",
              "    </tr>\n",
              "    <tr>\n",
              "      <th>2015-08-17 17:42:00</th>\n",
              "      <td>167.0</td>\n",
              "    </tr>\n",
              "    <tr>\n",
              "      <th>2015-08-17 17:58:00</th>\n",
              "      <td>169.0</td>\n",
              "    </tr>\n",
              "    <tr>\n",
              "      <th>2015-08-17 17:57:00</th>\n",
              "      <td>169.0</td>\n",
              "    </tr>\n",
              "    <tr>\n",
              "      <th>2015-08-17 17:59:00</th>\n",
              "      <td>170.0</td>\n",
              "    </tr>\n",
              "    <tr>\n",
              "      <th>2015-08-17 18:00:00</th>\n",
              "      <td>172.0</td>\n",
              "    </tr>\n",
              "  </tbody>\n",
              "</table>\n",
              "</div>\n",
              "      <button class=\"colab-df-convert\" onclick=\"convertToInteractive('df-d0913dc0-4fcb-4963-9571-fd22009d9656')\"\n",
              "              title=\"Convert this dataframe to an interactive table.\"\n",
              "              style=\"display:none;\">\n",
              "        \n",
              "  <svg xmlns=\"http://www.w3.org/2000/svg\" height=\"24px\"viewBox=\"0 0 24 24\"\n",
              "       width=\"24px\">\n",
              "    <path d=\"M0 0h24v24H0V0z\" fill=\"none\"/>\n",
              "    <path d=\"M18.56 5.44l.94 2.06.94-2.06 2.06-.94-2.06-.94-.94-2.06-.94 2.06-2.06.94zm-11 1L8.5 8.5l.94-2.06 2.06-.94-2.06-.94L8.5 2.5l-.94 2.06-2.06.94zm10 10l.94 2.06.94-2.06 2.06-.94-2.06-.94-.94-2.06-.94 2.06-2.06.94z\"/><path d=\"M17.41 7.96l-1.37-1.37c-.4-.4-.92-.59-1.43-.59-.52 0-1.04.2-1.43.59L10.3 9.45l-7.72 7.72c-.78.78-.78 2.05 0 2.83L4 21.41c.39.39.9.59 1.41.59.51 0 1.02-.2 1.41-.59l7.78-7.78 2.81-2.81c.8-.78.8-2.07 0-2.86zM5.41 20L4 18.59l7.72-7.72 1.47 1.35L5.41 20z\"/>\n",
              "  </svg>\n",
              "      </button>\n",
              "      \n",
              "  <style>\n",
              "    .colab-df-container {\n",
              "      display:flex;\n",
              "      flex-wrap:wrap;\n",
              "      gap: 12px;\n",
              "    }\n",
              "\n",
              "    .colab-df-convert {\n",
              "      background-color: #E8F0FE;\n",
              "      border: none;\n",
              "      border-radius: 50%;\n",
              "      cursor: pointer;\n",
              "      display: none;\n",
              "      fill: #1967D2;\n",
              "      height: 32px;\n",
              "      padding: 0 0 0 0;\n",
              "      width: 32px;\n",
              "    }\n",
              "\n",
              "    .colab-df-convert:hover {\n",
              "      background-color: #E2EBFA;\n",
              "      box-shadow: 0px 1px 2px rgba(60, 64, 67, 0.3), 0px 1px 3px 1px rgba(60, 64, 67, 0.15);\n",
              "      fill: #174EA6;\n",
              "    }\n",
              "\n",
              "    [theme=dark] .colab-df-convert {\n",
              "      background-color: #3B4455;\n",
              "      fill: #D2E3FC;\n",
              "    }\n",
              "\n",
              "    [theme=dark] .colab-df-convert:hover {\n",
              "      background-color: #434B5C;\n",
              "      box-shadow: 0px 1px 3px 1px rgba(0, 0, 0, 0.15);\n",
              "      filter: drop-shadow(0px 1px 2px rgba(0, 0, 0, 0.3));\n",
              "      fill: #FFFFFF;\n",
              "    }\n",
              "  </style>\n",
              "\n",
              "      <script>\n",
              "        const buttonEl =\n",
              "          document.querySelector('#df-d0913dc0-4fcb-4963-9571-fd22009d9656 button.colab-df-convert');\n",
              "        buttonEl.style.display =\n",
              "          google.colab.kernel.accessAllowed ? 'block' : 'none';\n",
              "\n",
              "        async function convertToInteractive(key) {\n",
              "          const element = document.querySelector('#df-d0913dc0-4fcb-4963-9571-fd22009d9656');\n",
              "          const dataTable =\n",
              "            await google.colab.kernel.invokeFunction('convertToInteractive',\n",
              "                                                     [key], {});\n",
              "          if (!dataTable) return;\n",
              "\n",
              "          const docLinkHtml = 'Like what you see? Visit the ' +\n",
              "            '<a target=\"_blank\" href=https://colab.research.google.com/notebooks/data_table.ipynb>data table notebook</a>'\n",
              "            + ' to learn more about interactive tables.';\n",
              "          element.innerHTML = '';\n",
              "          dataTable['output_type'] = 'display_data';\n",
              "          await google.colab.output.renderOutput(dataTable, element);\n",
              "          const docLink = document.createElement('div');\n",
              "          docLink.innerHTML = docLinkHtml;\n",
              "          element.appendChild(docLink);\n",
              "        }\n",
              "      </script>\n",
              "    </div>\n",
              "  </div>\n",
              "  "
            ]
          },
          "metadata": {},
          "execution_count": 147
        }
      ]
    },
    {
      "cell_type": "code",
      "source": [],
      "metadata": {
        "id": "nLwSxHro8ayy"
      },
      "execution_count": 147,
      "outputs": []
    },
    {
      "cell_type": "markdown",
      "source": [
        "Splitting Data - An 80/20 split is reasonable"
      ],
      "metadata": {
        "id": "N14hwQp8qs02"
      }
    },
    {
      "cell_type": "code",
      "source": [
        "df_train = df.iloc[0:80]"
      ],
      "metadata": {
        "id": "1o6RcbmXn614"
      },
      "execution_count": 148,
      "outputs": []
    },
    {
      "cell_type": "code",
      "source": [
        "df_train.shape"
      ],
      "metadata": {
        "colab": {
          "base_uri": "https://localhost:8080/"
        },
        "id": "KE689kK-M568",
        "outputId": "7219b73b-4fca-495c-a61c-41c6e1487220"
      },
      "execution_count": 149,
      "outputs": [
        {
          "output_type": "execute_result",
          "data": {
            "text/plain": [
              "(80, 1)"
            ]
          },
          "metadata": {},
          "execution_count": 149
        }
      ]
    },
    {
      "cell_type": "code",
      "source": [
        "df_test = df.iloc[-20:,:]"
      ],
      "metadata": {
        "id": "6pBBykkxt3YZ"
      },
      "execution_count": 150,
      "outputs": []
    },
    {
      "cell_type": "code",
      "source": [
        "df_test"
      ],
      "metadata": {
        "colab": {
          "base_uri": "https://localhost:8080/",
          "height": 708
        },
        "id": "rLhBZDtqz22j",
        "outputId": "ffa79b67-c11b-4a53-a9e9-f5e832e85075"
      },
      "execution_count": 151,
      "outputs": [
        {
          "output_type": "execute_result",
          "data": {
            "text/plain": [
              "                     Lifetouch Heart Rate\n",
              "Timestamp (GMT)                          \n",
              "2015-08-17 18:35:00                 159.0\n",
              "2015-08-17 18:36:00                 160.0\n",
              "2015-08-17 18:37:00                 155.0\n",
              "2015-08-17 18:38:00                 155.0\n",
              "2015-08-17 18:39:00                 148.0\n",
              "2015-08-17 18:40:00                 148.0\n",
              "2015-08-17 18:41:00                 152.0\n",
              "2015-08-17 18:42:00                 152.0\n",
              "2015-08-17 18:43:00                 150.0\n",
              "2015-08-17 18:44:00                 153.0\n",
              "2015-08-17 18:45:00                 158.0\n",
              "2015-08-17 18:46:00                 158.0\n",
              "2015-08-17 18:47:00                 154.0\n",
              "2015-08-17 18:48:00                 155.0\n",
              "2015-08-17 18:49:00                 157.0\n",
              "2015-08-17 18:50:00                 159.0\n",
              "2015-08-17 18:51:00                 151.0\n",
              "2015-08-17 18:52:00                 140.0\n",
              "2015-08-17 18:53:00                 140.0\n",
              "2015-08-17 18:54:00                 138.0"
            ],
            "text/html": [
              "\n",
              "  <div id=\"df-04de6ce4-9ba7-464a-b0ba-4295f52d67d7\">\n",
              "    <div class=\"colab-df-container\">\n",
              "      <div>\n",
              "<style scoped>\n",
              "    .dataframe tbody tr th:only-of-type {\n",
              "        vertical-align: middle;\n",
              "    }\n",
              "\n",
              "    .dataframe tbody tr th {\n",
              "        vertical-align: top;\n",
              "    }\n",
              "\n",
              "    .dataframe thead th {\n",
              "        text-align: right;\n",
              "    }\n",
              "</style>\n",
              "<table border=\"1\" class=\"dataframe\">\n",
              "  <thead>\n",
              "    <tr style=\"text-align: right;\">\n",
              "      <th></th>\n",
              "      <th>Lifetouch Heart Rate</th>\n",
              "    </tr>\n",
              "    <tr>\n",
              "      <th>Timestamp (GMT)</th>\n",
              "      <th></th>\n",
              "    </tr>\n",
              "  </thead>\n",
              "  <tbody>\n",
              "    <tr>\n",
              "      <th>2015-08-17 18:35:00</th>\n",
              "      <td>159.0</td>\n",
              "    </tr>\n",
              "    <tr>\n",
              "      <th>2015-08-17 18:36:00</th>\n",
              "      <td>160.0</td>\n",
              "    </tr>\n",
              "    <tr>\n",
              "      <th>2015-08-17 18:37:00</th>\n",
              "      <td>155.0</td>\n",
              "    </tr>\n",
              "    <tr>\n",
              "      <th>2015-08-17 18:38:00</th>\n",
              "      <td>155.0</td>\n",
              "    </tr>\n",
              "    <tr>\n",
              "      <th>2015-08-17 18:39:00</th>\n",
              "      <td>148.0</td>\n",
              "    </tr>\n",
              "    <tr>\n",
              "      <th>2015-08-17 18:40:00</th>\n",
              "      <td>148.0</td>\n",
              "    </tr>\n",
              "    <tr>\n",
              "      <th>2015-08-17 18:41:00</th>\n",
              "      <td>152.0</td>\n",
              "    </tr>\n",
              "    <tr>\n",
              "      <th>2015-08-17 18:42:00</th>\n",
              "      <td>152.0</td>\n",
              "    </tr>\n",
              "    <tr>\n",
              "      <th>2015-08-17 18:43:00</th>\n",
              "      <td>150.0</td>\n",
              "    </tr>\n",
              "    <tr>\n",
              "      <th>2015-08-17 18:44:00</th>\n",
              "      <td>153.0</td>\n",
              "    </tr>\n",
              "    <tr>\n",
              "      <th>2015-08-17 18:45:00</th>\n",
              "      <td>158.0</td>\n",
              "    </tr>\n",
              "    <tr>\n",
              "      <th>2015-08-17 18:46:00</th>\n",
              "      <td>158.0</td>\n",
              "    </tr>\n",
              "    <tr>\n",
              "      <th>2015-08-17 18:47:00</th>\n",
              "      <td>154.0</td>\n",
              "    </tr>\n",
              "    <tr>\n",
              "      <th>2015-08-17 18:48:00</th>\n",
              "      <td>155.0</td>\n",
              "    </tr>\n",
              "    <tr>\n",
              "      <th>2015-08-17 18:49:00</th>\n",
              "      <td>157.0</td>\n",
              "    </tr>\n",
              "    <tr>\n",
              "      <th>2015-08-17 18:50:00</th>\n",
              "      <td>159.0</td>\n",
              "    </tr>\n",
              "    <tr>\n",
              "      <th>2015-08-17 18:51:00</th>\n",
              "      <td>151.0</td>\n",
              "    </tr>\n",
              "    <tr>\n",
              "      <th>2015-08-17 18:52:00</th>\n",
              "      <td>140.0</td>\n",
              "    </tr>\n",
              "    <tr>\n",
              "      <th>2015-08-17 18:53:00</th>\n",
              "      <td>140.0</td>\n",
              "    </tr>\n",
              "    <tr>\n",
              "      <th>2015-08-17 18:54:00</th>\n",
              "      <td>138.0</td>\n",
              "    </tr>\n",
              "  </tbody>\n",
              "</table>\n",
              "</div>\n",
              "      <button class=\"colab-df-convert\" onclick=\"convertToInteractive('df-04de6ce4-9ba7-464a-b0ba-4295f52d67d7')\"\n",
              "              title=\"Convert this dataframe to an interactive table.\"\n",
              "              style=\"display:none;\">\n",
              "        \n",
              "  <svg xmlns=\"http://www.w3.org/2000/svg\" height=\"24px\"viewBox=\"0 0 24 24\"\n",
              "       width=\"24px\">\n",
              "    <path d=\"M0 0h24v24H0V0z\" fill=\"none\"/>\n",
              "    <path d=\"M18.56 5.44l.94 2.06.94-2.06 2.06-.94-2.06-.94-.94-2.06-.94 2.06-2.06.94zm-11 1L8.5 8.5l.94-2.06 2.06-.94-2.06-.94L8.5 2.5l-.94 2.06-2.06.94zm10 10l.94 2.06.94-2.06 2.06-.94-2.06-.94-.94-2.06-.94 2.06-2.06.94z\"/><path d=\"M17.41 7.96l-1.37-1.37c-.4-.4-.92-.59-1.43-.59-.52 0-1.04.2-1.43.59L10.3 9.45l-7.72 7.72c-.78.78-.78 2.05 0 2.83L4 21.41c.39.39.9.59 1.41.59.51 0 1.02-.2 1.41-.59l7.78-7.78 2.81-2.81c.8-.78.8-2.07 0-2.86zM5.41 20L4 18.59l7.72-7.72 1.47 1.35L5.41 20z\"/>\n",
              "  </svg>\n",
              "      </button>\n",
              "      \n",
              "  <style>\n",
              "    .colab-df-container {\n",
              "      display:flex;\n",
              "      flex-wrap:wrap;\n",
              "      gap: 12px;\n",
              "    }\n",
              "\n",
              "    .colab-df-convert {\n",
              "      background-color: #E8F0FE;\n",
              "      border: none;\n",
              "      border-radius: 50%;\n",
              "      cursor: pointer;\n",
              "      display: none;\n",
              "      fill: #1967D2;\n",
              "      height: 32px;\n",
              "      padding: 0 0 0 0;\n",
              "      width: 32px;\n",
              "    }\n",
              "\n",
              "    .colab-df-convert:hover {\n",
              "      background-color: #E2EBFA;\n",
              "      box-shadow: 0px 1px 2px rgba(60, 64, 67, 0.3), 0px 1px 3px 1px rgba(60, 64, 67, 0.15);\n",
              "      fill: #174EA6;\n",
              "    }\n",
              "\n",
              "    [theme=dark] .colab-df-convert {\n",
              "      background-color: #3B4455;\n",
              "      fill: #D2E3FC;\n",
              "    }\n",
              "\n",
              "    [theme=dark] .colab-df-convert:hover {\n",
              "      background-color: #434B5C;\n",
              "      box-shadow: 0px 1px 3px 1px rgba(0, 0, 0, 0.15);\n",
              "      filter: drop-shadow(0px 1px 2px rgba(0, 0, 0, 0.3));\n",
              "      fill: #FFFFFF;\n",
              "    }\n",
              "  </style>\n",
              "\n",
              "      <script>\n",
              "        const buttonEl =\n",
              "          document.querySelector('#df-04de6ce4-9ba7-464a-b0ba-4295f52d67d7 button.colab-df-convert');\n",
              "        buttonEl.style.display =\n",
              "          google.colab.kernel.accessAllowed ? 'block' : 'none';\n",
              "\n",
              "        async function convertToInteractive(key) {\n",
              "          const element = document.querySelector('#df-04de6ce4-9ba7-464a-b0ba-4295f52d67d7');\n",
              "          const dataTable =\n",
              "            await google.colab.kernel.invokeFunction('convertToInteractive',\n",
              "                                                     [key], {});\n",
              "          if (!dataTable) return;\n",
              "\n",
              "          const docLinkHtml = 'Like what you see? Visit the ' +\n",
              "            '<a target=\"_blank\" href=https://colab.research.google.com/notebooks/data_table.ipynb>data table notebook</a>'\n",
              "            + ' to learn more about interactive tables.';\n",
              "          element.innerHTML = '';\n",
              "          dataTable['output_type'] = 'display_data';\n",
              "          await google.colab.output.renderOutput(dataTable, element);\n",
              "          const docLink = document.createElement('div');\n",
              "          docLink.innerHTML = docLinkHtml;\n",
              "          element.appendChild(docLink);\n",
              "        }\n",
              "      </script>\n",
              "    </div>\n",
              "  </div>\n",
              "  "
            ]
          },
          "metadata": {},
          "execution_count": 151
        }
      ]
    },
    {
      "cell_type": "code",
      "source": [],
      "metadata": {
        "id": "InPsGR1hz7WB"
      },
      "execution_count": 151,
      "outputs": []
    },
    {
      "cell_type": "code",
      "source": [
        "# plot time series\n",
        "plt.figure(figsize=(12, 6))\n",
        "plt.plot(df.index, df['Lifetouch Heart Rate'])\n",
        "plt.show()\n"
      ],
      "metadata": {
        "id": "gm6vL9yVXU2q",
        "colab": {
          "base_uri": "https://localhost:8080/",
          "height": 377
        },
        "outputId": "1d79a0fd-c758-4513-f4b7-cf6179252093"
      },
      "execution_count": 152,
      "outputs": [
        {
          "output_type": "display_data",
          "data": {
            "text/plain": [
              "<Figure size 864x432 with 1 Axes>"
            ],
            "image/png": "[encoded data removed]"
          },
          "metadata": {}
        }
      ]
    },
    {
      "cell_type": "code",
      "source": [
        "df['Lifetouch Heart Rate_diff'] = df[['Lifetouch Heart Rate']].diff(axis = 0,periods = 1)\n",
        "df.head()"
      ],
      "metadata": {
        "colab": {
          "base_uri": "https://localhost:8080/",
          "height": 238
        },
        "id": "lU9SX-e9GHxi",
        "outputId": "a2cf53f2-55e6-421f-ce17-32ab6ff3687e"
      },
      "execution_count": 153,
      "outputs": [
        {
          "output_type": "execute_result",
          "data": {
            "text/plain": [
              "                     Lifetouch Heart Rate  Lifetouch Heart Rate_diff\n",
              "Timestamp (GMT)                                                     \n",
              "2015-08-17 15:09:00                 139.0                        NaN\n",
              "2015-08-17 15:10:00                 144.0                        5.0\n",
              "2015-08-17 15:11:00                 140.0                       -4.0\n",
              "2015-08-17 15:12:00                 138.0                       -2.0\n",
              "2015-08-17 15:13:00                 133.0                       -5.0"
            ],
            "text/html": [
              "\n",
              "  <div id=\"df-48c33461-1db8-4984-babb-b119c024eced\">\n",
              "    <div class=\"colab-df-container\">\n",
              "      <div>\n",
              "<style scoped>\n",
              "    .dataframe tbody tr th:only-of-type {\n",
              "        vertical-align: middle;\n",
              "    }\n",
              "\n",
              "    .dataframe tbody tr th {\n",
              "        vertical-align: top;\n",
              "    }\n",
              "\n",
              "    .dataframe thead th {\n",
              "        text-align: right;\n",
              "    }\n",
              "</style>\n",
              "<table border=\"1\" class=\"dataframe\">\n",
              "  <thead>\n",
              "    <tr style=\"text-align: right;\">\n",
              "      <th></th>\n",
              "      <th>Lifetouch Heart Rate</th>\n",
              "      <th>Lifetouch Heart Rate_diff</th>\n",
              "    </tr>\n",
              "    <tr>\n",
              "      <th>Timestamp (GMT)</th>\n",
              "      <th></th>\n",
              "      <th></th>\n",
              "    </tr>\n",
              "  </thead>\n",
              "  <tbody>\n",
              "    <tr>\n",
              "      <th>2015-08-17 15:09:00</th>\n",
              "      <td>139.0</td>\n",
              "      <td>NaN</td>\n",
              "    </tr>\n",
              "    <tr>\n",
              "      <th>2015-08-17 15:10:00</th>\n",
              "      <td>144.0</td>\n",
              "      <td>5.0</td>\n",
              "    </tr>\n",
              "    <tr>\n",
              "      <th>2015-08-17 15:11:00</th>\n",
              "      <td>140.0</td>\n",
              "      <td>-4.0</td>\n",
              "    </tr>\n",
              "    <tr>\n",
              "      <th>2015-08-17 15:12:00</th>\n",
              "      <td>138.0</td>\n",
              "      <td>-2.0</td>\n",
              "    </tr>\n",
              "    <tr>\n",
              "      <th>2015-08-17 15:13:00</th>\n",
              "      <td>133.0</td>\n",
              "      <td>-5.0</td>\n",
              "    </tr>\n",
              "  </tbody>\n",
              "</table>\n",
              "</div>\n",
              "      <button class=\"colab-df-convert\" onclick=\"convertToInteractive('df-48c33461-1db8-4984-babb-b119c024eced')\"\n",
              "              title=\"Convert this dataframe to an interactive table.\"\n",
              "              style=\"display:none;\">\n",
              "        \n",
              "  <svg xmlns=\"http://www.w3.org/2000/svg\" height=\"24px\"viewBox=\"0 0 24 24\"\n",
              "       width=\"24px\">\n",
              "    <path d=\"M0 0h24v24H0V0z\" fill=\"none\"/>\n",
              "    <path d=\"M18.56 5.44l.94 2.06.94-2.06 2.06-.94-2.06-.94-.94-2.06-.94 2.06-2.06.94zm-11 1L8.5 8.5l.94-2.06 2.06-.94-2.06-.94L8.5 2.5l-.94 2.06-2.06.94zm10 10l.94 2.06.94-2.06 2.06-.94-2.06-.94-.94-2.06-.94 2.06-2.06.94z\"/><path d=\"M17.41 7.96l-1.37-1.37c-.4-.4-.92-.59-1.43-.59-.52 0-1.04.2-1.43.59L10.3 9.45l-7.72 7.72c-.78.78-.78 2.05 0 2.83L4 21.41c.39.39.9.59 1.41.59.51 0 1.02-.2 1.41-.59l7.78-7.78 2.81-2.81c.8-.78.8-2.07 0-2.86zM5.41 20L4 18.59l7.72-7.72 1.47 1.35L5.41 20z\"/>\n",
              "  </svg>\n",
              "      </button>\n",
              "      \n",
              "  <style>\n",
              "    .colab-df-container {\n",
              "      display:flex;\n",
              "      flex-wrap:wrap;\n",
              "      gap: 12px;\n",
              "    }\n",
              "\n",
              "    .colab-df-convert {\n",
              "      background-color: #E8F0FE;\n",
              "      border: none;\n",
              "      border-radius: 50%;\n",
              "      cursor: pointer;\n",
              "      display: none;\n",
              "      fill: #1967D2;\n",
              "      height: 32px;\n",
              "      padding: 0 0 0 0;\n",
              "      width: 32px;\n",
              "    }\n",
              "\n",
              "    .colab-df-convert:hover {\n",
              "      background-color: #E2EBFA;\n",
              "      box-shadow: 0px 1px 2px rgba(60, 64, 67, 0.3), 0px 1px 3px 1px rgba(60, 64, 67, 0.15);\n",
              "      fill: #174EA6;\n",
              "    }\n",
              "\n",
              "    [theme=dark] .colab-df-convert {\n",
              "      background-color: #3B4455;\n",
              "      fill: #D2E3FC;\n",
              "    }\n",
              "\n",
              "    [theme=dark] .colab-df-convert:hover {\n",
              "      background-color: #434B5C;\n",
              "      box-shadow: 0px 1px 3px 1px rgba(0, 0, 0, 0.15);\n",
              "      filter: drop-shadow(0px 1px 2px rgba(0, 0, 0, 0.3));\n",
              "      fill: #FFFFFF;\n",
              "    }\n",
              "  </style>\n",
              "\n",
              "      <script>\n",
              "        const buttonEl =\n",
              "          document.querySelector('#df-48c33461-1db8-4984-babb-b119c024eced button.colab-df-convert');\n",
              "        buttonEl.style.display =\n",
              "          google.colab.kernel.accessAllowed ? 'block' : 'none';\n",
              "\n",
              "        async function convertToInteractive(key) {\n",
              "          const element = document.querySelector('#df-48c33461-1db8-4984-babb-b119c024eced');\n",
              "          const dataTable =\n",
              "            await google.colab.kernel.invokeFunction('convertToInteractive',\n",
              "                                                     [key], {});\n",
              "          if (!dataTable) return;\n",
              "\n",
              "          const docLinkHtml = 'Like what you see? Visit the ' +\n",
              "            '<a target=\"_blank\" href=https://colab.research.google.com/notebooks/data_table.ipynb>data table notebook</a>'\n",
              "            + ' to learn more about interactive tables.';\n",
              "          element.innerHTML = '';\n",
              "          dataTable['output_type'] = 'display_data';\n",
              "          await google.colab.output.renderOutput(dataTable, element);\n",
              "          const docLink = document.createElement('div');\n",
              "          docLink.innerHTML = docLinkHtml;\n",
              "          element.appendChild(docLink);\n",
              "        }\n",
              "      </script>\n",
              "    </div>\n",
              "  </div>\n",
              "  "
            ]
          },
          "metadata": {},
          "execution_count": 153
        }
      ]
    },
    {
      "cell_type": "code",
      "source": [
        "plt.figure(figsize =(12,8))\n",
        "plt.plot(df.index,df['Lifetouch Heart Rate_diff'])\n",
        "plt.show()"
      ],
      "metadata": {
        "colab": {
          "base_uri": "https://localhost:8080/",
          "height": 486
        },
        "id": "uQZAN1vZHD0R",
        "outputId": "4b40f69c-4203-412c-f593-545c8b4a970b"
      },
      "execution_count": 154,
      "outputs": [
        {
          "output_type": "display_data",
          "data": {
            "text/plain": [
              "<Figure size 864x576 with 1 Axes>"
            ],
            "image/png": "[encoded data removed]"
          },
          "metadata": {}
        }
      ]
    },
    {
      "cell_type": "markdown",
      "source": [
        "##Plot the time series##"
      ],
      "metadata": {
        "id": "2QEkPV_Feqq5"
      }
    },
    {
      "cell_type": "code",
      "source": [
        "df = df.bfill()"
      ],
      "metadata": {
        "id": "Sv7lXpMgIsdI"
      },
      "execution_count": 155,
      "outputs": []
    },
    {
      "cell_type": "markdown",
      "source": [
        "Check stationarity of the series"
      ],
      "metadata": {
        "id": "ovm0wWk2f0Yv"
      }
    },
    {
      "cell_type": "code",
      "source": [
        "df.head()"
      ],
      "metadata": {
        "colab": {
          "base_uri": "https://localhost:8080/",
          "height": 238
        },
        "id": "PaDXg1mpI_1A",
        "outputId": "34fdbb12-df93-4ecd-d582-44ee1409c460"
      },
      "execution_count": 156,
      "outputs": [
        {
          "output_type": "execute_result",
          "data": {
            "text/plain": [
              "                     Lifetouch Heart Rate  Lifetouch Heart Rate_diff\n",
              "Timestamp (GMT)                                                     \n",
              "2015-08-17 15:09:00                 139.0                        5.0\n",
              "2015-08-17 15:10:00                 144.0                        5.0\n",
              "2015-08-17 15:11:00                 140.0                       -4.0\n",
              "2015-08-17 15:12:00                 138.0                       -2.0\n",
              "2015-08-17 15:13:00                 133.0                       -5.0"
            ],
            "text/html": [
              "\n",
              "  <div id=\"df-de7e1cbf-2ce7-4c1a-a3c2-ff7bd9d46c35\">\n",
              "    <div class=\"colab-df-container\">\n",
              "      <div>\n",
              "<style scoped>\n",
              "    .dataframe tbody tr th:only-of-type {\n",
              "        vertical-align: middle;\n",
              "    }\n",
              "\n",
              "    .dataframe tbody tr th {\n",
              "        vertical-align: top;\n",
              "    }\n",
              "\n",
              "    .dataframe thead th {\n",
              "        text-align: right;\n",
              "    }\n",
              "</style>\n",
              "<table border=\"1\" class=\"dataframe\">\n",
              "  <thead>\n",
              "    <tr style=\"text-align: right;\">\n",
              "      <th></th>\n",
              "      <th>Lifetouch Heart Rate</th>\n",
              "      <th>Lifetouch Heart Rate_diff</th>\n",
              "    </tr>\n",
              "    <tr>\n",
              "      <th>Timestamp (GMT)</th>\n",
              "      <th></th>\n",
              "      <th></th>\n",
              "    </tr>\n",
              "  </thead>\n",
              "  <tbody>\n",
              "    <tr>\n",
              "      <th>2015-08-17 15:09:00</th>\n",
              "      <td>139.0</td>\n",
              "      <td>5.0</td>\n",
              "    </tr>\n",
              "    <tr>\n",
              "      <th>2015-08-17 15:10:00</th>\n",
              "      <td>144.0</td>\n",
              "      <td>5.0</td>\n",
              "    </tr>\n",
              "    <tr>\n",
              "      <th>2015-08-17 15:11:00</th>\n",
              "      <td>140.0</td>\n",
              "      <td>-4.0</td>\n",
              "    </tr>\n",
              "    <tr>\n",
              "      <th>2015-08-17 15:12:00</th>\n",
              "      <td>138.0</td>\n",
              "      <td>-2.0</td>\n",
              "    </tr>\n",
              "    <tr>\n",
              "      <th>2015-08-17 15:13:00</th>\n",
              "      <td>133.0</td>\n",
              "      <td>-5.0</td>\n",
              "    </tr>\n",
              "  </tbody>\n",
              "</table>\n",
              "</div>\n",
              "      <button class=\"colab-df-convert\" onclick=\"convertToInteractive('df-de7e1cbf-2ce7-4c1a-a3c2-ff7bd9d46c35')\"\n",
              "              title=\"Convert this dataframe to an interactive table.\"\n",
              "              style=\"display:none;\">\n",
              "        \n",
              "  <svg xmlns=\"http://www.w3.org/2000/svg\" height=\"24px\"viewBox=\"0 0 24 24\"\n",
              "       width=\"24px\">\n",
              "    <path d=\"M0 0h24v24H0V0z\" fill=\"none\"/>\n",
              "    <path d=\"M18.56 5.44l.94 2.06.94-2.06 2.06-.94-2.06-.94-.94-2.06-.94 2.06-2.06.94zm-11 1L8.5 8.5l.94-2.06 2.06-.94-2.06-.94L8.5 2.5l-.94 2.06-2.06.94zm10 10l.94 2.06.94-2.06 2.06-.94-2.06-.94-.94-2.06-.94 2.06-2.06.94z\"/><path d=\"M17.41 7.96l-1.37-1.37c-.4-.4-.92-.59-1.43-.59-.52 0-1.04.2-1.43.59L10.3 9.45l-7.72 7.72c-.78.78-.78 2.05 0 2.83L4 21.41c.39.39.9.59 1.41.59.51 0 1.02-.2 1.41-.59l7.78-7.78 2.81-2.81c.8-.78.8-2.07 0-2.86zM5.41 20L4 18.59l7.72-7.72 1.47 1.35L5.41 20z\"/>\n",
              "  </svg>\n",
              "      </button>\n",
              "      \n",
              "  <style>\n",
              "    .colab-df-container {\n",
              "      display:flex;\n",
              "      flex-wrap:wrap;\n",
              "      gap: 12px;\n",
              "    }\n",
              "\n",
              "    .colab-df-convert {\n",
              "      background-color: #E8F0FE;\n",
              "      border: none;\n",
              "      border-radius: 50%;\n",
              "      cursor: pointer;\n",
              "      display: none;\n",
              "      fill: #1967D2;\n",
              "      height: 32px;\n",
              "      padding: 0 0 0 0;\n",
              "      width: 32px;\n",
              "    }\n",
              "\n",
              "    .colab-df-convert:hover {\n",
              "      background-color: #E2EBFA;\n",
              "      box-shadow: 0px 1px 2px rgba(60, 64, 67, 0.3), 0px 1px 3px 1px rgba(60, 64, 67, 0.15);\n",
              "      fill: #174EA6;\n",
              "    }\n",
              "\n",
              "    [theme=dark] .colab-df-convert {\n",
              "      background-color: #3B4455;\n",
              "      fill: #D2E3FC;\n",
              "    }\n",
              "\n",
              "    [theme=dark] .colab-df-convert:hover {\n",
              "      background-color: #434B5C;\n",
              "      box-shadow: 0px 1px 3px 1px rgba(0, 0, 0, 0.15);\n",
              "      filter: drop-shadow(0px 1px 2px rgba(0, 0, 0, 0.3));\n",
              "      fill: #FFFFFF;\n",
              "    }\n",
              "  </style>\n",
              "\n",
              "      <script>\n",
              "        const buttonEl =\n",
              "          document.querySelector('#df-de7e1cbf-2ce7-4c1a-a3c2-ff7bd9d46c35 button.colab-df-convert');\n",
              "        buttonEl.style.display =\n",
              "          google.colab.kernel.accessAllowed ? 'block' : 'none';\n",
              "\n",
              "        async function convertToInteractive(key) {\n",
              "          const element = document.querySelector('#df-de7e1cbf-2ce7-4c1a-a3c2-ff7bd9d46c35');\n",
              "          const dataTable =\n",
              "            await google.colab.kernel.invokeFunction('convertToInteractive',\n",
              "                                                     [key], {});\n",
              "          if (!dataTable) return;\n",
              "\n",
              "          const docLinkHtml = 'Like what you see? Visit the ' +\n",
              "            '<a target=\"_blank\" href=https://colab.research.google.com/notebooks/data_table.ipynb>data table notebook</a>'\n",
              "            + ' to learn more about interactive tables.';\n",
              "          element.innerHTML = '';\n",
              "          dataTable['output_type'] = 'display_data';\n",
              "          await google.colab.output.renderOutput(dataTable, element);\n",
              "          const docLink = document.createElement('div');\n",
              "          docLink.innerHTML = docLinkHtml;\n",
              "          element.appendChild(docLink);\n",
              "        }\n",
              "      </script>\n",
              "    </div>\n",
              "  </div>\n",
              "  "
            ]
          },
          "metadata": {},
          "execution_count": 156
        }
      ]
    },
    {
      "cell_type": "code",
      "source": [
        "from statsmodels.graphics.tsaplots import plot_acf\n",
        "plot_acf(df['Lifetouch Heart Rate'], lags=20)\n"
      ],
      "metadata": {
        "id": "y865lwaaI_7s",
        "colab": {
          "base_uri": "https://localhost:8080/",
          "height": 551
        },
        "outputId": "2a82ee44-54ce-4b4e-e62f-1ca99c491294"
      },
      "execution_count": 157,
      "outputs": [
        {
          "output_type": "execute_result",
          "data": {
            "text/plain": [
              "<Figure size 432x288 with 1 Axes>"
            ],
            "image/png": "[encoded data removed]"
          },
          "metadata": {},
          "execution_count": 157
        },
        {
          "output_type": "display_data",
          "data": {
            "text/plain": [
              "<Figure size 432x288 with 1 Axes>"
            ],
            "image/png": "[encoded data removed]"
          },
          "metadata": {}
        }
      ]
    },
    {
      "cell_type": "code",
      "source": [
        "from statsmodels.graphics.tsaplots import plot_acf\n",
        "plot_acf(df['Lifetouch Heart Rate_diff'], lags=20)"
      ],
      "metadata": {
        "colab": {
          "base_uri": "https://localhost:8080/",
          "height": 551
        },
        "id": "SL8xOiK8-b_3",
        "outputId": "33c29ffc-6ef4-4a38-ef02-fce44e7d3a93"
      },
      "execution_count": 158,
      "outputs": [
        {
          "output_type": "execute_result",
          "data": {
            "text/plain": [
              "<Figure size 432x288 with 1 Axes>"
            ],
            "image/png": "[encoded data removed]"
          },
          "metadata": {},
          "execution_count": 158
        },
        {
          "output_type": "display_data",
          "data": {
            "text/plain": [
              "<Figure size 432x288 with 1 Axes>"
            ],
            "image/png": "[encoded data removed]"
          },
          "metadata": {}
        }
      ]
    },
    {
      "cell_type": "code",
      "source": [
        "\n",
        "# ADF test on random numbers\n",
        "from statsmodels.tsa.stattools import adfuller\n",
        "\n",
        "def adf_test(series):\n",
        "    result = adfuller(series, autolag='AIC')\n",
        "    print(f'ADF Statistic: {result[0]}')\n",
        "    print(f'p-value: {result[1]}')\n",
        "    for key, value in result[4].items():\n",
        "        print('Critial Values:')\n",
        "        print(f'   {key}, {value}')\n",
        "\n",
        "series = df.loc[:, 'Lifetouch Heart Rate_diff'].values\n",
        "adf_test(series)"
      ],
      "metadata": {
        "colab": {
          "base_uri": "https://localhost:8080/"
        },
        "id": "9IbxDKvhXCty",
        "outputId": "ecad2ea0-2d1b-484f-b368-8f958ed77962"
      },
      "execution_count": 159,
      "outputs": [
        {
          "output_type": "stream",
          "name": "stdout",
          "text": [
            "ADF Statistic: -8.378736496602256\n",
            "p-value: 2.5440013768441153e-13\n",
            "Critial Values:\n",
            "   1%, -3.4604283689894815\n",
            "Critial Values:\n",
            "   5%, -2.874768966942149\n",
            "Critial Values:\n",
            "   10%, -2.57382076446281\n"
          ]
        }
      ]
    },
    {
      "cell_type": "code",
      "source": [
        "# df_diff = np.diff(df['Lifetouch Heart Rate'])\n",
        "#we have done differencing now test for stationarity below"
      ],
      "metadata": {
        "id": "7yK0NA6nfe6-"
      },
      "execution_count": 160,
      "outputs": []
    },
    {
      "cell_type": "code",
      "source": [
        "##adf_test(df_diff)"
      ],
      "metadata": {
        "id": "r8KU8udpxbbe"
      },
      "execution_count": 161,
      "outputs": []
    },
    {
      "cell_type": "markdown",
      "source": [
        "#ARIMA Model#"
      ],
      "metadata": {
        "id": "MYvPc8pYyyoW"
      }
    },
    {
      "cell_type": "code",
      "source": [
        "p = d = q = range(0, 3)\n",
        "\n",
        "# generate all different combinations of p, q and q triplets\n",
        "pdq = list(itertools.product(p, d, q))\n",
        "# generate all different combinations of seasonal p, q and q triplets\n",
        "# seasonal_pdq = [(x[0], x[1], x[2], 12) for x in list(itertools.product(p, d, q))]\n",
        "seasonal_pdq = [(1, 1, 1, 12)]\n",
        "\n",
        "for param in pdq:\n",
        "    for param_seasonal in seasonal_pdq:\n",
        "          mod = sm.tsa.statespace.SARIMAX(df['Lifetouch Heart Rate'],\n",
        "                                          order=param,\n",
        "                                          seasonal_order=param_seasonal,\n",
        "                                          enforce_stationarity=False,\n",
        "                                          enforce_invertibility=False)\n",
        "\n",
        "          mod_fit = mod.fit()\n",
        "\n",
        "          print('ARIMA{}x{}12 - AIC:{}'.format(param, param_seasonal, mod_fit.aic))"
      ],
      "metadata": {
        "colab": {
          "base_uri": "https://localhost:8080/"
        },
        "id": "R3zIynE7f_SI",
        "outputId": "c90852e0-eb9f-40df-d916-1425d20f32e0"
      },
      "execution_count": 162,
      "outputs": [
        {
          "output_type": "stream",
          "name": "stdout",
          "text": [
            "ARIMA(0, 0, 0)x(1, 1, 1, 12)12 - AIC:1480.9732424490617\n",
            "ARIMA(0, 0, 1)x(1, 1, 1, 12)12 - AIC:1341.2409592923052\n",
            "ARIMA(0, 0, 2)x(1, 1, 1, 12)12 - AIC:1308.228177767666\n",
            "ARIMA(0, 1, 0)x(1, 1, 1, 12)12 - AIC:1249.8661831622462\n",
            "ARIMA(0, 1, 1)x(1, 1, 1, 12)12 - AIC:1242.4090525963898\n",
            "ARIMA(0, 1, 2)x(1, 1, 1, 12)12 - AIC:1221.926847830975\n",
            "ARIMA(0, 2, 0)x(1, 1, 1, 12)12 - AIC:1400.886973768338\n",
            "ARIMA(0, 2, 1)x(1, 1, 1, 12)12 - AIC:1244.7950716018295\n",
            "ARIMA(0, 2, 2)x(1, 1, 1, 12)12 - AIC:1238.318816433703\n",
            "ARIMA(1, 0, 0)x(1, 1, 1, 12)12 - AIC:1247.512321803346\n",
            "ARIMA(1, 0, 1)x(1, 1, 1, 12)12 - AIC:1243.4062085949804\n",
            "ARIMA(1, 0, 2)x(1, 1, 1, 12)12 - AIC:1227.8053719175075\n",
            "ARIMA(1, 1, 0)x(1, 1, 1, 12)12 - AIC:1250.1044631880231\n",
            "ARIMA(1, 1, 1)x(1, 1, 1, 12)12 - AIC:1233.161124759007\n",
            "ARIMA(1, 1, 2)x(1, 1, 1, 12)12 - AIC:1223.0873294783296\n",
            "ARIMA(1, 2, 0)x(1, 1, 1, 12)12 - AIC:1360.0466964528564\n",
            "ARIMA(1, 2, 1)x(1, 1, 1, 12)12 - AIC:1245.543092367131\n",
            "ARIMA(1, 2, 2)x(1, 1, 1, 12)12 - AIC:1239.3404767210334\n",
            "ARIMA(2, 0, 0)x(1, 1, 1, 12)12 - AIC:1243.9278170387752\n",
            "ARIMA(2, 0, 1)x(1, 1, 1, 12)12 - AIC:1241.8110661207668\n",
            "ARIMA(2, 0, 2)x(1, 1, 1, 12)12 - AIC:1227.8537437807338\n",
            "ARIMA(2, 1, 0)x(1, 1, 1, 12)12 - AIC:1234.3534188360675\n",
            "ARIMA(2, 1, 1)x(1, 1, 1, 12)12 - AIC:1233.9928336771904\n",
            "ARIMA(2, 1, 2)x(1, 1, 1, 12)12 - AIC:1222.0379161721849\n",
            "ARIMA(2, 2, 0)x(1, 1, 1, 12)12 - AIC:1303.895621198977\n",
            "ARIMA(2, 2, 1)x(1, 1, 1, 12)12 - AIC:1235.8686040764417\n",
            "ARIMA(2, 2, 2)x(1, 1, 1, 12)12 - AIC:1230.247591225429\n"
          ]
        }
      ]
    },
    {
      "cell_type": "code",
      "source": [
        "# # specify model\n",
        "# model = sm.tsa.statespace.SARIMAX(df['Lifetouch Heart Rate'],\n",
        "#                                 order=(0, 1, 2),\n",
        "#                                 seasonal_order=(1, 1, 1, 12),\n",
        "#                                 enforce_stationarity=False,\n",
        "#                                 enforce_invertibility=False)\n",
        "# # train model\n",
        "# model_fit = model.fit()\n",
        "\n",
        "# # make predictions\n",
        "# preds = model_fit.predict(start=pd.to_datetime('2015-08-17 15:09:00'), dynamic=False)\n",
        "\n",
        "# # calculate MSE\n",
        "# actuals = df['Lifetouch Heart Rate']\n",
        "# print(f'Mean Squared Error: {round(mean_squared_error(actuals, preds), 2)}')"
      ],
      "metadata": {
        "id": "tecUMeqOxZBg"
      },
      "execution_count": 163,
      "outputs": []
    },
    {
      "cell_type": "code",
      "source": [
        "train=df.iloc[:-20]\n",
        "test=df.iloc[-20:]\n",
        "model=sm.tsa.statespace.SARIMAX(df['Lifetouch Heart Rate'],order=(0,1,2),seasonal_order=(1,1,1,12),enforce_invertibility=False).fit()\n",
        "\n",
        "start=len(train)\n",
        "end=len(train)+len(test)-1\n",
        "\n",
        "predictions=model.predict(start=start,end=end,params=model.params)\n",
        "\n",
        "mse=mean_squared_error(test['Lifetouch Heart Rate'],predictions)\n",
        "print(\"Root Mean Squared Error:\",np.sqrt(mse))\n",
        "\n",
        "mae=mean_absolute_error(test['Lifetouch Heart Rate'],predictions)\n",
        "print('Mean Absolute Error',mae)"
      ],
      "metadata": {
        "colab": {
          "base_uri": "https://localhost:8080/"
        },
        "id": "hwLukadj85NU",
        "outputId": "d3e42423-1cae-46b9-b416-fb2b717149f2"
      },
      "execution_count": 164,
      "outputs": [
        {
          "output_type": "stream",
          "name": "stdout",
          "text": [
            "Root Mean Squared Error: 4.534066038329563\n",
            "Mean Absolute Error 3.4040627782122512\n"
          ]
        }
      ]
    },
    {
      "cell_type": "code",
      "source": [
        "forecasts=model.forecast(steps=20)\n",
        "print(forecasts)"
      ],
      "metadata": {
        "colab": {
          "base_uri": "https://localhost:8080/"
        },
        "id": "bvyuF-1s-br0",
        "outputId": "27cb0ba9-0ff6-4ebb-acec-c987583541cf"
      },
      "execution_count": 165,
      "outputs": [
        {
          "output_type": "stream",
          "name": "stdout",
          "text": [
            "2015-08-17 18:55:00    139.980190\n",
            "2015-08-17 18:56:00    141.778557\n",
            "2015-08-17 18:57:00    144.247966\n",
            "2015-08-17 18:58:00    144.341668\n",
            "2015-08-17 18:59:00    143.253916\n",
            "2015-08-17 19:00:00    144.759386\n",
            "2015-08-17 19:01:00    142.581036\n",
            "2015-08-17 19:02:00    142.011224\n",
            "2015-08-17 19:03:00    142.260741\n",
            "2015-08-17 19:04:00    141.499265\n",
            "2015-08-17 19:05:00    141.774207\n",
            "2015-08-17 19:06:00    142.397329\n",
            "2015-08-17 19:07:00    142.081536\n",
            "2015-08-17 19:08:00    141.483076\n",
            "2015-08-17 19:09:00    143.938403\n",
            "2015-08-17 19:10:00    144.032626\n",
            "2015-08-17 19:11:00    142.961081\n",
            "2015-08-17 19:12:00    144.469364\n",
            "2015-08-17 19:13:00    142.267761\n",
            "2015-08-17 19:14:00    141.683648\n",
            "Freq: T, Name: predicted_mean, dtype: float64\n"
          ]
        }
      ]
    },
    {
      "cell_type": "code",
      "source": [
        "plt.figure(figsize=(12,8))\n",
        "plt.plot(df['Lifetouch Heart Rate'],label='Forecasts')\n",
        "plt.plot(forecasts)\n",
        "plt.title(\"Forcasts and Initial Values Plot\")"
      ],
      "metadata": {
        "colab": {
          "base_uri": "https://localhost:8080/",
          "height": 519
        },
        "id": "Wqvga1N_-cce",
        "outputId": "b11acefa-d948-424f-dc3e-24c93cf45edd"
      },
      "execution_count": 166,
      "outputs": [
        {
          "output_type": "execute_result",
          "data": {
            "text/plain": [
              "Text(0.5, 1.0, 'Forcasts\\xa0and\\xa0Initial\\xa0Values\\xa0Plot')"
            ]
          },
          "metadata": {},
          "execution_count": 166
        },
        {
          "output_type": "display_data",
          "data": {
            "text/plain": [
              "<Figure size 864x576 with 1 Axes>"
            ],
            "image/png": "[encoded data removed]"
          },
          "metadata": {}
        }
      ]
    },
    {
      "cell_type": "markdown",
      "source": [
        "**SARIMA** **MODEL**"
      ],
      "metadata": {
        "id": "JsJ6vxdsYVSO"
      }
    },
    {
      "cell_type": "code",
      "source": [
        "df['Lifetouch Heart Rate']"
      ],
      "metadata": {
        "colab": {
          "base_uri": "https://localhost:8080/"
        },
        "id": "s3ZuKOWqseJM",
        "outputId": "ed69f9f6-bcf0-4e5e-8c29-a408e54be56a"
      },
      "execution_count": 184,
      "outputs": [
        {
          "output_type": "execute_result",
          "data": {
            "text/plain": [
              "Timestamp (GMT)\n",
              "2015-08-17 15:09:00    139.0\n",
              "2015-08-17 15:10:00    144.0\n",
              "2015-08-17 15:11:00    140.0\n",
              "2015-08-17 15:12:00    138.0\n",
              "2015-08-17 15:13:00    133.0\n",
              "                       ...  \n",
              "2015-08-17 18:50:00    159.0\n",
              "2015-08-17 18:51:00    151.0\n",
              "2015-08-17 18:52:00    140.0\n",
              "2015-08-17 18:53:00    140.0\n",
              "2015-08-17 18:54:00    138.0\n",
              "Name: Lifetouch Heart Rate, Length: 226, dtype: float64"
            ]
          },
          "metadata": {},
          "execution_count": 184
        }
      ]
    },
    {
      "cell_type": "code",
      "source": [
        "\n",
        "# order - The (p,d,q) order of the model for the number of AR parameters, differences, and MA parameters.\n",
        "# seasonal_order - The (P,D,Q,s) order of the seasonal component of the model for the AR parameters, differences, MA parameters, and periodicity.\n",
        "model = sm.tsa.statespace.SARIMAX(df['Lifetouch Heart Rate'],\n",
        "                                  order=(0, 1, 2),\n",
        "                                 \n",
        "                                  enforce_stationarity=False,\n",
        "                                  enforce_invertibility=False)\n",
        "# train model\n",
        "model_fit = model.fit()\n",
        "print(model_fit.summary())"
      ],
      "metadata": {
        "colab": {
          "base_uri": "https://localhost:8080/"
        },
        "id": "PL26QiZT-cl3",
        "outputId": "32a5f033-4237-468f-ba99-29183de8a1d8"
      },
      "execution_count": 192,
      "outputs": [
        {
          "output_type": "stream",
          "name": "stdout",
          "text": [
            "                                SARIMAX Results                                 \n",
            "================================================================================\n",
            "Dep. Variable:     Lifetouch Heart Rate   No. Observations:                  226\n",
            "Model:                 SARIMAX(0, 1, 2)   Log Likelihood                -664.777\n",
            "Date:                  Sun, 19 Feb 2023   AIC                           1335.555\n",
            "Time:                          17:29:42   BIC                           1345.763\n",
            "Sample:                      08-17-2015   HQIC                          1339.676\n",
            "                           - 08-17-2015                                         \n",
            "Covariance Type:                    opg                                         \n",
            "==============================================================================\n",
            "                 coef    std err          z      P>|z|      [0.025      0.975]\n",
            "------------------------------------------------------------------------------\n",
            "ma.L1         -0.1373      0.057     -2.427      0.015      -0.248      -0.026\n",
            "ma.L2         -0.3789      0.030    -12.782      0.000      -0.437      -0.321\n",
            "sigma2        23.3397      1.045     22.331      0.000      21.291      25.388\n",
            "===================================================================================\n",
            "Ljung-Box (L1) (Q):                   0.11   Jarque-Bera (JB):              1723.76\n",
            "Prob(Q):                              0.74   Prob(JB):                         0.00\n",
            "Heteroskedasticity (H):               0.43   Skew:                            -0.67\n",
            "Prob(H) (two-sided):                  0.00   Kurtosis:                        16.59\n",
            "===================================================================================\n",
            "\n",
            "Warnings:\n",
            "[1] Covariance matrix calculated using the outer product of gradients (complex-step).\n"
          ]
        }
      ]
    },
    {
      "cell_type": "code",
      "source": [
        "  df.tail()"
      ],
      "metadata": {
        "colab": {
          "base_uri": "https://localhost:8080/",
          "height": 238
        },
        "id": "pz25_V_uZPVo",
        "outputId": "be7247e9-718c-46c6-b0f2-fc5f667dac53"
      },
      "execution_count": 193,
      "outputs": [
        {
          "output_type": "execute_result",
          "data": {
            "text/plain": [
              "                     Lifetouch Heart Rate\n",
              "Timestamp (GMT)                          \n",
              "2015-08-17 18:50:00                 159.0\n",
              "2015-08-17 18:51:00                 151.0\n",
              "2015-08-17 18:52:00                 140.0\n",
              "2015-08-17 18:53:00                 140.0\n",
              "2015-08-17 18:54:00                 138.0"
            ],
            "text/html": [
              "\n",
              "  <div id=\"df-d38a28ff-0c3e-482b-9c02-b6f25809d3d2\">\n",
              "    <div class=\"colab-df-container\">\n",
              "      <div>\n",
              "<style scoped>\n",
              "    .dataframe tbody tr th:only-of-type {\n",
              "        vertical-align: middle;\n",
              "    }\n",
              "\n",
              "    .dataframe tbody tr th {\n",
              "        vertical-align: top;\n",
              "    }\n",
              "\n",
              "    .dataframe thead th {\n",
              "        text-align: right;\n",
              "    }\n",
              "</style>\n",
              "<table border=\"1\" class=\"dataframe\">\n",
              "  <thead>\n",
              "    <tr style=\"text-align: right;\">\n",
              "      <th></th>\n",
              "      <th>Lifetouch Heart Rate</th>\n",
              "    </tr>\n",
              "    <tr>\n",
              "      <th>Timestamp (GMT)</th>\n",
              "      <th></th>\n",
              "    </tr>\n",
              "  </thead>\n",
              "  <tbody>\n",
              "    <tr>\n",
              "      <th>2015-08-17 18:50:00</th>\n",
              "      <td>159.0</td>\n",
              "    </tr>\n",
              "    <tr>\n",
              "      <th>2015-08-17 18:51:00</th>\n",
              "      <td>151.0</td>\n",
              "    </tr>\n",
              "    <tr>\n",
              "      <th>2015-08-17 18:52:00</th>\n",
              "      <td>140.0</td>\n",
              "    </tr>\n",
              "    <tr>\n",
              "      <th>2015-08-17 18:53:00</th>\n",
              "      <td>140.0</td>\n",
              "    </tr>\n",
              "    <tr>\n",
              "      <th>2015-08-17 18:54:00</th>\n",
              "      <td>138.0</td>\n",
              "    </tr>\n",
              "  </tbody>\n",
              "</table>\n",
              "</div>\n",
              "      <button class=\"colab-df-convert\" onclick=\"convertToInteractive('df-d38a28ff-0c3e-482b-9c02-b6f25809d3d2')\"\n",
              "              title=\"Convert this dataframe to an interactive table.\"\n",
              "              style=\"display:none;\">\n",
              "        \n",
              "  <svg xmlns=\"http://www.w3.org/2000/svg\" height=\"24px\"viewBox=\"0 0 24 24\"\n",
              "       width=\"24px\">\n",
              "    <path d=\"M0 0h24v24H0V0z\" fill=\"none\"/>\n",
              "    <path d=\"M18.56 5.44l.94 2.06.94-2.06 2.06-.94-2.06-.94-.94-2.06-.94 2.06-2.06.94zm-11 1L8.5 8.5l.94-2.06 2.06-.94-2.06-.94L8.5 2.5l-.94 2.06-2.06.94zm10 10l.94 2.06.94-2.06 2.06-.94-2.06-.94-.94-2.06-.94 2.06-2.06.94z\"/><path d=\"M17.41 7.96l-1.37-1.37c-.4-.4-.92-.59-1.43-.59-.52 0-1.04.2-1.43.59L10.3 9.45l-7.72 7.72c-.78.78-.78 2.05 0 2.83L4 21.41c.39.39.9.59 1.41.59.51 0 1.02-.2 1.41-.59l7.78-7.78 2.81-2.81c.8-.78.8-2.07 0-2.86zM5.41 20L4 18.59l7.72-7.72 1.47 1.35L5.41 20z\"/>\n",
              "  </svg>\n",
              "      </button>\n",
              "      \n",
              "  <style>\n",
              "    .colab-df-container {\n",
              "      display:flex;\n",
              "      flex-wrap:wrap;\n",
              "      gap: 12px;\n",
              "    }\n",
              "\n",
              "    .colab-df-convert {\n",
              "      background-color: #E8F0FE;\n",
              "      border: none;\n",
              "      border-radius: 50%;\n",
              "      cursor: pointer;\n",
              "      display: none;\n",
              "      fill: #1967D2;\n",
              "      height: 32px;\n",
              "      padding: 0 0 0 0;\n",
              "      width: 32px;\n",
              "    }\n",
              "\n",
              "    .colab-df-convert:hover {\n",
              "      background-color: #E2EBFA;\n",
              "      box-shadow: 0px 1px 2px rgba(60, 64, 67, 0.3), 0px 1px 3px 1px rgba(60, 64, 67, 0.15);\n",
              "      fill: #174EA6;\n",
              "    }\n",
              "\n",
              "    [theme=dark] .colab-df-convert {\n",
              "      background-color: #3B4455;\n",
              "      fill: #D2E3FC;\n",
              "    }\n",
              "\n",
              "    [theme=dark] .colab-df-convert:hover {\n",
              "      background-color: #434B5C;\n",
              "      box-shadow: 0px 1px 3px 1px rgba(0, 0, 0, 0.15);\n",
              "      filter: drop-shadow(0px 1px 2px rgba(0, 0, 0, 0.3));\n",
              "      fill: #FFFFFF;\n",
              "    }\n",
              "  </style>\n",
              "\n",
              "      <script>\n",
              "        const buttonEl =\n",
              "          document.querySelector('#df-d38a28ff-0c3e-482b-9c02-b6f25809d3d2 button.colab-df-convert');\n",
              "        buttonEl.style.display =\n",
              "          google.colab.kernel.accessAllowed ? 'block' : 'none';\n",
              "\n",
              "        async function convertToInteractive(key) {\n",
              "          const element = document.querySelector('#df-d38a28ff-0c3e-482b-9c02-b6f25809d3d2');\n",
              "          const dataTable =\n",
              "            await google.colab.kernel.invokeFunction('convertToInteractive',\n",
              "                                                     [key], {});\n",
              "          if (!dataTable) return;\n",
              "\n",
              "          const docLinkHtml = 'Like what you see? Visit the ' +\n",
              "            '<a target=\"_blank\" href=https://colab.research.google.com/notebooks/data_table.ipynb>data table notebook</a>'\n",
              "            + ' to learn more about interactive tables.';\n",
              "          element.innerHTML = '';\n",
              "          dataTable['output_type'] = 'display_data';\n",
              "          await google.colab.output.renderOutput(dataTable, element);\n",
              "          const docLink = document.createElement('div');\n",
              "          docLink.innerHTML = docLinkHtml;\n",
              "          element.appendChild(docLink);\n",
              "        }\n",
              "      </script>\n",
              "    </div>\n",
              "  </div>\n",
              "  "
            ]
          },
          "metadata": {},
          "execution_count": 193
        }
      ]
    },
    {
      "cell_type": "code",
      "source": [
        "# make predictions\n",
        "preds = model_fit.predict(start=pd.to_datetime('2015-08-17 18:20:00'), dynamic=False)\n",
        "print(preds)"
      ],
      "metadata": {
        "colab": {
          "base_uri": "https://localhost:8080/"
        },
        "id": "La70Juz1Y9w8",
        "outputId": "2913e024-be0a-457a-b2d9-e719d100b8a1"
      },
      "execution_count": 194,
      "outputs": [
        {
          "output_type": "stream",
          "name": "stdout",
          "text": [
            "2015-08-17 18:20:00    148.169118\n",
            "2015-08-17 18:21:00    154.356520\n",
            "2015-08-17 18:22:00    152.702449\n",
            "2015-08-17 18:23:00    151.852648\n",
            "2015-08-17 18:24:00    152.245911\n",
            "2015-08-17 18:25:00    155.428721\n",
            "2015-08-17 18:26:00    154.499216\n",
            "2015-08-17 18:27:00    152.989402\n",
            "2015-08-17 18:28:00    154.429263\n",
            "2015-08-17 18:29:00    157.126830\n",
            "2015-08-17 18:30:00    153.939144\n",
            "2015-08-17 18:31:00    151.346670\n",
            "2015-08-17 18:32:00    150.814665\n",
            "2015-08-17 18:33:00    149.275568\n",
            "2015-08-17 18:34:00    156.143129\n",
            "2015-08-17 18:35:00    155.197299\n",
            "2015-08-17 18:36:00    157.774346\n",
            "2015-08-17 18:37:00    158.253646\n",
            "2015-08-17 18:38:00    154.603484\n",
            "2015-08-17 18:39:00    156.178295\n",
            "2015-08-17 18:40:00    148.972678\n",
            "2015-08-17 18:41:00    151.232137\n",
            "2015-08-17 18:42:00    152.263097\n",
            "2015-08-17 18:43:00    151.745197\n",
            "2015-08-17 18:44:00    150.339304\n",
            "2015-08-17 18:45:00    153.295895\n",
            "2015-08-17 18:46:00    156.346027\n",
            "2015-08-17 18:47:00    155.990617\n",
            "2015-08-17 18:48:00    153.646663\n",
            "2015-08-17 18:49:00    155.568385\n",
            "2015-08-17 18:50:00    156.290683\n",
            "2015-08-17 18:51:00    158.085592\n",
            "2015-08-17 18:52:00    150.946374\n",
            "2015-08-17 18:53:00    144.187559\n",
            "2015-08-17 18:54:00    144.722319\n",
            "Freq: T, Name: predicted_mean, dtype: float64\n"
          ]
        }
      ]
    },
    {
      "cell_type": "code",
      "source": [
        "plt.plot(df)\n",
        "plt.plot(preds)"
      ],
      "metadata": {
        "colab": {
          "base_uri": "https://localhost:8080/",
          "height": 286
        },
        "id": "odfunVk9t17n",
        "outputId": "d681c111-eae2-4697-b5d6-de29121334a5"
      },
      "execution_count": 195,
      "outputs": [
        {
          "output_type": "execute_result",
          "data": {
            "text/plain": [
              "[<matplotlib.lines.Line2D at 0x7f105026db50>]"
            ]
          },
          "metadata": {},
          "execution_count": 195
        },
        {
          "output_type": "display_data",
          "data": {
            "text/plain": [
              "<Figure size 432x288 with 1 Axes>"
            ],
            "image/png": "[encoded data removed]"
          },
          "metadata": {}
        }
      ]
    },
    {
      "cell_type": "code",
      "source": [
        "# Out-of-sample forecasts\n",
        "forecasts = model_fit.forecast(steps=20)\n",
        "print(forecasts)"
      ],
      "metadata": {
        "colab": {
          "base_uri": "https://localhost:8080/"
        },
        "id": "y8XQKuvnfIme",
        "outputId": "756ae817-fac3-4feb-faba-5f49317e8993"
      },
      "execution_count": 197,
      "outputs": [
        {
          "output_type": "stream",
          "name": "stdout",
          "text": [
            "2015-08-17 18:55:00    140.509577\n",
            "2015-08-17 18:56:00    143.056523\n",
            "2015-08-17 18:57:00    143.056523\n",
            "2015-08-17 18:58:00    143.056523\n",
            "2015-08-17 18:59:00    143.056523\n",
            "2015-08-17 19:00:00    143.056523\n",
            "2015-08-17 19:01:00    143.056523\n",
            "2015-08-17 19:02:00    143.056523\n",
            "2015-08-17 19:03:00    143.056523\n",
            "2015-08-17 19:04:00    143.056523\n",
            "2015-08-17 19:05:00    143.056523\n",
            "2015-08-17 19:06:00    143.056523\n",
            "2015-08-17 19:07:00    143.056523\n",
            "2015-08-17 19:08:00    143.056523\n",
            "2015-08-17 19:09:00    143.056523\n",
            "2015-08-17 19:10:00    143.056523\n",
            "2015-08-17 19:11:00    143.056523\n",
            "2015-08-17 19:12:00    143.056523\n",
            "2015-08-17 19:13:00    143.056523\n",
            "2015-08-17 19:14:00    143.056523\n",
            "Freq: T, Name: predicted_mean, dtype: float64\n"
          ]
        }
      ]
    },
    {
      "cell_type": "code",
      "source": [
        "#actuals \n",
        "actuals = df['Lifetouch Heart Rate'][-35:]\n",
        "\n",
        "\n",
        "\n",
        "mse=mean_squared_error (actuals,preds)\n",
        "print(\"Root Mean Squared Error:\",np.sqrt(mse))\n",
        "\n",
        "mae=mean_absolute_error(actuals,preds)\n",
        "print('Mean Absolute Error',mae)\n"
      ],
      "metadata": {
        "colab": {
          "base_uri": "https://localhost:8080/"
        },
        "id": "tpvbAJ6Pu11p",
        "outputId": "3557ddfb-e2f7-44ef-d469-386a086ba776"
      },
      "execution_count": 202,
      "outputs": [
        {
          "output_type": "stream",
          "name": "stdout",
          "text": [
            "Root Mean Squared Error: 3.8879911490432093\n",
            "Mean Absolute Error 2.9882813498108827\n"
          ]
        }
      ]
    },
    {
      "cell_type": "code",
      "source": [
        "import json\n",
        "\n",
        "predictions = forecasts\n",
        "\n",
        "data = []\n",
        "for pred in predictions:\n",
        "    data.append({'prediction': pred})\n",
        "\n",
        "print(data[0:5])\n",
        "\n",
        "submission_file_path = \"submission.json\"\n",
        "with open(submission_file_path, 'w') as fp:\n",
        "    fp.write('\\n'.join(json.dumps(i) for i in data))\n"
      ],
      "metadata": {
        "colab": {
          "base_uri": "https://localhost:8080/"
        },
        "id": "NzCS2p_j0Nzm",
        "outputId": "5fa73bd6-1032-4058-e78d-e0603ec1ac9e"
      },
      "execution_count": 203,
      "outputs": [
        {
          "output_type": "stream",
          "name": "stdout",
          "text": [
            "[{'prediction': 140.5095772617904}, {'prediction': 143.0565228476444}, {'prediction': 143.0565228476444}, {'prediction': 143.0565228476444}, {'prediction': 143.0565228476444}]\n"
          ]
        }
      ]
    },
    {
      "cell_type": "markdown",
      "source": [
        "#Exponential smoothing"
      ],
      "metadata": {
        "id": "-umy3TEnAgBy"
      }
    },
    {
      "cell_type": "code",
      "source": [
        "df=df.drop('Lifetouch Heart Rate_diff',axis=1)"
      ],
      "metadata": {
        "id": "HOYjglAHNHR1"
      },
      "execution_count": 172,
      "outputs": []
    },
    {
      "cell_type": "code",
      "source": [
        "from statsmodels.tsa.api import SimpleExpSmoothing"
      ],
      "metadata": {
        "id": "RxjgC8SkJ4uX"
      },
      "execution_count": 173,
      "outputs": []
    },
    {
      "cell_type": "code",
      "source": [
        "# Split the data into training and test sets\n",
        "train_data = df[:-20]\n",
        "test_data = df[-20:]\n",
        "\n",
        "# Fit a simple exponential smoothing model to the training data\n",
        "model = SimpleExpSmoothing(train_data['Lifetouch Heart Rate']).fit(smoothing_level=0.2)\n",
        "\n"
      ],
      "metadata": {
        "id": "qdgfYEnnJvRw"
      },
      "execution_count": 174,
      "outputs": []
    },
    {
      "cell_type": "code",
      "source": [
        "test_data"
      ],
      "metadata": {
        "colab": {
          "base_uri": "https://localhost:8080/",
          "height": 708
        },
        "id": "OvGZwkR0L08f",
        "outputId": "f1072994-eb07-4f21-8215-86092c3e4272"
      },
      "execution_count": 175,
      "outputs": [
        {
          "output_type": "execute_result",
          "data": {
            "text/plain": [
              "                     Lifetouch Heart Rate\n",
              "Timestamp (GMT)                          \n",
              "2015-08-17 18:35:00                 159.0\n",
              "2015-08-17 18:36:00                 160.0\n",
              "2015-08-17 18:37:00                 155.0\n",
              "2015-08-17 18:38:00                 155.0\n",
              "2015-08-17 18:39:00                 148.0\n",
              "2015-08-17 18:40:00                 148.0\n",
              "2015-08-17 18:41:00                 152.0\n",
              "2015-08-17 18:42:00                 152.0\n",
              "2015-08-17 18:43:00                 150.0\n",
              "2015-08-17 18:44:00                 153.0\n",
              "2015-08-17 18:45:00                 158.0\n",
              "2015-08-17 18:46:00                 158.0\n",
              "2015-08-17 18:47:00                 154.0\n",
              "2015-08-17 18:48:00                 155.0\n",
              "2015-08-17 18:49:00                 157.0\n",
              "2015-08-17 18:50:00                 159.0\n",
              "2015-08-17 18:51:00                 151.0\n",
              "2015-08-17 18:52:00                 140.0\n",
              "2015-08-17 18:53:00                 140.0\n",
              "2015-08-17 18:54:00                 138.0"
            ],
            "text/html": [
              "\n",
              "  <div id=\"df-44e22658-e028-4d3f-992b-3bd6cdf82d6b\">\n",
              "    <div class=\"colab-df-container\">\n",
              "      <div>\n",
              "<style scoped>\n",
              "    .dataframe tbody tr th:only-of-type {\n",
              "        vertical-align: middle;\n",
              "    }\n",
              "\n",
              "    .dataframe tbody tr th {\n",
              "        vertical-align: top;\n",
              "    }\n",
              "\n",
              "    .dataframe thead th {\n",
              "        text-align: right;\n",
              "    }\n",
              "</style>\n",
              "<table border=\"1\" class=\"dataframe\">\n",
              "  <thead>\n",
              "    <tr style=\"text-align: right;\">\n",
              "      <th></th>\n",
              "      <th>Lifetouch Heart Rate</th>\n",
              "    </tr>\n",
              "    <tr>\n",
              "      <th>Timestamp (GMT)</th>\n",
              "      <th></th>\n",
              "    </tr>\n",
              "  </thead>\n",
              "  <tbody>\n",
              "    <tr>\n",
              "      <th>2015-08-17 18:35:00</th>\n",
              "      <td>159.0</td>\n",
              "    </tr>\n",
              "    <tr>\n",
              "      <th>2015-08-17 18:36:00</th>\n",
              "      <td>160.0</td>\n",
              "    </tr>\n",
              "    <tr>\n",
              "      <th>2015-08-17 18:37:00</th>\n",
              "      <td>155.0</td>\n",
              "    </tr>\n",
              "    <tr>\n",
              "      <th>2015-08-17 18:38:00</th>\n",
              "      <td>155.0</td>\n",
              "    </tr>\n",
              "    <tr>\n",
              "      <th>2015-08-17 18:39:00</th>\n",
              "      <td>148.0</td>\n",
              "    </tr>\n",
              "    <tr>\n",
              "      <th>2015-08-17 18:40:00</th>\n",
              "      <td>148.0</td>\n",
              "    </tr>\n",
              "    <tr>\n",
              "      <th>2015-08-17 18:41:00</th>\n",
              "      <td>152.0</td>\n",
              "    </tr>\n",
              "    <tr>\n",
              "      <th>2015-08-17 18:42:00</th>\n",
              "      <td>152.0</td>\n",
              "    </tr>\n",
              "    <tr>\n",
              "      <th>2015-08-17 18:43:00</th>\n",
              "      <td>150.0</td>\n",
              "    </tr>\n",
              "    <tr>\n",
              "      <th>2015-08-17 18:44:00</th>\n",
              "      <td>153.0</td>\n",
              "    </tr>\n",
              "    <tr>\n",
              "      <th>2015-08-17 18:45:00</th>\n",
              "      <td>158.0</td>\n",
              "    </tr>\n",
              "    <tr>\n",
              "      <th>2015-08-17 18:46:00</th>\n",
              "      <td>158.0</td>\n",
              "    </tr>\n",
              "    <tr>\n",
              "      <th>2015-08-17 18:47:00</th>\n",
              "      <td>154.0</td>\n",
              "    </tr>\n",
              "    <tr>\n",
              "      <th>2015-08-17 18:48:00</th>\n",
              "      <td>155.0</td>\n",
              "    </tr>\n",
              "    <tr>\n",
              "      <th>2015-08-17 18:49:00</th>\n",
              "      <td>157.0</td>\n",
              "    </tr>\n",
              "    <tr>\n",
              "      <th>2015-08-17 18:50:00</th>\n",
              "      <td>159.0</td>\n",
              "    </tr>\n",
              "    <tr>\n",
              "      <th>2015-08-17 18:51:00</th>\n",
              "      <td>151.0</td>\n",
              "    </tr>\n",
              "    <tr>\n",
              "      <th>2015-08-17 18:52:00</th>\n",
              "      <td>140.0</td>\n",
              "    </tr>\n",
              "    <tr>\n",
              "      <th>2015-08-17 18:53:00</th>\n",
              "      <td>140.0</td>\n",
              "    </tr>\n",
              "    <tr>\n",
              "      <th>2015-08-17 18:54:00</th>\n",
              "      <td>138.0</td>\n",
              "    </tr>\n",
              "  </tbody>\n",
              "</table>\n",
              "</div>\n",
              "      <button class=\"colab-df-convert\" onclick=\"convertToInteractive('df-44e22658-e028-4d3f-992b-3bd6cdf82d6b')\"\n",
              "              title=\"Convert this dataframe to an interactive table.\"\n",
              "              style=\"display:none;\">\n",
              "        \n",
              "  <svg xmlns=\"http://www.w3.org/2000/svg\" height=\"24px\"viewBox=\"0 0 24 24\"\n",
              "       width=\"24px\">\n",
              "    <path d=\"M0 0h24v24H0V0z\" fill=\"none\"/>\n",
              "    <path d=\"M18.56 5.44l.94 2.06.94-2.06 2.06-.94-2.06-.94-.94-2.06-.94 2.06-2.06.94zm-11 1L8.5 8.5l.94-2.06 2.06-.94-2.06-.94L8.5 2.5l-.94 2.06-2.06.94zm10 10l.94 2.06.94-2.06 2.06-.94-2.06-.94-.94-2.06-.94 2.06-2.06.94z\"/><path d=\"M17.41 7.96l-1.37-1.37c-.4-.4-.92-.59-1.43-.59-.52 0-1.04.2-1.43.59L10.3 9.45l-7.72 7.72c-.78.78-.78 2.05 0 2.83L4 21.41c.39.39.9.59 1.41.59.51 0 1.02-.2 1.41-.59l7.78-7.78 2.81-2.81c.8-.78.8-2.07 0-2.86zM5.41 20L4 18.59l7.72-7.72 1.47 1.35L5.41 20z\"/>\n",
              "  </svg>\n",
              "      </button>\n",
              "      \n",
              "  <style>\n",
              "    .colab-df-container {\n",
              "      display:flex;\n",
              "      flex-wrap:wrap;\n",
              "      gap: 12px;\n",
              "    }\n",
              "\n",
              "    .colab-df-convert {\n",
              "      background-color: #E8F0FE;\n",
              "      border: none;\n",
              "      border-radius: 50%;\n",
              "      cursor: pointer;\n",
              "      display: none;\n",
              "      fill: #1967D2;\n",
              "      height: 32px;\n",
              "      padding: 0 0 0 0;\n",
              "      width: 32px;\n",
              "    }\n",
              "\n",
              "    .colab-df-convert:hover {\n",
              "      background-color: #E2EBFA;\n",
              "      box-shadow: 0px 1px 2px rgba(60, 64, 67, 0.3), 0px 1px 3px 1px rgba(60, 64, 67, 0.15);\n",
              "      fill: #174EA6;\n",
              "    }\n",
              "\n",
              "    [theme=dark] .colab-df-convert {\n",
              "      background-color: #3B4455;\n",
              "      fill: #D2E3FC;\n",
              "    }\n",
              "\n",
              "    [theme=dark] .colab-df-convert:hover {\n",
              "      background-color: #434B5C;\n",
              "      box-shadow: 0px 1px 3px 1px rgba(0, 0, 0, 0.15);\n",
              "      filter: drop-shadow(0px 1px 2px rgba(0, 0, 0, 0.3));\n",
              "      fill: #FFFFFF;\n",
              "    }\n",
              "  </style>\n",
              "\n",
              "      <script>\n",
              "        const buttonEl =\n",
              "          document.querySelector('#df-44e22658-e028-4d3f-992b-3bd6cdf82d6b button.colab-df-convert');\n",
              "        buttonEl.style.display =\n",
              "          google.colab.kernel.accessAllowed ? 'block' : 'none';\n",
              "\n",
              "        async function convertToInteractive(key) {\n",
              "          const element = document.querySelector('#df-44e22658-e028-4d3f-992b-3bd6cdf82d6b');\n",
              "          const dataTable =\n",
              "            await google.colab.kernel.invokeFunction('convertToInteractive',\n",
              "                                                     [key], {});\n",
              "          if (!dataTable) return;\n",
              "\n",
              "          const docLinkHtml = 'Like what you see? Visit the ' +\n",
              "            '<a target=\"_blank\" href=https://colab.research.google.com/notebooks/data_table.ipynb>data table notebook</a>'\n",
              "            + ' to learn more about interactive tables.';\n",
              "          element.innerHTML = '';\n",
              "          dataTable['output_type'] = 'display_data';\n",
              "          await google.colab.output.renderOutput(dataTable, element);\n",
              "          const docLink = document.createElement('div');\n",
              "          docLink.innerHTML = docLinkHtml;\n",
              "          element.appendChild(docLink);\n",
              "        }\n",
              "      </script>\n",
              "    </div>\n",
              "  </div>\n",
              "  "
            ]
          },
          "metadata": {},
          "execution_count": 175
        }
      ]
    },
    {
      "cell_type": "code",
      "source": [
        "# Use the fitted model to make predictions for the test data\n",
        "# predictions = model.predict(100)\n",
        "# predictions = model.predict(start=len(test_data), end=len(test_data))\n",
        "predictions = model.predict(start=len(train_data), end=len(train_data) + len(test_data) - 1)\n",
        "\n",
        "# Calculate the MAE and RMSE of the predictions\n",
        "mae = mean_absolute_error(test_data, predictions)\n",
        "rmse = mean_squared_error(test_data, predictions, squared=False)\n",
        "\n",
        "print(f\"MAE: {mae:.2f}, RMSE: {rmse:.2f}\")"
      ],
      "metadata": {
        "colab": {
          "base_uri": "https://localhost:8080/"
        },
        "id": "L0E77tyBJviY",
        "outputId": "7c16ce8c-fe68-4091-ad2a-5742315f4035"
      },
      "execution_count": 176,
      "outputs": [
        {
          "output_type": "stream",
          "name": "stdout",
          "text": [
            "MAE: 4.90, RMSE: 6.58\n"
          ]
        }
      ]
    },
    {
      "cell_type": "code",
      "source": [
        "predictions"
      ],
      "metadata": {
        "colab": {
          "base_uri": "https://localhost:8080/"
        },
        "id": "fFBzSXSBJvrG",
        "outputId": "1cbf7723-8e22-4757-d4b7-f57a69dc7422"
      },
      "execution_count": 177,
      "outputs": [
        {
          "output_type": "execute_result",
          "data": {
            "text/plain": [
              "2015-08-17 18:35:00    153.728246\n",
              "2015-08-17 18:36:00    153.728246\n",
              "2015-08-17 18:37:00    153.728246\n",
              "2015-08-17 18:38:00    153.728246\n",
              "2015-08-17 18:39:00    153.728246\n",
              "2015-08-17 18:40:00    153.728246\n",
              "2015-08-17 18:41:00    153.728246\n",
              "2015-08-17 18:42:00    153.728246\n",
              "2015-08-17 18:43:00    153.728246\n",
              "2015-08-17 18:44:00    153.728246\n",
              "2015-08-17 18:45:00    153.728246\n",
              "2015-08-17 18:46:00    153.728246\n",
              "2015-08-17 18:47:00    153.728246\n",
              "2015-08-17 18:48:00    153.728246\n",
              "2015-08-17 18:49:00    153.728246\n",
              "2015-08-17 18:50:00    153.728246\n",
              "2015-08-17 18:51:00    153.728246\n",
              "2015-08-17 18:52:00    153.728246\n",
              "2015-08-17 18:53:00    153.728246\n",
              "2015-08-17 18:54:00    153.728246\n",
              "Freq: T, dtype: float64"
            ]
          },
          "metadata": {},
          "execution_count": 177
        }
      ]
    },
    {
      "cell_type": "code",
      "source": [],
      "metadata": {
        "id": "emEOwZ1oJvvm"
      },
      "execution_count": 177,
      "outputs": []
    },
    {
      "cell_type": "code",
      "source": [
        "# single exponential smoothing\n",
        "single_fit = SimpleExpSmoothing(train_data).fit()\n",
        "single_predictions = single_fit.predict(start=len(train_data), end=len(train_data) + len(test_data) - 1)"
      ],
      "metadata": {
        "id": "7XqFCNjzJv2o"
      },
      "execution_count": 212,
      "outputs": []
    },
    {
      "cell_type": "code",
      "source": [
        "# double exponential smoothing\n",
        "double_fit = Holt(df[\"Lifetouch Heart Rate\"]).fit()\n",
        "double_predictions = double_fit.predict(start=len(train_data), end=len(train_data) + len(test_data) - 1)\n"
      ],
      "metadata": {
        "id": "Yh9gKP9EJv7B"
      },
      "execution_count": 213,
      "outputs": []
    },
    {
      "cell_type": "code",
      "source": [
        "# triple exponential smoothing\n",
        "tripple_fit = ExponentialSmoothing(df[\"Lifetouch Heart Rate\"], trend=\"mul\",seasonal=\"mul\", seasonal_periods=12).fit()\n",
        "triple_predictions = tripple_fit.predict(start=len(train_data), end=len(train_data) + len(test_data) - 1)"
      ],
      "metadata": {
        "id": "3xnCHm0oJwCl"
      },
      "execution_count": 214,
      "outputs": []
    },
    {
      "cell_type": "code",
      "source": [
        "print(single_predictions)"
      ],
      "metadata": {
        "colab": {
          "base_uri": "https://localhost:8080/"
        },
        "id": "LsbT0qi43nZM",
        "outputId": "963cc7f8-fe3b-4cbb-82e2-b0ea3ae58b04"
      },
      "execution_count": 215,
      "outputs": [
        {
          "output_type": "stream",
          "name": "stdout",
          "text": [
            "2015-08-17 18:35:00    156.835231\n",
            "2015-08-17 18:36:00    156.835231\n",
            "2015-08-17 18:37:00    156.835231\n",
            "2015-08-17 18:38:00    156.835231\n",
            "2015-08-17 18:39:00    156.835231\n",
            "2015-08-17 18:40:00    156.835231\n",
            "2015-08-17 18:41:00    156.835231\n",
            "2015-08-17 18:42:00    156.835231\n",
            "2015-08-17 18:43:00    156.835231\n",
            "2015-08-17 18:44:00    156.835231\n",
            "2015-08-17 18:45:00    156.835231\n",
            "2015-08-17 18:46:00    156.835231\n",
            "2015-08-17 18:47:00    156.835231\n",
            "2015-08-17 18:48:00    156.835231\n",
            "2015-08-17 18:49:00    156.835231\n",
            "2015-08-17 18:50:00    156.835231\n",
            "2015-08-17 18:51:00    156.835231\n",
            "2015-08-17 18:52:00    156.835231\n",
            "2015-08-17 18:53:00    156.835231\n",
            "2015-08-17 18:54:00    156.835231\n",
            "Freq: T, dtype: float64\n"
          ]
        }
      ]
    },
    {
      "cell_type": "code",
      "source": [
        "print(double_predictions)"
      ],
      "metadata": {
        "colab": {
          "base_uri": "https://localhost:8080/"
        },
        "id": "ZDVZlk8E3wnv",
        "outputId": "02e9be05-1601-43ee-f03b-2a923281b8d1"
      },
      "execution_count": 216,
      "outputs": [
        {
          "output_type": "stream",
          "name": "stdout",
          "text": [
            "2015-08-17 18:35:00    157.135677\n",
            "2015-08-17 18:36:00    158.568208\n",
            "2015-08-17 18:37:00    159.667067\n",
            "2015-08-17 18:38:00    156.061022\n",
            "2015-08-17 18:39:00    155.236824\n",
            "2015-08-17 18:40:00    149.648363\n",
            "2015-08-17 18:41:00    148.371064\n",
            "2015-08-17 18:42:00    151.164885\n",
            "2015-08-17 18:43:00    151.803441\n",
            "2015-08-17 18:44:00    150.406509\n",
            "2015-08-17 18:45:00    152.401547\n",
            "2015-08-17 18:46:00    156.714734\n",
            "2015-08-17 18:47:00    157.700557\n",
            "2015-08-17 18:48:00    154.840116\n",
            "2015-08-17 18:49:00    154.957773\n",
            "2015-08-17 18:50:00    156.527545\n",
            "2015-08-17 18:51:00    158.429213\n",
            "2015-08-17 18:52:00    152.692337\n",
            "2015-08-17 18:53:00    142.895274\n",
            "2015-08-17 18:54:00    140.656055\n",
            "Freq: T, dtype: float64\n"
          ]
        }
      ]
    },
    {
      "cell_type": "code",
      "source": [
        "print(triple_predictions)"
      ],
      "metadata": {
        "colab": {
          "base_uri": "https://localhost:8080/"
        },
        "id": "txhQrTPY3_bL",
        "outputId": "5c8ad9f7-b418-4323-e00b-cb97aede2151"
      },
      "execution_count": 217,
      "outputs": [
        {
          "output_type": "stream",
          "name": "stdout",
          "text": [
            "2015-08-17 18:35:00    156.332440\n",
            "2015-08-17 18:36:00    159.939883\n",
            "2015-08-17 18:37:00    157.086533\n",
            "2015-08-17 18:38:00    154.582873\n",
            "2015-08-17 18:39:00    155.802120\n",
            "2015-08-17 18:40:00    149.214889\n",
            "2015-08-17 18:41:00    148.580254\n",
            "2015-08-17 18:42:00    152.329123\n",
            "2015-08-17 18:43:00    151.507382\n",
            "2015-08-17 18:44:00    149.083407\n",
            "2015-08-17 18:45:00    154.400799\n",
            "2015-08-17 18:46:00    157.603258\n",
            "2015-08-17 18:47:00    156.827349\n",
            "2015-08-17 18:48:00    156.017368\n",
            "2015-08-17 18:49:00    152.391645\n",
            "2015-08-17 18:50:00    155.222370\n",
            "2015-08-17 18:51:00    159.139955\n",
            "2015-08-17 18:52:00    152.275849\n",
            "2015-08-17 18:53:00    142.809295\n",
            "2015-08-17 18:54:00    141.519176\n",
            "Freq: T, dtype: float64\n"
          ]
        }
      ]
    },
    {
      "cell_type": "code",
      "source": [
        "# Calculate the MAE and RMSE of the predictions\n",
        "mae = mean_absolute_error(test_data, single_predictions)\n",
        "rmse = mean_squared_error(test_data, single_predictions, squared=False)\n",
        "\n",
        "print(f\"Single_fit Predictions MAE: {mae:.2f}, RMSE: {rmse:.2f}\")"
      ],
      "metadata": {
        "colab": {
          "base_uri": "https://localhost:8080/"
        },
        "id": "v5WWrcWi5gXw",
        "outputId": "1955e330-c030-4cd8-bb3d-9493e9016411"
      },
      "execution_count": 219,
      "outputs": [
        {
          "output_type": "stream",
          "name": "stdout",
          "text": [
            "MAE: 5.73, RMSE: 7.94\n"
          ]
        }
      ]
    },
    {
      "cell_type": "code",
      "source": [
        "# Calculate the MAE and RMSE of the predictions\n",
        "mae = mean_absolute_error(test_data, double_predictions)\n",
        "rmse = mean_squared_error(test_data, double_predictions, squared=False)\n",
        "\n",
        "print(f\"Double_fit Predictions MAE: {mae:.2f}, RMSE: {rmse:.2f}\")"
      ],
      "metadata": {
        "colab": {
          "base_uri": "https://localhost:8080/"
        },
        "id": "WKGBjWI_5pbH",
        "outputId": "c79691ae-0ecd-4a1e-f0ef-ce733b3bce4a"
      },
      "execution_count": 220,
      "outputs": [
        {
          "output_type": "stream",
          "name": "stdout",
          "text": [
            "Double_fit Predictions MAE: 3.39, RMSE: 4.45\n"
          ]
        }
      ]
    },
    {
      "cell_type": "code",
      "source": [
        "# Calculate the MAE and RMSE of the predictions\n",
        "mae = mean_absolute_error(test_data, triple_predictions)\n",
        "rmse = mean_squared_error(test_data, triple_predictions, squared=False)\n",
        "\n",
        "print(f\"Triple_fit Predictions MAE: {mae:.2f}, RMSE: {rmse:.2f}\")"
      ],
      "metadata": {
        "colab": {
          "base_uri": "https://localhost:8080/"
        },
        "id": "vUyeiHqz6Ufo",
        "outputId": "75b58764-ab7c-4fbe-ed5e-da148a5ea851"
      },
      "execution_count": 221,
      "outputs": [
        {
          "output_type": "stream",
          "name": "stdout",
          "text": [
            "Triple_fit Predictions MAE: 3.32, RMSE: 4.46\n"
          ]
        }
      ]
    },
    {
      "cell_type": "code",
      "source": [],
      "metadata": {
        "id": "q464q2jg6hb_"
      },
      "execution_count": null,
      "outputs": []
    }
  ]
}